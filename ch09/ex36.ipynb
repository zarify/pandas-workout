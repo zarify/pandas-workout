{
 "cells": [
  {
   "cell_type": "code",
   "execution_count": 24,
   "metadata": {},
   "outputs": [],
   "source": [
    "import pandas as pd\n",
    "import numpy as np"
   ]
  },
  {
   "cell_type": "code",
   "execution_count": 25,
   "metadata": {},
   "outputs": [
    {
     "data": {
      "text/plain": [
       "0         ﻿The\n",
       "1      Project\n",
       "2    Gutenberg\n",
       "3        EBook\n",
       "4           of\n",
       "dtype: object"
      ]
     },
     "execution_count": 25,
     "metadata": {},
     "output_type": "execute_result"
    }
   ],
   "source": [
    "with open(\"../data/alice-in-wonderland.txt\") as f:\n",
    "    s = pd.Series(f.read().split())\n",
    "s.head()"
   ]
  },
  {
   "cell_type": "code",
   "execution_count": 26,
   "metadata": {},
   "outputs": [
    {
     "data": {
      "text/plain": [
       "the    732\n",
       "and    362\n",
       "a      321\n",
       "to     311\n",
       "of     300\n",
       "Name: count, dtype: int64"
      ]
     },
     "execution_count": 26,
     "metadata": {},
     "output_type": "execute_result"
    }
   ],
   "source": [
    "# what is the most common word, counting dirty data?\n",
    "s.value_counts(ascending=False).head()"
   ]
  },
  {
   "cell_type": "code",
   "execution_count": 27,
   "metadata": {},
   "outputs": [
    {
     "data": {
      "text/plain": [
       "the    792\n",
       "and    379\n",
       "a      325\n",
       "to     318\n",
       "of     313\n",
       "Name: count, dtype: int64"
      ]
     },
     "execution_count": 27,
     "metadata": {},
     "output_type": "execute_result"
    }
   ],
   "source": [
    "# what is the most common word, ignoring case\n",
    "s.str.lower().value_counts(ascending=False).head()"
   ]
  },
  {
   "cell_type": "code",
   "execution_count": 28,
   "metadata": {},
   "outputs": [
    {
     "data": {
      "text/plain": [
       "the    807\n",
       "and    404\n",
       "a      328\n",
       "to     327\n",
       "of     318\n",
       "Name: count, dtype: int64"
      ]
     },
     "execution_count": 28,
     "metadata": {},
     "output_type": "execute_result"
    }
   ],
   "source": [
    "# strip punctuation and try again\n",
    "from string import punctuation\n",
    "\n",
    "s.str.lower().str.strip(punctuation).value_counts(ascending=False).head()"
   ]
  },
  {
   "cell_type": "code",
   "execution_count": 29,
   "metadata": {},
   "outputs": [],
   "source": [
    "# how many capitalised words does the book contain?\n",
    "mycaps = s.loc[s.str.strip(punctuation).str.match(\"[A-Z].+\")]"
   ]
  },
  {
   "cell_type": "code",
   "execution_count": null,
   "metadata": {},
   "outputs": [],
   "source": [
    "# book version\n",
    "theircaps = s.loc[s.str.strip(punctuation).str.contains(r\"^[A-Z]\\w+$\", regex=True)]"
   ]
  },
  {
   "cell_type": "code",
   "execution_count": null,
   "metadata": {},
   "outputs": [
    {
     "data": {
      "text/plain": [
       "110            ALICE'S\n",
       "114              SAM'L\n",
       "124              SAM'L\n",
       "131            ALICE'S\n",
       "136            I--DOWN\n",
       "             ...      \n",
       "12634     Gutenberg-tm\n",
       "12657     Gutenberg-tm\n",
       "12668     Gutenberg-tm\n",
       "12687             U.S.\n",
       "12730    Gutenberg-tm,\n",
       "Length: 185, dtype: object"
      ]
     },
     "execution_count": 34,
     "metadata": {},
     "output_type": "execute_result"
    }
   ],
   "source": [
    "s.loc[\n",
    "    s.str.strip(punctuation).str.match(\"[A-Z].+\")\n",
    "    ^ s.str.strip(punctuation).str.contains(r\"^[A-Z]\\w+$\", regex=True)\n",
    "]\n",
    "# here's the xor'd version of theirs and mine - so mine will find string that have capitalised\n",
    "# words in them, and things like hyphenated words, whilst theirs will only find words that\n",
    "# are letters only letters (after punctuation stripping)"
   ]
  },
  {
   "cell_type": "code",
   "execution_count": 31,
   "metadata": {},
   "outputs": [
    {
     "data": {
      "text/plain": [
       "1731"
      ]
     },
     "execution_count": 31,
     "metadata": {},
     "output_type": "execute_result"
    }
   ],
   "source": [
    "# how many capitalised words stripping punctuation and quotes\n",
    "s[s.str.strip(punctuation + \"\\\"'\").str.match(\"[A-Z].+\")].count()"
   ]
  },
  {
   "cell_type": "code",
   "execution_count": 35,
   "metadata": {},
   "outputs": [
    {
     "data": {
      "text/plain": [
       "1.66379377889211"
      ]
     },
     "execution_count": 35,
     "metadata": {},
     "output_type": "execute_result"
    }
   ],
   "source": [
    "# average number of nouns in words\n",
    "s.str.lower().str.count(\"[aeiou]\").mean()"
   ]
  },
  {
   "cell_type": "code",
   "execution_count": null,
   "metadata": {},
   "outputs": [
    {
     "data": {
      "text/plain": [
       "1.66379377889211"
      ]
     },
     "execution_count": 36,
     "metadata": {},
     "output_type": "execute_result"
    }
   ],
   "source": [
    "# book version of vowel counting - same result, more code, probably runs slower\n",
    "def count_vowels(one_word):\n",
    "    total = 0\n",
    "    for one_letter in one_word.lower():\n",
    "        if one_letter in \"aeiou\":\n",
    "            total += 1\n",
    "    return total\n",
    "\n",
    "\n",
    "s.apply(count_vowels).mean()"
   ]
  },
  {
   "cell_type": "markdown",
   "metadata": {},
   "source": [
    "# Extension questions\n",
    "1. What is the mean of all the integers in Alice?\n",
    "2. What words in Alice don't appear in the dictionary? Which are the five most common such words\n",
    "3. What are the minimum and maximum words per paragraph?"
   ]
  },
  {
   "cell_type": "code",
   "execution_count": 40,
   "metadata": {},
   "outputs": [
    {
     "data": {
      "text/plain": [
       "8030.851851851852"
      ]
     },
     "execution_count": 40,
     "metadata": {},
     "output_type": "execute_result"
    }
   ],
   "source": [
    "# 1. mean of all integers in Alice\n",
    "nums = s.loc[s.str.strip(punctuation).str.isdigit()]\n",
    "nums = nums.str.strip(punctuation).astype(int)\n",
    "nums.mean()"
   ]
  },
  {
   "cell_type": "code",
   "execution_count": null,
   "metadata": {},
   "outputs": [
    {
     "data": {
      "text/plain": [
       "0        a\n",
       "1        a\n",
       "2       aa\n",
       "3      aal\n",
       "4    aalii\n",
       "dtype: object"
      ]
     },
     "execution_count": 41,
     "metadata": {},
     "output_type": "execute_result"
    }
   ],
   "source": [
    "# 2. what words don't appear in the dictionary?\n",
    "# load the wordlist\n",
    "with open(\"../data/words.txt\") as f:\n",
    "    words = pd.Series(f.read().lower().strip().split(\"\\n\"))\n",
    "words.head()"
   ]
  },
  {
   "cell_type": "code",
   "execution_count": null,
   "metadata": {},
   "outputs": [
    {
     "data": {
      "text/plain": [
       "2                       gutenberg\n",
       "3                           ebook\n",
       "10                        carroll\n",
       "27                   restrictions\n",
       "37                         re-use\n",
       "                   ...           \n",
       "12646                      shared\n",
       "12651                       years\n",
       "12719                          pg\n",
       "12722    http://www.gutenberg.org\n",
       "12726                    includes\n",
       "Length: 639, dtype: object"
      ]
     },
     "execution_count": 59,
     "metadata": {},
     "output_type": "execute_result"
    }
   ],
   "source": [
    "# get rid of any punctuation, spaces, tabs, the byte order mark ('\\ufeff')\n",
    "lower_words = s.str.lower().str.strip(punctuation + \"\\t \\ufeff\").drop_duplicates()\n",
    "lower_words.loc[~(lower_words.isin(words))]"
   ]
  },
  {
   "cell_type": "code",
   "execution_count": 63,
   "metadata": {},
   "outputs": [
    {
     "data": {
      "text/plain": [
       "0    ﻿The Project Gutenberg EBook of Alice in Wonde...\n",
       "1    This eBook is for the use of anyone anywhere a...\n",
       "2                         \\nTitle: Alice in Wonderland\n",
       "3                                Author: Lewis Carroll\n",
       "4                         Illustrator: Gordon Robinson\n",
       "dtype: object"
      ]
     },
     "execution_count": 63,
     "metadata": {},
     "output_type": "execute_result"
    }
   ],
   "source": [
    "# 3. minimum and maximum number of words per paragraph\n",
    "# premise: paragraphs just end in a blank line\n",
    "with open(\"../data/alice-in-wonderland.txt\") as f:\n",
    "    paras = pd.Series(f.read().split(\"\\n\\n\"))\n",
    "paras.head()"
   ]
  },
  {
   "cell_type": "code",
   "execution_count": 64,
   "metadata": {},
   "outputs": [
    {
     "data": {
      "text/html": [
       "<div>\n",
       "<style scoped>\n",
       "    .dataframe tbody tr th:only-of-type {\n",
       "        vertical-align: middle;\n",
       "    }\n",
       "\n",
       "    .dataframe tbody tr th {\n",
       "        vertical-align: top;\n",
       "    }\n",
       "\n",
       "    .dataframe thead th {\n",
       "        text-align: right;\n",
       "    }\n",
       "</style>\n",
       "<table border=\"1\" class=\"dataframe\">\n",
       "  <thead>\n",
       "    <tr style=\"text-align: right;\">\n",
       "      <th></th>\n",
       "      <th>paragraphs</th>\n",
       "    </tr>\n",
       "  </thead>\n",
       "  <tbody>\n",
       "    <tr>\n",
       "      <th>0</th>\n",
       "      <td>﻿The Project Gutenberg EBook of Alice in Wonde...</td>\n",
       "    </tr>\n",
       "    <tr>\n",
       "      <th>1</th>\n",
       "      <td>This eBook is for the use of anyone anywhere a...</td>\n",
       "    </tr>\n",
       "    <tr>\n",
       "      <th>2</th>\n",
       "      <td>\\nTitle: Alice in Wonderland</td>\n",
       "    </tr>\n",
       "    <tr>\n",
       "      <th>3</th>\n",
       "      <td>Author: Lewis Carroll</td>\n",
       "    </tr>\n",
       "    <tr>\n",
       "      <th>4</th>\n",
       "      <td>Illustrator: Gordon Robinson</td>\n",
       "    </tr>\n",
       "  </tbody>\n",
       "</table>\n",
       "</div>"
      ],
      "text/plain": [
       "                                          paragraphs\n",
       "0  ﻿The Project Gutenberg EBook of Alice in Wonde...\n",
       "1  This eBook is for the use of anyone anywhere a...\n",
       "2                       \\nTitle: Alice in Wonderland\n",
       "3                              Author: Lewis Carroll\n",
       "4                       Illustrator: Gordon Robinson"
      ]
     },
     "execution_count": 64,
     "metadata": {},
     "output_type": "execute_result"
    }
   ],
   "source": [
    "# create a dataframe from the series and add a column that contains the number of words\n",
    "para_df = pd.DataFrame({\"paragraphs\": paras})\n",
    "para_df.head()"
   ]
  },
  {
   "cell_type": "code",
   "execution_count": 65,
   "metadata": {},
   "outputs": [
    {
     "data": {
      "text/html": [
       "<div>\n",
       "<style scoped>\n",
       "    .dataframe tbody tr th:only-of-type {\n",
       "        vertical-align: middle;\n",
       "    }\n",
       "\n",
       "    .dataframe tbody tr th {\n",
       "        vertical-align: top;\n",
       "    }\n",
       "\n",
       "    .dataframe thead th {\n",
       "        text-align: right;\n",
       "    }\n",
       "</style>\n",
       "<table border=\"1\" class=\"dataframe\">\n",
       "  <thead>\n",
       "    <tr style=\"text-align: right;\">\n",
       "      <th></th>\n",
       "      <th>paragraphs</th>\n",
       "      <th>word_count</th>\n",
       "    </tr>\n",
       "  </thead>\n",
       "  <tbody>\n",
       "    <tr>\n",
       "      <th>0</th>\n",
       "      <td>﻿The Project Gutenberg EBook of Alice in Wonde...</td>\n",
       "      <td>11</td>\n",
       "    </tr>\n",
       "    <tr>\n",
       "      <th>1</th>\n",
       "      <td>This eBook is for the use of anyone anywhere a...</td>\n",
       "      <td>44</td>\n",
       "    </tr>\n",
       "    <tr>\n",
       "      <th>2</th>\n",
       "      <td>\\nTitle: Alice in Wonderland</td>\n",
       "      <td>4</td>\n",
       "    </tr>\n",
       "    <tr>\n",
       "      <th>3</th>\n",
       "      <td>Author: Lewis Carroll</td>\n",
       "      <td>3</td>\n",
       "    </tr>\n",
       "    <tr>\n",
       "      <th>4</th>\n",
       "      <td>Illustrator: Gordon Robinson</td>\n",
       "      <td>3</td>\n",
       "    </tr>\n",
       "  </tbody>\n",
       "</table>\n",
       "</div>"
      ],
      "text/plain": [
       "                                          paragraphs  word_count\n",
       "0  ﻿The Project Gutenberg EBook of Alice in Wonde...          11\n",
       "1  This eBook is for the use of anyone anywhere a...          44\n",
       "2                       \\nTitle: Alice in Wonderland           4\n",
       "3                              Author: Lewis Carroll           3\n",
       "4                       Illustrator: Gordon Robinson           3"
      ]
     },
     "execution_count": 65,
     "metadata": {},
     "output_type": "execute_result"
    }
   ],
   "source": [
    "para_df[\"word_count\"] = para_df[\"paragraphs\"].apply(lambda x: len(x.split()))\n",
    "para_df.head()"
   ]
  },
  {
   "cell_type": "code",
   "execution_count": 67,
   "metadata": {},
   "outputs": [
    {
     "data": {
      "text/plain": [
       "count    393.000000\n",
       "mean      32.475827\n",
       "std       32.428415\n",
       "min        0.000000\n",
       "25%        7.000000\n",
       "50%       22.000000\n",
       "75%       48.000000\n",
       "max      169.000000\n",
       "Name: word_count, dtype: float64"
      ]
     },
     "execution_count": 67,
     "metadata": {},
     "output_type": "execute_result"
    }
   ],
   "source": [
    "para_df[\"word_count\"].describe()"
   ]
  }
 ],
 "metadata": {
  "kernelspec": {
   "display_name": ".venv",
   "language": "python",
   "name": "python3"
  },
  "language_info": {
   "codemirror_mode": {
    "name": "ipython",
    "version": 3
   },
   "file_extension": ".py",
   "mimetype": "text/x-python",
   "name": "python",
   "nbconvert_exporter": "python",
   "pygments_lexer": "ipython3",
   "version": "3.12.7"
  }
 },
 "nbformat": 4,
 "nbformat_minor": 2
}
