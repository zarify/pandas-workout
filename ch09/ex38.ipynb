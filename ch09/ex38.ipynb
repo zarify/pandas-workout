{
 "cells": [
  {
   "cell_type": "code",
   "execution_count": 1,
   "metadata": {},
   "outputs": [],
   "source": [
    "import pandas as pd\n",
    "import numpy as np"
   ]
  },
  {
   "cell_type": "code",
   "execution_count": 2,
   "metadata": {},
   "outputs": [
    {
     "data": {
      "text/html": [
       "<div>\n",
       "<style scoped>\n",
       "    .dataframe tbody tr th:only-of-type {\n",
       "        vertical-align: middle;\n",
       "    }\n",
       "\n",
       "    .dataframe tbody tr th {\n",
       "        vertical-align: top;\n",
       "    }\n",
       "\n",
       "    .dataframe thead th {\n",
       "        text-align: right;\n",
       "    }\n",
       "</style>\n",
       "<table border=\"1\" class=\"dataframe\">\n",
       "  <thead>\n",
       "    <tr style=\"text-align: right;\">\n",
       "      <th></th>\n",
       "      <th>Country</th>\n",
       "      <th>CompTotal</th>\n",
       "      <th>LanguageHaveWorkedWith</th>\n",
       "      <th>LanguageWantToWorkWith</th>\n",
       "      <th>ConvertedCompYearly</th>\n",
       "    </tr>\n",
       "  </thead>\n",
       "  <tbody>\n",
       "    <tr>\n",
       "      <th>0</th>\n",
       "      <td>Slovakia</td>\n",
       "      <td>4800.0</td>\n",
       "      <td>C++;HTML/CSS;JavaScript;Objective-C;PHP;Swift</td>\n",
       "      <td>Swift</td>\n",
       "      <td>62268.0</td>\n",
       "    </tr>\n",
       "    <tr>\n",
       "      <th>1</th>\n",
       "      <td>Netherlands</td>\n",
       "      <td>NaN</td>\n",
       "      <td>JavaScript;Python</td>\n",
       "      <td>NaN</td>\n",
       "      <td>NaN</td>\n",
       "    </tr>\n",
       "    <tr>\n",
       "      <th>2</th>\n",
       "      <td>Russian Federation</td>\n",
       "      <td>NaN</td>\n",
       "      <td>Assembly;C;Python;R;Rust</td>\n",
       "      <td>Julia;Python;Rust</td>\n",
       "      <td>NaN</td>\n",
       "    </tr>\n",
       "    <tr>\n",
       "      <th>3</th>\n",
       "      <td>Austria</td>\n",
       "      <td>NaN</td>\n",
       "      <td>JavaScript;TypeScript</td>\n",
       "      <td>JavaScript;TypeScript</td>\n",
       "      <td>NaN</td>\n",
       "    </tr>\n",
       "    <tr>\n",
       "      <th>4</th>\n",
       "      <td>United Kingdom of Great Britain and Northern I...</td>\n",
       "      <td>NaN</td>\n",
       "      <td>Bash/Shell;HTML/CSS;Python;SQL</td>\n",
       "      <td>Bash/Shell;HTML/CSS;Python;SQL</td>\n",
       "      <td>NaN</td>\n",
       "    </tr>\n",
       "  </tbody>\n",
       "</table>\n",
       "</div>"
      ],
      "text/plain": [
       "                                             Country  CompTotal  \\\n",
       "0                                           Slovakia     4800.0   \n",
       "1                                        Netherlands        NaN   \n",
       "2                                 Russian Federation        NaN   \n",
       "3                                            Austria        NaN   \n",
       "4  United Kingdom of Great Britain and Northern I...        NaN   \n",
       "\n",
       "                          LanguageHaveWorkedWith  \\\n",
       "0  C++;HTML/CSS;JavaScript;Objective-C;PHP;Swift   \n",
       "1                              JavaScript;Python   \n",
       "2                       Assembly;C;Python;R;Rust   \n",
       "3                          JavaScript;TypeScript   \n",
       "4                 Bash/Shell;HTML/CSS;Python;SQL   \n",
       "\n",
       "           LanguageWantToWorkWith  ConvertedCompYearly  \n",
       "0                           Swift              62268.0  \n",
       "1                             NaN                  NaN  \n",
       "2               Julia;Python;Rust                  NaN  \n",
       "3           JavaScript;TypeScript                  NaN  \n",
       "4  Bash/Shell;HTML/CSS;Python;SQL                  NaN  "
      ]
     },
     "execution_count": 2,
     "metadata": {},
     "output_type": "execute_result"
    }
   ],
   "source": [
    "df = pd.read_csv(\n",
    "    \"../data/so_2021_survey_results.csv\",\n",
    "    usecols=[\n",
    "        \"LanguageHaveWorkedWith\",\n",
    "        \"LanguageWantToWorkWith\",\n",
    "        \"Country\",\n",
    "        \"CompTotal\",\n",
    "        \"ConvertedCompYearly\",\n",
    "    ],\n",
    ")\n",
    "df.head()"
   ]
  },
  {
   "cell_type": "markdown",
   "metadata": {},
   "source": [
    "# Questions\n",
    "1. What are the different programming languages that developers use?\n",
    "2. What are the 10 most common programming languages used today?\n",
    "3. What are the 10 most common programming languages that people want to use?\n",
    "4. What languages are in both top 10 lists?\n",
    "5. What languages are in the top 10 most used languages that people don't want to work with in the future?\n",
    "6. What is the current most popular language used in each country?\n",
    "7. What is the mean number of languages used in the last year?\n",
    "8. What is the greatest number of langages people listed as having used in the past year?\n",
    "9. How many people chose that largest number?\n",
    "10. How many people in the survey claim a salary of $2 million or more?\n"
   ]
  },
  {
   "cell_type": "code",
   "execution_count": 3,
   "metadata": {},
   "outputs": [
    {
     "data": {
      "text/plain": [
       "38"
      ]
     },
     "execution_count": 3,
     "metadata": {},
     "output_type": "execute_result"
    }
   ],
   "source": [
    "# 1. different programming languages developers use\n",
    "langs = df[\"LanguageHaveWorkedWith\"].str.split(\";\").explode()\n",
    "langs.drop_duplicates().count()"
   ]
  },
  {
   "cell_type": "code",
   "execution_count": 7,
   "metadata": {},
   "outputs": [
    {
     "data": {
      "text/plain": [
       "LanguageHaveWorkedWith\n",
       "JavaScript    53587\n",
       "HTML/CSS      46259\n",
       "Python        39792\n",
       "SQL           38835\n",
       "Java          29162\n",
       "Node.js       27975\n",
       "TypeScript    24909\n",
       "C#            22984\n",
       "Bash/Shell    22385\n",
       "C++           20057\n",
       "Name: count, dtype: int64"
      ]
     },
     "execution_count": 7,
     "metadata": {},
     "output_type": "execute_result"
    }
   ],
   "source": [
    "# 2. 10 most common programming languages used\n",
    "langs.value_counts(ascending=False).iloc[:10]\n",
    "# book version\n",
    "langs.value_counts().head(10)"
   ]
  },
  {
   "cell_type": "code",
   "execution_count": 5,
   "metadata": {},
   "outputs": [
    {
     "data": {
      "text/plain": [
       "LanguageWantToWorkWith\n",
       "JavaScript    37008\n",
       "Python        34929\n",
       "HTML/CSS      29353\n",
       "TypeScript    26905\n",
       "SQL           26631\n",
       "Node.js       24100\n",
       "C#            17999\n",
       "Java          17222\n",
       "Rust          15865\n",
       "Go            15788\n",
       "Name: count, dtype: int64"
      ]
     },
     "execution_count": 5,
     "metadata": {},
     "output_type": "execute_result"
    }
   ],
   "source": [
    "# 3. 10 most common languages people want to use\n",
    "future_langs = df[\"LanguageWantToWorkWith\"].str.split(\";\").explode()\n",
    "future_langs.value_counts(ascending=False).iloc[:10]"
   ]
  },
  {
   "cell_type": "code",
   "execution_count": 8,
   "metadata": {},
   "outputs": [
    {
     "data": {
      "text/plain": [
       "Index(['JavaScript', 'HTML/CSS', 'Python', 'SQL', 'Java', 'Node.js',\n",
       "       'TypeScript', 'C#'],\n",
       "      dtype='object')"
      ]
     },
     "execution_count": 8,
     "metadata": {},
     "output_type": "execute_result"
    }
   ],
   "source": [
    "# 4. which languages are in both top 10 lists?\n",
    "now_10 = langs.value_counts(ascending=False).head(10).index\n",
    "future_10 = future_langs.value_counts(ascending=False).head(10).index\n",
    "future_10[future_10.isin(now_10)]\n",
    "# book version:\n",
    "now_10.intersection(future_10)"
   ]
  },
  {
   "cell_type": "code",
   "execution_count": 11,
   "metadata": {},
   "outputs": [
    {
     "data": {
      "text/plain": [
       "Index(['Bash/Shell', 'C++'], dtype='object', name='LanguageHaveWorkedWith')"
      ]
     },
     "execution_count": 11,
     "metadata": {},
     "output_type": "execute_result"
    }
   ],
   "source": [
    "# 5. which languages have people worked with but don't want to work with\n",
    "now_10.difference(future_10)\n",
    "# book version uses ~isin, which is weird, because they pointed out that\n",
    "# intersection was a nicer way of doing the previous query\n",
    "now_10[~now_10.isin(future_10)]"
   ]
  },
  {
   "cell_type": "code",
   "execution_count": null,
   "metadata": {},
   "outputs": [
    {
     "data": {
      "text/html": [
       "<div>\n",
       "<style scoped>\n",
       "    .dataframe tbody tr th:only-of-type {\n",
       "        vertical-align: middle;\n",
       "    }\n",
       "\n",
       "    .dataframe tbody tr th {\n",
       "        vertical-align: top;\n",
       "    }\n",
       "\n",
       "    .dataframe thead th {\n",
       "        text-align: right;\n",
       "    }\n",
       "</style>\n",
       "<table border=\"1\" class=\"dataframe\">\n",
       "  <thead>\n",
       "    <tr style=\"text-align: right;\">\n",
       "      <th></th>\n",
       "      <th>Country</th>\n",
       "      <th>LanguageHaveWorkedWith</th>\n",
       "      <th>count</th>\n",
       "    </tr>\n",
       "  </thead>\n",
       "  <tbody>\n",
       "    <tr>\n",
       "      <th>0</th>\n",
       "      <td>Afghanistan</td>\n",
       "      <td>JavaScript</td>\n",
       "      <td>32</td>\n",
       "    </tr>\n",
       "    <tr>\n",
       "      <th>1</th>\n",
       "      <td>Afghanistan</td>\n",
       "      <td>HTML/CSS</td>\n",
       "      <td>28</td>\n",
       "    </tr>\n",
       "    <tr>\n",
       "      <th>2</th>\n",
       "      <td>Afghanistan</td>\n",
       "      <td>C++</td>\n",
       "      <td>23</td>\n",
       "    </tr>\n",
       "    <tr>\n",
       "      <th>3</th>\n",
       "      <td>Afghanistan</td>\n",
       "      <td>SQL</td>\n",
       "      <td>22</td>\n",
       "    </tr>\n",
       "    <tr>\n",
       "      <th>4</th>\n",
       "      <td>Afghanistan</td>\n",
       "      <td>Java</td>\n",
       "      <td>21</td>\n",
       "    </tr>\n",
       "    <tr>\n",
       "      <th>...</th>\n",
       "      <td>...</td>\n",
       "      <td>...</td>\n",
       "      <td>...</td>\n",
       "    </tr>\n",
       "    <tr>\n",
       "      <th>4954</th>\n",
       "      <td>Zimbabwe</td>\n",
       "      <td>Objective-C</td>\n",
       "      <td>1</td>\n",
       "    </tr>\n",
       "    <tr>\n",
       "      <th>4955</th>\n",
       "      <td>Zimbabwe</td>\n",
       "      <td>Perl</td>\n",
       "      <td>1</td>\n",
       "    </tr>\n",
       "    <tr>\n",
       "      <th>4956</th>\n",
       "      <td>Zimbabwe</td>\n",
       "      <td>R</td>\n",
       "      <td>1</td>\n",
       "    </tr>\n",
       "    <tr>\n",
       "      <th>4957</th>\n",
       "      <td>Zimbabwe</td>\n",
       "      <td>Scala</td>\n",
       "      <td>1</td>\n",
       "    </tr>\n",
       "    <tr>\n",
       "      <th>4958</th>\n",
       "      <td>Zimbabwe</td>\n",
       "      <td>Swift</td>\n",
       "      <td>1</td>\n",
       "    </tr>\n",
       "  </tbody>\n",
       "</table>\n",
       "<p>4959 rows × 3 columns</p>\n",
       "</div>"
      ],
      "text/plain": [
       "          Country LanguageHaveWorkedWith  count\n",
       "0     Afghanistan             JavaScript     32\n",
       "1     Afghanistan               HTML/CSS     28\n",
       "2     Afghanistan                    C++     23\n",
       "3     Afghanistan                    SQL     22\n",
       "4     Afghanistan                   Java     21\n",
       "...           ...                    ...    ...\n",
       "4954     Zimbabwe            Objective-C      1\n",
       "4955     Zimbabwe                   Perl      1\n",
       "4956     Zimbabwe                      R      1\n",
       "4957     Zimbabwe                  Scala      1\n",
       "4958     Zimbabwe                  Swift      1\n",
       "\n",
       "[4959 rows x 3 columns]"
      ]
     },
     "execution_count": 25,
     "metadata": {},
     "output_type": "execute_result"
    }
   ],
   "source": [
    "# 6. which languages are most popular in each country?\n",
    "# interesting - when you run an .explode() it keeps the index of the parent row\n",
    "all_languages = df[\"LanguageHaveWorkedWith\"].str.split(\";\").explode()\n",
    "# if we just join we'll get an error about duplicate column labels\n",
    "# we can add a suffix using lsuffix or rsuffix, or just join on the country\n",
    "(df[[\"Country\"]].join(all_languages).groupby(\"Country\").agg(pd.Series.mode))\n",
    "# this one doesn't really do what the book wants, but is an interesting variation on it regardless\n",
    "df[[\"Country\"]].join(all_languages).groupby(\"Country\", as_index=False).value_counts()"
   ]
  },
  {
   "cell_type": "code",
   "execution_count": 36,
   "metadata": {},
   "outputs": [
    {
     "data": {
      "text/plain": [
       "5.373678011583714"
      ]
     },
     "execution_count": 36,
     "metadata": {},
     "output_type": "execute_result"
    }
   ],
   "source": [
    "# 7. what is the mean number of languages used in the last year?\n",
    "df[\"LanguageHaveWorkedWith\"].str.split(\";\").str.len().mean()"
   ]
  },
  {
   "cell_type": "code",
   "execution_count": 37,
   "metadata": {},
   "outputs": [
    {
     "data": {
      "text/plain": [
       "38.0"
      ]
     },
     "execution_count": 37,
     "metadata": {},
     "output_type": "execute_result"
    }
   ],
   "source": [
    "# 8. total highest number of languages used by a person in the last year\n",
    "df[\"LanguageHaveWorkedWith\"].str.split(\";\").str.len().max()"
   ]
  },
  {
   "cell_type": "code",
   "execution_count": 39,
   "metadata": {},
   "outputs": [
    {
     "data": {
      "text/plain": [
       "32"
      ]
     },
     "execution_count": 39,
     "metadata": {},
     "output_type": "execute_result"
    }
   ],
   "source": [
    "# 9. how many people chose the largest number of languages?\n",
    "highest_langs = df[\"LanguageHaveWorkedWith\"].str.split(\";\").str.len().max()\n",
    "lang_counts = df[\"LanguageHaveWorkedWith\"].str.split(\";\").str.len()\n",
    "lang_counts[lang_counts == highest_langs].count()"
   ]
  },
  {
   "cell_type": "code",
   "execution_count": 57,
   "metadata": {},
   "outputs": [
    {
     "data": {
      "text/plain": [
       "2369"
      ]
     },
     "execution_count": 57,
     "metadata": {},
     "output_type": "execute_result"
    }
   ],
   "source": [
    "# 10. How many people claim a salary of $2m or more?\n",
    "df.loc[df[\"CompTotal\"] >= 2_000_000].shape[0]"
   ]
  },
  {
   "cell_type": "code",
   "execution_count": 59,
   "metadata": {},
   "outputs": [
    {
     "data": {
      "text/html": [
       "<div>\n",
       "<style scoped>\n",
       "    .dataframe tbody tr th:only-of-type {\n",
       "        vertical-align: middle;\n",
       "    }\n",
       "\n",
       "    .dataframe tbody tr th {\n",
       "        vertical-align: top;\n",
       "    }\n",
       "\n",
       "    .dataframe thead th {\n",
       "        text-align: right;\n",
       "    }\n",
       "</style>\n",
       "<table border=\"1\" class=\"dataframe\">\n",
       "  <thead>\n",
       "    <tr style=\"text-align: right;\">\n",
       "      <th></th>\n",
       "      <th>Country</th>\n",
       "      <th>count</th>\n",
       "    </tr>\n",
       "  </thead>\n",
       "  <tbody>\n",
       "    <tr>\n",
       "      <th>0</th>\n",
       "      <td>Afghanistan</td>\n",
       "      <td>1</td>\n",
       "    </tr>\n",
       "    <tr>\n",
       "      <th>1</th>\n",
       "      <td>Albania</td>\n",
       "      <td>3</td>\n",
       "    </tr>\n",
       "    <tr>\n",
       "      <th>2</th>\n",
       "      <td>Argentina</td>\n",
       "      <td>12</td>\n",
       "    </tr>\n",
       "    <tr>\n",
       "      <th>3</th>\n",
       "      <td>Armenia</td>\n",
       "      <td>10</td>\n",
       "    </tr>\n",
       "    <tr>\n",
       "      <th>4</th>\n",
       "      <td>Australia</td>\n",
       "      <td>2</td>\n",
       "    </tr>\n",
       "    <tr>\n",
       "      <th>...</th>\n",
       "      <td>...</td>\n",
       "      <td>...</td>\n",
       "    </tr>\n",
       "    <tr>\n",
       "      <th>64</th>\n",
       "      <td>United States of America</td>\n",
       "      <td>10</td>\n",
       "    </tr>\n",
       "    <tr>\n",
       "      <th>65</th>\n",
       "      <td>Uruguay</td>\n",
       "      <td>2</td>\n",
       "    </tr>\n",
       "    <tr>\n",
       "      <th>66</th>\n",
       "      <td>Uzbekistan</td>\n",
       "      <td>17</td>\n",
       "    </tr>\n",
       "    <tr>\n",
       "      <th>67</th>\n",
       "      <td>Venezuela, Bolivarian Republic of...</td>\n",
       "      <td>5</td>\n",
       "    </tr>\n",
       "    <tr>\n",
       "      <th>68</th>\n",
       "      <td>Viet Nam</td>\n",
       "      <td>125</td>\n",
       "    </tr>\n",
       "  </tbody>\n",
       "</table>\n",
       "<p>69 rows × 2 columns</p>\n",
       "</div>"
      ],
      "text/plain": [
       "                                 Country  count\n",
       "0                            Afghanistan      1\n",
       "1                                Albania      3\n",
       "2                              Argentina     12\n",
       "3                                Armenia     10\n",
       "4                              Australia      2\n",
       "..                                   ...    ...\n",
       "64              United States of America     10\n",
       "65                               Uruguay      2\n",
       "66                            Uzbekistan     17\n",
       "67  Venezuela, Bolivarian Republic of...      5\n",
       "68                              Viet Nam    125\n",
       "\n",
       "[69 rows x 2 columns]"
      ]
     },
     "execution_count": 59,
     "metadata": {},
     "output_type": "execute_result"
    }
   ],
   "source": [
    "# what about country breakdown for those people?\n",
    "df[df[\"CompTotal\"] >= 2_000_000].groupby(\"Country\", as_index=False)[\n",
    "    \"Country\"\n",
    "].value_counts()\n"
   ]
  },
  {
   "cell_type": "code",
   "execution_count": 61,
   "metadata": {},
   "outputs": [],
   "source": [
    "# remove the high reported salaries from the data set\n",
    "df = df.loc[~(df[\"CompTotal\"] >= 2_000_000)]"
   ]
  },
  {
   "cell_type": "code",
   "execution_count": null,
   "metadata": {},
   "outputs": [
    {
     "data": {
      "text/html": [
       "<div>\n",
       "<style scoped>\n",
       "    .dataframe tbody tr th:only-of-type {\n",
       "        vertical-align: middle;\n",
       "    }\n",
       "\n",
       "    .dataframe tbody tr th {\n",
       "        vertical-align: top;\n",
       "    }\n",
       "\n",
       "    .dataframe thead th {\n",
       "        text-align: right;\n",
       "    }\n",
       "</style>\n",
       "<table border=\"1\" class=\"dataframe\">\n",
       "  <thead>\n",
       "    <tr style=\"text-align: right;\">\n",
       "      <th></th>\n",
       "      <th>Country</th>\n",
       "      <th>CompTotal</th>\n",
       "      <th>LanguageHaveWorkedWith</th>\n",
       "      <th>LanguageWantToWorkWith</th>\n",
       "      <th>ConvertedCompYearly</th>\n",
       "      <th>APL</th>\n",
       "      <th>Assembly</th>\n",
       "      <th>Bash/Shell</th>\n",
       "      <th>C</th>\n",
       "      <th>C#</th>\n",
       "      <th>...</th>\n",
       "      <th>PowerShell</th>\n",
       "      <th>Python</th>\n",
       "      <th>R</th>\n",
       "      <th>Ruby</th>\n",
       "      <th>Rust</th>\n",
       "      <th>SQL</th>\n",
       "      <th>Scala</th>\n",
       "      <th>Swift</th>\n",
       "      <th>TypeScript</th>\n",
       "      <th>VBA</th>\n",
       "    </tr>\n",
       "  </thead>\n",
       "  <tbody>\n",
       "    <tr>\n",
       "      <th>0</th>\n",
       "      <td>Slovakia</td>\n",
       "      <td>4800.0</td>\n",
       "      <td>C++;HTML/CSS;JavaScript;Objective-C;PHP;Swift</td>\n",
       "      <td>Swift</td>\n",
       "      <td>62268.0</td>\n",
       "      <td>0</td>\n",
       "      <td>0</td>\n",
       "      <td>0</td>\n",
       "      <td>0</td>\n",
       "      <td>0</td>\n",
       "      <td>...</td>\n",
       "      <td>0</td>\n",
       "      <td>0</td>\n",
       "      <td>0</td>\n",
       "      <td>0</td>\n",
       "      <td>0</td>\n",
       "      <td>0</td>\n",
       "      <td>0</td>\n",
       "      <td>1</td>\n",
       "      <td>0</td>\n",
       "      <td>0</td>\n",
       "    </tr>\n",
       "    <tr>\n",
       "      <th>1</th>\n",
       "      <td>Netherlands</td>\n",
       "      <td>NaN</td>\n",
       "      <td>JavaScript;Python</td>\n",
       "      <td>NaN</td>\n",
       "      <td>NaN</td>\n",
       "      <td>0</td>\n",
       "      <td>0</td>\n",
       "      <td>0</td>\n",
       "      <td>0</td>\n",
       "      <td>0</td>\n",
       "      <td>...</td>\n",
       "      <td>0</td>\n",
       "      <td>1</td>\n",
       "      <td>0</td>\n",
       "      <td>0</td>\n",
       "      <td>0</td>\n",
       "      <td>0</td>\n",
       "      <td>0</td>\n",
       "      <td>0</td>\n",
       "      <td>0</td>\n",
       "      <td>0</td>\n",
       "    </tr>\n",
       "    <tr>\n",
       "      <th>2</th>\n",
       "      <td>Russian Federation</td>\n",
       "      <td>NaN</td>\n",
       "      <td>Assembly;C;Python;R;Rust</td>\n",
       "      <td>Julia;Python;Rust</td>\n",
       "      <td>NaN</td>\n",
       "      <td>0</td>\n",
       "      <td>1</td>\n",
       "      <td>0</td>\n",
       "      <td>1</td>\n",
       "      <td>0</td>\n",
       "      <td>...</td>\n",
       "      <td>0</td>\n",
       "      <td>1</td>\n",
       "      <td>1</td>\n",
       "      <td>0</td>\n",
       "      <td>1</td>\n",
       "      <td>0</td>\n",
       "      <td>0</td>\n",
       "      <td>0</td>\n",
       "      <td>0</td>\n",
       "      <td>0</td>\n",
       "    </tr>\n",
       "    <tr>\n",
       "      <th>3</th>\n",
       "      <td>Austria</td>\n",
       "      <td>NaN</td>\n",
       "      <td>JavaScript;TypeScript</td>\n",
       "      <td>JavaScript;TypeScript</td>\n",
       "      <td>NaN</td>\n",
       "      <td>0</td>\n",
       "      <td>0</td>\n",
       "      <td>0</td>\n",
       "      <td>0</td>\n",
       "      <td>0</td>\n",
       "      <td>...</td>\n",
       "      <td>0</td>\n",
       "      <td>0</td>\n",
       "      <td>0</td>\n",
       "      <td>0</td>\n",
       "      <td>0</td>\n",
       "      <td>0</td>\n",
       "      <td>0</td>\n",
       "      <td>0</td>\n",
       "      <td>1</td>\n",
       "      <td>0</td>\n",
       "    </tr>\n",
       "    <tr>\n",
       "      <th>4</th>\n",
       "      <td>United Kingdom of Great Britain and Northern I...</td>\n",
       "      <td>NaN</td>\n",
       "      <td>Bash/Shell;HTML/CSS;Python;SQL</td>\n",
       "      <td>Bash/Shell;HTML/CSS;Python;SQL</td>\n",
       "      <td>NaN</td>\n",
       "      <td>0</td>\n",
       "      <td>0</td>\n",
       "      <td>1</td>\n",
       "      <td>0</td>\n",
       "      <td>0</td>\n",
       "      <td>...</td>\n",
       "      <td>0</td>\n",
       "      <td>1</td>\n",
       "      <td>0</td>\n",
       "      <td>0</td>\n",
       "      <td>0</td>\n",
       "      <td>1</td>\n",
       "      <td>0</td>\n",
       "      <td>0</td>\n",
       "      <td>0</td>\n",
       "      <td>0</td>\n",
       "    </tr>\n",
       "  </tbody>\n",
       "</table>\n",
       "<p>5 rows × 43 columns</p>\n",
       "</div>"
      ],
      "text/plain": [
       "                                             Country  CompTotal  \\\n",
       "0                                           Slovakia     4800.0   \n",
       "1                                        Netherlands        NaN   \n",
       "2                                 Russian Federation        NaN   \n",
       "3                                            Austria        NaN   \n",
       "4  United Kingdom of Great Britain and Northern I...        NaN   \n",
       "\n",
       "                          LanguageHaveWorkedWith  \\\n",
       "0  C++;HTML/CSS;JavaScript;Objective-C;PHP;Swift   \n",
       "1                              JavaScript;Python   \n",
       "2                       Assembly;C;Python;R;Rust   \n",
       "3                          JavaScript;TypeScript   \n",
       "4                 Bash/Shell;HTML/CSS;Python;SQL   \n",
       "\n",
       "           LanguageWantToWorkWith  ConvertedCompYearly  APL  Assembly  \\\n",
       "0                           Swift              62268.0    0         0   \n",
       "1                             NaN                  NaN    0         0   \n",
       "2               Julia;Python;Rust                  NaN    0         1   \n",
       "3           JavaScript;TypeScript                  NaN    0         0   \n",
       "4  Bash/Shell;HTML/CSS;Python;SQL                  NaN    0         0   \n",
       "\n",
       "   Bash/Shell  C  C#  ...  PowerShell  Python  R  Ruby  Rust  SQL  Scala  \\\n",
       "0           0  0   0  ...           0       0  0     0     0    0      0   \n",
       "1           0  0   0  ...           0       1  0     0     0    0      0   \n",
       "2           0  1   0  ...           0       1  1     0     1    0      0   \n",
       "3           0  0   0  ...           0       0  0     0     0    0      0   \n",
       "4           1  0   0  ...           0       1  0     0     0    1      0   \n",
       "\n",
       "   Swift  TypeScript  VBA  \n",
       "0      1           0    0  \n",
       "1      0           0    0  \n",
       "2      0           0    0  \n",
       "3      0           1    0  \n",
       "4      0           0    0  \n",
       "\n",
       "[5 rows x 43 columns]"
      ]
     },
     "execution_count": 63,
     "metadata": {},
     "output_type": "execute_result"
    }
   ],
   "source": [
    "# add columns for the 1/0 dummies for the results of each language response after being split on \";\"\n",
    "# concat with columns to widen the dataset\n",
    "df = pd.concat(\n",
    "    [df, df[\"LanguageHaveWorkedWith\"].str.get_dummies(sep=\";\")], axis=\"columns\"\n",
    ")\n",
    "df.head()"
   ]
  },
  {
   "cell_type": "code",
   "execution_count": 64,
   "metadata": {},
   "outputs": [
    {
     "data": {
      "text/plain": [
       "162737.10379596677"
      ]
     },
     "execution_count": 64,
     "metadata": {},
     "output_type": "execute_result"
    }
   ],
   "source": [
    "# average salary of someone who knows Python and Java but not JavaScript\n",
    "(\n",
    "    df.loc[(df[\"Python\"] == 1) & (df[\"Java\"] == 1) & (df[\"JavaScript\"] == 0)][\n",
    "        \"CompTotal\"\n",
    "    ].mean()\n",
    ")"
   ]
  },
  {
   "cell_type": "code",
   "execution_count": 66,
   "metadata": {},
   "outputs": [
    {
     "data": {
      "text/plain": [
       "140867.65981559738"
      ]
     },
     "execution_count": 66,
     "metadata": {},
     "output_type": "execute_result"
    }
   ],
   "source": [
    "# average salary of someone who knows Java and JavaScript but not Python\n",
    "(\n",
    "    df.loc[(df[\"Java\"] == 1) & (df[\"JavaScript\"] == 1) & (df[\"Python\"] == 0)][\n",
    "        \"CompTotal\"\n",
    "    ].mean()\n",
    ")"
   ]
  },
  {
   "cell_type": "code",
   "execution_count": 67,
   "metadata": {},
   "outputs": [
    {
     "data": {
      "text/plain": [
       "125525.97576994763"
      ]
     },
     "execution_count": 67,
     "metadata": {},
     "output_type": "execute_result"
    }
   ],
   "source": [
    "# what about front end devs? so JS + HTML/CSS\n",
    "(df.loc[(df[\"JavaScript\"] == 1) & (df[\"HTML/CSS\"] == 1)][\"CompTotal\"].mean())"
   ]
  },
  {
   "cell_type": "markdown",
   "metadata": {},
   "source": [
    "# Extension questions\n",
    "1. What are the three things developers are most likely to do when `NEW-Stuck`?\n",
    "2. What proportion of the respondents reported their gender as `Man`?\n",
    "3. On average, what proportion of `YearsCoding` have been done professionally? (`YearsCodePro`)?"
   ]
  },
  {
   "cell_type": "code",
   "execution_count": 93,
   "metadata": {},
   "outputs": [],
   "source": [
    "dfx = pd.read_csv(\n",
    "    \"../data/so_2021_survey_results.csv\",\n",
    "    usecols=[\"NEWStuck\", \"Gender\", \"YearsCode\", \"YearsCodePro\"],\n",
    ")"
   ]
  },
  {
   "cell_type": "code",
   "execution_count": 94,
   "metadata": {},
   "outputs": [
    {
     "data": {
      "text/plain": [
       "NEWStuck\n",
       "Google it                            74491\n",
       "Visit Stack Overflow                 66410\n",
       "Do other work and come back later    39871\n",
       "Name: count, dtype: int64"
      ]
     },
     "execution_count": 94,
     "metadata": {},
     "output_type": "execute_result"
    }
   ],
   "source": [
    "# 1. top three things developers do when stuck - ;-separated\n",
    "dfx[\"NEWStuck\"].str.split(\";\").explode().value_counts().head(3)"
   ]
  },
  {
   "cell_type": "code",
   "execution_count": 95,
   "metadata": {},
   "outputs": [
    {
     "data": {
      "text/plain": [
       "Gender                                                                            \n",
       "Man                                                                                   0.909231\n",
       "Woman                                                                                 0.050069\n",
       "Prefer not to say                                                                     0.017524\n",
       "Non-binary, genderqueer, or gender non-conforming                                     0.008385\n",
       "Or, in your own words:                                                                0.005019\n",
       "Man;Or, in your own words:                                                            0.003257\n",
       "Man;Non-binary, genderqueer, or gender non-conforming                                 0.003062\n",
       "Woman;Non-binary, genderqueer, or gender non-conforming                               0.001786\n",
       "Man;Woman                                                                             0.000498\n",
       "Man;Woman;Non-binary, genderqueer, or gender non-conforming                           0.000255\n",
       "Non-binary, genderqueer, or gender non-conforming;Or, in your own words:              0.000255\n",
       "Man;Woman;Non-binary, genderqueer, or gender non-conforming;Or, in your own words:    0.000207\n",
       "Woman;Or, in your own words:                                                          0.000194\n",
       "Man;Non-binary, genderqueer, or gender non-conforming;Or, in your own words:          0.000134\n",
       "Woman;Non-binary, genderqueer, or gender non-conforming;Or, in your own words:        0.000109\n",
       "Man;Woman;Or, in your own words:                                                      0.000012\n",
       "Name: proportion, dtype: float64"
      ]
     },
     "execution_count": 95,
     "metadata": {},
     "output_type": "execute_result"
    }
   ],
   "source": [
    "# 2. number of respondents identifying as a `Man`\n",
    "dfx[[\"Gender\"]].value_counts(normalize=True)"
   ]
  },
  {
   "cell_type": "code",
   "execution_count": 96,
   "metadata": {},
   "outputs": [],
   "source": [
    "# 3. what proportion of years coding have been done professionally?\n",
    "dfx = dfx.dropna(subset=[\"YearsCode\", \"YearsCodePro\"])  # no nulls\n",
    "# put in valid int-able representations for the range values\n",
    "dfx[\"YearsCode\"] = (\n",
    "    dfx[\"YearsCode\"]\n",
    "    .replace(\"Less than 1 year\", \"0\")\n",
    "    .replace(\"More than 50 years\", \"51\")\n",
    "    .astype(float)\n",
    ")\n",
    "dfx[\"YearsCodePro\"] = (\n",
    "    dfx[\"YearsCodePro\"]\n",
    "    .replace(\"Less than 1 year\", 0)\n",
    "    .replace(\"More than 50 years\", \"51\")\n",
    "    .astype(float)\n",
    ")\n",
    "# get rid of any zeroes in the denominator\n",
    "dfx = dfx[~(dfx[\"YearsCode\"] == 0)]\n"
   ]
  },
  {
   "cell_type": "code",
   "execution_count": 97,
   "metadata": {},
   "outputs": [
    {
     "data": {
      "text/plain": [
       "0.5923711657118932"
      ]
     },
     "execution_count": 97,
     "metadata": {},
     "output_type": "execute_result"
    }
   ],
   "source": [
    "(dfx[\"YearsCodePro\"] / dfx[\"YearsCode\"]).mean()"
   ]
  }
 ],
 "metadata": {
  "kernelspec": {
   "display_name": ".venv",
   "language": "python",
   "name": "python3"
  },
  "language_info": {
   "codemirror_mode": {
    "name": "ipython",
    "version": 3
   },
   "file_extension": ".py",
   "mimetype": "text/x-python",
   "name": "python",
   "nbconvert_exporter": "python",
   "pygments_lexer": "ipython3",
   "version": "3.12.7"
  }
 },
 "nbformat": 4,
 "nbformat_minor": 2
}
