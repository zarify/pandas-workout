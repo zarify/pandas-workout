{
 "cells": [
  {
   "cell_type": "code",
   "execution_count": 1,
   "metadata": {},
   "outputs": [],
   "source": [
    "import pandas as pd\n",
    "import numpy as np"
   ]
  },
  {
   "cell_type": "code",
   "execution_count": null,
   "metadata": {},
   "outputs": [
    {
     "data": {
      "text/html": [
       "<div>\n",
       "<style scoped>\n",
       "    .dataframe tbody tr th:only-of-type {\n",
       "        vertical-align: middle;\n",
       "    }\n",
       "\n",
       "    .dataframe tbody tr th {\n",
       "        vertical-align: top;\n",
       "    }\n",
       "\n",
       "    .dataframe thead th {\n",
       "        text-align: right;\n",
       "    }\n",
       "</style>\n",
       "<table border=\"1\" class=\"dataframe\">\n",
       "  <thead>\n",
       "    <tr style=\"text-align: right;\">\n",
       "      <th></th>\n",
       "      <th>passenger_count</th>\n",
       "      <th>trip_distance</th>\n",
       "      <th>total_amount</th>\n",
       "    </tr>\n",
       "  </thead>\n",
       "  <tbody>\n",
       "    <tr>\n",
       "      <th>0</th>\n",
       "      <td>1</td>\n",
       "      <td>1.5</td>\n",
       "      <td>9.95</td>\n",
       "    </tr>\n",
       "    <tr>\n",
       "      <th>1</th>\n",
       "      <td>1</td>\n",
       "      <td>2.6</td>\n",
       "      <td>16.30</td>\n",
       "    </tr>\n",
       "    <tr>\n",
       "      <th>2</th>\n",
       "      <td>3</td>\n",
       "      <td>0.0</td>\n",
       "      <td>5.80</td>\n",
       "    </tr>\n",
       "    <tr>\n",
       "      <th>3</th>\n",
       "      <td>5</td>\n",
       "      <td>0.0</td>\n",
       "      <td>7.55</td>\n",
       "    </tr>\n",
       "    <tr>\n",
       "      <th>4</th>\n",
       "      <td>5</td>\n",
       "      <td>0.0</td>\n",
       "      <td>55.55</td>\n",
       "    </tr>\n",
       "  </tbody>\n",
       "</table>\n",
       "</div>"
      ],
      "text/plain": [
       "   passenger_count  trip_distance  total_amount\n",
       "0                1            1.5          9.95\n",
       "1                1            2.6         16.30\n",
       "2                3            0.0          5.80\n",
       "3                5            0.0          7.55\n",
       "4                5            0.0         55.55"
      ]
     },
     "execution_count": 3,
     "metadata": {},
     "output_type": "execute_result"
    }
   ],
   "source": [
    "df = pd.read_csv(\n",
    "    \"../data/nyc_taxi_2019-01.csv\",\n",
    "    usecols=[\"passenger_count\", \"trip_distance\", \"total_amount\"],\n",
    ")\n",
    "df.head()"
   ]
  },
  {
   "cell_type": "code",
   "execution_count": null,
   "metadata": {},
   "outputs": [
    {
     "name": "stdout",
     "output_type": "stream",
     "text": [
      "290.00999999999993\n",
      "290.01000000000005\n"
     ]
    }
   ],
   "source": [
    "# find the average cost of the 20 longest trips in January (whole dataset)\n",
    "# sorting descending and first 20\n",
    "print(df.sort_values(\"trip_distance\", ascending=False).iloc[:20][\"total_amount\"].mean())\n",
    "# sorting ascending and last 20\n",
    "print(df.sort_values(\"trip_distance\", ascending=True).iloc[-20:][\"total_amount\"].mean())\n",
    "# could also have used .iloc[:20] which is probably better since you can specify a range\n",
    "# rather than just from the top or bottom with head or tail\n",
    "# so this could have been done with one sort_values call and used .iloc[:20] and .iloc[-20:]"
   ]
  },
  {
   "cell_type": "code",
   "execution_count": 16,
   "metadata": {},
   "outputs": [
    {
     "data": {
      "text/plain": [
       "135.49739999999997"
      ]
     },
     "execution_count": 16,
     "metadata": {},
     "output_type": "execute_result"
    }
   ],
   "source": [
    "# sort by ascending passenger count and descending trip distance\n",
    "(\n",
    "    df.sort_values([\"passenger_count\", \"trip_distance\"], ascending=[True, False])\n",
    "    .iloc[:50][\"total_amount\"]\n",
    "    .mean()\n",
    ")"
   ]
  },
  {
   "cell_type": "markdown",
   "metadata": {},
   "source": [
    "# Extension questions\n",
    "1. In which 5 rides did people pay the most per mile? How far did people go on those trips?\n",
    "2. Let's assume that multipassenger rides are split evenly amongst the passengers. Given that assumption, in which 10 multipassenger rides did each individual pay the greatest amount?\n",
    "3. In the exercise solution head/tail or iloc was used to get the first/last N records. Use `ignore_index=True` with `sort_values` and `loc` to get the mean `total_amount` for the 20 longest trips."
   ]
  },
  {
   "cell_type": "code",
   "execution_count": null,
   "metadata": {},
   "outputs": [],
   "source": [
    "# seems like something useful to have as a new column?\n",
    "df[\"cost_per_mile\"] = df[\"total_amount\"] / df[\"trip_distance\"]"
   ]
  },
  {
   "cell_type": "code",
   "execution_count": 20,
   "metadata": {},
   "outputs": [
    {
     "data": {
      "text/html": [
       "<div>\n",
       "<style scoped>\n",
       "    .dataframe tbody tr th:only-of-type {\n",
       "        vertical-align: middle;\n",
       "    }\n",
       "\n",
       "    .dataframe tbody tr th {\n",
       "        vertical-align: top;\n",
       "    }\n",
       "\n",
       "    .dataframe thead th {\n",
       "        text-align: right;\n",
       "    }\n",
       "</style>\n",
       "<table border=\"1\" class=\"dataframe\">\n",
       "  <thead>\n",
       "    <tr style=\"text-align: right;\">\n",
       "      <th></th>\n",
       "      <th>passenger_count</th>\n",
       "      <th>trip_distance</th>\n",
       "      <th>total_amount</th>\n",
       "      <th>cost_per_mile</th>\n",
       "    </tr>\n",
       "  </thead>\n",
       "  <tbody>\n",
       "    <tr>\n",
       "      <th>2499600</th>\n",
       "      <td>1</td>\n",
       "      <td>2.40</td>\n",
       "      <td>623261.66</td>\n",
       "      <td>259692.358333</td>\n",
       "    </tr>\n",
       "    <tr>\n",
       "      <th>478791</th>\n",
       "      <td>1</td>\n",
       "      <td>0.10</td>\n",
       "      <td>6667.45</td>\n",
       "      <td>66674.500000</td>\n",
       "    </tr>\n",
       "    <tr>\n",
       "      <th>7099014</th>\n",
       "      <td>4</td>\n",
       "      <td>0.01</td>\n",
       "      <td>415.30</td>\n",
       "      <td>41530.000000</td>\n",
       "    </tr>\n",
       "    <tr>\n",
       "      <th>6403254</th>\n",
       "      <td>1</td>\n",
       "      <td>0.01</td>\n",
       "      <td>322.30</td>\n",
       "      <td>32230.000000</td>\n",
       "    </tr>\n",
       "    <tr>\n",
       "      <th>4136499</th>\n",
       "      <td>1</td>\n",
       "      <td>0.01</td>\n",
       "      <td>273.96</td>\n",
       "      <td>27396.000000</td>\n",
       "    </tr>\n",
       "  </tbody>\n",
       "</table>\n",
       "</div>"
      ],
      "text/plain": [
       "         passenger_count  trip_distance  total_amount  cost_per_mile\n",
       "2499600                1           2.40     623261.66  259692.358333\n",
       "478791                 1           0.10       6667.45   66674.500000\n",
       "7099014                4           0.01        415.30   41530.000000\n",
       "6403254                1           0.01        322.30   32230.000000\n",
       "4136499                1           0.01        273.96   27396.000000"
      ]
     },
     "execution_count": 20,
     "metadata": {},
     "output_type": "execute_result"
    }
   ],
   "source": [
    "df[df[\"trip_distance\"] > 0].sort_values(\"cost_per_mile\", ascending=False).iloc[:5]"
   ]
  },
  {
   "cell_type": "code",
   "execution_count": null,
   "metadata": {},
   "outputs": [],
   "source": [
    "df[\"cost_per_passenger\"] = df[\"total_amount\"] / df[\"passenger_count\"]\n",
    "# interesting - I was expecting this to barf on the 0 passenger count values and raise a div by zero error!"
   ]
  },
  {
   "cell_type": "code",
   "execution_count": 23,
   "metadata": {},
   "outputs": [
    {
     "data": {
      "text/html": [
       "<div>\n",
       "<style scoped>\n",
       "    .dataframe tbody tr th:only-of-type {\n",
       "        vertical-align: middle;\n",
       "    }\n",
       "\n",
       "    .dataframe tbody tr th {\n",
       "        vertical-align: top;\n",
       "    }\n",
       "\n",
       "    .dataframe thead th {\n",
       "        text-align: right;\n",
       "    }\n",
       "</style>\n",
       "<table border=\"1\" class=\"dataframe\">\n",
       "  <thead>\n",
       "    <tr style=\"text-align: right;\">\n",
       "      <th></th>\n",
       "      <th>passenger_count</th>\n",
       "      <th>trip_distance</th>\n",
       "      <th>total_amount</th>\n",
       "      <th>cost_per_mile</th>\n",
       "      <th>cost_per_passenger</th>\n",
       "    </tr>\n",
       "  </thead>\n",
       "  <tbody>\n",
       "    <tr>\n",
       "      <th>2972145</th>\n",
       "      <td>2</td>\n",
       "      <td>19.90</td>\n",
       "      <td>589.96</td>\n",
       "      <td>29.646231</td>\n",
       "      <td>294.980</td>\n",
       "    </tr>\n",
       "    <tr>\n",
       "      <th>3014027</th>\n",
       "      <td>2</td>\n",
       "      <td>16.60</td>\n",
       "      <td>560.76</td>\n",
       "      <td>33.780723</td>\n",
       "      <td>280.380</td>\n",
       "    </tr>\n",
       "    <tr>\n",
       "      <th>3842620</th>\n",
       "      <td>2</td>\n",
       "      <td>110.04</td>\n",
       "      <td>515.82</td>\n",
       "      <td>4.687568</td>\n",
       "      <td>257.910</td>\n",
       "    </tr>\n",
       "    <tr>\n",
       "      <th>7593395</th>\n",
       "      <td>2</td>\n",
       "      <td>83.61</td>\n",
       "      <td>449.32</td>\n",
       "      <td>5.373998</td>\n",
       "      <td>224.660</td>\n",
       "    </tr>\n",
       "    <tr>\n",
       "      <th>149362</th>\n",
       "      <td>2</td>\n",
       "      <td>17.20</td>\n",
       "      <td>426.80</td>\n",
       "      <td>24.813953</td>\n",
       "      <td>213.400</td>\n",
       "    </tr>\n",
       "    <tr>\n",
       "      <th>5726185</th>\n",
       "      <td>2</td>\n",
       "      <td>65.05</td>\n",
       "      <td>416.82</td>\n",
       "      <td>6.407686</td>\n",
       "      <td>208.410</td>\n",
       "    </tr>\n",
       "    <tr>\n",
       "      <th>6857368</th>\n",
       "      <td>2</td>\n",
       "      <td>0.00</td>\n",
       "      <td>411.36</td>\n",
       "      <td>inf</td>\n",
       "      <td>205.680</td>\n",
       "    </tr>\n",
       "    <tr>\n",
       "      <th>6496403</th>\n",
       "      <td>2</td>\n",
       "      <td>0.00</td>\n",
       "      <td>410.95</td>\n",
       "      <td>inf</td>\n",
       "      <td>205.475</td>\n",
       "    </tr>\n",
       "    <tr>\n",
       "      <th>4751745</th>\n",
       "      <td>2</td>\n",
       "      <td>100.78</td>\n",
       "      <td>403.50</td>\n",
       "      <td>4.003771</td>\n",
       "      <td>201.750</td>\n",
       "    </tr>\n",
       "    <tr>\n",
       "      <th>1154626</th>\n",
       "      <td>2</td>\n",
       "      <td>0.00</td>\n",
       "      <td>400.80</td>\n",
       "      <td>inf</td>\n",
       "      <td>200.400</td>\n",
       "    </tr>\n",
       "  </tbody>\n",
       "</table>\n",
       "</div>"
      ],
      "text/plain": [
       "         passenger_count  trip_distance  total_amount  cost_per_mile  \\\n",
       "2972145                2          19.90        589.96      29.646231   \n",
       "3014027                2          16.60        560.76      33.780723   \n",
       "3842620                2         110.04        515.82       4.687568   \n",
       "7593395                2          83.61        449.32       5.373998   \n",
       "149362                 2          17.20        426.80      24.813953   \n",
       "5726185                2          65.05        416.82       6.407686   \n",
       "6857368                2           0.00        411.36            inf   \n",
       "6496403                2           0.00        410.95            inf   \n",
       "4751745                2         100.78        403.50       4.003771   \n",
       "1154626                2           0.00        400.80            inf   \n",
       "\n",
       "         cost_per_passenger  \n",
       "2972145             294.980  \n",
       "3014027             280.380  \n",
       "3842620             257.910  \n",
       "7593395             224.660  \n",
       "149362              213.400  \n",
       "5726185             208.410  \n",
       "6857368             205.680  \n",
       "6496403             205.475  \n",
       "4751745             201.750  \n",
       "1154626             200.400  "
      ]
     },
     "execution_count": 23,
     "metadata": {},
     "output_type": "execute_result"
    }
   ],
   "source": [
    "(\n",
    "    df[df[\"passenger_count\"] > 1]\n",
    "    .sort_values(\"cost_per_passenger\", ascending=False)\n",
    "    .iloc[:10]\n",
    ")"
   ]
  },
  {
   "cell_type": "markdown",
   "metadata": {},
   "source": [
    "The book dropped trip distances of 0 from the dataset in the first extension problem, which meant that subsequent\n",
    "calculations here were different. I don't agree that it should have been dropped, and instead should have been\n",
    "filtered from the previous query."
   ]
  },
  {
   "cell_type": "code",
   "execution_count": null,
   "metadata": {},
   "outputs": [
    {
     "data": {
      "text/plain": [
       "300.76285714285706"
      ]
     },
     "execution_count": 24,
     "metadata": {},
     "output_type": "execute_result"
    }
   ],
   "source": [
    "# 3. I actually don't understand what this one is asking.\n",
    "# this is the book's solution:\n",
    "df.sort_values(\"trip_distance\", ascending=False, ignore_index=True)[\"total_amount\"].loc[\n",
    "    :20\n",
    "].mean()\n",
    "# although they got 253.65904761904761955 presumably because they dropped a bunch of data in previous steps"
   ]
  },
  {
   "cell_type": "markdown",
   "metadata": {},
   "source": [
    "So the previous extension is really just removing the need for using `iloc` and turns the sorted results into something where the internal index also starts at 0. This means that for the first 10 results, the index will be 0-9."
   ]
  }
 ],
 "metadata": {
  "kernelspec": {
   "display_name": ".venv",
   "language": "python",
   "name": "python3"
  },
  "language_info": {
   "codemirror_mode": {
    "name": "ipython",
    "version": 3
   },
   "file_extension": ".py",
   "mimetype": "text/x-python",
   "name": "python",
   "nbconvert_exporter": "python",
   "pygments_lexer": "ipython3",
   "version": "3.12.7"
  }
 },
 "nbformat": 4,
 "nbformat_minor": 2
}
