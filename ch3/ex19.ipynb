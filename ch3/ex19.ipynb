{
 "cells": [
  {
   "cell_type": "code",
   "execution_count": 3,
   "metadata": {},
   "outputs": [],
   "source": [
    "import pandas as pd\n",
    "import numpy as np\n",
    "import requests\n",
    "from io import StringIO"
   ]
  },
  {
   "cell_type": "code",
   "execution_count": 21,
   "metadata": {},
   "outputs": [],
   "source": [
    "bc_url = \"https://api.blockchain.info/charts/market-price?format=csv\"\n",
    "\n",
    "r = requests.get(bc_url)\n",
    "s = StringIO(r.content.decode())"
   ]
  },
  {
   "cell_type": "code",
   "execution_count": 22,
   "metadata": {},
   "outputs": [
    {
     "data": {
      "text/html": [
       "<div>\n",
       "<style scoped>\n",
       "    .dataframe tbody tr th:only-of-type {\n",
       "        vertical-align: middle;\n",
       "    }\n",
       "\n",
       "    .dataframe tbody tr th {\n",
       "        vertical-align: top;\n",
       "    }\n",
       "\n",
       "    .dataframe thead th {\n",
       "        text-align: right;\n",
       "    }\n",
       "</style>\n",
       "<table border=\"1\" class=\"dataframe\">\n",
       "  <thead>\n",
       "    <tr style=\"text-align: right;\">\n",
       "      <th></th>\n",
       "      <th>value</th>\n",
       "    </tr>\n",
       "    <tr>\n",
       "      <th>date</th>\n",
       "      <th></th>\n",
       "    </tr>\n",
       "  </thead>\n",
       "  <tbody>\n",
       "    <tr>\n",
       "      <th>2023-11-12 00:00:00</th>\n",
       "      <td>37140.27</td>\n",
       "    </tr>\n",
       "    <tr>\n",
       "      <th>2023-11-13 00:00:00</th>\n",
       "      <td>37058.98</td>\n",
       "    </tr>\n",
       "    <tr>\n",
       "      <th>2023-11-14 00:00:00</th>\n",
       "      <td>36497.35</td>\n",
       "    </tr>\n",
       "    <tr>\n",
       "      <th>2023-11-15 00:00:00</th>\n",
       "      <td>35545.97</td>\n",
       "    </tr>\n",
       "    <tr>\n",
       "      <th>2023-11-16 00:00:00</th>\n",
       "      <td>37891.48</td>\n",
       "    </tr>\n",
       "  </tbody>\n",
       "</table>\n",
       "</div>"
      ],
      "text/plain": [
       "                        value\n",
       "date                         \n",
       "2023-11-12 00:00:00  37140.27\n",
       "2023-11-13 00:00:00  37058.98\n",
       "2023-11-14 00:00:00  36497.35\n",
       "2023-11-15 00:00:00  35545.97\n",
       "2023-11-16 00:00:00  37891.48"
      ]
     },
     "execution_count": 22,
     "metadata": {},
     "output_type": "execute_result"
    }
   ],
   "source": [
    "df = pd.read_csv(s, header=None, names=[\"date\", \"value\"], index_col=\"date\")\n",
    "df.head()"
   ]
  },
  {
   "cell_type": "code",
   "execution_count": 23,
   "metadata": {},
   "outputs": [
    {
     "data": {
      "text/html": [
       "<div>\n",
       "<style scoped>\n",
       "    .dataframe tbody tr th:only-of-type {\n",
       "        vertical-align: middle;\n",
       "    }\n",
       "\n",
       "    .dataframe tbody tr th {\n",
       "        vertical-align: top;\n",
       "    }\n",
       "\n",
       "    .dataframe thead th {\n",
       "        text-align: right;\n",
       "    }\n",
       "</style>\n",
       "<table border=\"1\" class=\"dataframe\">\n",
       "  <thead>\n",
       "    <tr style=\"text-align: right;\">\n",
       "      <th></th>\n",
       "      <th>value</th>\n",
       "    </tr>\n",
       "    <tr>\n",
       "      <th>date</th>\n",
       "      <th></th>\n",
       "    </tr>\n",
       "  </thead>\n",
       "  <tbody>\n",
       "    <tr>\n",
       "      <th>2024-11-11 00:00:00</th>\n",
       "      <td>80477.81</td>\n",
       "    </tr>\n",
       "  </tbody>\n",
       "</table>\n",
       "</div>"
      ],
      "text/plain": [
       "                        value\n",
       "date                         \n",
       "2024-11-11 00:00:00  80477.81"
      ]
     },
     "execution_count": 23,
     "metadata": {},
     "output_type": "execute_result"
    }
   ],
   "source": [
    "# get the last retrieved value (latest date)\n",
    "df.tail(1)[\"value\"]  # series context\n",
    "df.tail(1)[[\"value\"]]  # dataframe context"
   ]
  },
  {
   "cell_type": "code",
   "execution_count": 25,
   "metadata": {},
   "outputs": [
    {
     "data": {
      "text/plain": [
       "date\n",
       "2024-11-11 00:00:00    80477.81\n",
       "Name: value, dtype: float64"
      ]
     },
     "execution_count": 25,
     "metadata": {},
     "output_type": "execute_result"
    }
   ],
   "source": [
    "# min and max values with their dates\n",
    "df.loc[df[\"value\"] == df[\"value\"].max(), \"value\"]"
   ]
  },
  {
   "cell_type": "code",
   "execution_count": 26,
   "metadata": {},
   "outputs": [
    {
     "data": {
      "text/plain": [
       "date\n",
       "2023-11-15 00:00:00    35545.97\n",
       "Name: value, dtype: float64"
      ]
     },
     "execution_count": 26,
     "metadata": {},
     "output_type": "execute_result"
    }
   ],
   "source": [
    "df.loc[df[\"value\"] == df[\"value\"].min(), \"value\"]"
   ]
  },
  {
   "cell_type": "code",
   "execution_count": 30,
   "metadata": {},
   "outputs": [
    {
     "data": {
      "text/html": [
       "<div>\n",
       "<style scoped>\n",
       "    .dataframe tbody tr th:only-of-type {\n",
       "        vertical-align: middle;\n",
       "    }\n",
       "\n",
       "    .dataframe tbody tr th {\n",
       "        vertical-align: top;\n",
       "    }\n",
       "\n",
       "    .dataframe thead th {\n",
       "        text-align: right;\n",
       "    }\n",
       "</style>\n",
       "<table border=\"1\" class=\"dataframe\">\n",
       "  <thead>\n",
       "    <tr style=\"text-align: right;\">\n",
       "      <th></th>\n",
       "      <th>value</th>\n",
       "    </tr>\n",
       "    <tr>\n",
       "      <th>date</th>\n",
       "      <th></th>\n",
       "    </tr>\n",
       "  </thead>\n",
       "  <tbody>\n",
       "    <tr>\n",
       "      <th>2023-11-15 00:00:00</th>\n",
       "      <td>35545.97</td>\n",
       "    </tr>\n",
       "    <tr>\n",
       "      <th>2024-11-11 00:00:00</th>\n",
       "      <td>80477.81</td>\n",
       "    </tr>\n",
       "  </tbody>\n",
       "</table>\n",
       "</div>"
      ],
      "text/plain": [
       "                        value\n",
       "date                         \n",
       "2023-11-15 00:00:00  35545.97\n",
       "2024-11-11 00:00:00  80477.81"
      ]
     },
     "execution_count": 30,
     "metadata": {},
     "output_type": "execute_result"
    }
   ],
   "source": [
    "# we can also set the index of df to be the date, and then use the `.idxmin` and `idxmax` methods\n",
    "df.loc[df.idxmin()]\n",
    "\n",
    "df.loc[df.agg([\"idxmin\", \"idxmax\"]).values.flatten()]\n"
   ]
  },
  {
   "cell_type": "markdown",
   "metadata": {},
   "source": [
    "# Extension questions\n",
    "1. Can you return the current bitcoin value without assigning the dataframe to an interium variable?\n",
    "2. Use the `read_html` function looks for HTML formatted table and returns a list of dataframes from any found tables. Retrieve one year of S&P500 from Yahoo Finance. Look at the `Date`, `Close`, and `Volume` columns and show the date and volume of the days with the highest and lowest `Close` values. Use `requests` and set the User-Agent to `\"Mozilla 5.0\"`, use StringIO to decode the content and feed it into `read_html` to avoid Yahoo's user agent detection.\n",
    "3. Create a two-row data frame with the highest and lowest closing prices for the S&P 500. Use the `to_csv` function to write this data to a new CSV file."
   ]
  },
  {
   "cell_type": "code",
   "execution_count": null,
   "metadata": {},
   "outputs": [
    {
     "data": {
      "text/html": [
       "<div>\n",
       "<style scoped>\n",
       "    .dataframe tbody tr th:only-of-type {\n",
       "        vertical-align: middle;\n",
       "    }\n",
       "\n",
       "    .dataframe tbody tr th {\n",
       "        vertical-align: top;\n",
       "    }\n",
       "\n",
       "    .dataframe thead th {\n",
       "        text-align: right;\n",
       "    }\n",
       "</style>\n",
       "<table border=\"1\" class=\"dataframe\">\n",
       "  <thead>\n",
       "    <tr style=\"text-align: right;\">\n",
       "      <th></th>\n",
       "      <th>value</th>\n",
       "    </tr>\n",
       "    <tr>\n",
       "      <th>date</th>\n",
       "      <th></th>\n",
       "    </tr>\n",
       "  </thead>\n",
       "  <tbody>\n",
       "    <tr>\n",
       "      <th>2024-11-11 00:00:00</th>\n",
       "      <td>80477.81</td>\n",
       "    </tr>\n",
       "  </tbody>\n",
       "</table>\n",
       "</div>"
      ],
      "text/plain": [
       "                        value\n",
       "date                         \n",
       "2024-11-11 00:00:00  80477.81"
      ]
     },
     "execution_count": 32,
     "metadata": {},
     "output_type": "execute_result"
    }
   ],
   "source": [
    "# 1. Get the latest bitcoin value without assigning to a variable\n",
    "bc_url = \"https://api.blockchain.info/charts/market-price?format=csv\"\n",
    "\n",
    "pd.read_csv(\n",
    "    StringIO(requests.get(bc_url).content.decode()),\n",
    "    header=None,\n",
    "    names=[\"date\", \"value\"],\n",
    "    index_col=\"date\",\n",
    ").tail(1)[[\"value\"]]"
   ]
  },
  {
   "cell_type": "code",
   "execution_count": null,
   "metadata": {},
   "outputs": [],
   "source": [
    "# 2. S&P 500 from HTML tables\n",
    "# Use selenium instead of requests to try and avoid the anti scraping stuff\n",
    "from selenium import webdriver\n",
    "from selenium.webdriver.firefox.service import Service\n",
    "from selenium.webdriver.firefox.options import Options\n",
    "\n",
    "firefox_options = Options()\n",
    "firefox_options.add_argument(\"--headless\")\n",
    "service = Service(\"/opt/homebrew/Cellar/geckodriver/0.35.0/bin/geckodriver\")\n",
    "driver = webdriver.Firefox(service=service, options=firefox_options)\n",
    "\n",
    "yahoo_url = \"https://finance.yahoo.com/quote/^GSPC/history/?p=^GSPC\"\n",
    "\n",
    "driver.get(yahoo_url)\n",
    "driver.implicitly_wait(10)\n",
    "page_source = driver.page_source"
   ]
  },
  {
   "cell_type": "code",
   "execution_count": null,
   "metadata": {},
   "outputs": [
    {
     "data": {
      "text/html": [
       "<div>\n",
       "<style scoped>\n",
       "    .dataframe tbody tr th:only-of-type {\n",
       "        vertical-align: middle;\n",
       "    }\n",
       "\n",
       "    .dataframe tbody tr th {\n",
       "        vertical-align: top;\n",
       "    }\n",
       "\n",
       "    .dataframe thead th {\n",
       "        text-align: right;\n",
       "    }\n",
       "</style>\n",
       "<table border=\"1\" class=\"dataframe\">\n",
       "  <thead>\n",
       "    <tr style=\"text-align: right;\">\n",
       "      <th></th>\n",
       "      <th>Date</th>\n",
       "      <th>Close</th>\n",
       "      <th>Volume</th>\n",
       "    </tr>\n",
       "  </thead>\n",
       "  <tbody>\n",
       "    <tr>\n",
       "      <th>0</th>\n",
       "      <td>Nov 11, 2024</td>\n",
       "      <td>5996.93</td>\n",
       "      <td>2121479000</td>\n",
       "    </tr>\n",
       "    <tr>\n",
       "      <th>1</th>\n",
       "      <td>Nov 8, 2024</td>\n",
       "      <td>5995.54</td>\n",
       "      <td>4666740000</td>\n",
       "    </tr>\n",
       "    <tr>\n",
       "      <th>2</th>\n",
       "      <td>Nov 7, 2024</td>\n",
       "      <td>5973.10</td>\n",
       "      <td>4925740000</td>\n",
       "    </tr>\n",
       "    <tr>\n",
       "      <th>3</th>\n",
       "      <td>Nov 6, 2024</td>\n",
       "      <td>5929.04</td>\n",
       "      <td>6329530000</td>\n",
       "    </tr>\n",
       "    <tr>\n",
       "      <th>4</th>\n",
       "      <td>Nov 5, 2024</td>\n",
       "      <td>5782.76</td>\n",
       "      <td>3768310000</td>\n",
       "    </tr>\n",
       "    <tr>\n",
       "      <th>...</th>\n",
       "      <td>...</td>\n",
       "      <td>...</td>\n",
       "      <td>...</td>\n",
       "    </tr>\n",
       "    <tr>\n",
       "      <th>246</th>\n",
       "      <td>Nov 17, 2023</td>\n",
       "      <td>4514.02</td>\n",
       "      <td>3777240000</td>\n",
       "    </tr>\n",
       "    <tr>\n",
       "      <th>247</th>\n",
       "      <td>Nov 16, 2023</td>\n",
       "      <td>4508.24</td>\n",
       "      <td>3964520000</td>\n",
       "    </tr>\n",
       "    <tr>\n",
       "      <th>248</th>\n",
       "      <td>Nov 15, 2023</td>\n",
       "      <td>4502.88</td>\n",
       "      <td>4347170000</td>\n",
       "    </tr>\n",
       "    <tr>\n",
       "      <th>249</th>\n",
       "      <td>Nov 14, 2023</td>\n",
       "      <td>4495.70</td>\n",
       "      <td>4700350000</td>\n",
       "    </tr>\n",
       "    <tr>\n",
       "      <th>250</th>\n",
       "      <td>Nov 13, 2023</td>\n",
       "      <td>4411.55</td>\n",
       "      <td>3326240000</td>\n",
       "    </tr>\n",
       "  </tbody>\n",
       "</table>\n",
       "<p>251 rows × 3 columns</p>\n",
       "</div>"
      ],
      "text/plain": [
       "             Date    Close      Volume\n",
       "0    Nov 11, 2024  5996.93  2121479000\n",
       "1     Nov 8, 2024  5995.54  4666740000\n",
       "2     Nov 7, 2024  5973.10  4925740000\n",
       "3     Nov 6, 2024  5929.04  6329530000\n",
       "4     Nov 5, 2024  5782.76  3768310000\n",
       "..            ...      ...         ...\n",
       "246  Nov 17, 2023  4514.02  3777240000\n",
       "247  Nov 16, 2023  4508.24  3964520000\n",
       "248  Nov 15, 2023  4502.88  4347170000\n",
       "249  Nov 14, 2023  4495.70  4700350000\n",
       "250  Nov 13, 2023  4411.55  3326240000\n",
       "\n",
       "[251 rows x 3 columns]"
      ]
     },
     "execution_count": 58,
     "metadata": {},
     "output_type": "execute_result"
    }
   ],
   "source": [
    "df = pd.read_html(StringIO(page_source))[0]\n",
    "df = df.rename(columns={\"Close Close price adjusted for splits.\": \"Close\"})[\n",
    "    [\"Date\", \"Close\", \"Volume\"]\n",
    "]\n",
    "df"
   ]
  },
  {
   "cell_type": "code",
   "execution_count": 59,
   "metadata": {},
   "outputs": [
    {
     "data": {
      "text/html": [
       "<div>\n",
       "<style scoped>\n",
       "    .dataframe tbody tr th:only-of-type {\n",
       "        vertical-align: middle;\n",
       "    }\n",
       "\n",
       "    .dataframe tbody tr th {\n",
       "        vertical-align: top;\n",
       "    }\n",
       "\n",
       "    .dataframe thead th {\n",
       "        text-align: right;\n",
       "    }\n",
       "</style>\n",
       "<table border=\"1\" class=\"dataframe\">\n",
       "  <thead>\n",
       "    <tr style=\"text-align: right;\">\n",
       "      <th></th>\n",
       "      <th>Date</th>\n",
       "      <th>Close</th>\n",
       "      <th>Volume</th>\n",
       "    </tr>\n",
       "  </thead>\n",
       "  <tbody>\n",
       "    <tr>\n",
       "      <th>0</th>\n",
       "      <td>Nov 11, 2024</td>\n",
       "      <td>5996.93</td>\n",
       "      <td>2121479000</td>\n",
       "    </tr>\n",
       "    <tr>\n",
       "      <th>250</th>\n",
       "      <td>Nov 13, 2023</td>\n",
       "      <td>4411.55</td>\n",
       "      <td>3326240000</td>\n",
       "    </tr>\n",
       "  </tbody>\n",
       "</table>\n",
       "</div>"
      ],
      "text/plain": [
       "             Date    Close      Volume\n",
       "0    Nov 11, 2024  5996.93  2121479000\n",
       "250  Nov 13, 2023  4411.55  3326240000"
      ]
     },
     "execution_count": 59,
     "metadata": {},
     "output_type": "execute_result"
    }
   ],
   "source": [
    "# now finally get the dates with the highest and lowest Close values\n",
    "df.query(\"Close == Close.min() | Close == Close.max()\")"
   ]
  },
  {
   "cell_type": "code",
   "execution_count": 60,
   "metadata": {},
   "outputs": [],
   "source": [
    "# write the data to a new CSV file\n",
    "df.query(\"Close == Close.min() | Close == Close.max()\").to_csv(\"s_and_p_close.csv\")"
   ]
  }
 ],
 "metadata": {
  "kernelspec": {
   "display_name": ".venv",
   "language": "python",
   "name": "python3"
  },
  "language_info": {
   "codemirror_mode": {
    "name": "ipython",
    "version": 3
   },
   "file_extension": ".py",
   "mimetype": "text/x-python",
   "name": "python",
   "nbconvert_exporter": "python",
   "pygments_lexer": "ipython3",
   "version": "3.12.7"
  }
 },
 "nbformat": 4,
 "nbformat_minor": 2
}
