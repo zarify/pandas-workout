{
 "cells": [
  {
   "cell_type": "code",
   "execution_count": 23,
   "metadata": {},
   "outputs": [],
   "source": [
    "import pandas as pd\n",
    "import numpy as np"
   ]
  },
  {
   "cell_type": "code",
   "execution_count": 24,
   "metadata": {},
   "outputs": [
    {
     "data": {
      "text/html": [
       "<div>\n",
       "<style scoped>\n",
       "    .dataframe tbody tr th:only-of-type {\n",
       "        vertical-align: middle;\n",
       "    }\n",
       "\n",
       "    .dataframe tbody tr th {\n",
       "        vertical-align: top;\n",
       "    }\n",
       "\n",
       "    .dataframe thead th {\n",
       "        text-align: right;\n",
       "    }\n",
       "</style>\n",
       "<table border=\"1\" class=\"dataframe\">\n",
       "  <thead>\n",
       "    <tr style=\"text-align: right;\">\n",
       "      <th></th>\n",
       "      <th>Plate ID</th>\n",
       "      <th>Registration State</th>\n",
       "      <th>Issue Date</th>\n",
       "      <th>Vehicle Make</th>\n",
       "      <th>Street Name</th>\n",
       "      <th>Date First Observed</th>\n",
       "      <th>Vehicle Color</th>\n",
       "    </tr>\n",
       "  </thead>\n",
       "  <tbody>\n",
       "    <tr>\n",
       "      <th>0</th>\n",
       "      <td>J58JKX</td>\n",
       "      <td>NJ</td>\n",
       "      <td>05/08/1972 12:00:00 AM</td>\n",
       "      <td>HONDA</td>\n",
       "      <td>43 ST</td>\n",
       "      <td>0</td>\n",
       "      <td>BK</td>\n",
       "    </tr>\n",
       "    <tr>\n",
       "      <th>1</th>\n",
       "      <td>KRE6058</td>\n",
       "      <td>PA</td>\n",
       "      <td>08/29/1977 12:00:00 AM</td>\n",
       "      <td>ME/BE</td>\n",
       "      <td>UNION ST</td>\n",
       "      <td>0</td>\n",
       "      <td>BLK</td>\n",
       "    </tr>\n",
       "    <tr>\n",
       "      <th>2</th>\n",
       "      <td>444326R</td>\n",
       "      <td>NJ</td>\n",
       "      <td>10/03/1988 12:00:00 AM</td>\n",
       "      <td>LEXUS</td>\n",
       "      <td>CLERMONT AVENUE</td>\n",
       "      <td>0</td>\n",
       "      <td>BLACK</td>\n",
       "    </tr>\n",
       "    <tr>\n",
       "      <th>3</th>\n",
       "      <td>F728330</td>\n",
       "      <td>OH</td>\n",
       "      <td>01/03/1990 12:00:00 AM</td>\n",
       "      <td>CHEVR</td>\n",
       "      <td>DIVISION AVE</td>\n",
       "      <td>0</td>\n",
       "      <td>NaN</td>\n",
       "    </tr>\n",
       "    <tr>\n",
       "      <th>4</th>\n",
       "      <td>FMY9090</td>\n",
       "      <td>NY</td>\n",
       "      <td>02/14/1990 12:00:00 AM</td>\n",
       "      <td>JEEP</td>\n",
       "      <td>GRAND ST</td>\n",
       "      <td>0</td>\n",
       "      <td>GREY</td>\n",
       "    </tr>\n",
       "  </tbody>\n",
       "</table>\n",
       "</div>"
      ],
      "text/plain": [
       "  Plate ID Registration State              Issue Date Vehicle Make  \\\n",
       "0   J58JKX                 NJ  05/08/1972 12:00:00 AM        HONDA   \n",
       "1  KRE6058                 PA  08/29/1977 12:00:00 AM        ME/BE   \n",
       "2  444326R                 NJ  10/03/1988 12:00:00 AM        LEXUS   \n",
       "3  F728330                 OH  01/03/1990 12:00:00 AM        CHEVR   \n",
       "4  FMY9090                 NY  02/14/1990 12:00:00 AM         JEEP   \n",
       "\n",
       "       Street Name  Date First Observed Vehicle Color  \n",
       "0            43 ST                    0            BK  \n",
       "1         UNION ST                    0           BLK  \n",
       "2  CLERMONT AVENUE                    0         BLACK  \n",
       "3     DIVISION AVE                    0           NaN  \n",
       "4         GRAND ST                    0          GREY  "
      ]
     },
     "execution_count": 24,
     "metadata": {},
     "output_type": "execute_result"
    }
   ],
   "source": [
    "df = pd.read_csv(\n",
    "    \"../data/nyc-parking-violations-2020.csv\",\n",
    "    usecols=[\n",
    "        \"Date First Observed\",\n",
    "        \"Plate ID\",\n",
    "        \"Registration State\",\n",
    "        \"Issue Date\",\n",
    "        \"Vehicle Make\",\n",
    "        \"Street Name\",\n",
    "        \"Vehicle Color\",\n",
    "    ],\n",
    ")\n",
    "df.head()"
   ]
  },
  {
   "cell_type": "markdown",
   "metadata": {},
   "source": [
    "1. Set the index to the `\"Issue Date\"` field\n",
    "2. Determine what three makes were most commonly ticketed on January 2nd, 2020\n",
    "3. Determine the five streets on which cars got the most tickets on June 1st, 2020\n",
    "4. Set the index to the `\"Vehicle Color\"` field\n",
    "5. Determine the most common make of vehicles that were either red or blue"
   ]
  },
  {
   "cell_type": "code",
   "execution_count": 25,
   "metadata": {},
   "outputs": [
    {
     "data": {
      "text/plain": [
       "Vehicle Make\n",
       "TOYOT    3829\n",
       "HONDA    3593\n",
       "FORD     3164\n",
       "Name: count, dtype: int64"
      ]
     },
     "execution_count": 25,
     "metadata": {},
     "output_type": "execute_result"
    }
   ],
   "source": [
    "df = df.set_index(\"Issue Date\")\n",
    "df.loc[\"01/02/2020 12:00:00 AM\", \"Vehicle Make\"].value_counts().head(3)"
   ]
  },
  {
   "cell_type": "code",
   "execution_count": 26,
   "metadata": {},
   "outputs": [
    {
     "data": {
      "text/plain": [
       "Street Name\n",
       "WB CONDUIT BLVD @ LI    1068\n",
       "SB WEST ST @ LEROY S     335\n",
       "EB HORACE HARDING EX     273\n",
       "EB QUEENS BLVD @ 82N     245\n",
       "WB ATLANTIC AVE @ CL     229\n",
       "Name: count, dtype: int64"
      ]
     },
     "execution_count": 26,
     "metadata": {},
     "output_type": "execute_result"
    }
   ],
   "source": [
    "df.loc[\"06/01/2020 12:00:00 AM\", \"Street Name\"].value_counts().head(5)"
   ]
  },
  {
   "cell_type": "code",
   "execution_count": 27,
   "metadata": {},
   "outputs": [],
   "source": [
    "# if we don't reset the index that column is discarded and replaced by the new\n",
    "# index column\n",
    "df = df.reset_index().set_index(\"Vehicle Color\")"
   ]
  },
  {
   "cell_type": "code",
   "execution_count": 28,
   "metadata": {},
   "outputs": [
    {
     "data": {
      "text/plain": [
       "Vehicle Make\n",
       "HONDA    39353\n",
       "Name: count, dtype: int64"
      ]
     },
     "execution_count": 28,
     "metadata": {},
     "output_type": "execute_result"
    }
   ],
   "source": [
    "df.loc[[\"RED\", \"BLUE\"], \"Vehicle Make\"].value_counts().head(1)"
   ]
  },
  {
   "cell_type": "markdown",
   "metadata": {},
   "source": [
    "# Extension questions\n",
    "1. What three car makes were ticketed most often from January 2nd through January 10th?\n",
    "2. How many tickets did the second most ticketed car get in 2020? Why are we not interested in the most ticketed car? What state was the car from, and was it always ticketed in the same location?"
   ]
  },
  {
   "cell_type": "code",
   "execution_count": 29,
   "metadata": {},
   "outputs": [],
   "source": [
    "df = df.reset_index().set_index(\"Issue Date\")"
   ]
  },
  {
   "cell_type": "code",
   "execution_count": null,
   "metadata": {},
   "outputs": [
    {
     "data": {
      "text/plain": [
       "Vehicle Make\n",
       "FORD     38936\n",
       "TOYOT    37073\n",
       "HONDA    35944\n",
       "Name: count, dtype: int64"
      ]
     },
     "execution_count": 38,
     "metadata": {},
     "output_type": "execute_result"
    }
   ],
   "source": [
    "df.loc[\n",
    "    df.index.str.contains(r\"01/(?:0[2-9]|10)/2020 12:00:00 AM\"), \"Vehicle Make\"\n",
    "].value_counts().head(3)\n",
    "\n",
    "# Book uses a sorted index and then a slice\n",
    "# df = df.set_index(\"Issue Date\")\n",
    "# df = df.sort_index()\n",
    "# df.loc[\n",
    "#     \"01/02/2020 12:00:00 AM\":\"01/10/2020 23:59:59 PM\", \"Vehicle Make\"\n",
    "# ].value_counts().head(3)\n"
   ]
  },
  {
   "cell_type": "code",
   "execution_count": 49,
   "metadata": {},
   "outputs": [
    {
     "data": {
      "text/plain": [
       "Plate ID\n",
       "BLANKPLATE    8882\n",
       "2704819       1535\n",
       "Name: count, dtype: int64"
      ]
     },
     "execution_count": 49,
     "metadata": {},
     "output_type": "execute_result"
    }
   ],
   "source": [
    "df = df.reset_index()\n",
    "df[\"Plate ID\"].value_counts().head(2)"
   ]
  },
  {
   "cell_type": "code",
   "execution_count": 50,
   "metadata": {},
   "outputs": [
    {
     "data": {
      "text/html": [
       "<div>\n",
       "<style scoped>\n",
       "    .dataframe tbody tr th:only-of-type {\n",
       "        vertical-align: middle;\n",
       "    }\n",
       "\n",
       "    .dataframe tbody tr th {\n",
       "        vertical-align: top;\n",
       "    }\n",
       "\n",
       "    .dataframe thead th {\n",
       "        text-align: right;\n",
       "    }\n",
       "</style>\n",
       "<table border=\"1\" class=\"dataframe\">\n",
       "  <thead>\n",
       "    <tr style=\"text-align: right;\">\n",
       "      <th></th>\n",
       "      <th>Street Name</th>\n",
       "      <th>Registration State</th>\n",
       "    </tr>\n",
       "    <tr>\n",
       "      <th>Plate ID</th>\n",
       "      <th></th>\n",
       "      <th></th>\n",
       "    </tr>\n",
       "  </thead>\n",
       "  <tbody>\n",
       "    <tr>\n",
       "      <th>2704819</th>\n",
       "      <td>8TH AVE</td>\n",
       "      <td>IN</td>\n",
       "    </tr>\n",
       "    <tr>\n",
       "      <th>2704819</th>\n",
       "      <td>7th Ave</td>\n",
       "      <td>IN</td>\n",
       "    </tr>\n",
       "    <tr>\n",
       "      <th>2704819</th>\n",
       "      <td>7th Ave</td>\n",
       "      <td>IN</td>\n",
       "    </tr>\n",
       "    <tr>\n",
       "      <th>2704819</th>\n",
       "      <td>W 58th St</td>\n",
       "      <td>IN</td>\n",
       "    </tr>\n",
       "    <tr>\n",
       "      <th>2704819</th>\n",
       "      <td>W 58th St</td>\n",
       "      <td>IN</td>\n",
       "    </tr>\n",
       "    <tr>\n",
       "      <th>...</th>\n",
       "      <td>...</td>\n",
       "      <td>...</td>\n",
       "    </tr>\n",
       "    <tr>\n",
       "      <th>2704819</th>\n",
       "      <td>9TH AVE</td>\n",
       "      <td>IN</td>\n",
       "    </tr>\n",
       "    <tr>\n",
       "      <th>2704819</th>\n",
       "      <td>8th Ave</td>\n",
       "      <td>IN</td>\n",
       "    </tr>\n",
       "    <tr>\n",
       "      <th>2704819</th>\n",
       "      <td>8TH AVE</td>\n",
       "      <td>IN</td>\n",
       "    </tr>\n",
       "    <tr>\n",
       "      <th>2704819</th>\n",
       "      <td>W 34th St</td>\n",
       "      <td>IN</td>\n",
       "    </tr>\n",
       "    <tr>\n",
       "      <th>2704819</th>\n",
       "      <td>W 34th St</td>\n",
       "      <td>IN</td>\n",
       "    </tr>\n",
       "  </tbody>\n",
       "</table>\n",
       "<p>1535 rows × 2 columns</p>\n",
       "</div>"
      ],
      "text/plain": [
       "         Street Name Registration State\n",
       "Plate ID                               \n",
       "2704819      8TH AVE                 IN\n",
       "2704819      7th Ave                 IN\n",
       "2704819      7th Ave                 IN\n",
       "2704819    W 58th St                 IN\n",
       "2704819    W 58th St                 IN\n",
       "...              ...                ...\n",
       "2704819      9TH AVE                 IN\n",
       "2704819      8th Ave                 IN\n",
       "2704819      8TH AVE                 IN\n",
       "2704819    W 34th St                 IN\n",
       "2704819    W 34th St                 IN\n",
       "\n",
       "[1535 rows x 2 columns]"
      ]
     },
     "execution_count": 50,
     "metadata": {},
     "output_type": "execute_result"
    }
   ],
   "source": [
    "(df.set_index(\"Plate ID\").loc[\"2704819\", [\"Street Name\", \"Registration State\"]])"
   ]
  }
 ],
 "metadata": {
  "kernelspec": {
   "display_name": ".venv",
   "language": "python",
   "name": "python3"
  },
  "language_info": {
   "codemirror_mode": {
    "name": "ipython",
    "version": 3
   },
   "file_extension": ".py",
   "mimetype": "text/x-python",
   "name": "python",
   "nbconvert_exporter": "python",
   "pygments_lexer": "ipython3",
   "version": "3.12.7"
  }
 },
 "nbformat": 4,
 "nbformat_minor": 2
}
