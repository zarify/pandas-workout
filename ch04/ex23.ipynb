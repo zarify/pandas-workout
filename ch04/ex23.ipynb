{
 "cells": [
  {
   "cell_type": "code",
   "execution_count": 1,
   "metadata": {},
   "outputs": [],
   "source": [
    "import pandas as pd\n",
    "import numpy as np"
   ]
  },
  {
   "cell_type": "code",
   "execution_count": 19,
   "metadata": {},
   "outputs": [
    {
     "data": {
      "text/html": [
       "<div>\n",
       "<style scoped>\n",
       "    .dataframe tbody tr th:only-of-type {\n",
       "        vertical-align: middle;\n",
       "    }\n",
       "\n",
       "    .dataframe tbody tr th {\n",
       "        vertical-align: top;\n",
       "    }\n",
       "\n",
       "    .dataframe thead th {\n",
       "        text-align: right;\n",
       "    }\n",
       "</style>\n",
       "<table border=\"1\" class=\"dataframe\">\n",
       "  <thead>\n",
       "    <tr style=\"text-align: right;\">\n",
       "      <th></th>\n",
       "      <th></th>\n",
       "      <th></th>\n",
       "      <th></th>\n",
       "      <th>Age</th>\n",
       "      <th>Height</th>\n",
       "      <th>Team</th>\n",
       "      <th>City</th>\n",
       "      <th>Medal</th>\n",
       "    </tr>\n",
       "    <tr>\n",
       "      <th>Year</th>\n",
       "      <th>Season</th>\n",
       "      <th>Sport</th>\n",
       "      <th>Event</th>\n",
       "      <th></th>\n",
       "      <th></th>\n",
       "      <th></th>\n",
       "      <th></th>\n",
       "      <th></th>\n",
       "    </tr>\n",
       "  </thead>\n",
       "  <tbody>\n",
       "    <tr>\n",
       "      <th rowspan=\"5\" valign=\"top\">1896</th>\n",
       "      <th rowspan=\"5\" valign=\"top\">Summer</th>\n",
       "      <th rowspan=\"5\" valign=\"top\">Athletics</th>\n",
       "      <th>Athletics Men's 1,500 metres</th>\n",
       "      <td>24.0</td>\n",
       "      <td>NaN</td>\n",
       "      <td>United States</td>\n",
       "      <td>Athina</td>\n",
       "      <td>Silver</td>\n",
       "    </tr>\n",
       "    <tr>\n",
       "      <th>Athletics Men's 1,500 metres</th>\n",
       "      <td>NaN</td>\n",
       "      <td>NaN</td>\n",
       "      <td>Greece</td>\n",
       "      <td>Athina</td>\n",
       "      <td>NaN</td>\n",
       "    </tr>\n",
       "    <tr>\n",
       "      <th>Athletics Men's 1,500 metres</th>\n",
       "      <td>22.0</td>\n",
       "      <td>NaN</td>\n",
       "      <td>Australia</td>\n",
       "      <td>Athina</td>\n",
       "      <td>Gold</td>\n",
       "    </tr>\n",
       "    <tr>\n",
       "      <th>Athletics Men's 1,500 metres</th>\n",
       "      <td>23.0</td>\n",
       "      <td>154.0</td>\n",
       "      <td>Germany</td>\n",
       "      <td>Athina</td>\n",
       "      <td>NaN</td>\n",
       "    </tr>\n",
       "    <tr>\n",
       "      <th>Athletics Men's 1,500 metres</th>\n",
       "      <td>21.0</td>\n",
       "      <td>NaN</td>\n",
       "      <td>Greece</td>\n",
       "      <td>Athina</td>\n",
       "      <td>NaN</td>\n",
       "    </tr>\n",
       "  </tbody>\n",
       "</table>\n",
       "</div>"
      ],
      "text/plain": [
       "                                                     Age  Height  \\\n",
       "Year Season Sport     Event                                        \n",
       "1896 Summer Athletics Athletics Men's 1,500 metres  24.0     NaN   \n",
       "                      Athletics Men's 1,500 metres   NaN     NaN   \n",
       "                      Athletics Men's 1,500 metres  22.0     NaN   \n",
       "                      Athletics Men's 1,500 metres  23.0   154.0   \n",
       "                      Athletics Men's 1,500 metres  21.0     NaN   \n",
       "\n",
       "                                                             Team    City  \\\n",
       "Year Season Sport     Event                                                 \n",
       "1896 Summer Athletics Athletics Men's 1,500 metres  United States  Athina   \n",
       "                      Athletics Men's 1,500 metres         Greece  Athina   \n",
       "                      Athletics Men's 1,500 metres      Australia  Athina   \n",
       "                      Athletics Men's 1,500 metres        Germany  Athina   \n",
       "                      Athletics Men's 1,500 metres         Greece  Athina   \n",
       "\n",
       "                                                     Medal  \n",
       "Year Season Sport     Event                                 \n",
       "1896 Summer Athletics Athletics Men's 1,500 metres  Silver  \n",
       "                      Athletics Men's 1,500 metres     NaN  \n",
       "                      Athletics Men's 1,500 metres    Gold  \n",
       "                      Athletics Men's 1,500 metres     NaN  \n",
       "                      Athletics Men's 1,500 metres     NaN  "
      ]
     },
     "execution_count": 19,
     "metadata": {},
     "output_type": "execute_result"
    }
   ],
   "source": [
    "df = pd.read_csv(\n",
    "    \"../data/olympic_athlete_events.csv\",\n",
    "    usecols=[\n",
    "        \"Age\",\n",
    "        \"Height\",\n",
    "        \"Team\",\n",
    "        \"Year\",\n",
    "        \"Season\",\n",
    "        \"City\",\n",
    "        \"Sport\",\n",
    "        \"Event\",\n",
    "        \"Medal\",\n",
    "    ],\n",
    "    index_col=[\"Year\", \"Season\", \"Sport\", \"Event\"],\n",
    ")\n",
    "df = df.sort_index()\n",
    "df.head()"
   ]
  },
  {
   "cell_type": "markdown",
   "metadata": {},
   "source": [
    "# Olympic questions\n",
    "1. What is the average age of winning athletes in summer games held from 1936 to 2000?\n",
    "2. What team has won the most medals in all archery events?\n",
    "3. Starting in 1980, what is the average height of the Table Tennis Women's Team event?\n",
    "4. Starting in 1980, what is the average height of the Men's and Women's Table Tennis event?\n",
    "5. How tall was the tallest ever tennis player from 1980 to 2016?"
   ]
  },
  {
   "cell_type": "code",
   "execution_count": null,
   "metadata": {},
   "outputs": [
    {
     "data": {
      "text/plain": [
       "np.float64(25.026883940421765)"
      ]
     },
     "execution_count": 20,
     "metadata": {},
     "output_type": "execute_result"
    }
   ],
   "source": [
    "# average age of all winning athletes in summer games from 1936 to 2000\n",
    "(df.loc[(slice(1936, 2000), \"Summer\"), \"Age\"]).mean()"
   ]
  },
  {
   "cell_type": "code",
   "execution_count": null,
   "metadata": {},
   "outputs": [
    {
     "data": {
      "text/plain": [
       "Team\n",
       "South Korea    69\n",
       "Belgium        52\n",
       "France         48\n",
       "Name: count, dtype: int64"
      ]
     },
     "execution_count": 43,
     "metadata": {},
     "output_type": "execute_result"
    }
   ],
   "source": [
    "# what team has won the most medals in all archery events?\n",
    "(\n",
    "    df.dropna(subset=\"Medal\").loc[  # only want medal winners, so drop NaNs\n",
    "        (slice(None), slice(None), \"Archery\"), \"Team\"\n",
    "    ]\n",
    ").value_counts().head(3)"
   ]
  },
  {
   "cell_type": "code",
   "execution_count": null,
   "metadata": {},
   "outputs": [
    {
     "data": {
      "text/plain": [
       "np.float64(165.04827586206898)"
      ]
     },
     "execution_count": 59,
     "metadata": {},
     "output_type": "execute_result"
    }
   ],
   "source": [
    "# starting in 1980 what is the average height of the table tennis women's team event?\n",
    "df.loc[\n",
    "    (slice(1980, None), \"Summer\", \"Table Tennis\", \"Table Tennis Women's Team\"), \"Height\"\n",
    "].mean()\n",
    "\n",
    "# could be simplified using the `.xs` cross section method\n",
    "# cross section grabs all rows that match that criteria\n",
    "df.xs(\"Table Tennis Women's Team\", level=\"Event\")[\"Height\"].mean()\n",
    "\n",
    "# if multiple parts of the index are being used these are passed in order, e.g.\n",
    "# df.xs((\"Summer\", \"Table Tennis Women's Team\"), level=(\"Season\", \"Event\"))[\"Height\"].mean()"
   ]
  },
  {
   "cell_type": "code",
   "execution_count": 63,
   "metadata": {},
   "outputs": [
    {
     "data": {
      "text/plain": [
       "np.float64(171.26643598615917)"
      ]
     },
     "execution_count": 63,
     "metadata": {},
     "output_type": "execute_result"
    }
   ],
   "source": [
    "# Starting in 1980 men and women's table tennis team average heights\n",
    "df.loc[\n",
    "    (\n",
    "        slice(1980, None),\n",
    "        \"Summer\",\n",
    "        \"Table Tennis\",\n",
    "        [\"Table Tennis Women's Team\", \"Table Tennis Men's Team\"],\n",
    "    ),\n",
    "    \"Height\",\n",
    "].mean()\n"
   ]
  },
  {
   "cell_type": "code",
   "execution_count": null,
   "metadata": {},
   "outputs": [
    {
     "data": {
      "text/plain": [
       "np.float64(208.0)"
      ]
     },
     "execution_count": 65,
     "metadata": {},
     "output_type": "execute_result"
    }
   ],
   "source": [
    "# tallest ever tennis player from 1980 to 2016\n",
    "df.loc[(slice(None), slice(None), \"Tennis\"), \"Height\"].max()\n",
    "\n",
    "# syntactic sugar over slice()\n",
    "from pandas import IndexSlice as idx\n",
    "\n",
    "df.loc[idx[:, :, \"Tennis\"], \"Height\"].max()"
   ]
  },
  {
   "cell_type": "markdown",
   "metadata": {},
   "source": [
    "# Extension questions\n",
    "1. Events occur in Summer or Winter but not both. Remove the \"Season\" level from the index and then find (again) the tallest tennis player between 1980 and 2016\n",
    "2. In which city were the most gold medals awarded from 1980 onwards?\n",
    "3. How many gold medals were received by the United States since 1980? (Use the index to select the values)"
   ]
  },
  {
   "cell_type": "code",
   "execution_count": null,
   "metadata": {},
   "outputs": [],
   "source": [
    "# 1. remove the Season level from the index\n",
    "df = df.reset_index().set_index([\"Year\", \"Sport\", \"Event\"])\n",
    "# you can just remove one part of the index by passing it to reset_index: `.reset_index(\"Season\")`"
   ]
  },
  {
   "cell_type": "code",
   "execution_count": 67,
   "metadata": {},
   "outputs": [
    {
     "data": {
      "text/plain": [
       "np.float64(208.0)"
      ]
     },
     "execution_count": 67,
     "metadata": {},
     "output_type": "execute_result"
    }
   ],
   "source": [
    "# Find the tallest tennis player from 1980 to 2016\n",
    "df.xs(\"Tennis\", level=\"Sport\")[\"Height\"].max()"
   ]
  },
  {
   "cell_type": "code",
   "execution_count": null,
   "metadata": {},
   "outputs": [
    {
     "data": {
      "text/plain": [
       "City\n",
       "Beijing           671\n",
       "Rio de Janeiro    665\n",
       "Athina            664\n",
       "Name: count, dtype: int64"
      ]
     },
     "execution_count": 78,
     "metadata": {},
     "output_type": "execute_result"
    }
   ],
   "source": [
    "# 2. Which city was the most gold medals awarded from 1980 onwards?\n",
    "(\n",
    "    df.loc[1980:]\n",
    "    .reset_index()\n",
    "    .set_index(\"Medal\")\n",
    "    .xs(\"Gold\")[\"City\"]\n",
    "    .value_counts()\n",
    "    .head(3)\n",
    ")\n",
    "# this works, forgot to add the slice for the year, but is a bit more complex than this:\n",
    "# df.loc[1980:].loc[lambda df_: df_[\"Medal\"] == \"Gold\", \"City\"].value_counts()"
   ]
  },
  {
   "cell_type": "code",
   "execution_count": null,
   "metadata": {},
   "outputs": [
    {
     "data": {
      "text/plain": [
       "np.int64(1257)"
      ]
     },
     "execution_count": 79,
     "metadata": {},
     "output_type": "execute_result"
    }
   ],
   "source": [
    "# 3. How many gold medals were received by the United States since 1980?\n",
    "(df.loc[(slice(1980, None)), [\"Team\", \"Medal\"]]).query(\n",
    "    \"Team == 'United States' & Medal == 'Gold'\"\n",
    ").count()\n",
    "\n",
    "# the book's version is this - honestly the query method is easier to understand\n",
    "# df.loc[1980:].loc[lambda df_: (df_['Team'] == 'United States') & (df_['Medal'] == 'Gold'), 'City'].count()"
   ]
  }
 ],
 "metadata": {
  "kernelspec": {
   "display_name": ".venv",
   "language": "python",
   "name": "python3"
  },
  "language_info": {
   "codemirror_mode": {
    "name": "ipython",
    "version": 3
   },
   "file_extension": ".py",
   "mimetype": "text/x-python",
   "name": "python",
   "nbconvert_exporter": "python",
   "pygments_lexer": "ipython3",
   "version": "3.12.7"
  }
 },
 "nbformat": 4,
 "nbformat_minor": 2
}
