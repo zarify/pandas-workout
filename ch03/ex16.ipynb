{
 "cells": [
  {
   "cell_type": "code",
   "execution_count": 2,
   "metadata": {},
   "outputs": [],
   "source": [
    "import pandas as pd\n",
    "import numpy as np"
   ]
  },
  {
   "cell_type": "code",
   "execution_count": null,
   "metadata": {},
   "outputs": [
    {
     "data": {
      "text/html": [
       "<div>\n",
       "<style scoped>\n",
       "    .dataframe tbody tr th:only-of-type {\n",
       "        vertical-align: middle;\n",
       "    }\n",
       "\n",
       "    .dataframe tbody tr th {\n",
       "        vertical-align: top;\n",
       "    }\n",
       "\n",
       "    .dataframe thead th {\n",
       "        text-align: right;\n",
       "    }\n",
       "</style>\n",
       "<table border=\"1\" class=\"dataframe\">\n",
       "  <thead>\n",
       "    <tr style=\"text-align: right;\">\n",
       "      <th></th>\n",
       "      <th>passenger_count</th>\n",
       "      <th>payment_type</th>\n",
       "      <th>total_amount</th>\n",
       "      <th>year</th>\n",
       "    </tr>\n",
       "  </thead>\n",
       "  <tbody>\n",
       "    <tr>\n",
       "      <th>0</th>\n",
       "      <td>1.0</td>\n",
       "      <td>1.0</td>\n",
       "      <td>4.94</td>\n",
       "      <td>2019</td>\n",
       "    </tr>\n",
       "    <tr>\n",
       "      <th>1</th>\n",
       "      <td>1.0</td>\n",
       "      <td>2.0</td>\n",
       "      <td>20.30</td>\n",
       "      <td>2019</td>\n",
       "    </tr>\n",
       "    <tr>\n",
       "      <th>2</th>\n",
       "      <td>1.0</td>\n",
       "      <td>1.0</td>\n",
       "      <td>70.67</td>\n",
       "      <td>2019</td>\n",
       "    </tr>\n",
       "    <tr>\n",
       "      <th>3</th>\n",
       "      <td>1.0</td>\n",
       "      <td>1.0</td>\n",
       "      <td>66.36</td>\n",
       "      <td>2019</td>\n",
       "    </tr>\n",
       "    <tr>\n",
       "      <th>4</th>\n",
       "      <td>0.0</td>\n",
       "      <td>1.0</td>\n",
       "      <td>15.30</td>\n",
       "      <td>2019</td>\n",
       "    </tr>\n",
       "  </tbody>\n",
       "</table>\n",
       "</div>"
      ],
      "text/plain": [
       "   passenger_count  payment_type  total_amount  year\n",
       "0              1.0           1.0          4.94  2019\n",
       "1              1.0           2.0         20.30  2019\n",
       "2              1.0           1.0         70.67  2019\n",
       "3              1.0           1.0         66.36  2019\n",
       "4              0.0           1.0         15.30  2019"
      ]
     },
     "execution_count": 4,
     "metadata": {},
     "output_type": "execute_result"
    }
   ],
   "source": [
    "data2019 = pd.read_csv(\n",
    "    \"../data/nyc_taxi_2019-07.csv\",\n",
    "    usecols=[\"passenger_count\", \"total_amount\", \"payment_type\"],\n",
    ")\n",
    "data2019[\"year\"] = 2019\n",
    "data2020 = pd.read_csv(\n",
    "    \"../data/nyc_taxi_2020-07.csv\",\n",
    "    usecols=[\"passenger_count\", \"total_amount\", \"payment_type\"],\n",
    ")\n",
    "data2020[\"year\"] = 2020\n",
    "df = pd.concat([data2019, data2020], ignore_index=True)\n",
    "df.head()"
   ]
  },
  {
   "cell_type": "markdown",
   "metadata": {},
   "source": [
    "1. How many rides were taken in 2019 and 2020, and what is the difference between these two figures?\n",
    "2. How much money was taken in total in the two years and what was the difference between them?\n",
    "3. Did the proportion of trips with more than one passenger change dramatically?\n",
    "4. Did people use cash (`payment_type` 2) less in 2020 than 2019?"
   ]
  },
  {
   "cell_type": "code",
   "execution_count": null,
   "metadata": {},
   "outputs": [
    {
     "name": "stdout",
     "output_type": "stream",
     "text": [
      "Trips in 2019: 6276460\n",
      "Trips in 2020: 737565\n",
      "Difference: 5,538,895\n"
     ]
    }
   ],
   "source": [
    "# difference in trip numbers\n",
    "trips19 = df.loc[df[\"year\"] == 2019, \"passenger_count\"].count()\n",
    "trips20 = df.loc[df[\"year\"] == 2020, \"passenger_count\"].count()\n",
    "print(f\"Trips in 2019: {trips19}\")\n",
    "print(f\"Trips in 2020: {trips20}\")\n",
    "print(f\"Difference: {abs(trips19 - trips20):,}\")"
   ]
  },
  {
   "cell_type": "code",
   "execution_count": 9,
   "metadata": {},
   "outputs": [
    {
     "name": "stdout",
     "output_type": "stream",
     "text": [
      "Money collected in 2019: $123,761,823.33\n",
      "Money collected in 2020: $14,912,844.09\n",
      "Difference: $108,848,979.24\n"
     ]
    }
   ],
   "source": [
    "# money collected\n",
    "money19 = df.loc[df[\"year\"] == 2019, \"total_amount\"].sum()\n",
    "money20 = df.loc[df[\"year\"] == 2020, \"total_amount\"].sum()\n",
    "print(f\"Money collected in 2019: ${money19:,.2f}\")\n",
    "print(f\"Money collected in 2020: ${money20:,.2f}\")\n",
    "print(f\"Difference: ${abs(money19 - money20):,.2f}\")"
   ]
  },
  {
   "cell_type": "code",
   "execution_count": null,
   "metadata": {},
   "outputs": [
    {
     "name": "stdout",
     "output_type": "stream",
     "text": [
      "Single fare proportion in 2019 is 69.80% and 2020 is 76.74%\n",
      "Single fare proportion in 2019 is 69.80% and 2020 is 76.74%\n"
     ]
    }
   ],
   "source": [
    "# single passenger trips\n",
    "single19a = (\n",
    "    df.loc[\n",
    "        (df[\"year\"] == 2019) & (df[\"passenger_count\"] == 1), \"passenger_count\"\n",
    "    ].count()\n",
    "    / df.loc[df[\"year\"] == 2019, \"passenger_count\"].count()\n",
    ")\n",
    "single20a = (\n",
    "    df.loc[\n",
    "        (df[\"year\"] == 2020) & (df[\"passenger_count\"] == 1), \"passenger_count\"\n",
    "    ].count()\n",
    "    / df.loc[df[\"year\"] == 2020, \"passenger_count\"].count()\n",
    ")\n",
    "print(\n",
    "    f\"Single fare proportion in 2019 is {single19a*100:.2f}% and 2020 is {single20a*100:.2f}%\"\n",
    ")\n",
    "\n",
    "\n",
    "single19 = (\n",
    "    df.loc[df[\"year\"] == 2019, \"passenger_count\"]\n",
    "    .value_counts(normalize=True)[[1]]\n",
    "    .sum()\n",
    ")\n",
    "single20 = (\n",
    "    df.loc[df[\"year\"] == 2020, \"passenger_count\"]\n",
    "    .value_counts(normalize=True)[[1]]\n",
    "    .sum()\n",
    ")\n",
    "print(\n",
    "    f\"Single fare proportion in 2019 is {single19*100:.2f}% and 2020 is {single20*100:.2f}%\"\n",
    ")"
   ]
  },
  {
   "cell_type": "code",
   "execution_count": null,
   "metadata": {},
   "outputs": [
    {
     "name": "stdout",
     "output_type": "stream",
     "text": [
      "Cash user percentage in 2019 is 28.71% and in 2020 is 32.06%\n"
     ]
    }
   ],
   "source": [
    "# proportion of cash users\n",
    "cash19 = (\n",
    "    df.loc[(df[\"year\"] == 2019) & (df[\"payment_type\"] == 2), \"payment_type\"].count()\n",
    "    / df.loc[df[\"year\"] == 2019, \"payment_type\"].count()\n",
    ").sum()\n",
    "cash20 = (\n",
    "    df.loc[(df[\"year\"] == 2020) & (df[\"payment_type\"] == 2), \"payment_type\"].count()\n",
    "    / df.loc[df[\"year\"] == 2020, \"payment_type\"].count()\n",
    ").sum()\n",
    "\n",
    "print(\n",
    "    f\"Cash user percentage in 2019 is {cash19*100:.2f}% and in 2020 is {cash20*100:.2f}%\"\n",
    ")"
   ]
  },
  {
   "cell_type": "markdown",
   "metadata": {},
   "source": [
    "# Beyond the exercise\n",
    "1. Use the `corr` method on `df` to find the correlations among the columns. How would you interpret these results?\n",
    "2. Show, with a single command, the difference in descriptive statistics for `total_amount` between 2019 and 2020. Round values to use no more than two decimal places.\n",
    "3. If we assume that zero-passenger trips are for delivering packages, how were these affected in 2020? Show the proportion of these in 2019 and 2020."
   ]
  },
  {
   "cell_type": "code",
   "execution_count": null,
   "metadata": {},
   "outputs": [
    {
     "data": {
      "text/html": [
       "<div>\n",
       "<style scoped>\n",
       "    .dataframe tbody tr th:only-of-type {\n",
       "        vertical-align: middle;\n",
       "    }\n",
       "\n",
       "    .dataframe tbody tr th {\n",
       "        vertical-align: top;\n",
       "    }\n",
       "\n",
       "    .dataframe thead th {\n",
       "        text-align: right;\n",
       "    }\n",
       "</style>\n",
       "<table border=\"1\" class=\"dataframe\">\n",
       "  <thead>\n",
       "    <tr style=\"text-align: right;\">\n",
       "      <th></th>\n",
       "      <th>passenger_count</th>\n",
       "      <th>payment_type</th>\n",
       "      <th>total_amount</th>\n",
       "      <th>year</th>\n",
       "    </tr>\n",
       "  </thead>\n",
       "  <tbody>\n",
       "    <tr>\n",
       "      <th>passenger_count</th>\n",
       "      <td>1.000000</td>\n",
       "      <td>0.016410</td>\n",
       "      <td>0.014943</td>\n",
       "      <td>-0.049558</td>\n",
       "    </tr>\n",
       "    <tr>\n",
       "      <th>payment_type</th>\n",
       "      <td>0.016410</td>\n",
       "      <td>1.000000</td>\n",
       "      <td>-0.138561</td>\n",
       "      <td>0.029277</td>\n",
       "    </tr>\n",
       "    <tr>\n",
       "      <th>total_amount</th>\n",
       "      <td>0.014943</td>\n",
       "      <td>-0.138561</td>\n",
       "      <td>1.000000</td>\n",
       "      <td>-0.019706</td>\n",
       "    </tr>\n",
       "    <tr>\n",
       "      <th>year</th>\n",
       "      <td>-0.049558</td>\n",
       "      <td>0.029277</td>\n",
       "      <td>-0.019706</td>\n",
       "      <td>1.000000</td>\n",
       "    </tr>\n",
       "  </tbody>\n",
       "</table>\n",
       "</div>"
      ],
      "text/plain": [
       "                 passenger_count  payment_type  total_amount      year\n",
       "passenger_count         1.000000      0.016410      0.014943 -0.049558\n",
       "payment_type            0.016410      1.000000     -0.138561  0.029277\n",
       "total_amount            0.014943     -0.138561      1.000000 -0.019706\n",
       "year                   -0.049558      0.029277     -0.019706  1.000000"
      ]
     },
     "execution_count": 15,
     "metadata": {},
     "output_type": "execute_result"
    }
   ],
   "source": [
    "df.corr()\n",
    "# looking for larger magnitude numbers. The biggest is `payment_type` vs `total_amount` which is\n",
    "# a very weakly negative correlated number. However, `payment_type` is not a progression, it's\n",
    "# categorical data, so not super meaningful"
   ]
  },
  {
   "cell_type": "code",
   "execution_count": null,
   "metadata": {},
   "outputs": [
    {
     "data": {
      "text/plain": [
       "count    5510007.00\n",
       "mean           0.98\n",
       "std            0.75\n",
       "min          -53.20\n",
       "25%            0.50\n",
       "50%            0.60\n",
       "75%            0.75\n",
       "max         4672.45\n",
       "Name: total_amount, dtype: float64"
      ]
     },
     "execution_count": 20,
     "metadata": {},
     "output_type": "execute_result"
    }
   ],
   "source": [
    "(\n",
    "    df.loc[df[\"year\"] == 2019, \"total_amount\"].describe()\n",
    "    - df.loc[df[\"year\"] == 2020, \"total_amount\"].describe()\n",
    ").round(2)\n",
    "# not much difference overall - shift in the mean of around 1, and the s.d. of 0.75"
   ]
  },
  {
   "cell_type": "code",
   "execution_count": null,
   "metadata": {},
   "outputs": [
    {
     "name": "stdout",
     "output_type": "stream",
     "text": [
      "Zero passenger in 2019 is 1.86% and 2020 is 2.64% delta is -0.78%\n",
      "Zero passenger in 2019 is 1.86% and 2020 is 2.64% delta is -0.78%\n"
     ]
    }
   ],
   "source": [
    "# using `.value_counts(normalize=True)` - but this has produced some different results with others\n",
    "zero19 = (\n",
    "    df.loc[df[\"year\"] == 2019, \"passenger_count\"]\n",
    "    .value_counts(normalize=True)[[0]]\n",
    "    .sum()\n",
    ")\n",
    "zero20 = (\n",
    "    df.loc[df[\"year\"] == 2020, \"passenger_count\"]\n",
    "    .value_counts(normalize=True)[[0]]\n",
    "    .sum()\n",
    ")\n",
    "print(\n",
    "    f\"Zero passenger in 2019 is {zero19*100:.2f}% and 2020 is {zero20*100:.2f}% delta is {(zero19-zero20)*100:.2f}%\"\n",
    ")\n",
    "\n",
    "# a comparison using df.loc method\n",
    "zero19a = (\n",
    "    df.loc[\n",
    "        (df[\"year\"] == 2019) & (df[\"passenger_count\"] == 0), \"passenger_count\"\n",
    "    ].count()\n",
    "    / df.loc[df[\"year\"] == 2019, \"passenger_count\"].count()\n",
    ")\n",
    "zero20a = (\n",
    "    df.loc[\n",
    "        (df[\"year\"] == 2020) & (df[\"passenger_count\"] == 0), \"passenger_count\"\n",
    "    ].count()\n",
    "    / df.loc[df[\"year\"] == 2020, \"passenger_count\"].count()\n",
    ")\n",
    "print(\n",
    "    f\"Zero passenger in 2019 is {zero19a*100:.2f}% and 2020 is {zero20a*100:.2f}% delta is {(zero19a-zero20a)*100:.2f}%\"\n",
    ")"
   ]
  },
  {
   "cell_type": "code",
   "execution_count": null,
   "metadata": {},
   "outputs": [
    {
     "name": "stdout",
     "output_type": "stream",
     "text": [
      "Zero passenger in 2019 is 1.67% and 2020 is 0.28% delta is 1.39%\n"
     ]
    }
   ],
   "source": [
    "# working out the previous one using counts instead\n",
    "zero19b = (\n",
    "    df.loc[\n",
    "        (df[\"year\"] == 2019) & (df[\"passenger_count\"] == 0), \"passenger_count\"\n",
    "    ].count()\n",
    "    / df[\"passenger_count\"].count()\n",
    ")\n",
    "zero20b = (\n",
    "    df.loc[\n",
    "        (df[\"year\"] == 2020) & (df[\"passenger_count\"] == 0), \"passenger_count\"\n",
    "    ].count()\n",
    "    / df[\"passenger_count\"].count()\n",
    ")\n",
    "print(\n",
    "    f\"Zero passenger in 2019 is {zero19b*100:.2f}% and 2020 is {zero20b*100:.2f}% delta is {(zero19b-zero20b)*100:.2f}%\"\n",
    ")"
   ]
  },
  {
   "cell_type": "code",
   "execution_count": 36,
   "metadata": {},
   "outputs": [
    {
     "data": {
      "text/plain": [
       "<bound method DataFrame.info of          passenger_count  payment_type  total_amount  year\n",
       "0                    1.0           1.0          4.94  2019\n",
       "1                    1.0           2.0         20.30  2019\n",
       "2                    1.0           1.0         70.67  2019\n",
       "3                    1.0           1.0         66.36  2019\n",
       "4                    0.0           1.0         15.30  2019\n",
       "...                  ...           ...           ...   ...\n",
       "7110826              NaN           NaN         83.50  2020\n",
       "7110827              NaN           NaN         19.78  2020\n",
       "7110828              NaN           NaN         38.45  2020\n",
       "7110829              NaN           NaN         29.77  2020\n",
       "7110830              NaN           NaN         51.90  2020\n",
       "\n",
       "[7110831 rows x 4 columns]>"
      ]
     },
     "execution_count": 36,
     "metadata": {},
     "output_type": "execute_result"
    }
   ],
   "source": [
    "df.info"
   ]
  },
  {
   "cell_type": "code",
   "execution_count": 39,
   "metadata": {},
   "outputs": [
    {
     "data": {
      "text/plain": [
       "96806"
      ]
     },
     "execution_count": 39,
     "metadata": {},
     "output_type": "execute_result"
    }
   ],
   "source": [
    "# how many passenger_count entries do we have that are NaN? We can't use `.count()` since that\n",
    "# skips NaN values\n",
    "df.loc[np.isnan(df[\"passenger_count\"]), \"passenger_count\"].shape[0]"
   ]
  },
  {
   "cell_type": "code",
   "execution_count": null,
   "metadata": {},
   "outputs": [
    {
     "data": {
      "text/plain": [
       "96806"
      ]
     },
     "execution_count": 40,
     "metadata": {},
     "output_type": "execute_result"
    }
   ],
   "source": [
    "# how many payment_type entries do we have are NaN?\n",
    "df.loc[np.isnan(df[\"payment_type\"]), \"payment_type\"].shape[0]\n",
    "# same number as the passenger_count - bunch of junk data at the end?"
   ]
  },
  {
   "cell_type": "code",
   "execution_count": 41,
   "metadata": {},
   "outputs": [
    {
     "data": {
      "text/html": [
       "<div>\n",
       "<style scoped>\n",
       "    .dataframe tbody tr th:only-of-type {\n",
       "        vertical-align: middle;\n",
       "    }\n",
       "\n",
       "    .dataframe tbody tr th {\n",
       "        vertical-align: top;\n",
       "    }\n",
       "\n",
       "    .dataframe thead th {\n",
       "        text-align: right;\n",
       "    }\n",
       "</style>\n",
       "<table border=\"1\" class=\"dataframe\">\n",
       "  <thead>\n",
       "    <tr style=\"text-align: right;\">\n",
       "      <th></th>\n",
       "      <th>passenger_count</th>\n",
       "      <th>payment_type</th>\n",
       "      <th>total_amount</th>\n",
       "      <th>year</th>\n",
       "    </tr>\n",
       "  </thead>\n",
       "  <tbody>\n",
       "    <tr>\n",
       "      <th>count</th>\n",
       "      <td>0.0</td>\n",
       "      <td>0.0</td>\n",
       "      <td>96806.000000</td>\n",
       "      <td>96806.000000</td>\n",
       "    </tr>\n",
       "    <tr>\n",
       "      <th>mean</th>\n",
       "      <td>NaN</td>\n",
       "      <td>NaN</td>\n",
       "      <td>39.950912</td>\n",
       "      <td>2019.649206</td>\n",
       "    </tr>\n",
       "    <tr>\n",
       "      <th>std</th>\n",
       "      <td>NaN</td>\n",
       "      <td>NaN</td>\n",
       "      <td>18.395952</td>\n",
       "      <td>0.477221</td>\n",
       "    </tr>\n",
       "    <tr>\n",
       "      <th>min</th>\n",
       "      <td>NaN</td>\n",
       "      <td>NaN</td>\n",
       "      <td>-91.000000</td>\n",
       "      <td>2019.000000</td>\n",
       "    </tr>\n",
       "    <tr>\n",
       "      <th>25%</th>\n",
       "      <td>NaN</td>\n",
       "      <td>NaN</td>\n",
       "      <td>25.500000</td>\n",
       "      <td>2019.000000</td>\n",
       "    </tr>\n",
       "    <tr>\n",
       "      <th>50%</th>\n",
       "      <td>NaN</td>\n",
       "      <td>NaN</td>\n",
       "      <td>37.750000</td>\n",
       "      <td>2020.000000</td>\n",
       "    </tr>\n",
       "    <tr>\n",
       "      <th>75%</th>\n",
       "      <td>NaN</td>\n",
       "      <td>NaN</td>\n",
       "      <td>51.900000</td>\n",
       "      <td>2020.000000</td>\n",
       "    </tr>\n",
       "    <tr>\n",
       "      <th>max</th>\n",
       "      <td>NaN</td>\n",
       "      <td>NaN</td>\n",
       "      <td>198.510000</td>\n",
       "      <td>2020.000000</td>\n",
       "    </tr>\n",
       "  </tbody>\n",
       "</table>\n",
       "</div>"
      ],
      "text/plain": [
       "       passenger_count  payment_type  total_amount          year\n",
       "count              0.0           0.0  96806.000000  96806.000000\n",
       "mean               NaN           NaN     39.950912   2019.649206\n",
       "std                NaN           NaN     18.395952      0.477221\n",
       "min                NaN           NaN    -91.000000   2019.000000\n",
       "25%                NaN           NaN     25.500000   2019.000000\n",
       "50%                NaN           NaN     37.750000   2020.000000\n",
       "75%                NaN           NaN     51.900000   2020.000000\n",
       "max                NaN           NaN    198.510000   2020.000000"
      ]
     },
     "execution_count": 41,
     "metadata": {},
     "output_type": "execute_result"
    }
   ],
   "source": [
    "# let's find out what the descriptive stats are of those values?\n",
    "df.loc[np.isnan(df[\"passenger_count\"])].describe()"
   ]
  }
 ],
 "metadata": {
  "kernelspec": {
   "display_name": ".venv",
   "language": "python",
   "name": "python3"
  },
  "language_info": {
   "codemirror_mode": {
    "name": "ipython",
    "version": 3
   },
   "file_extension": ".py",
   "mimetype": "text/x-python",
   "name": "python",
   "nbconvert_exporter": "python",
   "pygments_lexer": "ipython3",
   "version": "3.12.7"
  }
 },
 "nbformat": 4,
 "nbformat_minor": 2
}
