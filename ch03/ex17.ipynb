{
 "cells": [
  {
   "cell_type": "code",
   "execution_count": 1,
   "metadata": {},
   "outputs": [],
   "source": [
    "import pandas as pd\n",
    "import numpy as np"
   ]
  },
  {
   "cell_type": "code",
   "execution_count": null,
   "metadata": {},
   "outputs": [
    {
     "data": {
      "text/html": [
       "<div>\n",
       "<style scoped>\n",
       "    .dataframe tbody tr th:only-of-type {\n",
       "        vertical-align: middle;\n",
       "    }\n",
       "\n",
       "    .dataframe tbody tr th {\n",
       "        vertical-align: top;\n",
       "    }\n",
       "\n",
       "    .dataframe thead th {\n",
       "        text-align: right;\n",
       "    }\n",
       "</style>\n",
       "<table border=\"1\" class=\"dataframe\">\n",
       "  <thead>\n",
       "    <tr style=\"text-align: right;\">\n",
       "      <th></th>\n",
       "      <th>passenger_count</th>\n",
       "      <th>payment_type</th>\n",
       "      <th>total_amount</th>\n",
       "    </tr>\n",
       "  </thead>\n",
       "  <tbody>\n",
       "    <tr>\n",
       "      <th>0</th>\n",
       "      <td>1</td>\n",
       "      <td>1</td>\n",
       "      <td>11.27</td>\n",
       "    </tr>\n",
       "    <tr>\n",
       "      <th>1</th>\n",
       "      <td>1</td>\n",
       "      <td>1</td>\n",
       "      <td>12.30</td>\n",
       "    </tr>\n",
       "    <tr>\n",
       "      <th>2</th>\n",
       "      <td>1</td>\n",
       "      <td>1</td>\n",
       "      <td>10.80</td>\n",
       "    </tr>\n",
       "    <tr>\n",
       "      <th>3</th>\n",
       "      <td>1</td>\n",
       "      <td>1</td>\n",
       "      <td>8.16</td>\n",
       "    </tr>\n",
       "    <tr>\n",
       "      <th>4</th>\n",
       "      <td>1</td>\n",
       "      <td>2</td>\n",
       "      <td>4.80</td>\n",
       "    </tr>\n",
       "  </tbody>\n",
       "</table>\n",
       "</div>"
      ],
      "text/plain": [
       "   passenger_count  payment_type  total_amount\n",
       "0                1             1         11.27\n",
       "1                1             1         12.30\n",
       "2                1             1         10.80\n",
       "3                1             1          8.16\n",
       "4                1             2          4.80"
      ]
     },
     "execution_count": 6,
     "metadata": {},
     "output_type": "execute_result"
    }
   ],
   "source": [
    "# there are NaN values in the passenger and payment data\n",
    "# this allows pandas to create NaN by specifying float dtypes\n",
    "# then drops the NaNs, and changes the columns back to the\n",
    "# appropriate types\n",
    "df = (\n",
    "    pd.read_csv(\n",
    "        \"../data/nyc_taxi_2020-01.csv\",\n",
    "        usecols=[\"passenger_count\", \"total_amount\", \"payment_type\"],\n",
    "        dtype={\n",
    "            \"passenger_count\": np.float32,\n",
    "            \"total_amount\": np.float32,\n",
    "            \"payment_type\": np.float32,\n",
    "        },\n",
    "    )\n",
    "    .dropna()\n",
    "    .astype({\"passenger_count\": np.int8, \"payment_type\": np.int8})\n",
    ")\n",
    "\n",
    "df.head()"
   ]
  },
  {
   "cell_type": "markdown",
   "metadata": {},
   "source": [
    "# Extension questions\n",
    "1. Create a dataframe from four other columns: VendorID, trip_distance, tip_amount, total_amount, specifying the dtype for each. Which types are most appropriate? Can you use them without first cleaning the data?\n",
    "2. Instead of removing NaN values from the VendorID, replace them with 3. How does this affect your specifications and the cleaning of the data?\n",
    "3. The `memory_usage` method allows you to see how much memory is being used by each column in a dataframe. Compare the memory of columns which use float16 and float64."
   ]
  },
  {
   "cell_type": "code",
   "execution_count": null,
   "metadata": {},
   "outputs": [],
   "source": [
    "df2 = pd.read_csv(\n",
    "    \"../data/nyc_taxi_2020-01.csv\",\n",
    "    usecols=[\"VendorID\", \"trip_distance\", \"tip_amount\", \"total_amount\"],\n",
    "    dtype={\n",
    "        \"VendorID\": np.float32,\n",
    "        \"trip_distance\": np.float64,\n",
    "        \"tip_amount\": np.float16,\n",
    "        \"total_amount\": np.float64,\n",
    "    },\n",
    ")\n",
    "# the data dictionary for this specifies that there are only valid vendor IDs of\n",
    "# 1 and 2, so using 3 for the NaN values allows us to keep the rest of the data but\n",
    "# still know that it doesn't fit with the known vendors, and keep the np.int8 dtype\n",
    "df2.loc[np.isnan(df2[\"VendorID\"]), \"VendorID\"] = 3\n",
    "df2[\"VendorID\"] = df2[\"VendorID\"].astype(np.int8)\n",
    "# No, you can't use the data without first cleaning it."
   ]
  },
  {
   "cell_type": "code",
   "execution_count": null,
   "metadata": {},
   "outputs": [
    {
     "data": {
      "text/plain": [
       "Index                 132\n",
       "VendorID          6405008\n",
       "trip_distance    51240064\n",
       "tip_amount       12810016\n",
       "total_amount     51240064\n",
       "dtype: int64"
      ]
     },
     "execution_count": 18,
     "metadata": {},
     "output_type": "execute_result"
    }
   ],
   "source": [
    "df2.memory_usage()\n",
    "# As you would expect, float16 is much more memory efficient than float64"
   ]
  }
 ],
 "metadata": {
  "kernelspec": {
   "display_name": ".venv",
   "language": "python",
   "name": "python3"
  },
  "language_info": {
   "codemirror_mode": {
    "name": "ipython",
    "version": 3
   },
   "file_extension": ".py",
   "mimetype": "text/x-python",
   "name": "python",
   "nbconvert_exporter": "python",
   "pygments_lexer": "ipython3",
   "version": "3.12.7"
  }
 },
 "nbformat": 4,
 "nbformat_minor": 2
}
