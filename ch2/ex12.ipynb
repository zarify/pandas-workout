{
 "cells": [
  {
   "cell_type": "code",
   "execution_count": 2,
   "metadata": {},
   "outputs": [],
   "source": [
    "import pandas as pd\n",
    "import numpy as np"
   ]
  },
  {
   "cell_type": "code",
   "execution_count": 35,
   "metadata": {},
   "outputs": [
    {
     "data": {
      "text/html": [
       "<div>\n",
       "<style scoped>\n",
       "    .dataframe tbody tr th:only-of-type {\n",
       "        vertical-align: middle;\n",
       "    }\n",
       "\n",
       "    .dataframe tbody tr th {\n",
       "        vertical-align: top;\n",
       "    }\n",
       "\n",
       "    .dataframe thead th {\n",
       "        text-align: right;\n",
       "    }\n",
       "</style>\n",
       "<table border=\"1\" class=\"dataframe\">\n",
       "  <thead>\n",
       "    <tr style=\"text-align: right;\">\n",
       "      <th></th>\n",
       "      <th>distance</th>\n",
       "      <th>passengers</th>\n",
       "      <th>trip_type</th>\n",
       "    </tr>\n",
       "  </thead>\n",
       "  <tbody>\n",
       "    <tr>\n",
       "      <th>0</th>\n",
       "      <td>1.63</td>\n",
       "      <td>1</td>\n",
       "      <td>short</td>\n",
       "    </tr>\n",
       "    <tr>\n",
       "      <th>1</th>\n",
       "      <td>0.46</td>\n",
       "      <td>1</td>\n",
       "      <td>short</td>\n",
       "    </tr>\n",
       "    <tr>\n",
       "      <th>2</th>\n",
       "      <td>0.87</td>\n",
       "      <td>1</td>\n",
       "      <td>short</td>\n",
       "    </tr>\n",
       "    <tr>\n",
       "      <th>3</th>\n",
       "      <td>2.13</td>\n",
       "      <td>1</td>\n",
       "      <td>medium</td>\n",
       "    </tr>\n",
       "    <tr>\n",
       "      <th>4</th>\n",
       "      <td>1.40</td>\n",
       "      <td>1</td>\n",
       "      <td>short</td>\n",
       "    </tr>\n",
       "  </tbody>\n",
       "</table>\n",
       "</div>"
      ],
      "text/plain": [
       "   distance  passengers trip_type\n",
       "0      1.63           1     short\n",
       "1      0.46           1     short\n",
       "2      0.87           1     short\n",
       "3      2.13           1    medium\n",
       "4      1.40           1     short"
      ]
     },
     "execution_count": 35,
     "metadata": {},
     "output_type": "execute_result"
    }
   ],
   "source": [
    "passengers = pd.read_csv(\"../data/taxi-passenger-count.csv\", header=None).squeeze()\n",
    "distances = pd.read_csv(\"../data/taxi-distance.csv\", header=None).squeeze()\n",
    "trip_type = pd.cut(\n",
    "    distances,\n",
    "    bins=[0, 2, 10, distances.max()],\n",
    "    labels=[\"short\", \"medium\", \"long\"],\n",
    "    include_lowest=True,\n",
    ")\n",
    "# this works, but requires transposing\n",
    "# df = pd.DataFrame([passengers, distances]).transpose()\n",
    "# the book recommends using one of the methods we used before like a dict\n",
    "df = pd.DataFrame(\n",
    "    {\"distance\": distances, \"passengers\": passengers, \"trip_type\": trip_type}\n",
    ")\n",
    "df.head()"
   ]
  },
  {
   "cell_type": "code",
   "execution_count": null,
   "metadata": {},
   "outputs": [
    {
     "name": "stdout",
     "output_type": "stream",
     "text": [
      "IQR modifier for distance is 3.45 so outliers from -2.45 to 6.75\n",
      "IQR modifier for passengers is 1.50 so outliers from -0.50 to 3.50\n"
     ]
    }
   ],
   "source": [
    "# The book talks about one method for outliers using the IQR (distance from `quantile(0.25)` to `quantile(0.75)`)\n",
    "# with outliers being values outside of (quantile(0.25) - IQR * 1.5) to (quantile(0.75) + IQR * 1.5)\n",
    "# Alternate definitions are outside 2 s.d. of the mean\n",
    "\n",
    "iqr_p = (df[\"passengers\"].quantile(0.75) - df[\"passengers\"].quantile(0.25)) * 1.5\n",
    "iqr_d = (df[\"distance\"].quantile(0.75) - df[\"distance\"].quantile(0.25)) * 1.5\n",
    "\n",
    "print(\n",
    "    f\"IQR modifier for distance is {iqr_d:.2f} so outliers from {df['distance'].quantile(0.25) - iqr_d:.2f} to {df['distance'].quantile(0.75) + iqr_d:.2f}\"\n",
    ")\n",
    "print(\n",
    "    f\"IQR modifier for passengers is {iqr_p:.2f} so outliers from {df['passengers'].quantile(0.25) - iqr_p:.2f} to {df['passengers'].quantile(0.75) + iqr_p:.2f}\"\n",
    ")"
   ]
  },
  {
   "cell_type": "code",
   "execution_count": null,
   "metadata": {},
   "outputs": [
    {
     "name": "stdout",
     "output_type": "stream",
     "text": [
      "There are 1219 distance outliers.\n",
      "The mean passengers for these trips is 1.73\n",
      "The overall passenger mean is 1.66\n",
      "Overall passenger median is 1.0 vs 1.0 for outliers.\n"
     ]
    }
   ],
   "source": [
    "# how many trip distances were outliers?\n",
    "distance_outliers = df.query(\n",
    "    \"distance < distance.quantile(0.25) - @iqr_d | distance > distance.quantile(0.75) + @iqr_d\"\n",
    ")\n",
    "\n",
    "# what is the mean number of passengers for these outliers?\n",
    "print(f\"There are {distance_outliers['distance'].count()} distance outliers.\")\n",
    "print(\n",
    "    f\"The mean passengers for these trips is {distance_outliers['passengers'].mean():.2f}\"\n",
    ")\n",
    "print(f\"The overall passenger mean is {df['passengers'].mean():.2f}\")\n",
    "print(\n",
    "    f\"Overall passenger median is {df['passengers'].median()} vs {distance_outliers['passengers'].median()} for outliers.\"\n",
    ")"
   ]
  },
  {
   "cell_type": "code",
   "execution_count": null,
   "metadata": {},
   "outputs": [
    {
     "name": "stdout",
     "output_type": "stream",
     "text": [
      "Mean for all trips for passengers: 1.6594659465946595\n",
      "Mean for passenger outliers is: 5.174603174603175 vs median of 5.0\n"
     ]
    }
   ],
   "source": [
    "# what is the mean for outlier passengers? how does it compare with the mean for all passengers?\n",
    "print(f\"Mean for all trips for passengers: {df[\"passengers\"].mean()}\")\n",
    "\n",
    "p_outliers = df.query(\n",
    "    \"passengers < passengers.quantile(0.25) - @iqr_p | passengers > passengers.quantile(0.75) + @iqr_p\"\n",
    ")[\"passengers\"]\n",
    "\n",
    "print(\n",
    "    f\"Mean for passenger outliers is: {p_outliers.mean()} vs median of {p_outliers.median()}\"\n",
    ")\n"
   ]
  },
  {
   "cell_type": "markdown",
   "metadata": {},
   "source": [
    "# Extension questions\n",
    "1. Define the outliers to be the top and bottom 10% of values. How many are there? Why is or isn't this a good measure?\n",
    "2. How many short, medium, and long trips only had one passenger? You can use the `scipy.stats.trimboth` function to remove non-outlier values, which can remove a proportion from the top and bottom values.\n",
    "3. The `scipy.stats.zscore` function rescales and centres the data set. So will set the mean to 0, and values can be above and below (noramlises). Find all instances for which the absolute value of the z-score is greater than 3."
   ]
  },
  {
   "cell_type": "code",
   "execution_count": null,
   "metadata": {},
   "outputs": [
    {
     "name": "stdout",
     "output_type": "stream",
     "text": [
      "There are 985 low end outliers and 999 top end outliers (1984 total).\n"
     ]
    },
    {
     "data": {
      "text/plain": [
       "count    999.000000\n",
       "mean      13.304845\n",
       "std        4.999922\n",
       "min        8.210000\n",
       "25%        9.770000\n",
       "50%       11.400000\n",
       "75%       16.445000\n",
       "max       64.600000\n",
       "Name: distance, dtype: float64"
      ]
     },
     "execution_count": 42,
     "metadata": {},
     "output_type": "execute_result"
    }
   ],
   "source": [
    "# 1. Use 10% to be outliers (`.quantile(0.1)`)\n",
    "top_n = df.query(\"distance > distance.quantile(0.9)\")[\"distance\"]\n",
    "bottom_n = df.query(\"distance < distance.quantile(0.1)\")[\"distance\"]\n",
    "\n",
    "print(\n",
    "    f\"There are {bottom_n.count()} low end outliers and {top_n.count()} top end outliers ({bottom_n.count() + top_n.count()} total).\"\n",
    ")\n",
    "# so 1984 total vs the 1219 from the IQR method (which had 0 low end outliers and all top end)\n",
    "top_n.describe()\n",
    "# bottom_n.describe()\n",
    "\n",
    "# This method includes the ultra short trips, which the IQR method ignored\n",
    "# The upper end cutoff was about 2mi higher than the IQR method (which from eyeballing the\n",
    "# data distribution is not actually that bad)"
   ]
  },
  {
   "cell_type": "code",
   "execution_count": null,
   "metadata": {},
   "outputs": [
    {
     "data": {
      "text/plain": [
       "array([0.63, 0.63, 0.63, ..., 8.2 , 8.2 , 8.2 ])"
      ]
     },
     "execution_count": 59,
     "metadata": {},
     "output_type": "execute_result"
    }
   ],
   "source": [
    "# 2. How many short, medium, and long trips only had one passenger?\n",
    "df.query(\"passengers == 1\")[\"trip_type\"].value_counts()\n",
    "# this was actually a dupe of the Ex 7 question.\n",
    "\n",
    "from scipy.stats import trimboth\n",
    "\n",
    "trimboth(df[\"distance\"], 0.1)"
   ]
  },
  {
   "cell_type": "code",
   "execution_count": null,
   "metadata": {},
   "outputs": [
    {
     "data": {
      "text/plain": [
       "count    306.000000\n",
       "mean      19.247418\n",
       "std        4.898164\n",
       "min       15.300000\n",
       "25%       16.902500\n",
       "50%       18.005000\n",
       "75%       19.907500\n",
       "max       64.600000\n",
       "Name: distance, dtype: float64"
      ]
     },
     "execution_count": 58,
     "metadata": {},
     "output_type": "execute_result"
    }
   ],
   "source": [
    "# 3. Calculate the z-score and find all values where the z-score is greater than 3.\n",
    "from scipy.stats import zscore\n",
    "\n",
    "dists = zscore(df[\"distance\"])\n",
    "dists[abs(dists) > 3].count()\n",
    "\n",
    "# 306 values are outside 3 standard deviations of the mean for distances\n",
    "# 15.3mi - 64.6mi range (unsurprisingly nothing on the low end)"
   ]
  }
 ],
 "metadata": {
  "kernelspec": {
   "display_name": ".venv",
   "language": "python",
   "name": "python3"
  },
  "language_info": {
   "codemirror_mode": {
    "name": "ipython",
    "version": 3
   },
   "file_extension": ".py",
   "mimetype": "text/x-python",
   "name": "python",
   "nbconvert_exporter": "python",
   "pygments_lexer": "ipython3",
   "version": "3.12.7"
  }
 },
 "nbformat": 4,
 "nbformat_minor": 2
}
