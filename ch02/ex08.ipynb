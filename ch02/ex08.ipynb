{
 "cells": [
  {
   "cell_type": "code",
   "execution_count": 1,
   "metadata": {},
   "outputs": [],
   "source": [
    "from pandas import DataFrame, Series\n",
    "import numpy as np"
   ]
  },
  {
   "cell_type": "code",
   "execution_count": 2,
   "metadata": {},
   "outputs": [
    {
     "data": {
      "text/html": [
       "<div>\n",
       "<style scoped>\n",
       "    .dataframe tbody tr th:only-of-type {\n",
       "        vertical-align: middle;\n",
       "    }\n",
       "\n",
       "    .dataframe tbody tr th {\n",
       "        vertical-align: top;\n",
       "    }\n",
       "\n",
       "    .dataframe thead th {\n",
       "        text-align: right;\n",
       "    }\n",
       "</style>\n",
       "<table border=\"1\" class=\"dataframe\">\n",
       "  <thead>\n",
       "    <tr style=\"text-align: right;\">\n",
       "      <th></th>\n",
       "      <th>a</th>\n",
       "      <th>b</th>\n",
       "      <th>c</th>\n",
       "      <th>d</th>\n",
       "    </tr>\n",
       "  </thead>\n",
       "  <tbody>\n",
       "    <tr>\n",
       "      <th>x</th>\n",
       "      <td>10</td>\n",
       "      <td>20</td>\n",
       "      <td>30</td>\n",
       "      <td>40</td>\n",
       "    </tr>\n",
       "    <tr>\n",
       "      <th>y</th>\n",
       "      <td>50</td>\n",
       "      <td>60</td>\n",
       "      <td>70</td>\n",
       "      <td>80</td>\n",
       "    </tr>\n",
       "    <tr>\n",
       "      <th>z</th>\n",
       "      <td>90</td>\n",
       "      <td>100</td>\n",
       "      <td>110</td>\n",
       "      <td>120</td>\n",
       "    </tr>\n",
       "  </tbody>\n",
       "</table>\n",
       "</div>"
      ],
      "text/plain": [
       "    a    b    c    d\n",
       "x  10   20   30   40\n",
       "y  50   60   70   80\n",
       "z  90  100  110  120"
      ]
     },
     "execution_count": 2,
     "metadata": {},
     "output_type": "execute_result"
    }
   ],
   "source": [
    "df = DataFrame(\n",
    "    [[10, 20, 30, 40], [50, 60, 70, 80], [90, 100, 110, 120]],\n",
    "    index=list(\"xyz\"),\n",
    "    columns=list(\"abcd\"),\n",
    ")\n",
    "df"
   ]
  },
  {
   "cell_type": "code",
   "execution_count": 3,
   "metadata": {},
   "outputs": [
    {
     "data": {
      "text/plain": [
       "a    10\n",
       "b    20\n",
       "c    30\n",
       "d    40\n",
       "Name: x, dtype: int64"
      ]
     },
     "execution_count": 3,
     "metadata": {},
     "output_type": "execute_result"
    }
   ],
   "source": [
    "# Accessing rows has to be via `.loc` which gives us a Series\n",
    "df.loc[\"x\"]"
   ]
  },
  {
   "cell_type": "code",
   "execution_count": 4,
   "metadata": {},
   "outputs": [
    {
     "data": {
      "text/plain": [
       "x    10\n",
       "y    50\n",
       "z    90\n",
       "Name: a, dtype: int64"
      ]
     },
     "execution_count": 4,
     "metadata": {},
     "output_type": "execute_result"
    }
   ],
   "source": [
    "# Using square brackets on the dataframe directly will give us a column\n",
    "df[\"a\"]"
   ]
  },
  {
   "cell_type": "code",
   "execution_count": 5,
   "metadata": {},
   "outputs": [
    {
     "name": "stdout",
     "output_type": "stream",
     "text": [
      "    a   b   c   d\n",
      "x  10  20  30  40\n",
      "y  50  60  70  80\n",
      "    a    b\n",
      "x  10   20\n",
      "y  50   60\n",
      "z  90  100\n"
     ]
    }
   ],
   "source": [
    "# Slicing acts differently to providing a list\n",
    "# This provides a slice (with the end point -inclusive-!)\n",
    "print(df[\"x\":\"y\"])\n",
    "# This selects the columns from the list\n",
    "print(df[[\"a\", \"b\"]])"
   ]
  },
  {
   "cell_type": "code",
   "execution_count": null,
   "metadata": {},
   "outputs": [
    {
     "data": {
      "text/plain": [
       "x    10\n",
       "y    50\n",
       "z    90\n",
       "Name: a, dtype: int64"
      ]
     },
     "execution_count": 6,
     "metadata": {},
     "output_type": "execute_result"
    }
   ],
   "source": [
    "# Can also refer to column names with dot notation (like JS's object dot notation)\n",
    "# but this has all the problems you would expect with column names that don't conform\n",
    "# to regular syntax rules like spaces\n",
    "df.a"
   ]
  },
  {
   "cell_type": "markdown",
   "metadata": {},
   "source": [
    "# Exercise 8\n",
    "Create a dataframe that represents a company's inventory of five products.\n",
    "Each product:\n",
    "- Has a unique ID number (2 digit int)\n",
    "- name\n",
    "- wholesale price\n",
    "- retail price\n",
    "- sales last month\n",
    "\n",
    "DataFrames can be created in the following ways:\n",
    "1. A list of lists (each list is a row and must be dimensionally identical)\n",
    "2. A list of dicts (each dict is a row and keys are column values to be filled)\n",
    "3. A dict of lists (each key is one column and values -- lists -- are the column values)\n",
    "4. A two dimensional numpy array"
   ]
  },
  {
   "cell_type": "code",
   "execution_count": 12,
   "metadata": {},
   "outputs": [
    {
     "data": {
      "text/html": [
       "<div>\n",
       "<style scoped>\n",
       "    .dataframe tbody tr th:only-of-type {\n",
       "        vertical-align: middle;\n",
       "    }\n",
       "\n",
       "    .dataframe tbody tr th {\n",
       "        vertical-align: top;\n",
       "    }\n",
       "\n",
       "    .dataframe thead th {\n",
       "        text-align: right;\n",
       "    }\n",
       "</style>\n",
       "<table border=\"1\" class=\"dataframe\">\n",
       "  <thead>\n",
       "    <tr style=\"text-align: right;\">\n",
       "      <th></th>\n",
       "      <th>id</th>\n",
       "      <th>name</th>\n",
       "      <th>wholesale price</th>\n",
       "      <th>retail price</th>\n",
       "      <th>sales</th>\n",
       "    </tr>\n",
       "  </thead>\n",
       "  <tbody>\n",
       "    <tr>\n",
       "      <th>0</th>\n",
       "      <td>1</td>\n",
       "      <td>black pen</td>\n",
       "      <td>0.25</td>\n",
       "      <td>1.75</td>\n",
       "      <td>251</td>\n",
       "    </tr>\n",
       "    <tr>\n",
       "      <th>1</th>\n",
       "      <td>2</td>\n",
       "      <td>stapler</td>\n",
       "      <td>1.50</td>\n",
       "      <td>5.99</td>\n",
       "      <td>37</td>\n",
       "    </tr>\n",
       "    <tr>\n",
       "      <th>2</th>\n",
       "      <td>3</td>\n",
       "      <td>ruler</td>\n",
       "      <td>1.15</td>\n",
       "      <td>2.00</td>\n",
       "      <td>20</td>\n",
       "    </tr>\n",
       "    <tr>\n",
       "      <th>3</th>\n",
       "      <td>4</td>\n",
       "      <td>tissues</td>\n",
       "      <td>1.00</td>\n",
       "      <td>2.50</td>\n",
       "      <td>302</td>\n",
       "    </tr>\n",
       "    <tr>\n",
       "      <th>4</th>\n",
       "      <td>5</td>\n",
       "      <td>eraser</td>\n",
       "      <td>0.30</td>\n",
       "      <td>1.50</td>\n",
       "      <td>24</td>\n",
       "    </tr>\n",
       "  </tbody>\n",
       "</table>\n",
       "</div>"
      ],
      "text/plain": [
       "   id       name  wholesale price  retail price  sales\n",
       "0   1  black pen             0.25          1.75    251\n",
       "1   2    stapler             1.50          5.99     37\n",
       "2   3      ruler             1.15          2.00     20\n",
       "3   4    tissues             1.00          2.50    302\n",
       "4   5     eraser             0.30          1.50     24"
      ]
     },
     "execution_count": 12,
     "metadata": {},
     "output_type": "execute_result"
    }
   ],
   "source": [
    "inventory = DataFrame(\n",
    "    {\n",
    "        \"id\": [1, 2, 3, 4, 5],\n",
    "        \"name\": [\"black pen\", \"stapler\", \"ruler\", \"tissues\", \"eraser\"],\n",
    "        \"wholesale price\": [0.25, 1.5, 1.15, 1.0, 0.3],\n",
    "        \"retail price\": [1.75, 5.99, 2.0, 2.5, 1.5],\n",
    "        \"sales\": [251, 37, 20, 302, 24],\n",
    "    }\n",
    ")\n",
    "inventory"
   ]
  },
  {
   "cell_type": "code",
   "execution_count": 13,
   "metadata": {},
   "outputs": [
    {
     "data": {
      "text/plain": [
       "np.float64(1041.43)"
      ]
     },
     "execution_count": 13,
     "metadata": {},
     "output_type": "execute_result"
    }
   ],
   "source": [
    "# calculate the products' total revenue\n",
    "((inventory[\"retail price\"] - inventory[\"wholesale price\"]) * inventory[\"sales\"]).sum()"
   ]
  },
  {
   "cell_type": "markdown",
   "metadata": {},
   "source": [
    "# Extension questions\n",
    "1. For what products is the retail price more than twice the wholesale price?\n",
    "2. How much did the store make from consumables vs non-consumables (staplers)\n",
    "3. Because your store is doing so well, you can negotiate a 30% discount on the wholesale price of goods. Calculate the new net income."
   ]
  },
  {
   "cell_type": "code",
   "execution_count": 31,
   "metadata": {},
   "outputs": [
    {
     "data": {
      "text/html": [
       "<div>\n",
       "<style scoped>\n",
       "    .dataframe tbody tr th:only-of-type {\n",
       "        vertical-align: middle;\n",
       "    }\n",
       "\n",
       "    .dataframe tbody tr th {\n",
       "        vertical-align: top;\n",
       "    }\n",
       "\n",
       "    .dataframe thead th {\n",
       "        text-align: right;\n",
       "    }\n",
       "</style>\n",
       "<table border=\"1\" class=\"dataframe\">\n",
       "  <thead>\n",
       "    <tr style=\"text-align: right;\">\n",
       "      <th></th>\n",
       "      <th>id</th>\n",
       "      <th>name</th>\n",
       "      <th>wholesale price</th>\n",
       "      <th>retail price</th>\n",
       "      <th>sales</th>\n",
       "      <th>profit</th>\n",
       "    </tr>\n",
       "  </thead>\n",
       "  <tbody>\n",
       "    <tr>\n",
       "      <th>0</th>\n",
       "      <td>1</td>\n",
       "      <td>black pen</td>\n",
       "      <td>0.25</td>\n",
       "      <td>1.75</td>\n",
       "      <td>251</td>\n",
       "      <td>376.50</td>\n",
       "    </tr>\n",
       "    <tr>\n",
       "      <th>1</th>\n",
       "      <td>2</td>\n",
       "      <td>stapler</td>\n",
       "      <td>1.50</td>\n",
       "      <td>5.99</td>\n",
       "      <td>37</td>\n",
       "      <td>166.13</td>\n",
       "    </tr>\n",
       "    <tr>\n",
       "      <th>3</th>\n",
       "      <td>4</td>\n",
       "      <td>tissues</td>\n",
       "      <td>1.00</td>\n",
       "      <td>2.50</td>\n",
       "      <td>302</td>\n",
       "      <td>453.00</td>\n",
       "    </tr>\n",
       "    <tr>\n",
       "      <th>4</th>\n",
       "      <td>5</td>\n",
       "      <td>eraser</td>\n",
       "      <td>0.30</td>\n",
       "      <td>1.50</td>\n",
       "      <td>24</td>\n",
       "      <td>28.80</td>\n",
       "    </tr>\n",
       "  </tbody>\n",
       "</table>\n",
       "</div>"
      ],
      "text/plain": [
       "   id       name  wholesale price  retail price  sales  profit\n",
       "0   1  black pen             0.25          1.75    251  376.50\n",
       "1   2    stapler             1.50          5.99     37  166.13\n",
       "3   4    tissues             1.00          2.50    302  453.00\n",
       "4   5     eraser             0.30          1.50     24   28.80"
      ]
     },
     "execution_count": 31,
     "metadata": {},
     "output_type": "execute_result"
    }
   ],
   "source": [
    "# 1. Retail more than twice the wholesale\n",
    "# in my case this is all of them, but we'll do the calculation anyway\n",
    "inventory[inventory[\"retail price\"] > inventory[\"wholesale price\"] * 2]"
   ]
  },
  {
   "cell_type": "code",
   "execution_count": null,
   "metadata": {},
   "outputs": [
    {
     "name": "stdout",
     "output_type": "stream",
     "text": [
      "Consumables: $858.30\n",
      "Non-consumables: $183.13\n",
      "Extra profit from consumables: $675.17\n"
     ]
    }
   ],
   "source": [
    "# 2. How much did we make from consumables vs non-consumables\n",
    "inventory[\"profit\"] = (\n",
    "    inventory[\"retail price\"] - inventory[\"wholesale price\"]\n",
    ") * inventory[\"sales\"]\n",
    "consumables = inventory[\"profit\"][[0, 3, 4]].sum()\n",
    "non_consumables = inventory.loc[[1, 2]][\"profit\"].sum()\n",
    "print(f\"Consumables: ${consumables:.2f}\")\n",
    "print(f\"Non-consumables: ${non_consumables:.2f}\")\n",
    "print(f\"Extra profit from consumables: ${consumables - non_consumables:.2f}\")\n"
   ]
  },
  {
   "cell_type": "code",
   "execution_count": 35,
   "metadata": {},
   "outputs": [
    {
     "name": "stdout",
     "output_type": "stream",
     "text": [
      "Consumables: $858.30\n",
      "Non-consumables: $183.13\n",
      "Extra profit from consumables: $675.17\n"
     ]
    }
   ],
   "source": [
    "# let's try the previous one but using names instead\n",
    "consumable_items = [\"black pen\", \"tissues\", \"eraser\"]\n",
    "non_consumable_items = [\"stapler\", \"ruler\"]\n",
    "\n",
    "con_profit = inventory[\"profit\"][inventory[\"name\"].isin(consumable_items)].sum()\n",
    "non_con_profit = inventory[\"profit\"][inventory[\"name\"].isin(non_consumable_items)].sum()\n",
    "\n",
    "print(f\"Consumables: ${con_profit:.2f}\")\n",
    "print(f\"Non-consumables: ${non_con_profit:.2f}\")\n",
    "print(f\"Extra profit from consumables: ${con_profit - non_con_profit:.2f}\")"
   ]
  },
  {
   "cell_type": "code",
   "execution_count": null,
   "metadata": {},
   "outputs": [
    {
     "name": "stdout",
     "output_type": "stream",
     "text": [
      "Net income with 30% wholesale discount: $1176.57\n"
     ]
    }
   ],
   "source": [
    "# 3. Recalculate net income with a 30% wholesale price reduction\n",
    "discounted_income = (\n",
    "    (inventory[\"retail price\"] - inventory[\"wholesale price\"] * 0.7)\n",
    "    * inventory[\"sales\"]\n",
    ").sum()\n",
    "print(f\"Net income with 30% wholesale discount: ${discounted_income:.2f}\")"
   ]
  }
 ],
 "metadata": {
  "kernelspec": {
   "display_name": ".venv",
   "language": "python",
   "name": "python3"
  },
  "language_info": {
   "codemirror_mode": {
    "name": "ipython",
    "version": 3
   },
   "file_extension": ".py",
   "mimetype": "text/x-python",
   "name": "python",
   "nbconvert_exporter": "python",
   "pygments_lexer": "ipython3",
   "version": "3.12.7"
  }
 },
 "nbformat": 4,
 "nbformat_minor": 2
}
