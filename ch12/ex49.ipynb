{
 "cells": [
  {
   "cell_type": "code",
   "execution_count": 3,
   "metadata": {},
   "outputs": [],
   "source": [
    "import pandas as pd\n",
    "import time"
   ]
  },
  {
   "cell_type": "code",
   "execution_count": 5,
   "metadata": {},
   "outputs": [
    {
     "name": "stdout",
     "output_type": "stream",
     "text": [
      "Timing reads:\n",
      "\tPyArrow CSV read...17.497207333974075\n",
      "\tDefault CSV read..."
     ]
    },
    {
     "name": "stderr",
     "output_type": "stream",
     "text": [
      "/var/folders/sc/d9tfnq_94nb1fyp3zl3vc8y00000gn/T/ipykernel_26728/3142404146.py:9: DtypeWarning: Columns (18,29,38,39) have mixed types. Specify dtype option on import or set low_memory=False.\n",
      "  df = pd.read_csv(\"../data/nyc-parking-violations-2020.csv\")\n"
     ]
    },
    {
     "name": "stdout",
     "output_type": "stream",
     "text": [
      "\t34.87162225000793\n"
     ]
    }
   ],
   "source": [
    "print(\"Timing reads:\")\n",
    "print(\"\\tPyArrow CSV read...\", end=\"\")\n",
    "time_start = time.perf_counter()\n",
    "df = pd.read_csv(\"../data/nyc-parking-violations-2020.csv\", engine=\"pyarrow\")\n",
    "time_end = time.perf_counter()\n",
    "print(f\"{time_end - time_start}\")\n",
    "print(\"\\tDefault CSV read...\", end=\"\")\n",
    "time_start = time.perf_counter()\n",
    "df = pd.read_csv(\"../data/nyc-parking-violations-2020.csv\")\n",
    "time_end = time.perf_counter()\n",
    "print(f\"\\t{time_end - time_start}\")"
   ]
  },
  {
   "cell_type": "code",
   "execution_count": 4,
   "metadata": {},
   "outputs": [
    {
     "name": "stdout",
     "output_type": "stream",
     "text": [
      "Converting files\n",
      "\tcsv total time: 72.37753045797581\n",
      "\tjson total time: 137.52824979199795\n",
      "\tfeather total time: 14.405495000013616\n"
     ]
    }
   ],
   "source": [
    "formats = {\"csv\": df.to_csv, \"json\": df.to_json, \"feather\": df.to_feather}\n",
    "print(\"Converting files\")\n",
    "for ext, func in formats.items():\n",
    "    start_time = time.perf_counter()\n",
    "    func(f\"out.{ext}\")\n",
    "    end_time = time.perf_counter()\n",
    "    print(f\"\\t{ext} total time: {end_time - start_time}\")"
   ]
  },
  {
   "cell_type": "code",
   "execution_count": 6,
   "metadata": {},
   "outputs": [
    {
     "name": "stdout",
     "output_type": "stream",
     "text": [
      "PyArrow backend\n"
     ]
    },
    {
     "name": "stderr",
     "output_type": "stream",
     "text": [
      "/var/folders/sc/d9tfnq_94nb1fyp3zl3vc8y00000gn/T/ipykernel_26728/818779712.py:3: DtypeWarning: Columns (18,38) have mixed types. Specify dtype option on import or set low_memory=False.\n",
      "  df_pa = pd.read_csv(\"../data/nyc-parking-violations-2020.csv\", dtype_backend=\"pyarrow\")\n"
     ]
    },
    {
     "data": {
      "text/plain": [
       "4947"
      ]
     },
     "execution_count": 6,
     "metadata": {},
     "output_type": "execute_result"
    }
   ],
   "source": [
    "# memory footprint\n",
    "print(\"PyArrow backend\")\n",
    "df_pa = pd.read_csv(\"../data/nyc-parking-violations-2020.csv\", dtype_backend=\"pyarrow\")\n",
    "df_pa.memory_usage(deep=True).sum() // (1024 * 1024)\n"
   ]
  },
  {
   "cell_type": "code",
   "execution_count": 7,
   "metadata": {},
   "outputs": [
    {
     "name": "stdout",
     "output_type": "stream",
     "text": [
      "Numpy backend\n"
     ]
    },
    {
     "name": "stderr",
     "output_type": "stream",
     "text": [
      "/var/folders/sc/d9tfnq_94nb1fyp3zl3vc8y00000gn/T/ipykernel_26728/3119998025.py:2: DtypeWarning: Columns (18,29,38,39) have mixed types. Specify dtype option on import or set low_memory=False.\n",
      "  df_pa = pd.read_csv(\"../data/nyc-parking-violations-2020.csv\")\n"
     ]
    },
    {
     "data": {
      "text/plain": [
       "16010"
      ]
     },
     "execution_count": 7,
     "metadata": {},
     "output_type": "execute_result"
    }
   ],
   "source": [
    "print(\"Numpy backend\")\n",
    "df_pa = pd.read_csv(\"../data/nyc-parking-violations-2020.csv\")\n",
    "df_pa.memory_usage(deep=True).sum() // (1024 * 1024)"
   ]
  },
  {
   "cell_type": "markdown",
   "metadata": {},
   "source": [
    "So PyArrow is about twice as fast as the default CSV engine when reading.\n",
    "\n",
    "And it uses about a third of the memory when using the PyArrow dtypes."
   ]
  }
 ],
 "metadata": {
  "kernelspec": {
   "display_name": ".venv",
   "language": "python",
   "name": "python3"
  },
  "language_info": {
   "codemirror_mode": {
    "name": "ipython",
    "version": 3
   },
   "file_extension": ".py",
   "mimetype": "text/x-python",
   "name": "python",
   "nbconvert_exporter": "python",
   "pygments_lexer": "ipython3",
   "version": "3.12.7"
  }
 },
 "nbformat": 4,
 "nbformat_minor": 2
}
