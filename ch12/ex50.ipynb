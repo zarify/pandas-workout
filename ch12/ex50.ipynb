{
 "cells": [
  {
   "cell_type": "code",
   "execution_count": 6,
   "metadata": {},
   "outputs": [],
   "source": [
    "import pandas as pd\n",
    "import numpy as np\n",
    "import time"
   ]
  },
  {
   "cell_type": "code",
   "execution_count": 5,
   "metadata": {},
   "outputs": [
    {
     "data": {
      "text/html": [
       "<div>\n",
       "<style scoped>\n",
       "    .dataframe tbody tr th:only-of-type {\n",
       "        vertical-align: middle;\n",
       "    }\n",
       "\n",
       "    .dataframe tbody tr th {\n",
       "        vertical-align: top;\n",
       "    }\n",
       "\n",
       "    .dataframe thead th {\n",
       "        text-align: right;\n",
       "    }\n",
       "</style>\n",
       "<table border=\"1\" class=\"dataframe\">\n",
       "  <thead>\n",
       "    <tr style=\"text-align: right;\">\n",
       "      <th></th>\n",
       "      <th>pid</th>\n",
       "      <th>state</th>\n",
       "      <th>ptype</th>\n",
       "      <th>make</th>\n",
       "      <th>color</th>\n",
       "      <th>feet</th>\n",
       "    </tr>\n",
       "  </thead>\n",
       "  <tbody>\n",
       "    <tr>\n",
       "      <th>0</th>\n",
       "      <td>J58JKX</td>\n",
       "      <td>NJ</td>\n",
       "      <td>PAS</td>\n",
       "      <td>HONDA</td>\n",
       "      <td>BK</td>\n",
       "      <td>0</td>\n",
       "    </tr>\n",
       "    <tr>\n",
       "      <th>1</th>\n",
       "      <td>KRE6058</td>\n",
       "      <td>PA</td>\n",
       "      <td>PAS</td>\n",
       "      <td>ME/BE</td>\n",
       "      <td>BLK</td>\n",
       "      <td>0</td>\n",
       "    </tr>\n",
       "    <tr>\n",
       "      <th>2</th>\n",
       "      <td>444326R</td>\n",
       "      <td>NJ</td>\n",
       "      <td>PAS</td>\n",
       "      <td>LEXUS</td>\n",
       "      <td>BLACK</td>\n",
       "      <td>0</td>\n",
       "    </tr>\n",
       "    <tr>\n",
       "      <th>3</th>\n",
       "      <td>F728330</td>\n",
       "      <td>OH</td>\n",
       "      <td>PAS</td>\n",
       "      <td>CHEVR</td>\n",
       "      <td>NaN</td>\n",
       "      <td>0</td>\n",
       "    </tr>\n",
       "    <tr>\n",
       "      <th>4</th>\n",
       "      <td>FMY9090</td>\n",
       "      <td>NY</td>\n",
       "      <td>PAS</td>\n",
       "      <td>JEEP</td>\n",
       "      <td>GREY</td>\n",
       "      <td>0</td>\n",
       "    </tr>\n",
       "  </tbody>\n",
       "</table>\n",
       "</div>"
      ],
      "text/plain": [
       "       pid state ptype   make  color  feet\n",
       "0   J58JKX    NJ   PAS  HONDA     BK     0\n",
       "1  KRE6058    PA   PAS  ME/BE    BLK     0\n",
       "2  444326R    NJ   PAS  LEXUS  BLACK     0\n",
       "3  F728330    OH   PAS  CHEVR    NaN     0\n",
       "4  FMY9090    NY   PAS   JEEP   GREY     0"
      ]
     },
     "execution_count": 5,
     "metadata": {},
     "output_type": "execute_result"
    }
   ],
   "source": [
    "df = pd.read_csv(\n",
    "    \"../data/nyc-parking-violations-2020.csv\",\n",
    "    usecols=[1, 2, 3, 37, 7, 33],\n",
    "    header=0,\n",
    "    names=[\n",
    "        \"pid\",\n",
    "        \"state\",\n",
    "        \"ptype\",\n",
    "        \"make\",\n",
    "        \"color\",\n",
    "        \"feet\",\n",
    "    ],  # this is in numeric order :/\n",
    ")\n",
    "df.head()"
   ]
  },
  {
   "cell_type": "code",
   "execution_count": 10,
   "metadata": {},
   "outputs": [
    {
     "name": "stdout",
     "output_type": "stream",
     "text": [
      ".loc time 1.8353916670312174\n"
     ]
    }
   ],
   "source": [
    "# find all cars with registration state of New York (NY), New Jersey (NJ), or Conneticut (CT) using `.loc`\n",
    "start_time = time.perf_counter()\n",
    "# df.loc[df[\"state\"].isin((\"NY\", \"NJ\", \"CT\"))]  # this is actually quite quick (0.6s)\n",
    "df.loc[\n",
    "    (df[\"state\"] == \"NY\") | (df[\"state\"] == \"NJ\") | (df[\"state\"] == \"CT\")\n",
    "]  # slow at 1.8s\n",
    "end_time = time.perf_counter()\n",
    "print(f\".loc time {end_time - start_time}\")"
   ]
  },
  {
   "cell_type": "code",
   "execution_count": null,
   "metadata": {},
   "outputs": [
    {
     "name": "stdout",
     "output_type": "stream",
     "text": [
      ".query time 0.9077031249762513\n"
     ]
    }
   ],
   "source": [
    "# now use `.query`\n",
    "start_time = time.perf_counter()\n",
    "# df.query(\"state.isin(('NY', 'NJ', 'CT'))\")  # quick at 0.7s\n",
    "df.query(\n",
    "    \"(state == 'NY') | (state == 'NJ') | (state == 'CT')\"\n",
    ")  # 0.9s, so about twice as fast for the same op using `.loc`\n",
    "end_time = time.perf_counter()\n",
    "print(f\".query time {end_time - start_time}\")"
   ]
  },
  {
   "cell_type": "markdown",
   "metadata": {},
   "source": [
    "Use `timeit` with the ipython magic: `%timeit myfunc(args)`\n",
    "\n",
    "1. Find cars from New York\n",
    "2. Find cars from New York with passenger (`PAS`) plates\n",
    "3. Find white cars from New York with passenger plates\n",
    "4. Find white cars from New York with passenger plates that were parked more than 1 foot from the curb\n",
    "5. Find white Toyota cars from New York with passenger plates that were parked more than 1 foot from the curb\n",
    "\n",
    "Use `df.loc`, `df.query`, and `df.eval` and compare the differences."
   ]
  },
  {
   "cell_type": "code",
   "execution_count": 25,
   "metadata": {},
   "outputs": [
    {
     "name": "stdout",
     "output_type": "stream",
     "text": [
      "820 ms ± 4.75 ms per loop (mean ± std. dev. of 7 runs, 1 loop each)\n",
      "557 ms ± 1.43 ms per loop (mean ± std. dev. of 7 runs, 1 loop each)\n",
      "566 ms ± 20.7 ms per loop (mean ± std. dev. of 7 runs, 1 loop each)\n"
     ]
    }
   ],
   "source": [
    "%timeit df.loc[df[\"state\"] == \"NY\"]\n",
    "%timeit df.query(\"state == 'NY'\")\n",
    "%timeit df.loc[df.eval(\"state == 'NY'\")]"
   ]
  },
  {
   "cell_type": "code",
   "execution_count": 26,
   "metadata": {},
   "outputs": [
    {
     "name": "stdout",
     "output_type": "stream",
     "text": [
      "1.21 s ± 1.91 ms per loop (mean ± std. dev. of 7 runs, 1 loop each)\n",
      "666 ms ± 11.4 ms per loop (mean ± std. dev. of 7 runs, 1 loop each)\n",
      "662 ms ± 1.35 ms per loop (mean ± std. dev. of 7 runs, 1 loop each)\n"
     ]
    }
   ],
   "source": [
    "%timeit df.loc[(df[\"state\"] == \"NY\") & (df[\"ptype\"] == \"PAS\")]\n",
    "%timeit df.query(\"(state == 'NY') & (ptype == 'PAS')\")\n",
    "%timeit df.loc[df.eval(\"(state == 'NY') & (ptype == 'PAS')\")]"
   ]
  },
  {
   "cell_type": "code",
   "execution_count": 27,
   "metadata": {},
   "outputs": [
    {
     "name": "stdout",
     "output_type": "stream",
     "text": [
      "1.42 s ± 15.7 ms per loop (mean ± std. dev. of 7 runs, 1 loop each)\n",
      "561 ms ± 944 μs per loop (mean ± std. dev. of 7 runs, 1 loop each)\n",
      "561 ms ± 675 μs per loop (mean ± std. dev. of 7 runs, 1 loop each)\n"
     ]
    }
   ],
   "source": [
    "%timeit df.loc[(df[\"state\"] == \"NY\") & (df[\"ptype\"] == \"PAS\") & (df[\"color\"] == \"WHITE\")]\n",
    "%timeit df.query(\"(state == 'NY') & (ptype == 'PAS') & (color == 'WHITE')\")\n",
    "%timeit df.loc[df.eval(\"(state == 'NY') & (ptype == 'PAS') & (color == 'WHITE')\")]"
   ]
  },
  {
   "cell_type": "code",
   "execution_count": 28,
   "metadata": {},
   "outputs": [
    {
     "name": "stdout",
     "output_type": "stream",
     "text": [
      "1.41 s ± 1.62 ms per loop (mean ± std. dev. of 7 runs, 1 loop each)\n",
      "559 ms ± 968 μs per loop (mean ± std. dev. of 7 runs, 1 loop each)\n",
      "559 ms ± 1.29 ms per loop (mean ± std. dev. of 7 runs, 1 loop each)\n"
     ]
    }
   ],
   "source": [
    "%timeit df.loc[(df[\"state\"] == \"NY\") & (df[\"ptype\"] == \"PAS\") & (df[\"color\"] == \"WHITE\") & (df[\"feet\"] > 1)]\n",
    "%timeit df.query(\"(state == 'NY') & (ptype == 'PAS') & (color == 'WHITE') & (feet > 1)\")\n",
    "%timeit df.loc[df.eval(\"(state == 'NY') & (ptype == 'PAS') & (color == 'WHITE') & (feet > 1)\")]"
   ]
  },
  {
   "cell_type": "code",
   "execution_count": 29,
   "metadata": {},
   "outputs": [
    {
     "name": "stdout",
     "output_type": "stream",
     "text": [
      "1.9 s ± 15.6 ms per loop (mean ± std. dev. of 7 runs, 1 loop each)\n",
      "728 ms ± 10.4 ms per loop (mean ± std. dev. of 7 runs, 1 loop each)\n",
      "724 ms ± 1.25 ms per loop (mean ± std. dev. of 7 runs, 1 loop each)\n"
     ]
    }
   ],
   "source": [
    "%timeit df.loc[(df[\"state\"] == \"NY\") & (df[\"ptype\"] == \"PAS\") & (df[\"color\"] == \"WHITE\") & (df[\"feet\"] > 1) & (df[\"make\"] == \"TOYOT\")]\n",
    "%timeit df.query(\"(state == 'NY') & (ptype == 'PAS') & (color == 'WHITE') & (feet > 1) & (make == 'TOYOT')\")\n",
    "%timeit df.loc[df.eval(\"(state == 'NY') & (ptype == 'PAS') & (color == 'WHITE') & (feet > 1) & (make == 'TOYOT')\")]"
   ]
  },
  {
   "cell_type": "code",
   "execution_count": 30,
   "metadata": {},
   "outputs": [
    {
     "name": "stdout",
     "output_type": "stream",
     "text": [
      "713 ms ± 2.73 ms per loop (mean ± std. dev. of 7 runs, 1 loop each)\n"
     ]
    }
   ],
   "source": [
    "# beyond 1, can use 'and' and 'or' in `.query` - does it make any difference to speed?\n",
    "%timeit df.query(\"(state == 'NY') and (ptype == 'PAS') and (color == 'WHITE') and (feet > 1) and (make == 'TOYOT')\")\n",
    "# doesn't look like it"
   ]
  },
  {
   "cell_type": "code",
   "execution_count": 31,
   "metadata": {},
   "outputs": [
    {
     "name": "stdout",
     "output_type": "stream",
     "text": [
      "43.4 ms ± 430 μs per loop (mean ± std. dev. of 7 runs, 1 loop each)\n",
      "59.1 ms ± 112 μs per loop (mean ± std. dev. of 7 runs, 10 loops each)\n"
     ]
    }
   ],
   "source": [
    "# beyond 2 - use a multiplication in the selection to find out which cars are more than 1m (3.28 feet) from the curb\n",
    "%timeit df.loc[df[\"feet\"] * 3.28 > 1]\n",
    "%timeit df.query(\"feet * 3.28 > 1\")\n",
    "# looks like a slight cost increase when using .query including a calculation"
   ]
  },
  {
   "cell_type": "code",
   "execution_count": 32,
   "metadata": {},
   "outputs": [
    {
     "name": "stdout",
     "output_type": "stream",
     "text": [
      "511 ms ± 1.1 ms per loop (mean ± std. dev. of 7 runs, 1 loop each)\n",
      "253 ms ± 916 μs per loop (mean ± std. dev. of 7 runs, 1 loop each)\n"
     ]
    }
   ],
   "source": [
    "# beyond 3 - use the calculation from beyond 2 and are in NY\n",
    "%timeit df.loc[(df[\"feet\"] * 3.28 > 1) & (df[\"state\"] == \"NY\")]\n",
    "%timeit df.query(\"(feet * 3.28 > 1) and (state == 'NY')\")\n",
    "# calculation hit is more than outweighed by the speed boost for multiple boolean series"
   ]
  }
 ],
 "metadata": {
  "kernelspec": {
   "display_name": ".venv",
   "language": "python",
   "name": "python3"
  },
  "language_info": {
   "codemirror_mode": {
    "name": "ipython",
    "version": 3
   },
   "file_extension": ".py",
   "mimetype": "text/x-python",
   "name": "python",
   "nbconvert_exporter": "python",
   "pygments_lexer": "ipython3",
   "version": "3.12.7"
  }
 },
 "nbformat": 4,
 "nbformat_minor": 2
}
