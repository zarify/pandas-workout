{
 "cells": [
  {
   "cell_type": "code",
   "execution_count": 2,
   "metadata": {},
   "outputs": [],
   "source": [
    "import pandas as pd\n",
    "import numpy as np"
   ]
  },
  {
   "cell_type": "code",
   "execution_count": 3,
   "metadata": {},
   "outputs": [
    {
     "name": "stderr",
     "output_type": "stream",
     "text": [
      "/var/folders/sc/d9tfnq_94nb1fyp3zl3vc8y00000gn/T/ipykernel_25961/3656090309.py:1: DtypeWarning: Columns (29) have mixed types. Specify dtype option on import or set low_memory=False.\n",
      "  df = pd.read_csv(\n"
     ]
    }
   ],
   "source": [
    "df = pd.read_csv(\n",
    "    \"../data/nyc-parking-violations-2020.csv\",\n",
    "    usecols=[\n",
    "        \"Plate ID\",\n",
    "        \"Registration State\",\n",
    "        \"Vehicle Make\",\n",
    "        \"Vehicle Color\",\n",
    "        \"Vehicle Body Type\",\n",
    "        \"Violation Time\",\n",
    "        \"Street Name\",\n",
    "        \"Violation Legal Code\",\n",
    "    ],\n",
    ")"
   ]
  },
  {
   "cell_type": "code",
   "execution_count": 4,
   "metadata": {},
   "outputs": [
    {
     "data": {
      "text/plain": [
       "Index                     0\n",
       "Plate ID                665\n",
       "Registration State      607\n",
       "Vehicle Body Type       628\n",
       "Vehicle Make            638\n",
       "Violation Time          643\n",
       "Street Name             743\n",
       "Violation Legal Code    457\n",
       "Vehicle Color           608\n",
       "dtype: int64"
      ]
     },
     "execution_count": 4,
     "metadata": {},
     "output_type": "execute_result"
    }
   ],
   "source": [
    "df.memory_usage(deep=True) // (1024 * 1024)  # MB usage"
   ]
  },
  {
   "cell_type": "code",
   "execution_count": 5,
   "metadata": {},
   "outputs": [
    {
     "name": "stdout",
     "output_type": "stream",
     "text": [
      "Changing 'Plate ID' to category...done!\n",
      "Changing 'Registration State' to category...done!\n",
      "Changing 'Vehicle Body Type' to category...done!\n",
      "Changing 'Vehicle Make' to category...done!\n",
      "Changing 'Violation Time' to category...done!\n",
      "Changing 'Street Name' to category...done!\n",
      "Changing 'Violation Legal Code' to category...done!\n",
      "Changing 'Vehicle Color' to category...done!\n"
     ]
    }
   ],
   "source": [
    "for col in df.columns:\n",
    "    print(f\"Changing '{col}' to category...\", end=\"\")\n",
    "    df[col] = df[col].astype(\"category\")\n",
    "    print(\"done!\")"
   ]
  },
  {
   "cell_type": "code",
   "execution_count": 6,
   "metadata": {},
   "outputs": [
    {
     "data": {
      "text/plain": [
       "Index                     0\n",
       "Plate ID                349\n",
       "Registration State       11\n",
       "Vehicle Body Type        23\n",
       "Vehicle Make             24\n",
       "Violation Time           23\n",
       "Street Name              53\n",
       "Violation Legal Code     11\n",
       "Vehicle Color            23\n",
       "dtype: int64"
      ]
     },
     "execution_count": 6,
     "metadata": {},
     "output_type": "execute_result"
    }
   ],
   "source": [
    "df.memory_usage(deep=True) // (1024 * 1024)"
   ]
  },
  {
   "cell_type": "code",
   "execution_count": 7,
   "metadata": {},
   "outputs": [
    {
     "data": {
      "text/html": [
       "<div>\n",
       "<style scoped>\n",
       "    .dataframe tbody tr th:only-of-type {\n",
       "        vertical-align: middle;\n",
       "    }\n",
       "\n",
       "    .dataframe tbody tr th {\n",
       "        vertical-align: top;\n",
       "    }\n",
       "\n",
       "    .dataframe thead th {\n",
       "        text-align: right;\n",
       "    }\n",
       "</style>\n",
       "<table border=\"1\" class=\"dataframe\">\n",
       "  <thead>\n",
       "    <tr style=\"text-align: right;\">\n",
       "      <th></th>\n",
       "      <th>Plate ID</th>\n",
       "      <th>Registration State</th>\n",
       "      <th>Vehicle Body Type</th>\n",
       "      <th>Vehicle Make</th>\n",
       "      <th>Violation Time</th>\n",
       "      <th>Street Name</th>\n",
       "      <th>Violation Legal Code</th>\n",
       "      <th>Vehicle Color</th>\n",
       "    </tr>\n",
       "  </thead>\n",
       "  <tbody>\n",
       "    <tr>\n",
       "      <th>0</th>\n",
       "      <td>J58JKX</td>\n",
       "      <td>NJ</td>\n",
       "      <td>SDN</td>\n",
       "      <td>HONDA</td>\n",
       "      <td>0523P</td>\n",
       "      <td>43 ST</td>\n",
       "      <td>NaN</td>\n",
       "      <td>BK</td>\n",
       "    </tr>\n",
       "    <tr>\n",
       "      <th>1</th>\n",
       "      <td>KRE6058</td>\n",
       "      <td>PA</td>\n",
       "      <td>SUBN</td>\n",
       "      <td>ME/BE</td>\n",
       "      <td>0428P</td>\n",
       "      <td>UNION ST</td>\n",
       "      <td>NaN</td>\n",
       "      <td>BLK</td>\n",
       "    </tr>\n",
       "    <tr>\n",
       "      <th>2</th>\n",
       "      <td>444326R</td>\n",
       "      <td>NJ</td>\n",
       "      <td>SDN</td>\n",
       "      <td>LEXUS</td>\n",
       "      <td>0625A</td>\n",
       "      <td>CLERMONT AVENUE</td>\n",
       "      <td>NaN</td>\n",
       "      <td>BLACK</td>\n",
       "    </tr>\n",
       "    <tr>\n",
       "      <th>3</th>\n",
       "      <td>F728330</td>\n",
       "      <td>OH</td>\n",
       "      <td>SDN</td>\n",
       "      <td>CHEVR</td>\n",
       "      <td>1106A</td>\n",
       "      <td>DIVISION AVE</td>\n",
       "      <td>NaN</td>\n",
       "      <td>NaN</td>\n",
       "    </tr>\n",
       "    <tr>\n",
       "      <th>4</th>\n",
       "      <td>FMY9090</td>\n",
       "      <td>NY</td>\n",
       "      <td>SUBN</td>\n",
       "      <td>JEEP</td>\n",
       "      <td>1253A</td>\n",
       "      <td>GRAND ST</td>\n",
       "      <td>NaN</td>\n",
       "      <td>GREY</td>\n",
       "    </tr>\n",
       "  </tbody>\n",
       "</table>\n",
       "</div>"
      ],
      "text/plain": [
       "  Plate ID Registration State Vehicle Body Type Vehicle Make Violation Time  \\\n",
       "0   J58JKX                 NJ               SDN        HONDA          0523P   \n",
       "1  KRE6058                 PA              SUBN        ME/BE          0428P   \n",
       "2  444326R                 NJ               SDN        LEXUS          0625A   \n",
       "3  F728330                 OH               SDN        CHEVR          1106A   \n",
       "4  FMY9090                 NY              SUBN         JEEP          1253A   \n",
       "\n",
       "       Street Name Violation Legal Code Vehicle Color  \n",
       "0            43 ST                  NaN            BK  \n",
       "1         UNION ST                  NaN           BLK  \n",
       "2  CLERMONT AVENUE                  NaN         BLACK  \n",
       "3     DIVISION AVE                  NaN           NaN  \n",
       "4         GRAND ST                  NaN          GREY  "
      ]
     },
     "execution_count": 7,
     "metadata": {},
     "output_type": "execute_result"
    }
   ],
   "source": [
    "df.head()"
   ]
  },
  {
   "cell_type": "markdown",
   "metadata": {},
   "source": [
    "# Extension\n",
    "Read only the first 10_000 lines from the CSV file but all of the columns.\n",
    "Show the 10 columns that will most likely benefit the most from using categories."
   ]
  },
  {
   "cell_type": "code",
   "execution_count": 23,
   "metadata": {},
   "outputs": [
    {
     "data": {
      "text/plain": [
       "Plate ID                             object\n",
       "Registration State                   object\n",
       "Plate Type                           object\n",
       "Issue Date                           object\n",
       "Vehicle Body Type                    object\n",
       "Vehicle Make                         object\n",
       "Issuing Agency                       object\n",
       "Issuer Command                       object\n",
       "Issuer Squad                         object\n",
       "Violation Time                       object\n",
       "Time First Observed                  object\n",
       "Violation County                     object\n",
       "Violation In Front Of Or Opposite    object\n",
       "House Number                         object\n",
       "Street Name                          object\n",
       "Intersecting Street                  object\n",
       "Sub Division                         object\n",
       "Violation Legal Code                 object\n",
       "Days Parking In Effect               object\n",
       "From Hours In Effect                 object\n",
       "To Hours In Effect                   object\n",
       "Vehicle Color                        object\n",
       "Meter Number                         object\n",
       "Violation Post Code                  object\n",
       "Violation Description                object\n",
       "dtype: object"
      ]
     },
     "execution_count": 23,
     "metadata": {},
     "output_type": "execute_result"
    }
   ],
   "source": [
    "df10k = pd.read_csv(\"../data/nyc-parking-violations-2020.csv\", nrows=10_000)\n",
    "otypes = df10k.dtypes[df10k.dtypes == object]\n",
    "otypes\n",
    "# looking at these, there are 25 columns which are `object` type, and so should use up\n",
    "# more memory"
   ]
  },
  {
   "cell_type": "code",
   "execution_count": 24,
   "metadata": {},
   "outputs": [
    {
     "data": {
      "text/plain": [
       "Summons Number                         int64\n",
       "Violation Code                         int64\n",
       "Street Code1                           int64\n",
       "Street Code2                           int64\n",
       "Street Code3                           int64\n",
       "Vehicle Expiration Date                int64\n",
       "Violation Location                   float64\n",
       "Violation Precinct                     int64\n",
       "Issuer Precinct                        int64\n",
       "Issuer Code                            int64\n",
       "Date First Observed                    int64\n",
       "Law Section                            int64\n",
       "Unregistered Vehicle?                float64\n",
       "Vehicle Year                           int64\n",
       "Feet From Curb                         int64\n",
       "No Standing or Stopping Violation    float64\n",
       "Hydrant Violation                    float64\n",
       "Double Parking Violation             float64\n",
       "dtype: object"
      ]
     },
     "execution_count": 24,
     "metadata": {},
     "output_type": "execute_result"
    }
   ],
   "source": [
    "# here are the non-object\n",
    "df10k.dtypes[df10k.dtypes != object]"
   ]
  },
  {
   "cell_type": "code",
   "execution_count": 25,
   "metadata": {},
   "outputs": [
    {
     "data": {
      "text/plain": [
       "Violation Description                5615.000000\n",
       "Violation Legal Code                 5615.000000\n",
       "Violation County                     1086.333333\n",
       "Issuing Agency                        909.090909\n",
       "Violation In Front Of Or Opposite     796.800000\n",
       "Plate Type                            344.827586\n",
       "Issuer Squad                          257.941176\n",
       "Sub Division                          196.039216\n",
       "Registration State                    192.307692\n",
       "Days Parking In Effect                122.181818\n",
       "dtype: float64"
      ]
     },
     "execution_count": 25,
     "metadata": {},
     "output_type": "execute_result"
    }
   ],
   "source": [
    "# count the percentage of unique values for the object types\n",
    "# the assumption is that these will have the biggest impact, being strings and low numbers\n",
    "# of unique values\n",
    "predicted_top_10 = (\n",
    "    (df10k.count() / df10k[otypes.index].nunique())\n",
    "    .dropna()\n",
    "    .sort_values(ascending=False)\n",
    "    .iloc[:10]\n",
    ")\n",
    "predicted_top_10"
   ]
  },
  {
   "cell_type": "code",
   "execution_count": 26,
   "metadata": {},
   "outputs": [],
   "source": [
    "# convert every column to categories to check the memory savings\n",
    "initial_memory = df10k.memory_usage(deep=True, index=False)\n",
    "for col in df10k.columns:\n",
    "    df10k[col] = df10k[col].astype(\"category\")\n",
    "categorical_memory = df10k.memory_usage(deep=True, index=False)"
   ]
  },
  {
   "cell_type": "code",
   "execution_count": 27,
   "metadata": {},
   "outputs": [
    {
     "data": {
      "text/plain": [
       "Violation Description                1.969895\n",
       "Violation County                     2.140093\n",
       "Issuing Agency                       2.170000\n",
       "Violation Legal Code                 2.412425\n",
       "Plate Type                           2.419231\n",
       "Violation In Front Of Or Opposite    2.660628\n",
       "Issuer Squad                         2.813980\n",
       "Registration State                   2.893333\n",
       "Sub Division                         2.919663\n",
       "Days Parking In Effect               3.117291\n",
       "dtype: float64"
      ]
     },
     "execution_count": 27,
     "metadata": {},
     "output_type": "execute_result"
    }
   ],
   "source": [
    "actual_top_10 = ((categorical_memory / initial_memory).sort_values() * 100).iloc[:10]\n",
    "actual_top_10"
   ]
  },
  {
   "cell_type": "code",
   "execution_count": 28,
   "metadata": {},
   "outputs": [
    {
     "data": {
      "text/plain": [
       "True"
      ]
     },
     "execution_count": 28,
     "metadata": {},
     "output_type": "execute_result"
    }
   ],
   "source": [
    "# now let's compare the our predicted savings vs actual savings\n",
    "sorted(predicted_top_10.index) == sorted(actual_top_10.index)\n",
    "# some of the positions were different, but overall the top 10 actual savings were also the top 10 predictions"
   ]
  },
  {
   "cell_type": "markdown",
   "metadata": {},
   "source": [
    "## Memory savings conclusion\n",
    "The book simply looks at how many unique values there are, regardless of dtype:\n",
    "\n",
    "```python\n",
    "(df.count() / df.nunique()).sort_values(ascending=False).head(10)\n",
    "```\n",
    "\n",
    "This results in a number of numeric or boolean data surfacing in the \"best replaced with categories\" list."
   ]
  },
  {
   "cell_type": "code",
   "execution_count": 29,
   "metadata": {},
   "outputs": [
    {
     "data": {
      "text/plain": [
       "Violation Description                 1.969895\n",
       "Violation County                      2.140093\n",
       "Issuing Agency                        2.170000\n",
       "Violation Legal Code                  2.412425\n",
       "Plate Type                            2.419231\n",
       "Violation In Front Of Or Opposite     2.660628\n",
       "Unregistered Vehicle?                12.645000\n",
       "Law Section                          12.665000\n",
       "Feet From Curb                       12.995000\n",
       "Date First Observed                  13.445000\n",
       "dtype: float64"
      ]
     },
     "execution_count": 29,
     "metadata": {},
     "output_type": "execute_result"
    }
   ],
   "source": [
    "# let's look at the result of the naive approach\n",
    "filename = \"../data/nyc-parking-violations-2020.csv\"\n",
    "\n",
    "dfbook = pd.read_csv(filename, nrows=10_000)\n",
    "column_list = (dfbook.count() / dfbook.nunique()).sort_values(ascending=False).head(10)\n",
    "\n",
    "(\n",
    "    categorical_memory[column_list.index] / initial_memory[column_list.index]\n",
    ").sort_values() * 100"
   ]
  },
  {
   "cell_type": "markdown",
   "metadata": {},
   "source": [
    "So the top 6 items were text values and so saw huge memory savings. The `Unregistered Vehicle?`, `Law Section`, `Feet From Curb`, `Date First Observed` fields saw improvements but were an order of magnitude difference.\n",
    "- `Unregistered Vehicle?`: `np.float64`\n",
    "- `Law Section`: `np.int64`\n",
    "- `Feet From Curb`: `np.int64`\n",
    "- `Date First Observed`: `np.int64`"
   ]
  }
 ],
 "metadata": {
  "kernelspec": {
   "display_name": ".venv",
   "language": "python",
   "name": "python3"
  },
  "language_info": {
   "codemirror_mode": {
    "name": "ipython",
    "version": 3
   },
   "file_extension": ".py",
   "mimetype": "text/x-python",
   "name": "python",
   "nbconvert_exporter": "python",
   "pygments_lexer": "ipython3",
   "version": "3.12.7"
  }
 },
 "nbformat": 4,
 "nbformat_minor": 2
}
