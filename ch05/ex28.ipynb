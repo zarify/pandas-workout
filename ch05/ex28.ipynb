{
 "cells": [
  {
   "cell_type": "code",
   "execution_count": 1,
   "metadata": {},
   "outputs": [],
   "source": [
    "import pandas as pd\n",
    "import numpy as np"
   ]
  },
  {
   "cell_type": "code",
   "execution_count": null,
   "metadata": {},
   "outputs": [],
   "source": [
    "df = pd.read_csv(\n",
    "    \"../data/nyc-parking-violations-2020.csv\",\n",
    "    usecols=[\n",
    "        \"Plate ID\",\n",
    "        \"Registration State\",\n",
    "        \"Vehicle Make\",\n",
    "        \"Vehicle Color\",\n",
    "        \"Street Name\",\n",
    "    ],\n",
    ")"
   ]
  },
  {
   "cell_type": "code",
   "execution_count": 3,
   "metadata": {},
   "outputs": [
    {
     "data": {
      "text/plain": [
       "count     12103752\n",
       "unique        1896\n",
       "top             WH\n",
       "freq       2344858\n",
       "Name: Vehicle Color, dtype: object"
      ]
     },
     "execution_count": 3,
     "metadata": {},
     "output_type": "execute_result"
    }
   ],
   "source": [
    "# how many different colours are there?\n",
    "df[\"Vehicle Color\"].describe()"
   ]
  },
  {
   "cell_type": "code",
   "execution_count": 20,
   "metadata": {},
   "outputs": [
    {
     "name": "stdout",
     "output_type": "stream",
     "text": [
      "1848\n"
     ]
    }
   ],
   "source": [
    "# let's make a dictionary of replacements for colour names\n",
    "replacements = {\n",
    "    \"WH\": \"WHITE\",  # whites\n",
    "    \"WHT\": \"WHITE\",\n",
    "    \"WT\": \"WHITE\",\n",
    "    \"WT.\": \"WHITE\",\n",
    "    \"WHI\": \"WHITE\",\n",
    "    \"WH.\": \"WHITE\",\n",
    "    \"W\": \"WHITE\",\n",
    "    \"WHT.\": \"WHITE\",\n",
    "    \"GY\": \"GREY\",  # greys\n",
    "    \"GY.\": \"GREY\",\n",
    "    \"GRAY\": \"GREY\",\n",
    "    \"GRY\": \"GREY\",\n",
    "    \"GREY.\": \"GREY\",\n",
    "    \"GRAY.\": \"GREY\",\n",
    "    \"GRY.\": \"GREEN\",\n",
    "    \"BL\": \"BLACK\",  # blacks\n",
    "    \"BLK\": \"BLACK\",\n",
    "    \"BLK.\": \"BLACK\",\n",
    "    \"BK\": \"BLACK\",\n",
    "    \"BK.\": \"BLACK\",\n",
    "    \"BL.\": \"BLACK\",\n",
    "    \"OR\": \"ORANGE\",  # oranges\n",
    "    \"OR.\": \"ORANGE\",\n",
    "    \"ORANG\": \"ORANGE\",\n",
    "    \"YW\": \"YELLOW\",  # yellows\n",
    "    \"YELLO\": \"YELLOW\",\n",
    "    \"YELL\": \"YELLOW\",\n",
    "    \"YEL\": \"YELLOW\",\n",
    "    \"BR\": \"BROWN\",  # browns\n",
    "    \"BRN\": \"BROWN\",\n",
    "    \"BRO\": \"BROWN\",\n",
    "    \"BN\": \"BROWN\",\n",
    "    \"BRW\": \"BROWN\",\n",
    "    \"TN\": \"TAN\",  # tans\n",
    "    \"TN.\": \"TAN\",\n",
    "    \"SILVE\": \"SILVER\",  # silvers\n",
    "    \"SIL\": \"SILVER\",\n",
    "    \"SILV\": \"SILVER\",\n",
    "    \"SL.\": \"SILVER\",\n",
    "    \"SL\": \"SILVER\",\n",
    "    \"RD\": \"RED\",  # reds\n",
    "    \"RD.\": \"RED\",\n",
    "    \"RED.\": \"RED\",\n",
    "    \"BLU\": \"BLUE\",  # blues\n",
    "    \"BLUE.\": \"BLUE\",\n",
    "    \"LTGY\": \"LIGHT GREY\",  # light grey\n",
    "    \"LTG\": \"LIGHT GREY\",\n",
    "    \"GRN\": \"GREEN\",  # greens\n",
    "    \"GN\": \"GREEN\",\n",
    "    \"GN.\": \"GREEN\",\n",
    "    \"PURPL\": \"PURPLE\",  # purples\n",
    "    \"GLD\": \"GOLD\",  # golds\n",
    "    \"MAROO\": \"MAROON\",  # maroons\n",
    "    \"MR\": \"MAROON\",\n",
    "    \"MAR\": \"MAROON\",\n",
    "}\n",
    "\n",
    "# replace the colour variants with the canonical colour name\n",
    "df[\"Vehicle Color\"] = df[\"Vehicle Color\"].replace(replacements)\n",
    "\n",
    "# top 30 colours and variations\n",
    "print(len(df[\"Vehicle Color\"].unique()))"
   ]
  },
  {
   "cell_type": "code",
   "execution_count": 21,
   "metadata": {},
   "outputs": [
    {
     "name": "stdout",
     "output_type": "stream",
     "text": [
      "Vehicle Color\n",
      "WHITE         3535435\n",
      "BLACK         3440479\n",
      "GREY          2727585\n",
      "RED            654260\n",
      "BROWN          406804\n",
      "SILVER         236871\n",
      "BLUE           196176\n",
      "GR             182929\n",
      "TAN            142585\n",
      "YELLOW         134081\n",
      "GREEN           70140\n",
      "OTHER           60245\n",
      "GL              54851\n",
      "MAROON          45104\n",
      "ORANGE          39936\n",
      "GOLD            23167\n",
      "LIGHT GREY      23148\n",
      "LT/              8976\n",
      "PR               7518\n",
      "DK/              7498\n",
      "DKGY             6004\n",
      "GYGY             5039\n",
      "B                4145\n",
      "DKG              3702\n",
      "PURPLE           3635\n",
      "BKGY             3504\n",
      "WHBL             3489\n",
      "DKBL             2912\n",
      "WHGY             2381\n",
      "UNKNO            2205\n",
      "G                2064\n",
      "DKB              1976\n",
      "WH/              1908\n",
      "BLGY             1901\n",
      "BLW              1456\n",
      "GY/              1380\n",
      "DKRD             1318\n",
      "LTBL             1251\n",
      "GYBL             1155\n",
      "BW                979\n",
      "BKBL              964\n",
      "LTB               961\n",
      "GYGR              956\n",
      "BG.               942\n",
      "RDW               905\n",
      "RDGY              844\n",
      "DKR               840\n",
      "NOCL              838\n",
      "DKGR              820\n",
      "LAVEN             817\n",
      "Name: count, dtype: int64\n"
     ]
    }
   ],
   "source": [
    "# let's look at the top 50 now\n",
    "print(df[\"Vehicle Color\"].value_counts().head(50))"
   ]
  },
  {
   "cell_type": "markdown",
   "metadata": {},
   "source": [
    "- Pretty consistent shortening by removing vowels.\n",
    "- Also variants that have the colour or shorter colour with a dot following.\n",
    "- Lots of combinations of colours or variants (`\"DKGR\"` presumable for dark green)\n",
    "\n",
    "There are two problems here, first ambiguous colour abbreviations (like `\"B\"`), and a\n",
    "data collection mechanism that allows for the ambiguity to begin with, like allowing for\n",
    "\"purple\" as well as \"lavender\" or multiple variations on \"light grey\". Does it need\n",
    "to be this flexible? Could we get away with just roughly bucketing cars into colour\n",
    "presets, with an optional details field for something like decals or strange colours."
   ]
  },
  {
   "cell_type": "markdown",
   "metadata": {},
   "source": [
    "# Extension questions\n",
    "1. For the `\"Vehicle Make\"` column, write a function that, given a value, cleans up by removing punctuation, changes to all caps. Compare number of makes before and after.\n",
    "2. How standardised are the `\"Street Name\"` values in the data set? What changes could be applied to change things?\n",
    "3. Would you need to clean up the `\"Registration State\"` column? Why or why not?"
   ]
  },
  {
   "cell_type": "code",
   "execution_count": 22,
   "metadata": {},
   "outputs": [
    {
     "data": {
      "text/plain": [
       "Vehicle Make\n",
       "TOYOT    1395273\n",
       "HONDA    1343265\n",
       "FORD     1328063\n",
       "NISSA    1119587\n",
       "CHEVR     711464\n",
       "          ...   \n",
       "BEAVE          1\n",
       "NELSO          1\n",
       "HOWBY          1\n",
       "BONEE          1\n",
       "KIA (          1\n",
       "Name: count, Length: 5210, dtype: int64"
      ]
     },
     "execution_count": 22,
     "metadata": {},
     "output_type": "execute_result"
    }
   ],
   "source": [
    "# 1. data cleaning function for Vehicle Make\n",
    "# first count the number of unique vehicle makes beforehand\n",
    "df[\"Vehicle Make\"].value_counts()"
   ]
  },
  {
   "cell_type": "code",
   "execution_count": null,
   "metadata": {},
   "outputs": [
    {
     "name": "stdout",
     "output_type": "stream",
     "text": [
      "Vehicle Make\n",
      "TOYOT    1396714\n",
      "HONDA    1344479\n",
      "FORD     1329491\n",
      "NISSA    1121782\n",
      "CHEVR     712494\n",
      "          ...   \n",
      "PONTC          1\n",
      "NASER          1\n",
      "LO/RO          1\n",
      "WENT           1\n",
      "KASAK          1\n",
      "Name: count, Length: 5137, dtype: int64\n",
      "Total changes: 12403\n"
     ]
    }
   ],
   "source": [
    "from string import punctuation\n",
    "\n",
    "make_changes = 0\n",
    "\n",
    "\n",
    "def clean_makes(val):\n",
    "    nval = val.strip(\" \" + punctuation).upper()\n",
    "    global make_changes\n",
    "    if nval != val:\n",
    "        make_changes += 1\n",
    "    return nval\n",
    "\n",
    "\n",
    "print(df[\"Vehicle Make\"].dropna().apply(clean_makes).value_counts())\n",
    "print(f\"Total changes: {make_changes}\")"
   ]
  },
  {
   "cell_type": "code",
   "execution_count": 45,
   "metadata": {},
   "outputs": [
    {
     "name": "stdout",
     "output_type": "stream",
     "text": [
      "Different street names: 12,495,734\n"
     ]
    },
    {
     "data": {
      "text/plain": [
       "Street Name\n",
       "Broadway                180225\n",
       "3rd Ave                 133003\n",
       "5th Ave                  78211\n",
       "2nd Ave                  75533\n",
       "Madison Ave              75419\n",
       "                         ...  \n",
       "I/O W 164 ST                 1\n",
       "HUTINSON RIVER PARKW         1\n",
       "BEACH 58                     1\n",
       "HUTINSON RIVER PARK          1\n",
       "W/S/O 182 STREET             1\n",
       "Name: count, Length: 57758, dtype: int64"
      ]
     },
     "execution_count": 45,
     "metadata": {},
     "output_type": "execute_result"
    }
   ],
   "source": [
    "# 2. Investigate how standardised the street name values are\n",
    "df[\"Street Name\"] = df[\"Street Name\"].fillna(\"unknown\")\n",
    "print(f\"Different street names: {df['Street Name'].shape[0]:,}\")\n",
    "df[\"Street Name\"].value_counts()"
   ]
  },
  {
   "cell_type": "code",
   "execution_count": null,
   "metadata": {},
   "outputs": [
    {
     "data": {
      "text/plain": [
       "Street Name\n",
       "ST          3782443\n",
       "AVE         2948683\n",
       "BLVD         341386\n",
       "@            334026\n",
       "RD           259389\n",
       "BROADWAY     208559\n",
       "PL           169125\n",
       "S            149796\n",
       "AV           124172\n",
       "DR           112268\n",
       "B             95725\n",
       "1             87681\n",
       "E             85117\n",
       "STREET        84943\n",
       "A             82451\n",
       "CL            67215\n",
       "W             65981\n",
       "BLV           58935\n",
       "CR            53155\n",
       "EX            50283\n",
       "T             49168\n",
       "AVENUE        48616\n",
       "PKWY          48048\n",
       "PKY           47485\n",
       "GL            47090\n",
       "J             42941\n",
       "KATO          42727\n",
       "U             41780\n",
       "ROC           41674\n",
       "SH            39244\n",
       "Name: count, dtype: int64"
      ]
     },
     "execution_count": 38,
     "metadata": {},
     "output_type": "execute_result"
    }
   ],
   "source": [
    "# let's look at how many abbreviations we have by splitting and finding the end of each street name\n",
    "# then doing a value count\n",
    "df[\"Street Name\"].dropna().apply(lambda x: x.split()[-1].upper()).value_counts().head(\n",
    "    30\n",
    ")"
   ]
  },
  {
   "cell_type": "code",
   "execution_count": null,
   "metadata": {},
   "outputs": [
    {
     "data": {
      "text/plain": [
       "Street Name\n",
       "BROADWAY            190996\n",
       "3RD AVE             140783\n",
       "5TH AVE              84356\n",
       "MADISON AVE          81896\n",
       "2ND AVE              80548\n",
       "                     ...  \n",
       "W/S C/O 44               1\n",
       "W/S N/O 4TH              1\n",
       "N/O E 50 ST              1\n",
       "N/S MERTENSE AVE         1\n",
       "W/S/O 182 ST             1\n",
       "Name: count, Length: 46444, dtype: int64"
      ]
     },
     "execution_count": 44,
     "metadata": {},
     "output_type": "execute_result"
    }
   ],
   "source": [
    "# let's clean up the types of streets and normalise things to upper case\n",
    "transforms = {\n",
    "    \"AV\": \"AVE\",\n",
    "    \"STREET\": \"ST\",\n",
    "    \"BLV\": \"BLVD\",\n",
    "    \"AVENUE\": \"AVE\",\n",
    "    \"PKY\": \"PKWY\",\n",
    "}\n",
    "\n",
    "\n",
    "def clean_streets(val):\n",
    "    vals = val.upper().strip(punctuation).split()\n",
    "    for k, v in transforms.items():\n",
    "        if vals[-1] == k:\n",
    "            vals[-1] = v\n",
    "            break\n",
    "    return \" \".join(vals)\n",
    "\n",
    "\n",
    "cleaned_streets = df[\"Street Name\"].apply(clean_streets)\n",
    "cleaned_streets.value_counts()"
   ]
  },
  {
   "cell_type": "markdown",
   "metadata": {},
   "source": [
    "This resulted in a reduction of around 12,000 street names."
   ]
  },
  {
   "cell_type": "code",
   "execution_count": 49,
   "metadata": {},
   "outputs": [
    {
     "data": {
      "text/plain": [
       "Registration State\n",
       "NY    9753643\n",
       "NJ    1096110\n",
       "PA     338779\n",
       "FL     174056\n",
       "CT     165205\n",
       "       ...   \n",
       "PE         18\n",
       "SK          8\n",
       "MX          7\n",
       "NT          3\n",
       "YT          2\n",
       "Name: count, Length: 68, dtype: int64"
      ]
     },
     "execution_count": 49,
     "metadata": {},
     "output_type": "execute_result"
    }
   ],
   "source": [
    "# 3. Would the registration state column need cleaning?\n",
    "df[\"Registration State\"].value_counts()"
   ]
  },
  {
   "cell_type": "markdown",
   "metadata": {},
   "source": [
    "68 different codes, which is 50 states plus some other regional stuff like Canada and territories?\n",
    "Let's have a look."
   ]
  },
  {
   "cell_type": "code",
   "execution_count": null,
   "metadata": {},
   "outputs": [
    {
     "name": "stdout",
     "output_type": "stream",
     "text": [
      "56\n"
     ]
    }
   ],
   "source": [
    "state_codes = \"\"\"Alabama: AL\n",
    "Alaska: AK\n",
    "Arizona: AZ\n",
    "Arkansas: AR\n",
    "California: CA\n",
    "Colorado: CO\n",
    "Connecticut: CT\n",
    "Delaware: DE\n",
    "District of Columbia: DC\n",
    "Florida: FL\n",
    "Georgia: GA\n",
    "Hawaii: HI\n",
    "Idaho: ID\n",
    "Illinois: IL\n",
    "Indiana: IN  \n",
    "Iowa: IA\n",
    "Kansas: KS\n",
    "Kentucky: KY\n",
    "Louisiana: LA\n",
    "Maine: ME\n",
    "Maryland: MD\n",
    "Massachusetts: MA  \n",
    "Michigan: MI\n",
    "Minnesota: MN\n",
    "Mississippi: MS\n",
    "Missouri: MO\n",
    "Montana: MT\n",
    "Nebraska: NE\n",
    "Nevada: NV\n",
    "New Hampshire: NH\n",
    "New Jersey: NJ\n",
    "New Mexico: NM\n",
    "New York: NY  \n",
    "North Carolina: NC\n",
    "North Dakota: ND\n",
    "Ohio: OH\n",
    "Oklahoma: OK\n",
    "Oregon: OR\n",
    "Pennsylvania: PA\n",
    "Rhode Island: RI\n",
    "South Carolina: SC\n",
    "South Dakota: SD\n",
    "Tennessee: TN\n",
    "Texas: TX  \n",
    "Utah: UT\n",
    "Vermont: VT\n",
    "Virginia: VA\n",
    "Washington: WA\n",
    "West Virginia: WV\n",
    "Wisconsin: WI\n",
    "Wyoming: WY\n",
    "American Samoa: AS   \n",
    "Guam: GU\n",
    "Northern Mariana Islands: MP\n",
    "Puerto Rico: PR\n",
    "US Virgin Islands: VI\"\"\"\n",
    "codes = [x.split(\": \")[-1] for x in state_codes.split(\"\\n\")]"
   ]
  },
  {
   "cell_type": "code",
   "execution_count": null,
   "metadata": {},
   "outputs": [
    {
     "data": {
      "text/plain": [
       "Registration State\n",
       "NY    9753643\n",
       "IN     138824\n",
       "MA      83726\n",
       "TX      54600\n",
       "99      24654\n",
       "GV      21283\n",
       "ON       5548\n",
       "QB       3551\n",
       "DP       2904\n",
       "AB        175\n",
       "NS        112\n",
       "BC         99\n",
       "NB         94\n",
       "FO         55\n",
       "MB         29\n",
       "PE         18\n",
       "SK          8\n",
       "MX          7\n",
       "NT          3\n",
       "YT          2\n",
       "Name: count, dtype: int64"
      ]
     },
     "execution_count": 56,
     "metadata": {},
     "output_type": "execute_result"
    }
   ],
   "source": [
    "df[\"Registration State\"][\n",
    "    ~df[\"Registration State\"].str.strip().isin(codes)\n",
    "].value_counts()"
   ]
  },
  {
   "cell_type": "markdown",
   "metadata": {},
   "source": [
    "Not sure why NY is in there, since it's a valid state code, but the 99 is a bit of a weird one, so could need investigation."
   ]
  }
 ],
 "metadata": {
  "kernelspec": {
   "display_name": ".venv",
   "language": "python",
   "name": "python3"
  },
  "language_info": {
   "codemirror_mode": {
    "name": "ipython",
    "version": 3
   },
   "file_extension": ".py",
   "mimetype": "text/x-python",
   "name": "python",
   "nbconvert_exporter": "python",
   "pygments_lexer": "ipython3",
   "version": "3.12.7"
  }
 },
 "nbformat": 4,
 "nbformat_minor": 2
}
