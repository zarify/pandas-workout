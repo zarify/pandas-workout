{
 "cells": [
  {
   "cell_type": "code",
   "execution_count": 90,
   "metadata": {},
   "outputs": [],
   "source": [
    "import pandas as pd\n",
    "import numpy as np"
   ]
  },
  {
   "cell_type": "code",
   "execution_count": 91,
   "metadata": {},
   "outputs": [
    {
     "data": {
      "text/html": [
       "<div>\n",
       "<style scoped>\n",
       "    .dataframe tbody tr th:only-of-type {\n",
       "        vertical-align: middle;\n",
       "    }\n",
       "\n",
       "    .dataframe tbody tr th {\n",
       "        vertical-align: top;\n",
       "    }\n",
       "\n",
       "    .dataframe thead th {\n",
       "        text-align: right;\n",
       "    }\n",
       "</style>\n",
       "<table border=\"1\" class=\"dataframe\">\n",
       "  <thead>\n",
       "    <tr style=\"text-align: right;\">\n",
       "      <th></th>\n",
       "      <th>dateofdeath</th>\n",
       "      <th>age</th>\n",
       "      <th>causeofdeath</th>\n",
       "    </tr>\n",
       "  </thead>\n",
       "  <tbody>\n",
       "    <tr>\n",
       "      <th>0</th>\n",
       "      <td>2016-01-01</td>\n",
       "      <td>71</td>\n",
       "      <td>brain cancer</td>\n",
       "    </tr>\n",
       "    <tr>\n",
       "      <th>1</th>\n",
       "      <td>2016-01-01</td>\n",
       "      <td>74</td>\n",
       "      <td>cancer</td>\n",
       "    </tr>\n",
       "    <tr>\n",
       "      <th>2</th>\n",
       "      <td>2016-01-01</td>\n",
       "      <td>79</td>\n",
       "      <td>cancer</td>\n",
       "    </tr>\n",
       "    <tr>\n",
       "      <th>3</th>\n",
       "      <td>2016-01-01</td>\n",
       "      <td>45</td>\n",
       "      <td>complications of a stroke</td>\n",
       "    </tr>\n",
       "    <tr>\n",
       "      <th>4</th>\n",
       "      <td>2016-01-01</td>\n",
       "      <td>83</td>\n",
       "      <td>heart failure</td>\n",
       "    </tr>\n",
       "  </tbody>\n",
       "</table>\n",
       "</div>"
      ],
      "text/plain": [
       "  dateofdeath age                causeofdeath\n",
       "0  2016-01-01  71                brain cancer\n",
       "1  2016-01-01  74                      cancer\n",
       "2  2016-01-01  79                      cancer\n",
       "3  2016-01-01  45   complications of a stroke\n",
       "4  2016-01-01  83               heart failure"
      ]
     },
     "execution_count": 91,
     "metadata": {},
     "output_type": "execute_result"
    }
   ],
   "source": [
    "df = pd.read_csv(\n",
    "    \"../data/celebrity_deaths_2016.csv\", usecols=[\"dateofdeath\", \"age\", \"causeofdeath\"]\n",
    ")\n",
    "df.head()"
   ]
  },
  {
   "cell_type": "code",
   "execution_count": 92,
   "metadata": {},
   "outputs": [
    {
     "name": "stdout",
     "output_type": "stream",
     "text": [
      "Null stats of 6543:\n",
      "\tDates: 0\n",
      "\tAges: 27\n",
      "\tCause: 5008\n"
     ]
    }
   ],
   "source": [
    "# how many of the different columns have na values?\n",
    "total_records = df.shape[0]\n",
    "na_dates = df.loc[df[\"dateofdeath\"].isna()].shape[0]\n",
    "na_age = df.loc[df[\"age\"].isna()].shape[0]\n",
    "na_cause = df.loc[df[\"causeofdeath\"].isna()].shape[0]\n",
    "print(f\"Null stats of {total_records}:\")\n",
    "print(f\"\\tDates: {na_dates}\")\n",
    "print(f\"\\tAges: {na_age}\")\n",
    "print(f\"\\tCause: {na_cause}\")"
   ]
  },
  {
   "cell_type": "code",
   "execution_count": 93,
   "metadata": {},
   "outputs": [
    {
     "data": {
      "text/html": [
       "<div>\n",
       "<style scoped>\n",
       "    .dataframe tbody tr th:only-of-type {\n",
       "        vertical-align: middle;\n",
       "    }\n",
       "\n",
       "    .dataframe tbody tr th {\n",
       "        vertical-align: top;\n",
       "    }\n",
       "\n",
       "    .dataframe thead th {\n",
       "        text-align: right;\n",
       "    }\n",
       "</style>\n",
       "<table border=\"1\" class=\"dataframe\">\n",
       "  <thead>\n",
       "    <tr style=\"text-align: right;\">\n",
       "      <th></th>\n",
       "      <th>dateofdeath</th>\n",
       "      <th>age</th>\n",
       "      <th>causeofdeath</th>\n",
       "    </tr>\n",
       "    <tr>\n",
       "      <th>monthofdeath</th>\n",
       "      <th></th>\n",
       "      <th></th>\n",
       "      <th></th>\n",
       "    </tr>\n",
       "  </thead>\n",
       "  <tbody>\n",
       "    <tr>\n",
       "      <th>1</th>\n",
       "      <td>2016-01-01</td>\n",
       "      <td>71</td>\n",
       "      <td>brain cancer</td>\n",
       "    </tr>\n",
       "    <tr>\n",
       "      <th>1</th>\n",
       "      <td>2016-01-21</td>\n",
       "      <td>47</td>\n",
       "      <td>heart disease</td>\n",
       "    </tr>\n",
       "    <tr>\n",
       "      <th>1</th>\n",
       "      <td>2016-01-21</td>\n",
       "      <td>87</td>\n",
       "      <td>pneumonia</td>\n",
       "    </tr>\n",
       "    <tr>\n",
       "      <th>1</th>\n",
       "      <td>2016-01-21</td>\n",
       "      <td>90</td>\n",
       "      <td>pulmonary distress</td>\n",
       "    </tr>\n",
       "    <tr>\n",
       "      <th>1</th>\n",
       "      <td>2016-01-21</td>\n",
       "      <td>73</td>\n",
       "      <td>stroke</td>\n",
       "    </tr>\n",
       "  </tbody>\n",
       "</table>\n",
       "</div>"
      ],
      "text/plain": [
       "             dateofdeath age         causeofdeath\n",
       "monthofdeath                                     \n",
       "1             2016-01-01  71         brain cancer\n",
       "1             2016-01-21  47        heart disease\n",
       "1             2016-01-21  87            pneumonia\n",
       "1             2016-01-21  90   pulmonary distress\n",
       "1             2016-01-21  73               stroke"
      ]
     },
     "execution_count": 93,
     "metadata": {},
     "output_type": "execute_result"
    }
   ],
   "source": [
    "# extract the month from the dateofdeath column and set it as the index\n",
    "df[\"monthofdeath\"] = df[\"dateofdeath\"].str.slice(5, 7).astype(np.int8)\n",
    "df = df.set_index(\"monthofdeath\").sort_index()\n",
    "df.head()"
   ]
  },
  {
   "cell_type": "markdown",
   "metadata": {},
   "source": [
    "# finding the average age of death\n",
    "My approach without reference to the book first"
   ]
  },
  {
   "cell_type": "code",
   "execution_count": 94,
   "metadata": {},
   "outputs": [
    {
     "data": {
      "text/plain": [
       "count    3322.000000\n",
       "mean      110.058098\n",
       "std       475.118996\n",
       "min         9.000000\n",
       "25%        69.000000\n",
       "50%        82.000000\n",
       "75%        89.000000\n",
       "max      9394.000000\n",
       "Name: age, dtype: float64"
      ]
     },
     "execution_count": 94,
     "metadata": {},
     "output_type": "execute_result"
    }
   ],
   "source": [
    "# average age of death for February to July (2-7) dropping any null values\n",
    "# but, we have some bad data\n",
    "# let's look at what values are not good first\n",
    "good_ages = df[\"age\"].astype(str).str.strip().str.isdigit()\n",
    "# df[~good_ages]\n",
    "\n",
    "# now we know which ages have numerical data in them we can\n",
    "# calculate the mean\n",
    "ages = df[good_ages].loc[slice(2, 7), \"age\"].astype(np.int16)\n",
    "# which is a huge mean of 110, and there were some numbers in there\n",
    "# that looked like \"between X and Y\" but had no separator so didn't\n",
    "# get filled out\n",
    "ages.describe()"
   ]
  },
  {
   "cell_type": "code",
   "execution_count": 95,
   "metadata": {},
   "outputs": [
    {
     "data": {
      "text/plain": [
       "count    3304.000000\n",
       "mean       77.178874\n",
       "std        16.292004\n",
       "min         9.000000\n",
       "25%        69.000000\n",
       "50%        81.000000\n",
       "75%        89.000000\n",
       "max       116.000000\n",
       "Name: book_age, dtype: float64"
      ]
     },
     "execution_count": 95,
     "metadata": {},
     "output_type": "execute_result"
    }
   ],
   "source": [
    "# book approach\n",
    "# uses the pd.to_numeric(df[\"age\"]) function\n",
    "# \"coerce\" turns exceptions on non-numerics into NaN instead\n",
    "df[\"book_age\"] = pd.to_numeric(df[\"age\"], errors=\"coerce\")\n",
    "# recommends this for filtering ages, but since the four digit ages\n",
    "# seem like ranges, could also be compared to some further massaging\n",
    "# of those ranges into values halfway between the two\n",
    "df_filtered = df.loc[df[\"book_age\"] < 120]\n",
    "df_filtered.loc[slice(2, 7), \"book_age\"].describe()"
   ]
  },
  {
   "cell_type": "code",
   "execution_count": 96,
   "metadata": {},
   "outputs": [
    {
     "data": {
      "text/plain": [
       "causeofdeath\n",
       "cancer                                 248\n",
       "heart attack                           125\n",
       "traffic collision                       56\n",
       "lung cancer                             51\n",
       "pneumonia                               50\n",
       "heart failure                           49\n",
       "shot                                    42\n",
       "stroke                                  36\n",
       "pancreatic cancer                       35\n",
       "brain cancer                            33\n",
       "injuries sustained in a plane crash     23\n",
       "Alzheimer's disease                     22\n",
       "prostate cancer                         17\n",
       "leukemia                                17\n",
       "cardiac arrest                          17\n",
       "Name: count, dtype: int64"
      ]
     },
     "execution_count": 96,
     "metadata": {},
     "output_type": "execute_result"
    }
   ],
   "source": [
    "# let's look at causes of death\n",
    "df[\"causeofdeath\"].dropna().value_counts().head(15)\n",
    "\n",
    "# somewhat clunky way of looking at how many pneumonia deaths there were by month\n",
    "# have to reset the index to be able to access the month column again\n",
    "# df.reset_index()[df.reset_index()[\"causeofdeath\"].str.strip() == \"pneumonia\"][\"monthofdeath\"].value_counts()"
   ]
  },
  {
   "cell_type": "markdown",
   "metadata": {},
   "source": [
    "# Extension questions\n",
    "1. Add a new column, `day` from the day of the month in which the celebrity died. Then create a multi-index from `month` and `day`. What was the average age of death from Feb 15 through July 15?\n",
    "2. The CSV file contains `causeofdeath`. Load it into a data frame and find the five most common causes of death. Now replace any NaN values in that column with the string `\"unknown\"` and find the five most common causes of death.\n",
    "3. If someone asked whether cancer is in the top 10 causes what would you say? Can you be more specific than that?"
   ]
  },
  {
   "cell_type": "code",
   "execution_count": 97,
   "metadata": {},
   "outputs": [
    {
     "data": {
      "text/html": [
       "<div>\n",
       "<style scoped>\n",
       "    .dataframe tbody tr th:only-of-type {\n",
       "        vertical-align: middle;\n",
       "    }\n",
       "\n",
       "    .dataframe tbody tr th {\n",
       "        vertical-align: top;\n",
       "    }\n",
       "\n",
       "    .dataframe thead th {\n",
       "        text-align: right;\n",
       "    }\n",
       "</style>\n",
       "<table border=\"1\" class=\"dataframe\">\n",
       "  <thead>\n",
       "    <tr style=\"text-align: right;\">\n",
       "      <th></th>\n",
       "      <th></th>\n",
       "      <th>dateofdeath</th>\n",
       "      <th>age</th>\n",
       "      <th>causeofdeath</th>\n",
       "    </tr>\n",
       "    <tr>\n",
       "      <th>month</th>\n",
       "      <th>day</th>\n",
       "      <th></th>\n",
       "      <th></th>\n",
       "      <th></th>\n",
       "    </tr>\n",
       "  </thead>\n",
       "  <tbody>\n",
       "    <tr>\n",
       "      <th rowspan=\"5\" valign=\"top\">12</th>\n",
       "      <th>29</th>\n",
       "      <td>2016-12-29</td>\n",
       "      <td>83.0</td>\n",
       "      <td>NaN</td>\n",
       "    </tr>\n",
       "    <tr>\n",
       "      <th>29</th>\n",
       "      <td>2016-12-29</td>\n",
       "      <td>88.0</td>\n",
       "      <td>NaN</td>\n",
       "    </tr>\n",
       "    <tr>\n",
       "      <th>29</th>\n",
       "      <td>2016-12-29</td>\n",
       "      <td>88.0</td>\n",
       "      <td>NaN</td>\n",
       "    </tr>\n",
       "    <tr>\n",
       "      <th>29</th>\n",
       "      <td>2016-12-29</td>\n",
       "      <td>89.0</td>\n",
       "      <td>NaN</td>\n",
       "    </tr>\n",
       "    <tr>\n",
       "      <th>29</th>\n",
       "      <td>2016-12-29</td>\n",
       "      <td>53.0</td>\n",
       "      <td>cancer</td>\n",
       "    </tr>\n",
       "  </tbody>\n",
       "</table>\n",
       "</div>"
      ],
      "text/plain": [
       "          dateofdeath   age causeofdeath\n",
       "month day                               \n",
       "12    29   2016-12-29  83.0          NaN\n",
       "      29   2016-12-29  88.0          NaN\n",
       "      29   2016-12-29  88.0          NaN\n",
       "      29   2016-12-29  89.0          NaN\n",
       "      29   2016-12-29  53.0       cancer"
      ]
     },
     "execution_count": 97,
     "metadata": {},
     "output_type": "execute_result"
    }
   ],
   "source": [
    "# 1. reloading and creating a multi-index\n",
    "df = pd.read_csv(\n",
    "    \"../data/celebrity_deaths_2016.csv\", usecols=[\"dateofdeath\", \"age\", \"causeofdeath\"]\n",
    ")\n",
    "df[\"month\"] = df[\"dateofdeath\"].str.slice(5, 7).astype(np.int8)\n",
    "df[\"day\"] = df[\"dateofdeath\"].str.slice(8, 10).astype(np.int8)\n",
    "df = df.set_index([\"month\", \"day\"]).sort_index()\n",
    "# update the age to numeric\n",
    "df[\"age\"] = pd.to_numeric(df[\"age\"], errors=\"coerce\")\n",
    "df.tail()"
   ]
  },
  {
   "cell_type": "code",
   "execution_count": null,
   "metadata": {},
   "outputs": [
    {
     "data": {
      "text/plain": [
       "count    2040.000000\n",
       "mean       76.919118\n",
       "std        16.248524\n",
       "min        11.000000\n",
       "25%        70.000000\n",
       "50%        81.000000\n",
       "75%        88.000000\n",
       "max       116.000000\n",
       "Name: age, dtype: float64"
      ]
     },
     "execution_count": 98,
     "metadata": {},
     "output_type": "execute_result"
    }
   ],
   "source": [
    "df2 = df.dropna(subset=[\"age\"])\n",
    "df2 = df2.loc[df2[\"age\"] < 120]\n",
    "df2.loc[(slice(2, 7), slice(1, 15)), \"age\"].describe()\n"
   ]
  },
  {
   "cell_type": "code",
   "execution_count": 99,
   "metadata": {},
   "outputs": [
    {
     "data": {
      "text/plain": [
       "causeofdeath\n",
       "cancer               248\n",
       "heart attack         125\n",
       "traffic collision     56\n",
       "lung cancer           51\n",
       "pneumonia             50\n",
       "Name: count, dtype: int64"
      ]
     },
     "execution_count": 99,
     "metadata": {},
     "output_type": "execute_result"
    }
   ],
   "source": [
    "# 2. top causes of death (without replacing NaN)\n",
    "df[\"causeofdeath\"].dropna().value_counts().head(5)"
   ]
  },
  {
   "cell_type": "code",
   "execution_count": 100,
   "metadata": {},
   "outputs": [
    {
     "data": {
      "text/plain": [
       "causeofdeath\n",
       "unknown               5008\n",
       " cancer                248\n",
       " heart attack          125\n",
       " traffic collision      56\n",
       " lung cancer            51\n",
       "Name: count, dtype: int64"
      ]
     },
     "execution_count": 100,
     "metadata": {},
     "output_type": "execute_result"
    }
   ],
   "source": [
    "# now filling na with \"unknown\"\n",
    "df[\"causeofdeath\"].fillna(\"unknown\").value_counts().head(5)"
   ]
  },
  {
   "cell_type": "code",
   "execution_count": 101,
   "metadata": {},
   "outputs": [
    {
     "name": "stdout",
     "output_type": "stream",
     "text": [
      "Causes containing 'cancer': 529\n"
     ]
    },
    {
     "data": {
      "text/plain": [
       "causeofdeath\n",
       " cancer                               248\n",
       " lung cancer                           51\n",
       " pancreatic cancer                     35\n",
       " brain cancer                          33\n",
       " prostate cancer                       17\n",
       "                                     ... \n",
       " gastrointestinal cancer                1\n",
       "complications from bladder cancer       1\n",
       " complications from bladder cancer      1\n",
       " abdominal cancer                       1\n",
       "liver cancer                            1\n",
       "Name: count, Length: 64, dtype: int64"
      ]
     },
     "execution_count": 101,
     "metadata": {},
     "output_type": "execute_result"
    }
   ],
   "source": [
    "has_cancer = df[\"causeofdeath\"].dropna()\n",
    "has_cancer = has_cancer[has_cancer.str.contains(\"cancer\")]\n",
    "print(f\"Causes containing 'cancer': {has_cancer.shape[0]}\")\n",
    "has_cancer.value_counts()"
   ]
  },
  {
   "cell_type": "markdown",
   "metadata": {},
   "source": [
    "You could say that cancer and cancer related causes were the top known cause of death in the data set.\n",
    "Of those, lung cancer was the most common specified type of cancer."
   ]
  },
  {
   "cell_type": "code",
   "execution_count": null,
   "metadata": {},
   "outputs": [
    {
     "data": {
      "text/plain": [
       "np.float64(77.05183037332367)"
      ]
     },
     "execution_count": 102,
     "metadata": {},
     "output_type": "execute_result"
    }
   ],
   "source": [
    "# this is the book version of the first question, that leaves the month and day as strings\n",
    "# - not quite sure why the answer is different - need to dig into the sorting methods\n",
    "filename = \"../data/celebrity_deaths_2016.csv\"\n",
    "\n",
    "df = pd.read_csv(filename, usecols=[\"dateofdeath\", \"age\"])\n",
    "# Clean all non-integers from the \"age\" column\n",
    "# (1) Remove all NaNs\n",
    "df = df.dropna(subset=[\"age\"])\n",
    "\n",
    "# (2) Remove all non-digits\n",
    "df = df[df[\"age\"].str.isdigit()]\n",
    "df[\"age\"] = df[\"age\"].astype(np.int64)\n",
    "\n",
    "# Get the month, in slice [5:7]\n",
    "df[\"month\"] = df[\"dateofdeath\"].str.slice(5, 7)\n",
    "\n",
    "# Get the day, in slice [8:]\n",
    "df[\"day\"] = df[\"dateofdeath\"].str.slice(8, None)\n",
    "\n",
    "# Set a multi-index\n",
    "df = df.set_index([\"month\", \"day\"])\n",
    "\n",
    "# Sort the index\n",
    "df = df.sort_index()\n",
    "\n",
    "# Get the rows from Feb 15th through July 15th, and the 'age' column, then the average\n",
    "df.loc[(\"02\", \"15\") : (\"07\", \"15\"), \"age\"].mean()\n"
   ]
  }
 ],
 "metadata": {
  "kernelspec": {
   "display_name": ".venv",
   "language": "python",
   "name": "python3"
  },
  "language_info": {
   "codemirror_mode": {
    "name": "ipython",
    "version": 3
   },
   "file_extension": ".py",
   "mimetype": "text/x-python",
   "name": "python",
   "nbconvert_exporter": "python",
   "pygments_lexer": "ipython3",
   "version": "3.12.7"
  }
 },
 "nbformat": 4,
 "nbformat_minor": 2
}
