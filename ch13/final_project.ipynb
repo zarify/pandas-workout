{
 "cells": [
  {
   "cell_type": "code",
   "execution_count": 134,
   "metadata": {},
   "outputs": [],
   "source": [
    "import pandas as pd\n",
    "import numpy as np\n",
    "import seaborn as sns"
   ]
  },
  {
   "cell_type": "code",
   "execution_count": 135,
   "metadata": {},
   "outputs": [],
   "source": [
    "df_institutions = pd.read_csv(\n",
    "    \"../data/Most-Recent-Cohorts-Institution.csv.gz\",\n",
    "    usecols=[\n",
    "        \"OPEID6\",  # integer educational institution ID\n",
    "        \"INSTNM\",  # institution name (string)\n",
    "        \"CITY\",  # institution's city\n",
    "        \"STABBR\",  # state abbreviation\n",
    "        \"FTFTPCTPELL\",  # percentage of Pell grant recipients\n",
    "        \"TUITIONFEE_IN\",  # in-state tuition (float)\n",
    "        \"TUITIONFEE_OUT\",  # out of state tuition (float)\n",
    "        \"ADM_RATE\",  # admission rate\n",
    "        \"NPT4_PUB\",  # net price for public institutions (NaN for private)\n",
    "        \"NPT4_PRIV\",  # net price for private institutions (NaN for public)\n",
    "        \"NPT41_PUB\",  # mean price paid by lowest income bracket (NaN for private)\n",
    "        \"NPT41_PRIV\",  # mean price paid by lowest income bracket (NaN for public)\n",
    "        \"NPT45_PUB\",  # mean price paid by highest income bracket (NaN for private)\n",
    "        \"NPT45_PRIV\",  # mean price paid by highest income bracket (NaN for public)\n",
    "        \"MD_EARN_WNE_P10\",  # median income for graduates 10 years following graduation\n",
    "        \"C100_4\",  # completion rates after 4 years\n",
    "    ],\n",
    "    engine=\"pyarrow\",\n",
    ")\n",
    "df_fields_of_study = pd.read_csv(\n",
    "    \"../data/FieldOfStudyData1718_1819_PP.csv.gz\",\n",
    "    usecols=[\n",
    "        \"OPEID6\",  # integer educational institution ID\n",
    "        \"INSTNM\",  # institution name (string)\n",
    "        \"CREDDESC\",  # degree being offered (string)\n",
    "        \"CIPDESC\",  # education program (string)\n",
    "        \"CONTROL\",  # type of institution (e.g. \"Public\")\n",
    "    ],\n",
    ")"
   ]
  },
  {
   "cell_type": "code",
   "execution_count": 136,
   "metadata": {},
   "outputs": [
    {
     "data": {
      "text/html": [
       "<div>\n",
       "<style scoped>\n",
       "    .dataframe tbody tr th:only-of-type {\n",
       "        vertical-align: middle;\n",
       "    }\n",
       "\n",
       "    .dataframe tbody tr th {\n",
       "        vertical-align: top;\n",
       "    }\n",
       "\n",
       "    .dataframe thead th {\n",
       "        text-align: right;\n",
       "    }\n",
       "</style>\n",
       "<table border=\"1\" class=\"dataframe\">\n",
       "  <thead>\n",
       "    <tr style=\"text-align: right;\">\n",
       "      <th></th>\n",
       "      <th>OPEID6</th>\n",
       "      <th>INSTNM</th>\n",
       "      <th>CITY</th>\n",
       "      <th>STABBR</th>\n",
       "      <th>FTFTPCTPELL</th>\n",
       "      <th>TUITIONFEE_IN</th>\n",
       "      <th>TUITIONFEE_OUT</th>\n",
       "      <th>ADM_RATE</th>\n",
       "      <th>NPT4_PUB</th>\n",
       "      <th>NPT4_PRIV</th>\n",
       "      <th>NPT41_PUB</th>\n",
       "      <th>NPT41_PRIV</th>\n",
       "      <th>NPT45_PUB</th>\n",
       "      <th>NPT45_PRIV</th>\n",
       "      <th>MD_EARN_WNE_P10</th>\n",
       "      <th>C100_4</th>\n",
       "    </tr>\n",
       "  </thead>\n",
       "  <tbody>\n",
       "    <tr>\n",
       "      <th>0</th>\n",
       "      <td>1002</td>\n",
       "      <td>Alabama A &amp; M University</td>\n",
       "      <td>Normal</td>\n",
       "      <td>AL</td>\n",
       "      <td>0.6925</td>\n",
       "      <td>10024.0</td>\n",
       "      <td>18634.0</td>\n",
       "      <td>0.8965</td>\n",
       "      <td>15529.0</td>\n",
       "      <td>NaN</td>\n",
       "      <td>14694.0</td>\n",
       "      <td>NaN</td>\n",
       "      <td>20483.0</td>\n",
       "      <td>NaN</td>\n",
       "      <td>36339.0</td>\n",
       "      <td>0.1052</td>\n",
       "    </tr>\n",
       "    <tr>\n",
       "      <th>1</th>\n",
       "      <td>1052</td>\n",
       "      <td>University of Alabama at Birmingham</td>\n",
       "      <td>Birmingham</td>\n",
       "      <td>AL</td>\n",
       "      <td>0.3563</td>\n",
       "      <td>8568.0</td>\n",
       "      <td>20400.0</td>\n",
       "      <td>0.8060</td>\n",
       "      <td>16530.0</td>\n",
       "      <td>NaN</td>\n",
       "      <td>13443.0</td>\n",
       "      <td>NaN</td>\n",
       "      <td>19717.0</td>\n",
       "      <td>NaN</td>\n",
       "      <td>46990.0</td>\n",
       "      <td>0.3816</td>\n",
       "    </tr>\n",
       "    <tr>\n",
       "      <th>2</th>\n",
       "      <td>25034</td>\n",
       "      <td>Amridge University</td>\n",
       "      <td>Montgomery</td>\n",
       "      <td>AL</td>\n",
       "      <td>0.6667</td>\n",
       "      <td>6950.0</td>\n",
       "      <td>6950.0</td>\n",
       "      <td>NaN</td>\n",
       "      <td>NaN</td>\n",
       "      <td>17618.0</td>\n",
       "      <td>NaN</td>\n",
       "      <td>17385.0</td>\n",
       "      <td>NaN</td>\n",
       "      <td>NaN</td>\n",
       "      <td>37895.0</td>\n",
       "      <td>0.2500</td>\n",
       "    </tr>\n",
       "    <tr>\n",
       "      <th>3</th>\n",
       "      <td>1055</td>\n",
       "      <td>University of Alabama in Huntsville</td>\n",
       "      <td>Huntsville</td>\n",
       "      <td>AL</td>\n",
       "      <td>0.2304</td>\n",
       "      <td>11338.0</td>\n",
       "      <td>23734.0</td>\n",
       "      <td>0.7711</td>\n",
       "      <td>17208.0</td>\n",
       "      <td>NaN</td>\n",
       "      <td>13631.0</td>\n",
       "      <td>NaN</td>\n",
       "      <td>19862.0</td>\n",
       "      <td>NaN</td>\n",
       "      <td>54361.0</td>\n",
       "      <td>0.3109</td>\n",
       "    </tr>\n",
       "    <tr>\n",
       "      <th>4</th>\n",
       "      <td>1005</td>\n",
       "      <td>Alabama State University</td>\n",
       "      <td>Montgomery</td>\n",
       "      <td>AL</td>\n",
       "      <td>0.7590</td>\n",
       "      <td>11068.0</td>\n",
       "      <td>19396.0</td>\n",
       "      <td>0.9888</td>\n",
       "      <td>19534.0</td>\n",
       "      <td>NaN</td>\n",
       "      <td>19581.0</td>\n",
       "      <td>NaN</td>\n",
       "      <td>17559.0</td>\n",
       "      <td>NaN</td>\n",
       "      <td>32084.0</td>\n",
       "      <td>0.1462</td>\n",
       "    </tr>\n",
       "  </tbody>\n",
       "</table>\n",
       "</div>"
      ],
      "text/plain": [
       "   OPEID6                               INSTNM        CITY STABBR  \\\n",
       "0    1002             Alabama A & M University      Normal     AL   \n",
       "1    1052  University of Alabama at Birmingham  Birmingham     AL   \n",
       "2   25034                   Amridge University  Montgomery     AL   \n",
       "3    1055  University of Alabama in Huntsville  Huntsville     AL   \n",
       "4    1005             Alabama State University  Montgomery     AL   \n",
       "\n",
       "   FTFTPCTPELL  TUITIONFEE_IN  TUITIONFEE_OUT  ADM_RATE  NPT4_PUB  NPT4_PRIV  \\\n",
       "0       0.6925        10024.0         18634.0    0.8965   15529.0        NaN   \n",
       "1       0.3563         8568.0         20400.0    0.8060   16530.0        NaN   \n",
       "2       0.6667         6950.0          6950.0       NaN       NaN    17618.0   \n",
       "3       0.2304        11338.0         23734.0    0.7711   17208.0        NaN   \n",
       "4       0.7590        11068.0         19396.0    0.9888   19534.0        NaN   \n",
       "\n",
       "   NPT41_PUB  NPT41_PRIV  NPT45_PUB  NPT45_PRIV  MD_EARN_WNE_P10  C100_4  \n",
       "0    14694.0         NaN    20483.0         NaN          36339.0  0.1052  \n",
       "1    13443.0         NaN    19717.0         NaN          46990.0  0.3816  \n",
       "2        NaN     17385.0        NaN         NaN          37895.0  0.2500  \n",
       "3    13631.0         NaN    19862.0         NaN          54361.0  0.3109  \n",
       "4    19581.0         NaN    17559.0         NaN          32084.0  0.1462  "
      ]
     },
     "execution_count": 136,
     "metadata": {},
     "output_type": "execute_result"
    }
   ],
   "source": [
    "df_institutions.head()"
   ]
  },
  {
   "cell_type": "code",
   "execution_count": 137,
   "metadata": {},
   "outputs": [
    {
     "data": {
      "text/html": [
       "<div>\n",
       "<style scoped>\n",
       "    .dataframe tbody tr th:only-of-type {\n",
       "        vertical-align: middle;\n",
       "    }\n",
       "\n",
       "    .dataframe tbody tr th {\n",
       "        vertical-align: top;\n",
       "    }\n",
       "\n",
       "    .dataframe thead th {\n",
       "        text-align: right;\n",
       "    }\n",
       "</style>\n",
       "<table border=\"1\" class=\"dataframe\">\n",
       "  <thead>\n",
       "    <tr style=\"text-align: right;\">\n",
       "      <th></th>\n",
       "      <th>OPEID6</th>\n",
       "      <th>INSTNM</th>\n",
       "      <th>CONTROL</th>\n",
       "      <th>CIPDESC</th>\n",
       "      <th>CREDDESC</th>\n",
       "    </tr>\n",
       "  </thead>\n",
       "  <tbody>\n",
       "    <tr>\n",
       "      <th>0</th>\n",
       "      <td>1002</td>\n",
       "      <td>Alabama A &amp; M University</td>\n",
       "      <td>Public</td>\n",
       "      <td>Agriculture, General.</td>\n",
       "      <td>Bachelors Degree</td>\n",
       "    </tr>\n",
       "    <tr>\n",
       "      <th>1</th>\n",
       "      <td>1002</td>\n",
       "      <td>Alabama A &amp; M University</td>\n",
       "      <td>Public</td>\n",
       "      <td>Animal Sciences.</td>\n",
       "      <td>Bachelors Degree</td>\n",
       "    </tr>\n",
       "    <tr>\n",
       "      <th>2</th>\n",
       "      <td>1002</td>\n",
       "      <td>Alabama A &amp; M University</td>\n",
       "      <td>Public</td>\n",
       "      <td>Food Science and Technology.</td>\n",
       "      <td>Bachelors Degree</td>\n",
       "    </tr>\n",
       "    <tr>\n",
       "      <th>3</th>\n",
       "      <td>1002</td>\n",
       "      <td>Alabama A &amp; M University</td>\n",
       "      <td>Public</td>\n",
       "      <td>Food Science and Technology.</td>\n",
       "      <td>Master's Degree</td>\n",
       "    </tr>\n",
       "    <tr>\n",
       "      <th>4</th>\n",
       "      <td>1002</td>\n",
       "      <td>Alabama A &amp; M University</td>\n",
       "      <td>Public</td>\n",
       "      <td>Food Science and Technology.</td>\n",
       "      <td>Doctoral Degree</td>\n",
       "    </tr>\n",
       "  </tbody>\n",
       "</table>\n",
       "</div>"
      ],
      "text/plain": [
       "   OPEID6                    INSTNM CONTROL                       CIPDESC  \\\n",
       "0    1002  Alabama A & M University  Public         Agriculture, General.   \n",
       "1    1002  Alabama A & M University  Public              Animal Sciences.   \n",
       "2    1002  Alabama A & M University  Public  Food Science and Technology.   \n",
       "3    1002  Alabama A & M University  Public  Food Science and Technology.   \n",
       "4    1002  Alabama A & M University  Public  Food Science and Technology.   \n",
       "\n",
       "           CREDDESC  \n",
       "0  Bachelors Degree  \n",
       "1  Bachelors Degree  \n",
       "2  Bachelors Degree  \n",
       "3   Master's Degree  \n",
       "4   Doctoral Degree  "
      ]
     },
     "execution_count": 137,
     "metadata": {},
     "output_type": "execute_result"
    }
   ],
   "source": [
    "df_fields_of_study.head()"
   ]
  },
  {
   "cell_type": "markdown",
   "metadata": {},
   "source": [
    "# Questions (Book Q3)\n",
    "1. Which state has the highest number of institutions in the data set?\n",
    "2. Which city, in which state, has the greatest number of universities in the data set?\n",
    "3. How much memory can you save if you set the `STABBR` field to be a category in `df_institutions`?\n",
    "4. Create a histogram showing how many bachelor programs universities offer.\n",
    "5. Determine which universities offer the greatest number of bachelor programs.\n",
    "6. Create a histogram showing how many graduate programs universities offer (Masters and Doctoral).\n",
    "7. Determine which universities offer the greatest number of graduate programs."
   ]
  },
  {
   "cell_type": "code",
   "execution_count": 138,
   "metadata": {},
   "outputs": [
    {
     "data": {
      "text/plain": [
       "STABBR\n",
       "CA    705\n",
       "NY    450\n",
       "TX    429\n",
       "FL    394\n",
       "PA    345\n",
       "Name: OPEID6, dtype: int64"
      ]
     },
     "execution_count": 138,
     "metadata": {},
     "output_type": "execute_result"
    }
   ],
   "source": [
    "# looking for unique ID codes in each state since there seems to be some duplication of\n",
    "# institution names\n",
    "(\n",
    "    df_institutions.groupby(\"STABBR\")[\"OPEID6\"]\n",
    "    .count()\n",
    "    # .nunique()  # on second thought, this would filter out unis that span states\n",
    "    .sort_values(ascending=False)\n",
    "    .head(5)\n",
    ")"
   ]
  },
  {
   "cell_type": "code",
   "execution_count": 139,
   "metadata": {},
   "outputs": [
    {
     "data": {
      "text/plain": [
       "STABBR  CITY       \n",
       "NY      New York       81\n",
       "IL      Chicago        70\n",
       "TX      Houston        66\n",
       "CA      Los Angeles    52\n",
       "NY      Brooklyn       51\n",
       "Name: OPEID6, dtype: int64"
      ]
     },
     "execution_count": 139,
     "metadata": {},
     "output_type": "execute_result"
    }
   ],
   "source": [
    "(\n",
    "    df_institutions.groupby([\"STABBR\", \"CITY\"])[\"OPEID6\"]\n",
    "    .count()\n",
    "    # .nunique()\n",
    "    .sort_values(ascending=False)\n",
    "    .head(5)\n",
    ")"
   ]
  },
  {
   "cell_type": "code",
   "execution_count": 140,
   "metadata": {},
   "outputs": [
    {
     "name": "stdout",
     "output_type": "stream",
     "text": [
      "Memory as object: 707 KB\n",
      "Memory as category: 226 KB\n",
      "Memory saving from using STABBR as a category: 481 KB (67.95%)\n",
      "Memory of whole dataframe: 1900 KB\n"
     ]
    }
   ],
   "source": [
    "# memory profiling the STABBR and CITY columns\n",
    "state_object_memory = df_institutions[[\"STABBR\", \"CITY\"]].memory_usage(deep=True).sum()\n",
    "state_category_memory = (\n",
    "    df_institutions[[\"STABBR\", \"CITY\"]].astype(\"category\").memory_usage(deep=True).sum()\n",
    ")\n",
    "print(f\"Memory as object: {state_object_memory // 1024} KB\")\n",
    "print(f\"Memory as category: {state_category_memory // 1024} KB\")\n",
    "mem_saving = (state_object_memory - state_category_memory) // (1024)\n",
    "print(\n",
    "    f\"Memory saving from using STABBR as a category: {mem_saving} KB ({100-state_category_memory/state_object_memory*100:.2f}%)\"\n",
    ")\n",
    "print(\n",
    "    f\"Memory of whole dataframe: {df_institutions.memory_usage(deep=True).sum() // 1024} KB\"\n",
    ")"
   ]
  },
  {
   "cell_type": "code",
   "execution_count": 141,
   "metadata": {},
   "outputs": [
    {
     "data": {
      "text/plain": [
       "<seaborn.axisgrid.FacetGrid at 0x306683110>"
      ]
     },
     "execution_count": 141,
     "metadata": {},
     "output_type": "execute_result"
    },
    {
     "data": {
      "image/png": "[encoded data removed]",
      "text/plain": [
       "<Figure size 500x500 with 1 Axes>"
      ]
     },
     "metadata": {},
     "output_type": "display_data"
    }
   ],
   "source": [
    "# histogram of how many bachelors degrees are offered\n",
    "# this should probably be how many universities offer how many undergrad degrees\n",
    "sns.displot(\n",
    "    x=\"CREDDESC\",\n",
    "    binwidth=25,\n",
    "    data=df_fields_of_study.query(\"CREDDESC == 'Bachelors Degree'\")\n",
    "    .groupby(\"INSTNM\")\n",
    "    .count(),\n",
    ")"
   ]
  },
  {
   "cell_type": "code",
   "execution_count": 142,
   "metadata": {},
   "outputs": [
    {
     "data": {
      "text/plain": [
       "<Axes: ylabel='Frequency'>"
      ]
     },
     "execution_count": 142,
     "metadata": {},
     "output_type": "execute_result"
    },
    {
     "data": {
      "image/png": "[encoded data removed]",
      "text/plain": [
       "<Figure size 640x480 with 1 Axes>"
      ]
     },
     "metadata": {},
     "output_type": "display_data"
    }
   ],
   "source": [
    "# matplotlib version of the histogram, which is counting the name area of the degree (CIPDESC)\n",
    "(\n",
    "    df_fields_of_study.query(\"CREDDESC == 'Bachelors Degree'\")\n",
    "    .groupby(\"INSTNM\")[\"CIPDESC\"]\n",
    "    .count()\n",
    "    .plot(kind=\"hist\")\n",
    ")"
   ]
  },
  {
   "cell_type": "code",
   "execution_count": 143,
   "metadata": {},
   "outputs": [
    {
     "data": {
      "text/plain": [
       "INSTNM\n",
       "Westminster College                          165\n",
       "Pennsylvania State University-Main Campus    141\n",
       "University of Washington-Seattle Campus      137\n",
       "Ohio State University-Main Campus            126\n",
       "Bethel University                            125\n",
       "Name: CIPDESC, dtype: int64"
      ]
     },
     "execution_count": 143,
     "metadata": {},
     "output_type": "execute_result"
    }
   ],
   "source": [
    "# which universities have the greatest number of bachelors programs?\n",
    "(\n",
    "    df_fields_of_study.query(\"CREDDESC == 'Bachelors Degree'\")\n",
    "    .groupby(\"INSTNM\")[\"CIPDESC\"]\n",
    "    .count()\n",
    "    .sort_values(ascending=False)\n",
    "    .head(5)\n",
    ")"
   ]
  },
  {
   "cell_type": "code",
   "execution_count": 144,
   "metadata": {},
   "outputs": [
    {
     "data": {
      "text/plain": [
       "<seaborn.axisgrid.FacetGrid at 0x30c0d05f0>"
      ]
     },
     "execution_count": 144,
     "metadata": {},
     "output_type": "execute_result"
    },
    {
     "data": {
      "image/png": "[encoded data removed]",
      "text/plain": [
       "<Figure size 500x500 with 1 Axes>"
      ]
     },
     "metadata": {},
     "output_type": "display_data"
    }
   ],
   "source": [
    "sns.displot(\n",
    "    x=\"CREDDESC\",\n",
    "    binwidth=25,\n",
    "    data=df_fields_of_study.query(\n",
    "        \"CREDDESC.isin(('Doctoral Degree', 'Master\\\\'s Degree'))\"\n",
    "    )\n",
    "    .groupby(\"INSTNM\")\n",
    "    .count(),\n",
    ")"
   ]
  },
  {
   "cell_type": "code",
   "execution_count": 145,
   "metadata": {},
   "outputs": [
    {
     "data": {
      "text/plain": [
       "INSTNM\n",
       "University of Washington-Seattle Campus      237\n",
       "Pennsylvania State University-Main Campus    230\n",
       "New York University                          226\n",
       "University of Minnesota-Twin Cities          205\n",
       "Ohio State University-Main Campus            200\n",
       "Name: CIPDESC, dtype: int64"
      ]
     },
     "execution_count": 145,
     "metadata": {},
     "output_type": "execute_result"
    }
   ],
   "source": [
    "# which universties offer the greatest number of grad programs?\n",
    "\n",
    "(\n",
    "    df_fields_of_study.query(\"CREDDESC.isin(('Doctoral Degree', 'Master\\\\'s Degree'))\")\n",
    "    .groupby(\"INSTNM\")[\"CIPDESC\"]\n",
    "    .count()\n",
    "    .sort_values(ascending=False)\n",
    "    .head(5)\n",
    ")"
   ]
  },
  {
   "cell_type": "markdown",
   "metadata": {},
   "source": [
    "# Questions (Book Q4)\n",
    "1. How many universities offer bachelors programs but not graduate programs?\n",
    "2. How many universities offer graduate programs but no bachelors programs?\n",
    "3. How many universities offer bachelor's degrees containing `\"Computer Science\"`?\n",
    "4. The `CONTROL` field describes the types of institutions in the database. How many of each type offer a computer science program?"
   ]
  },
  {
   "cell_type": "code",
   "execution_count": 146,
   "metadata": {},
   "outputs": [
    {
     "data": {
      "text/plain": [
       "923"
      ]
     },
     "execution_count": 146,
     "metadata": {},
     "output_type": "execute_result"
    }
   ],
   "source": [
    "# unis with undergrad but no postgrad\n",
    "with_bachelors = df_fields_of_study.query(\"CREDDESC == 'Bachelors Degree'\")[\"INSTNM\"]\n",
    "with_grad = df_fields_of_study.query(\n",
    "    \"CREDDESC.isin(('Doctoral Degree', 'Master\\\\'s Degree'))\"\n",
    ")[\"INSTNM\"]\n",
    "with_bachelors[~with_bachelors.isin(with_grad)].drop_duplicates().count()"
   ]
  },
  {
   "cell_type": "code",
   "execution_count": 147,
   "metadata": {},
   "outputs": [
    {
     "data": {
      "text/plain": [
       "404"
      ]
     },
     "execution_count": 147,
     "metadata": {},
     "output_type": "execute_result"
    }
   ],
   "source": [
    "# opposite, postgrad but no undergrad\n",
    "with_grad[~with_grad.isin(with_bachelors)].drop_duplicates().count()"
   ]
  },
  {
   "cell_type": "code",
   "execution_count": 148,
   "metadata": {},
   "outputs": [
    {
     "data": {
      "text/plain": [
       "762"
      ]
     },
     "execution_count": 148,
     "metadata": {},
     "output_type": "execute_result"
    }
   ],
   "source": [
    "# compsci unis\n",
    "with_compsci = df_fields_of_study.query(\n",
    "    \"CREDDESC == 'Bachelors Degree' and CIPDESC.str.contains('Computer Science')\"\n",
    ")\n",
    "with_compsci[\"INSTNM\"].drop_duplicates().count()"
   ]
  },
  {
   "cell_type": "code",
   "execution_count": 149,
   "metadata": {},
   "outputs": [
    {
     "data": {
      "text/plain": [
       "CONTROL\n",
       "Foreign                 32\n",
       "Private, for-profit     18\n",
       "Private, nonprofit     501\n",
       "Public                 273\n",
       "Name: INSTNM, dtype: int64"
      ]
     },
     "execution_count": 149,
     "metadata": {},
     "output_type": "execute_result"
    }
   ],
   "source": [
    "# types of institutions offering computer science\n",
    "with_compsci.groupby(\"CONTROL\")[\"INSTNM\"].count()"
   ]
  },
  {
   "cell_type": "code",
   "execution_count": 150,
   "metadata": {},
   "outputs": [
    {
     "data": {
      "text/plain": [
       "<Axes: title={'center': 'Institution types offering Computer Science undergrad degrees'}>"
      ]
     },
     "execution_count": 150,
     "metadata": {},
     "output_type": "execute_result"
    },
    {
     "data": {
      "image/png": "[encoded data removed]",
      "text/plain": [
       "<Figure size 640x480 with 1 Axes>"
      ]
     },
     "metadata": {},
     "output_type": "display_data"
    }
   ],
   "source": [
    "with_compsci.groupby(\"CONTROL\")[\"INSTNM\"].count().plot(\n",
    "    kind=\"pie\",\n",
    "    title=\"Institution types offering Computer Science undergrad degrees\",\n",
    "    ylabel=\"\",\n",
    ")"
   ]
  },
  {
   "cell_type": "code",
   "execution_count": 151,
   "metadata": {},
   "outputs": [
    {
     "data": {
      "text/html": [
       "<div>\n",
       "<style scoped>\n",
       "    .dataframe tbody tr th:only-of-type {\n",
       "        vertical-align: middle;\n",
       "    }\n",
       "\n",
       "    .dataframe tbody tr th {\n",
       "        vertical-align: top;\n",
       "    }\n",
       "\n",
       "    .dataframe thead th {\n",
       "        text-align: right;\n",
       "    }\n",
       "</style>\n",
       "<table border=\"1\" class=\"dataframe\">\n",
       "  <thead>\n",
       "    <tr style=\"text-align: right;\">\n",
       "      <th></th>\n",
       "      <th>TUITIONFEE_OUT</th>\n",
       "    </tr>\n",
       "  </thead>\n",
       "  <tbody>\n",
       "    <tr>\n",
       "      <th>count</th>\n",
       "      <td>1139.000000</td>\n",
       "    </tr>\n",
       "    <tr>\n",
       "      <th>mean</th>\n",
       "      <td>26996.482002</td>\n",
       "    </tr>\n",
       "    <tr>\n",
       "      <th>std</th>\n",
       "      <td>14903.734488</td>\n",
       "    </tr>\n",
       "    <tr>\n",
       "      <th>min</th>\n",
       "      <td>3154.000000</td>\n",
       "    </tr>\n",
       "    <tr>\n",
       "      <th>25%</th>\n",
       "      <td>13202.500000</td>\n",
       "    </tr>\n",
       "    <tr>\n",
       "      <th>50%</th>\n",
       "      <td>24320.000000</td>\n",
       "    </tr>\n",
       "    <tr>\n",
       "      <th>75%</th>\n",
       "      <td>37836.000000</td>\n",
       "    </tr>\n",
       "    <tr>\n",
       "      <th>max</th>\n",
       "      <td>61671.000000</td>\n",
       "    </tr>\n",
       "  </tbody>\n",
       "</table>\n",
       "</div>"
      ],
      "text/plain": [
       "       TUITIONFEE_OUT\n",
       "count     1139.000000\n",
       "mean     26996.482002\n",
       "std      14903.734488\n",
       "min       3154.000000\n",
       "25%      13202.500000\n",
       "50%      24320.000000\n",
       "75%      37836.000000\n",
       "max      61671.000000"
      ]
     },
     "execution_count": 151,
     "metadata": {},
     "output_type": "execute_result"
    }
   ],
   "source": [
    "# min, max, median, mean TUITIONFEE_OUT for schools in the CS undergrad set\n",
    "(\n",
    "    with_compsci.set_index(\"OPEID6\")\n",
    "    .join(\n",
    "        # discard all columns that aren't relevant\n",
    "        df_institutions[[\"OPEID6\", \"TUITIONFEE_OUT\"]].set_index(\"OPEID6\"),\n",
    "    )\n",
    "    .describe()\n",
    ")"
   ]
  },
  {
   "cell_type": "code",
   "execution_count": 185,
   "metadata": {},
   "outputs": [
    {
     "data": {
      "text/html": [
       "<div>\n",
       "<style scoped>\n",
       "    .dataframe tbody tr th:only-of-type {\n",
       "        vertical-align: middle;\n",
       "    }\n",
       "\n",
       "    .dataframe tbody tr th {\n",
       "        vertical-align: top;\n",
       "    }\n",
       "\n",
       "    .dataframe thead th {\n",
       "        text-align: right;\n",
       "    }\n",
       "</style>\n",
       "<table border=\"1\" class=\"dataframe\">\n",
       "  <thead>\n",
       "    <tr style=\"text-align: right;\">\n",
       "      <th></th>\n",
       "      <th>CONTROL</th>\n",
       "      <th>Private, for-profit</th>\n",
       "      <th>Private, nonprofit</th>\n",
       "      <th>Public</th>\n",
       "    </tr>\n",
       "  </thead>\n",
       "  <tbody>\n",
       "    <tr>\n",
       "      <th rowspan=\"8\" valign=\"top\">TUITIONFEE_OUT</th>\n",
       "      <th>count</th>\n",
       "      <td>136.000000</td>\n",
       "      <td>582.000000</td>\n",
       "      <td>421.000000</td>\n",
       "    </tr>\n",
       "    <tr>\n",
       "      <th>mean</th>\n",
       "      <td>12359.161765</td>\n",
       "      <td>33789.982818</td>\n",
       "      <td>22333.437055</td>\n",
       "    </tr>\n",
       "    <tr>\n",
       "      <th>std</th>\n",
       "      <td>1954.582965</td>\n",
       "      <td>15973.754351</td>\n",
       "      <td>9618.584458</td>\n",
       "    </tr>\n",
       "    <tr>\n",
       "      <th>min</th>\n",
       "      <td>8280.000000</td>\n",
       "      <td>4300.000000</td>\n",
       "      <td>3154.000000</td>\n",
       "    </tr>\n",
       "    <tr>\n",
       "      <th>25%</th>\n",
       "      <td>12054.000000</td>\n",
       "      <td>20260.000000</td>\n",
       "      <td>15636.000000</td>\n",
       "    </tr>\n",
       "    <tr>\n",
       "      <th>50%</th>\n",
       "      <td>12233.000000</td>\n",
       "      <td>34245.000000</td>\n",
       "      <td>21312.000000</td>\n",
       "    </tr>\n",
       "    <tr>\n",
       "      <th>75%</th>\n",
       "      <td>12233.000000</td>\n",
       "      <td>47128.500000</td>\n",
       "      <td>27540.000000</td>\n",
       "    </tr>\n",
       "    <tr>\n",
       "      <th>max</th>\n",
       "      <td>25820.000000</td>\n",
       "      <td>61671.000000</td>\n",
       "      <td>47220.000000</td>\n",
       "    </tr>\n",
       "  </tbody>\n",
       "</table>\n",
       "</div>"
      ],
      "text/plain": [
       "CONTROL               Private, for-profit  Private, nonprofit        Public\n",
       "TUITIONFEE_OUT count           136.000000          582.000000    421.000000\n",
       "               mean          12359.161765        33789.982818  22333.437055\n",
       "               std            1954.582965        15973.754351   9618.584458\n",
       "               min            8280.000000         4300.000000   3154.000000\n",
       "               25%           12054.000000        20260.000000  15636.000000\n",
       "               50%           12233.000000        34245.000000  21312.000000\n",
       "               75%           12233.000000        47128.500000  27540.000000\n",
       "               max           25820.000000        61671.000000  47220.000000"
      ]
     },
     "execution_count": 185,
     "metadata": {},
     "output_type": "execute_result"
    }
   ],
   "source": [
    "# tuition for the different CONTROL types of universities, still for CompSci\n",
    "(\n",
    "    with_compsci.set_index(\"OPEID6\")\n",
    "    .join(\n",
    "        # discard all columns that aren't relevant\n",
    "        df_institutions[[\"OPEID6\", \"TUITIONFEE_OUT\"]].set_index(\"OPEID6\"),\n",
    "    )\n",
    "    .groupby(\"CONTROL\")\n",
    "    .describe()\n",
    "    .dropna()  # \"Foreign\" has no candicates so results in a bunch of NaN\n",
    "    .T\n",
    ")"
   ]
  },
  {
   "cell_type": "code",
   "execution_count": 153,
   "metadata": {},
   "outputs": [
    {
     "data": {
      "text/html": [
       "<div>\n",
       "<style scoped>\n",
       "    .dataframe tbody tr th:only-of-type {\n",
       "        vertical-align: middle;\n",
       "    }\n",
       "\n",
       "    .dataframe tbody tr th {\n",
       "        vertical-align: top;\n",
       "    }\n",
       "\n",
       "    .dataframe thead th {\n",
       "        text-align: right;\n",
       "    }\n",
       "</style>\n",
       "<table border=\"1\" class=\"dataframe\">\n",
       "  <thead>\n",
       "    <tr style=\"text-align: right;\">\n",
       "      <th></th>\n",
       "      <th>ADM_RATE</th>\n",
       "      <th>TUITIONFEE_OUT</th>\n",
       "    </tr>\n",
       "  </thead>\n",
       "  <tbody>\n",
       "    <tr>\n",
       "      <th>ADM_RATE</th>\n",
       "      <td>1.000000</td>\n",
       "      <td>-0.309658</td>\n",
       "    </tr>\n",
       "    <tr>\n",
       "      <th>TUITIONFEE_OUT</th>\n",
       "      <td>-0.309658</td>\n",
       "      <td>1.000000</td>\n",
       "    </tr>\n",
       "  </tbody>\n",
       "</table>\n",
       "</div>"
      ],
      "text/plain": [
       "                ADM_RATE  TUITIONFEE_OUT\n",
       "ADM_RATE        1.000000       -0.309658\n",
       "TUITIONFEE_OUT -0.309658        1.000000"
      ]
     },
     "execution_count": 153,
     "metadata": {},
     "output_type": "execute_result"
    }
   ],
   "source": [
    "df_institutions[[\"ADM_RATE\", \"TUITIONFEE_OUT\"]].corr()\n",
    "# weak negative correlation between admission rate and the tuition fee\n",
    "# so this could be interpreted as more exclusive schools (lower admission rate)\n",
    "# tend to have a higher tuition fee\n",
    "# it could also be interpreted as admissions being relaxed to boost numbers\n",
    "# and keep costs low"
   ]
  },
  {
   "cell_type": "code",
   "execution_count": null,
   "metadata": {},
   "outputs": [
    {
     "data": {
      "text/html": [
       "<div>\n",
       "<style scoped>\n",
       "    .dataframe tbody tr th:only-of-type {\n",
       "        vertical-align: middle;\n",
       "    }\n",
       "\n",
       "    .dataframe tbody tr th {\n",
       "        vertical-align: top;\n",
       "    }\n",
       "\n",
       "    .dataframe thead th {\n",
       "        text-align: right;\n",
       "    }\n",
       "</style>\n",
       "<table border=\"1\" class=\"dataframe\">\n",
       "  <thead>\n",
       "    <tr style=\"text-align: right;\">\n",
       "      <th></th>\n",
       "      <th></th>\n",
       "      <th>ADM_RATE</th>\n",
       "      <th>TUITIONFEE_OUT</th>\n",
       "    </tr>\n",
       "    <tr>\n",
       "      <th>CONTROL</th>\n",
       "      <th></th>\n",
       "      <th></th>\n",
       "      <th></th>\n",
       "    </tr>\n",
       "  </thead>\n",
       "  <tbody>\n",
       "    <tr>\n",
       "      <th rowspan=\"2\" valign=\"top\">Private, for-profit</th>\n",
       "      <th>ADM_RATE</th>\n",
       "      <td>1.000000</td>\n",
       "      <td>0.104820</td>\n",
       "    </tr>\n",
       "    <tr>\n",
       "      <th>TUITIONFEE_OUT</th>\n",
       "      <td>0.104820</td>\n",
       "      <td>1.000000</td>\n",
       "    </tr>\n",
       "    <tr>\n",
       "      <th rowspan=\"2\" valign=\"top\">Private, nonprofit</th>\n",
       "      <th>ADM_RATE</th>\n",
       "      <td>1.000000</td>\n",
       "      <td>-0.518200</td>\n",
       "    </tr>\n",
       "    <tr>\n",
       "      <th>TUITIONFEE_OUT</th>\n",
       "      <td>-0.518200</td>\n",
       "      <td>1.000000</td>\n",
       "    </tr>\n",
       "    <tr>\n",
       "      <th rowspan=\"2\" valign=\"top\">Public</th>\n",
       "      <th>ADM_RATE</th>\n",
       "      <td>1.000000</td>\n",
       "      <td>-0.146447</td>\n",
       "    </tr>\n",
       "    <tr>\n",
       "      <th>TUITIONFEE_OUT</th>\n",
       "      <td>-0.146447</td>\n",
       "      <td>1.000000</td>\n",
       "    </tr>\n",
       "  </tbody>\n",
       "</table>\n",
       "</div>"
      ],
      "text/plain": [
       "                                    ADM_RATE  TUITIONFEE_OUT\n",
       "CONTROL                                                     \n",
       "Private, for-profit ADM_RATE        1.000000        0.104820\n",
       "                    TUITIONFEE_OUT  0.104820        1.000000\n",
       "Private, nonprofit  ADM_RATE        1.000000       -0.518200\n",
       "                    TUITIONFEE_OUT -0.518200        1.000000\n",
       "Public              ADM_RATE        1.000000       -0.146447\n",
       "                    TUITIONFEE_OUT -0.146447        1.000000"
      ]
     },
     "execution_count": 154,
     "metadata": {},
     "output_type": "execute_result"
    }
   ],
   "source": [
    "# let's look at this using the CONTROL types as well\n",
    "(\n",
    "    df_institutions.set_index(\"OPEID6\")\n",
    "    .join(df_fields_of_study[[\"OPEID6\", \"CONTROL\"]].set_index(\"OPEID6\"))[\n",
    "        [\"ADM_RATE\", \"TUITIONFEE_OUT\", \"CONTROL\"]\n",
    "    ]\n",
    "    .groupby(\"CONTROL\")\n",
    ")"
   ]
  },
  {
   "cell_type": "code",
   "execution_count": 155,
   "metadata": {},
   "outputs": [
    {
     "data": {
      "text/plain": [
       "<Axes: xlabel='TUITIONFEE_OUT', ylabel='ADM_RATE'>"
      ]
     },
     "execution_count": 155,
     "metadata": {},
     "output_type": "execute_result"
    },
    {
     "data": {
      "image/png": "[encoded data removed]",
      "text/plain": [
       "<Figure size 640x480 with 2 Axes>"
      ]
     },
     "metadata": {},
     "output_type": "display_data"
    }
   ],
   "source": [
    "# plot tuition on x, admissions on y, and 10 year earnings as hue\n",
    "df_institutions.plot(\n",
    "    kind=\"scatter\",\n",
    "    x=\"TUITIONFEE_OUT\",\n",
    "    y=\"ADM_RATE\",\n",
    "    c=\"MD_EARN_WNE_P10\",\n",
    "    colormap=\"Spectral\",\n",
    ")\n",
    "# pretty much a validation of the selective expensive schools == higher earnings trope"
   ]
  },
  {
   "cell_type": "code",
   "execution_count": 156,
   "metadata": {},
   "outputs": [
    {
     "data": {
      "text/html": [
       "<div>\n",
       "<style scoped>\n",
       "    .dataframe tbody tr th:only-of-type {\n",
       "        vertical-align: middle;\n",
       "    }\n",
       "\n",
       "    .dataframe tbody tr th {\n",
       "        vertical-align: top;\n",
       "    }\n",
       "\n",
       "    .dataframe thead th {\n",
       "        text-align: right;\n",
       "    }\n",
       "</style>\n",
       "<table border=\"1\" class=\"dataframe\">\n",
       "  <thead>\n",
       "    <tr style=\"text-align: right;\">\n",
       "      <th></th>\n",
       "      <th>INSTNM</th>\n",
       "      <th>CITY</th>\n",
       "      <th>STABBR</th>\n",
       "    </tr>\n",
       "  </thead>\n",
       "  <tbody>\n",
       "    <tr>\n",
       "      <th>5491</th>\n",
       "      <td>Antioch College</td>\n",
       "      <td>Yellow Springs</td>\n",
       "      <td>OH</td>\n",
       "    </tr>\n",
       "    <tr>\n",
       "      <th>1206</th>\n",
       "      <td>Berea College</td>\n",
       "      <td>Berea</td>\n",
       "      <td>KY</td>\n",
       "    </tr>\n",
       "    <tr>\n",
       "      <th>1930</th>\n",
       "      <td>Berkeley College-Woodland Park</td>\n",
       "      <td>Woodland Park</td>\n",
       "      <td>NJ</td>\n",
       "    </tr>\n",
       "    <tr>\n",
       "      <th>1932</th>\n",
       "      <td>Bloomfield College</td>\n",
       "      <td>Bloomfield</td>\n",
       "      <td>NJ</td>\n",
       "    </tr>\n",
       "    <tr>\n",
       "      <th>2334</th>\n",
       "      <td>Chowan University</td>\n",
       "      <td>Murfreesboro</td>\n",
       "      <td>NC</td>\n",
       "    </tr>\n",
       "    <tr>\n",
       "      <th>1543</th>\n",
       "      <td>Dorsey College</td>\n",
       "      <td>Madison Heights</td>\n",
       "      <td>MI</td>\n",
       "    </tr>\n",
       "    <tr>\n",
       "      <th>3758</th>\n",
       "      <td>Dorsey College-Roseville</td>\n",
       "      <td>Roseville</td>\n",
       "      <td>MI</td>\n",
       "    </tr>\n",
       "    <tr>\n",
       "      <th>5138</th>\n",
       "      <td>Dorsey College-Saginaw</td>\n",
       "      <td>Saginaw</td>\n",
       "      <td>MI</td>\n",
       "    </tr>\n",
       "    <tr>\n",
       "      <th>3734</th>\n",
       "      <td>Dorsey College-Wayne</td>\n",
       "      <td>Wayne</td>\n",
       "      <td>MI</td>\n",
       "    </tr>\n",
       "    <tr>\n",
       "      <th>1542</th>\n",
       "      <td>Dorsey School of Business-Madison Heights</td>\n",
       "      <td>Madison Heights</td>\n",
       "      <td>MI</td>\n",
       "    </tr>\n",
       "    <tr>\n",
       "      <th>5718</th>\n",
       "      <td>Felbry College School of Nursing</td>\n",
       "      <td>Columbus</td>\n",
       "      <td>OH</td>\n",
       "    </tr>\n",
       "    <tr>\n",
       "      <th>4008</th>\n",
       "      <td>Fortis Institute-Scranton</td>\n",
       "      <td>Scranton</td>\n",
       "      <td>PA</td>\n",
       "    </tr>\n",
       "    <tr>\n",
       "      <th>5146</th>\n",
       "      <td>Hawaii Medical College</td>\n",
       "      <td>Honolulu</td>\n",
       "      <td>HI</td>\n",
       "    </tr>\n",
       "    <tr>\n",
       "      <th>5895</th>\n",
       "      <td>Institute of Medical Ultrasound</td>\n",
       "      <td>Atlanta</td>\n",
       "      <td>GA</td>\n",
       "    </tr>\n",
       "    <tr>\n",
       "      <th>3579</th>\n",
       "      <td>Mount Mary University</td>\n",
       "      <td>Milwaukee</td>\n",
       "      <td>WI</td>\n",
       "    </tr>\n",
       "    <tr>\n",
       "      <th>1487</th>\n",
       "      <td>Pine Manor College</td>\n",
       "      <td>Chestnut Hill</td>\n",
       "      <td>MA</td>\n",
       "    </tr>\n",
       "    <tr>\n",
       "      <th>4647</th>\n",
       "      <td>SAE Institute of Technology-Nashville</td>\n",
       "      <td>Nashville</td>\n",
       "      <td>TN</td>\n",
       "    </tr>\n",
       "    <tr>\n",
       "      <th>2945</th>\n",
       "      <td>Williamson College of the Trades</td>\n",
       "      <td>Media</td>\n",
       "      <td>PA</td>\n",
       "    </tr>\n",
       "  </tbody>\n",
       "</table>\n",
       "</div>"
      ],
      "text/plain": [
       "                                         INSTNM             CITY STABBR\n",
       "5491                            Antioch College   Yellow Springs     OH\n",
       "1206                              Berea College            Berea     KY\n",
       "1930             Berkeley College-Woodland Park    Woodland Park     NJ\n",
       "1932                         Bloomfield College       Bloomfield     NJ\n",
       "2334                          Chowan University     Murfreesboro     NC\n",
       "1543                             Dorsey College  Madison Heights     MI\n",
       "3758                   Dorsey College-Roseville        Roseville     MI\n",
       "5138                     Dorsey College-Saginaw          Saginaw     MI\n",
       "3734                       Dorsey College-Wayne            Wayne     MI\n",
       "1542  Dorsey School of Business-Madison Heights  Madison Heights     MI\n",
       "5718           Felbry College School of Nursing         Columbus     OH\n",
       "4008                  Fortis Institute-Scranton         Scranton     PA\n",
       "5146                     Hawaii Medical College         Honolulu     HI\n",
       "5895            Institute of Medical Ultrasound          Atlanta     GA\n",
       "3579                      Mount Mary University        Milwaukee     WI\n",
       "1487                         Pine Manor College    Chestnut Hill     MA\n",
       "4647      SAE Institute of Technology-Nashville        Nashville     TN\n",
       "2945           Williamson College of the Trades            Media     PA"
      ]
     },
     "execution_count": 156,
     "metadata": {},
     "output_type": "execute_result"
    }
   ],
   "source": [
    "# which unis are in the top 25% tuition fees and also the top 25% of Pell grants (govt subsidy)\n",
    "df_institutions.query(\n",
    "    \"TUITIONFEE_OUT >= TUITIONFEE_OUT.quantile(0.75) and FTFTPCTPELL >= FTFTPCTPELL.quantile(0.75)\"\n",
    ")[[\"INSTNM\", \"CITY\", \"STABBR\"]].sort_values(by=\"INSTNM\")"
   ]
  },
  {
   "cell_type": "code",
   "execution_count": 157,
   "metadata": {},
   "outputs": [
    {
     "data": {
      "text/plain": [
       "12"
      ]
     },
     "execution_count": 157,
     "metadata": {},
     "output_type": "execute_result"
    }
   ],
   "source": [
    "# which unis have a negative average price (receive subsidies) for the lowest income brackets?\n",
    "df_institutions.query(\"NPT41_PUB < 0 or NPT41_PRIV < 0\")[\"INSTNM\"].count()"
   ]
  },
  {
   "cell_type": "code",
   "execution_count": 158,
   "metadata": {},
   "outputs": [
    {
     "data": {
      "text/plain": [
       "52.33221766529079"
      ]
     },
     "execution_count": 158,
     "metadata": {},
     "output_type": "execute_result"
    }
   ],
   "source": [
    "# proportion that lower income brackets pay compared to the high income bracket for public\n",
    "# this is just lowest / highest\n",
    "(df_institutions[\"NPT41_PUB\"] / df_institutions[\"NPT45_PUB\"]).mean() * 100"
   ]
  },
  {
   "cell_type": "code",
   "execution_count": 159,
   "metadata": {},
   "outputs": [
    {
     "data": {
      "text/plain": [
       "71.4905619436487"
      ]
     },
     "execution_count": 159,
     "metadata": {},
     "output_type": "execute_result"
    }
   ],
   "source": [
    "# and for private universities\n",
    "(df_institutions[\"NPT41_PRIV\"] / df_institutions[\"NPT45_PRIV\"]).mean() * 100"
   ]
  },
  {
   "cell_type": "code",
   "execution_count": 160,
   "metadata": {},
   "outputs": [
    {
     "data": {
      "text/html": [
       "<div>\n",
       "<style scoped>\n",
       "    .dataframe tbody tr th:only-of-type {\n",
       "        vertical-align: middle;\n",
       "    }\n",
       "\n",
       "    .dataframe tbody tr th {\n",
       "        vertical-align: top;\n",
       "    }\n",
       "\n",
       "    .dataframe thead th {\n",
       "        text-align: right;\n",
       "    }\n",
       "</style>\n",
       "<table border=\"1\" class=\"dataframe\">\n",
       "  <thead>\n",
       "    <tr style=\"text-align: right;\">\n",
       "      <th></th>\n",
       "      <th>NPT41_PUB</th>\n",
       "      <th>NPT41_PRIV</th>\n",
       "    </tr>\n",
       "  </thead>\n",
       "  <tbody>\n",
       "    <tr>\n",
       "      <th>count</th>\n",
       "      <td>1823.000000</td>\n",
       "      <td>3506.00000</td>\n",
       "    </tr>\n",
       "    <tr>\n",
       "      <th>mean</th>\n",
       "      <td>8282.877674</td>\n",
       "      <td>17948.00656</td>\n",
       "    </tr>\n",
       "    <tr>\n",
       "      <th>std</th>\n",
       "      <td>4569.992570</td>\n",
       "      <td>7743.82339</td>\n",
       "    </tr>\n",
       "    <tr>\n",
       "      <th>min</th>\n",
       "      <td>-3103.000000</td>\n",
       "      <td>-539.00000</td>\n",
       "    </tr>\n",
       "    <tr>\n",
       "      <th>25%</th>\n",
       "      <td>5078.500000</td>\n",
       "      <td>13047.25000</td>\n",
       "    </tr>\n",
       "    <tr>\n",
       "      <th>50%</th>\n",
       "      <td>7662.000000</td>\n",
       "      <td>17357.50000</td>\n",
       "    </tr>\n",
       "    <tr>\n",
       "      <th>75%</th>\n",
       "      <td>10771.500000</td>\n",
       "      <td>22240.75000</td>\n",
       "    </tr>\n",
       "    <tr>\n",
       "      <th>max</th>\n",
       "      <td>36000.000000</td>\n",
       "      <td>111962.00000</td>\n",
       "    </tr>\n",
       "  </tbody>\n",
       "</table>\n",
       "</div>"
      ],
      "text/plain": [
       "          NPT41_PUB    NPT41_PRIV\n",
       "count   1823.000000    3506.00000\n",
       "mean    8282.877674   17948.00656\n",
       "std     4569.992570    7743.82339\n",
       "min    -3103.000000    -539.00000\n",
       "25%     5078.500000   13047.25000\n",
       "50%     7662.000000   17357.50000\n",
       "75%    10771.500000   22240.75000\n",
       "max    36000.000000  111962.00000"
      ]
     },
     "execution_count": 160,
     "metadata": {},
     "output_type": "execute_result"
    }
   ],
   "source": [
    "df_institutions[[\"NPT41_PUB\", \"NPT41_PRIV\"]].describe()"
   ]
  },
  {
   "cell_type": "markdown",
   "metadata": {},
   "source": [
    "# Analysing the ROI for universities\n",
    "1. For which schools in the cheapest 25% do their students have the top 25% of the salaries 10 years after graduation?\n",
    "2. Again, for private universities\n",
    "3. Is there a correlation between admission rates and completion rates?\n",
    "4. 10 years after graduating from what types of schools (public, private, etc) do people earn the greatest, on average?\n",
    "5. Do people who graduate from \"Ivy Plus\" (Ivy League + MIT, Stanford, University of Chicago) earn more than the average private university graduate? If so, how much more?\n",
    "6. Do people studying at universities in particular stats earn more on average after 10 years?"
   ]
  },
  {
   "cell_type": "code",
   "execution_count": 161,
   "metadata": {},
   "outputs": [
    {
     "data": {
      "text/html": [
       "<div>\n",
       "<style scoped>\n",
       "    .dataframe tbody tr th:only-of-type {\n",
       "        vertical-align: middle;\n",
       "    }\n",
       "\n",
       "    .dataframe tbody tr th {\n",
       "        vertical-align: top;\n",
       "    }\n",
       "\n",
       "    .dataframe thead th {\n",
       "        text-align: right;\n",
       "    }\n",
       "</style>\n",
       "<table border=\"1\" class=\"dataframe\">\n",
       "  <thead>\n",
       "    <tr style=\"text-align: right;\">\n",
       "      <th></th>\n",
       "      <th>INSTNM</th>\n",
       "      <th>CITY</th>\n",
       "      <th>STABBR</th>\n",
       "    </tr>\n",
       "  </thead>\n",
       "  <tbody>\n",
       "    <tr>\n",
       "      <th>203</th>\n",
       "      <td>California State University-Dominguez Hills</td>\n",
       "      <td>Carson</td>\n",
       "      <td>CA</td>\n",
       "    </tr>\n",
       "    <tr>\n",
       "      <th>267</th>\n",
       "      <td>De Anza College</td>\n",
       "      <td>Cupertino</td>\n",
       "      <td>CA</td>\n",
       "    </tr>\n",
       "    <tr>\n",
       "      <th>208</th>\n",
       "      <td>California State University-Los Angeles</td>\n",
       "      <td>Los Angeles</td>\n",
       "      <td>CA</td>\n",
       "    </tr>\n",
       "    <tr>\n",
       "      <th>363</th>\n",
       "      <td>Moorpark College</td>\n",
       "      <td>Moorpark</td>\n",
       "      <td>CA</td>\n",
       "    </tr>\n",
       "    <tr>\n",
       "      <th>228</th>\n",
       "      <td>Canada College</td>\n",
       "      <td>Redwood City</td>\n",
       "      <td>CA</td>\n",
       "    </tr>\n",
       "    <tr>\n",
       "      <th>450</th>\n",
       "      <td>Skyline College</td>\n",
       "      <td>San Bruno</td>\n",
       "      <td>CA</td>\n",
       "    </tr>\n",
       "    <tr>\n",
       "      <th>432</th>\n",
       "      <td>College of San Mateo</td>\n",
       "      <td>San Mateo</td>\n",
       "      <td>CA</td>\n",
       "    </tr>\n",
       "    <tr>\n",
       "      <th>652</th>\n",
       "      <td>University of Florida</td>\n",
       "      <td>Gainesville</td>\n",
       "      <td>FL</td>\n",
       "    </tr>\n",
       "    <tr>\n",
       "      <th>5563</th>\n",
       "      <td>University of Florida-Online</td>\n",
       "      <td>Gainesville</td>\n",
       "      <td>FL</td>\n",
       "    </tr>\n",
       "    <tr>\n",
       "      <th>645</th>\n",
       "      <td>Florida International University</td>\n",
       "      <td>Miami</td>\n",
       "      <td>FL</td>\n",
       "    </tr>\n",
       "    <tr>\n",
       "      <th>656</th>\n",
       "      <td>George T Baker Aviation Technical College</td>\n",
       "      <td>Miami</td>\n",
       "      <td>FL</td>\n",
       "    </tr>\n",
       "    <tr>\n",
       "      <th>2013</th>\n",
       "      <td>New Mexico Military Institute</td>\n",
       "      <td>Roswell</td>\n",
       "      <td>NM</td>\n",
       "    </tr>\n",
       "    <tr>\n",
       "      <th>2105</th>\n",
       "      <td>CUNY Lehman College</td>\n",
       "      <td>Bronx</td>\n",
       "      <td>NY</td>\n",
       "    </tr>\n",
       "    <tr>\n",
       "      <th>2096</th>\n",
       "      <td>CUNY Brooklyn College</td>\n",
       "      <td>Brooklyn</td>\n",
       "      <td>NY</td>\n",
       "    </tr>\n",
       "    <tr>\n",
       "      <th>2111</th>\n",
       "      <td>CUNY York College</td>\n",
       "      <td>Jamaica</td>\n",
       "      <td>NY</td>\n",
       "    </tr>\n",
       "    <tr>\n",
       "      <th>2093</th>\n",
       "      <td>CUNY Bernard M Baruch College</td>\n",
       "      <td>New York</td>\n",
       "      <td>NY</td>\n",
       "    </tr>\n",
       "    <tr>\n",
       "      <th>2098</th>\n",
       "      <td>CUNY City College</td>\n",
       "      <td>New York</td>\n",
       "      <td>NY</td>\n",
       "    </tr>\n",
       "    <tr>\n",
       "      <th>2101</th>\n",
       "      <td>CUNY Hunter College</td>\n",
       "      <td>New York</td>\n",
       "      <td>NY</td>\n",
       "    </tr>\n",
       "    <tr>\n",
       "      <th>2102</th>\n",
       "      <td>CUNY John Jay College of Criminal Justice</td>\n",
       "      <td>New York</td>\n",
       "      <td>NY</td>\n",
       "    </tr>\n",
       "    <tr>\n",
       "      <th>2108</th>\n",
       "      <td>CUNY Queens College</td>\n",
       "      <td>Queens</td>\n",
       "      <td>NY</td>\n",
       "    </tr>\n",
       "    <tr>\n",
       "      <th>2097</th>\n",
       "      <td>College of Staten Island CUNY</td>\n",
       "      <td>Staten Island</td>\n",
       "      <td>NY</td>\n",
       "    </tr>\n",
       "    <tr>\n",
       "      <th>3218</th>\n",
       "      <td>Texas A &amp; M International University</td>\n",
       "      <td>Laredo</td>\n",
       "      <td>TX</td>\n",
       "    </tr>\n",
       "  </tbody>\n",
       "</table>\n",
       "</div>"
      ],
      "text/plain": [
       "                                           INSTNM           CITY STABBR\n",
       "203   California State University-Dominguez Hills         Carson     CA\n",
       "267                               De Anza College      Cupertino     CA\n",
       "208       California State University-Los Angeles    Los Angeles     CA\n",
       "363                              Moorpark College       Moorpark     CA\n",
       "228                                Canada College   Redwood City     CA\n",
       "450                               Skyline College      San Bruno     CA\n",
       "432                          College of San Mateo      San Mateo     CA\n",
       "652                         University of Florida    Gainesville     FL\n",
       "5563                 University of Florida-Online    Gainesville     FL\n",
       "645              Florida International University          Miami     FL\n",
       "656     George T Baker Aviation Technical College          Miami     FL\n",
       "2013                New Mexico Military Institute        Roswell     NM\n",
       "2105                          CUNY Lehman College          Bronx     NY\n",
       "2096                        CUNY Brooklyn College       Brooklyn     NY\n",
       "2111                            CUNY York College        Jamaica     NY\n",
       "2093                CUNY Bernard M Baruch College       New York     NY\n",
       "2098                            CUNY City College       New York     NY\n",
       "2101                          CUNY Hunter College       New York     NY\n",
       "2102    CUNY John Jay College of Criminal Justice       New York     NY\n",
       "2108                          CUNY Queens College         Queens     NY\n",
       "2097                College of Staten Island CUNY  Staten Island     NY\n",
       "3218         Texas A & M International University         Laredo     TX"
      ]
     },
     "execution_count": 161,
     "metadata": {},
     "output_type": "execute_result"
    }
   ],
   "source": [
    "# schools in the cheapest 25% who have students in the top 25% of 10 year salaries\n",
    "(\n",
    "    df_institutions.query(\n",
    "        \"NPT4_PUB <= NPT4_PUB.quantile(0.25) and MD_EARN_WNE_P10 > MD_EARN_WNE_P10.quantile(0.75)\"\n",
    "    )[[\"INSTNM\", \"CITY\", \"STABBR\"]].sort_values([\"STABBR\", \"CITY\"])\n",
    ")"
   ]
  },
  {
   "cell_type": "code",
   "execution_count": 163,
   "metadata": {},
   "outputs": [
    {
     "data": {
      "text/html": [
       "<div>\n",
       "<style scoped>\n",
       "    .dataframe tbody tr th:only-of-type {\n",
       "        vertical-align: middle;\n",
       "    }\n",
       "\n",
       "    .dataframe tbody tr th {\n",
       "        vertical-align: top;\n",
       "    }\n",
       "\n",
       "    .dataframe thead th {\n",
       "        text-align: right;\n",
       "    }\n",
       "</style>\n",
       "<table border=\"1\" class=\"dataframe\">\n",
       "  <thead>\n",
       "    <tr style=\"text-align: right;\">\n",
       "      <th></th>\n",
       "      <th>INSTNM</th>\n",
       "      <th>CITY</th>\n",
       "      <th>STABBR</th>\n",
       "    </tr>\n",
       "  </thead>\n",
       "  <tbody>\n",
       "    <tr>\n",
       "      <th>4795</th>\n",
       "      <td>Columbia Southern University</td>\n",
       "      <td>Orange Beach</td>\n",
       "      <td>AL</td>\n",
       "    </tr>\n",
       "    <tr>\n",
       "      <th>3695</th>\n",
       "      <td>Stanford University</td>\n",
       "      <td>Stanford</td>\n",
       "      <td>CA</td>\n",
       "    </tr>\n",
       "    <tr>\n",
       "      <th>4208</th>\n",
       "      <td>Mercy Hospital School of Practical Nursing-Pla...</td>\n",
       "      <td>Miami</td>\n",
       "      <td>FL</td>\n",
       "    </tr>\n",
       "    <tr>\n",
       "      <th>842</th>\n",
       "      <td>Brigham Young University-Idaho</td>\n",
       "      <td>Rexburg</td>\n",
       "      <td>ID</td>\n",
       "    </tr>\n",
       "    <tr>\n",
       "      <th>895</th>\n",
       "      <td>Graham Hospital School of Nursing</td>\n",
       "      <td>Canton</td>\n",
       "      <td>IL</td>\n",
       "    </tr>\n",
       "    <tr>\n",
       "      <th>978</th>\n",
       "      <td>Saint Xavier University</td>\n",
       "      <td>Chicago</td>\n",
       "      <td>IL</td>\n",
       "    </tr>\n",
       "    <tr>\n",
       "      <th>1011</th>\n",
       "      <td>Calumet College of Saint Joseph</td>\n",
       "      <td>Whiting</td>\n",
       "      <td>IN</td>\n",
       "    </tr>\n",
       "    <tr>\n",
       "      <th>1297</th>\n",
       "      <td>University of Holy Cross</td>\n",
       "      <td>New Orleans</td>\n",
       "      <td>LA</td>\n",
       "    </tr>\n",
       "    <tr>\n",
       "      <th>1448</th>\n",
       "      <td>Harvard University</td>\n",
       "      <td>Cambridge</td>\n",
       "      <td>MA</td>\n",
       "    </tr>\n",
       "    <tr>\n",
       "      <th>1383</th>\n",
       "      <td>Ner Israel Rabbinical College</td>\n",
       "      <td>Baltimore</td>\n",
       "      <td>MD</td>\n",
       "    </tr>\n",
       "    <tr>\n",
       "      <th>1775</th>\n",
       "      <td>Logan University</td>\n",
       "      <td>Chesterfield</td>\n",
       "      <td>MO</td>\n",
       "    </tr>\n",
       "    <tr>\n",
       "      <th>1877</th>\n",
       "      <td>College of Saint Mary</td>\n",
       "      <td>Omaha</td>\n",
       "      <td>NE</td>\n",
       "    </tr>\n",
       "    <tr>\n",
       "      <th>1989</th>\n",
       "      <td>Saint Peter's University</td>\n",
       "      <td>Jersey City</td>\n",
       "      <td>NJ</td>\n",
       "    </tr>\n",
       "    <tr>\n",
       "      <th>1979</th>\n",
       "      <td>Princeton University</td>\n",
       "      <td>Princeton</td>\n",
       "      <td>NJ</td>\n",
       "    </tr>\n",
       "    <tr>\n",
       "      <th>1948</th>\n",
       "      <td>Fairleigh Dickinson University-Metropolitan Ca...</td>\n",
       "      <td>Teaneck</td>\n",
       "      <td>NJ</td>\n",
       "    </tr>\n",
       "    <tr>\n",
       "      <th>2162</th>\n",
       "      <td>Maria College of Albany</td>\n",
       "      <td>Albany</td>\n",
       "      <td>NY</td>\n",
       "    </tr>\n",
       "    <tr>\n",
       "      <th>2231</th>\n",
       "      <td>St Francis College</td>\n",
       "      <td>Brooklyn Heights</td>\n",
       "      <td>NY</td>\n",
       "    </tr>\n",
       "    <tr>\n",
       "      <th>2087</th>\n",
       "      <td>Cooper Union for the Advancement of Science an...</td>\n",
       "      <td>New York</td>\n",
       "      <td>NY</td>\n",
       "    </tr>\n",
       "    <tr>\n",
       "      <th>2509</th>\n",
       "      <td>Franklin University</td>\n",
       "      <td>Columbus</td>\n",
       "      <td>OH</td>\n",
       "    </tr>\n",
       "    <tr>\n",
       "      <th>4755</th>\n",
       "      <td>ATA College</td>\n",
       "      <td>Tulsa</td>\n",
       "      <td>OK</td>\n",
       "    </tr>\n",
       "    <tr>\n",
       "      <th>5369</th>\n",
       "      <td>Mercyhurst University-North East Campus</td>\n",
       "      <td>North East</td>\n",
       "      <td>PA</td>\n",
       "    </tr>\n",
       "    <tr>\n",
       "      <th>2866</th>\n",
       "      <td>Peirce College</td>\n",
       "      <td>Philadelphia</td>\n",
       "      <td>PA</td>\n",
       "    </tr>\n",
       "    <tr>\n",
       "      <th>2954</th>\n",
       "      <td>New England Tractor Trailer Training School of...</td>\n",
       "      <td>Pawtucket</td>\n",
       "      <td>RI</td>\n",
       "    </tr>\n",
       "    <tr>\n",
       "      <th>3055</th>\n",
       "      <td>Baptist Health Sciences University</td>\n",
       "      <td>Memphis</td>\n",
       "      <td>TN</td>\n",
       "    </tr>\n",
       "    <tr>\n",
       "      <th>3061</th>\n",
       "      <td>Christian Brothers University</td>\n",
       "      <td>Memphis</td>\n",
       "      <td>TN</td>\n",
       "    </tr>\n",
       "    <tr>\n",
       "      <th>3962</th>\n",
       "      <td>Center for Advanced Legal Studies</td>\n",
       "      <td>Houston</td>\n",
       "      <td>TX</td>\n",
       "    </tr>\n",
       "    <tr>\n",
       "      <th>3319</th>\n",
       "      <td>Brigham Young University</td>\n",
       "      <td>Provo</td>\n",
       "      <td>UT</td>\n",
       "    </tr>\n",
       "    <tr>\n",
       "      <th>4322</th>\n",
       "      <td>Western Governors University</td>\n",
       "      <td>Salt Lake City</td>\n",
       "      <td>UT</td>\n",
       "    </tr>\n",
       "    <tr>\n",
       "      <th>3556</th>\n",
       "      <td>Beloit College</td>\n",
       "      <td>Beloit</td>\n",
       "      <td>WI</td>\n",
       "    </tr>\n",
       "    <tr>\n",
       "      <th>4732</th>\n",
       "      <td>American Public University System</td>\n",
       "      <td>Charles Town</td>\n",
       "      <td>WV</td>\n",
       "    </tr>\n",
       "  </tbody>\n",
       "</table>\n",
       "</div>"
      ],
      "text/plain": [
       "                                                 INSTNM              CITY  \\\n",
       "4795                       Columbia Southern University      Orange Beach   \n",
       "3695                                Stanford University          Stanford   \n",
       "4208  Mercy Hospital School of Practical Nursing-Pla...             Miami   \n",
       "842                      Brigham Young University-Idaho           Rexburg   \n",
       "895                   Graham Hospital School of Nursing            Canton   \n",
       "978                             Saint Xavier University           Chicago   \n",
       "1011                    Calumet College of Saint Joseph           Whiting   \n",
       "1297                           University of Holy Cross       New Orleans   \n",
       "1448                                 Harvard University         Cambridge   \n",
       "1383                      Ner Israel Rabbinical College         Baltimore   \n",
       "1775                                   Logan University      Chesterfield   \n",
       "1877                              College of Saint Mary             Omaha   \n",
       "1989                           Saint Peter's University       Jersey City   \n",
       "1979                               Princeton University         Princeton   \n",
       "1948  Fairleigh Dickinson University-Metropolitan Ca...           Teaneck   \n",
       "2162                            Maria College of Albany            Albany   \n",
       "2231                                 St Francis College  Brooklyn Heights   \n",
       "2087  Cooper Union for the Advancement of Science an...          New York   \n",
       "2509                                Franklin University          Columbus   \n",
       "4755                                        ATA College             Tulsa   \n",
       "5369            Mercyhurst University-North East Campus        North East   \n",
       "2866                                     Peirce College      Philadelphia   \n",
       "2954  New England Tractor Trailer Training School of...         Pawtucket   \n",
       "3055                 Baptist Health Sciences University           Memphis   \n",
       "3061                      Christian Brothers University           Memphis   \n",
       "3962                  Center for Advanced Legal Studies           Houston   \n",
       "3319                           Brigham Young University             Provo   \n",
       "4322                       Western Governors University    Salt Lake City   \n",
       "3556                                     Beloit College            Beloit   \n",
       "4732                  American Public University System      Charles Town   \n",
       "\n",
       "     STABBR  \n",
       "4795     AL  \n",
       "3695     CA  \n",
       "4208     FL  \n",
       "842      ID  \n",
       "895      IL  \n",
       "978      IL  \n",
       "1011     IN  \n",
       "1297     LA  \n",
       "1448     MA  \n",
       "1383     MD  \n",
       "1775     MO  \n",
       "1877     NE  \n",
       "1989     NJ  \n",
       "1979     NJ  \n",
       "1948     NJ  \n",
       "2162     NY  \n",
       "2231     NY  \n",
       "2087     NY  \n",
       "2509     OH  \n",
       "4755     OK  \n",
       "5369     PA  \n",
       "2866     PA  \n",
       "2954     RI  \n",
       "3055     TN  \n",
       "3061     TN  \n",
       "3962     TX  \n",
       "3319     UT  \n",
       "4322     UT  \n",
       "3556     WI  \n",
       "4732     WV  "
      ]
     },
     "execution_count": 163,
     "metadata": {},
     "output_type": "execute_result"
    }
   ],
   "source": [
    "# now the same for private universities\n",
    "good_performing_private = df_institutions.query(\n",
    "    \"NPT4_PRIV <= NPT4_PRIV.quantile(0.25) and MD_EARN_WNE_P10 > MD_EARN_WNE_P10.quantile(0.75)\"\n",
    ")[[\"INSTNM\", \"CITY\", \"STABBR\"]].sort_values([\"STABBR\", \"CITY\"])\n",
    "good_performing_private\n",
    "# these all look like they're private, non-profit universities"
   ]
  },
  {
   "cell_type": "code",
   "execution_count": 167,
   "metadata": {},
   "outputs": [
    {
     "data": {
      "text/html": [
       "<div>\n",
       "<style scoped>\n",
       "    .dataframe tbody tr th:only-of-type {\n",
       "        vertical-align: middle;\n",
       "    }\n",
       "\n",
       "    .dataframe tbody tr th {\n",
       "        vertical-align: top;\n",
       "    }\n",
       "\n",
       "    .dataframe thead th {\n",
       "        text-align: right;\n",
       "    }\n",
       "</style>\n",
       "<table border=\"1\" class=\"dataframe\">\n",
       "  <thead>\n",
       "    <tr style=\"text-align: right;\">\n",
       "      <th></th>\n",
       "      <th>ADM_RATE</th>\n",
       "      <th>C100_4</th>\n",
       "    </tr>\n",
       "  </thead>\n",
       "  <tbody>\n",
       "    <tr>\n",
       "      <th>ADM_RATE</th>\n",
       "      <td>1.000000</td>\n",
       "      <td>-0.336871</td>\n",
       "    </tr>\n",
       "    <tr>\n",
       "      <th>C100_4</th>\n",
       "      <td>-0.336871</td>\n",
       "      <td>1.000000</td>\n",
       "    </tr>\n",
       "  </tbody>\n",
       "</table>\n",
       "</div>"
      ],
      "text/plain": [
       "          ADM_RATE    C100_4\n",
       "ADM_RATE  1.000000 -0.336871\n",
       "C100_4   -0.336871  1.000000"
      ]
     },
     "execution_count": 167,
     "metadata": {},
     "output_type": "execute_result"
    }
   ],
   "source": [
    "# check correlation between admissions and completion rates\n",
    "df_institutions[[\"ADM_RATE\", \"C100_4\"]].corr()\n",
    "# weak negative correlation"
   ]
  },
  {
   "cell_type": "code",
   "execution_count": null,
   "metadata": {},
   "outputs": [
    {
     "data": {
      "text/html": [
       "<div>\n",
       "<style scoped>\n",
       "    .dataframe tbody tr th:only-of-type {\n",
       "        vertical-align: middle;\n",
       "    }\n",
       "\n",
       "    .dataframe tbody tr th {\n",
       "        vertical-align: top;\n",
       "    }\n",
       "\n",
       "    .dataframe thead th {\n",
       "        text-align: right;\n",
       "    }\n",
       "</style>\n",
       "<table border=\"1\" class=\"dataframe\">\n",
       "  <thead>\n",
       "    <tr style=\"text-align: right;\">\n",
       "      <th></th>\n",
       "      <th></th>\n",
       "      <th>ADM_RATE</th>\n",
       "      <th>C100_4</th>\n",
       "    </tr>\n",
       "    <tr>\n",
       "      <th>CONTROL</th>\n",
       "      <th></th>\n",
       "      <th></th>\n",
       "      <th></th>\n",
       "    </tr>\n",
       "  </thead>\n",
       "  <tbody>\n",
       "    <tr>\n",
       "      <th rowspan=\"2\" valign=\"top\">Private, for-profit</th>\n",
       "      <th>ADM_RATE</th>\n",
       "      <td>1.000000</td>\n",
       "      <td>0.195644</td>\n",
       "    </tr>\n",
       "    <tr>\n",
       "      <th>C100_4</th>\n",
       "      <td>0.195644</td>\n",
       "      <td>1.000000</td>\n",
       "    </tr>\n",
       "    <tr>\n",
       "      <th rowspan=\"2\" valign=\"top\">Private, nonprofit</th>\n",
       "      <th>ADM_RATE</th>\n",
       "      <td>1.000000</td>\n",
       "      <td>-0.498329</td>\n",
       "    </tr>\n",
       "    <tr>\n",
       "      <th>C100_4</th>\n",
       "      <td>-0.498329</td>\n",
       "      <td>1.000000</td>\n",
       "    </tr>\n",
       "    <tr>\n",
       "      <th rowspan=\"2\" valign=\"top\">Public</th>\n",
       "      <th>ADM_RATE</th>\n",
       "      <td>1.000000</td>\n",
       "      <td>-0.404673</td>\n",
       "    </tr>\n",
       "    <tr>\n",
       "      <th>C100_4</th>\n",
       "      <td>-0.404673</td>\n",
       "      <td>1.000000</td>\n",
       "    </tr>\n",
       "  </tbody>\n",
       "</table>\n",
       "</div>"
      ],
      "text/plain": [
       "                              ADM_RATE    C100_4\n",
       "CONTROL                                         \n",
       "Private, for-profit ADM_RATE  1.000000  0.195644\n",
       "                    C100_4    0.195644  1.000000\n",
       "Private, nonprofit  ADM_RATE  1.000000 -0.498329\n",
       "                    C100_4   -0.498329  1.000000\n",
       "Public              ADM_RATE  1.000000 -0.404673\n",
       "                    C100_4   -0.404673  1.000000"
      ]
     },
     "execution_count": 169,
     "metadata": {},
     "output_type": "execute_result"
    }
   ],
   "source": [
    "# let's look at this using the CONTROL types as well\n",
    "(\n",
    "    df_institutions.set_index(\"OPEID6\")\n",
    "    .join(df_fields_of_study[[\"OPEID6\", \"CONTROL\"]].set_index(\"OPEID6\"))[\n",
    "        [\"ADM_RATE\", \"C100_4\", \"CONTROL\"]\n",
    "    ]\n",
    "    .groupby(\"CONTROL\")\n",
    ").corr()\n",
    "# for profit universities show a slight positive correlation, so higher admissions slightly higher graduation\n",
    "# which is what you'd expect for higher fee institutions"
   ]
  },
  {
   "cell_type": "code",
   "execution_count": 170,
   "metadata": {},
   "outputs": [
    {
     "data": {
      "text/html": [
       "<div>\n",
       "<style scoped>\n",
       "    .dataframe tbody tr th:only-of-type {\n",
       "        vertical-align: middle;\n",
       "    }\n",
       "\n",
       "    .dataframe tbody tr th {\n",
       "        vertical-align: top;\n",
       "    }\n",
       "\n",
       "    .dataframe thead th {\n",
       "        text-align: right;\n",
       "    }\n",
       "</style>\n",
       "<table border=\"1\" class=\"dataframe\">\n",
       "  <thead>\n",
       "    <tr style=\"text-align: right;\">\n",
       "      <th></th>\n",
       "      <th></th>\n",
       "      <th>TUITIONFEE_OUT</th>\n",
       "      <th>C100_4</th>\n",
       "    </tr>\n",
       "    <tr>\n",
       "      <th>CONTROL</th>\n",
       "      <th></th>\n",
       "      <th></th>\n",
       "      <th></th>\n",
       "    </tr>\n",
       "  </thead>\n",
       "  <tbody>\n",
       "    <tr>\n",
       "      <th rowspan=\"2\" valign=\"top\">Private, for-profit</th>\n",
       "      <th>TUITIONFEE_OUT</th>\n",
       "      <td>1.000000</td>\n",
       "      <td>0.139473</td>\n",
       "    </tr>\n",
       "    <tr>\n",
       "      <th>C100_4</th>\n",
       "      <td>0.139473</td>\n",
       "      <td>1.000000</td>\n",
       "    </tr>\n",
       "    <tr>\n",
       "      <th rowspan=\"2\" valign=\"top\">Private, nonprofit</th>\n",
       "      <th>TUITIONFEE_OUT</th>\n",
       "      <td>1.000000</td>\n",
       "      <td>0.770518</td>\n",
       "    </tr>\n",
       "    <tr>\n",
       "      <th>C100_4</th>\n",
       "      <td>0.770518</td>\n",
       "      <td>1.000000</td>\n",
       "    </tr>\n",
       "    <tr>\n",
       "      <th rowspan=\"2\" valign=\"top\">Public</th>\n",
       "      <th>TUITIONFEE_OUT</th>\n",
       "      <td>1.000000</td>\n",
       "      <td>0.671018</td>\n",
       "    </tr>\n",
       "    <tr>\n",
       "      <th>C100_4</th>\n",
       "      <td>0.671018</td>\n",
       "      <td>1.000000</td>\n",
       "    </tr>\n",
       "  </tbody>\n",
       "</table>\n",
       "</div>"
      ],
      "text/plain": [
       "                                    TUITIONFEE_OUT    C100_4\n",
       "CONTROL                                                     \n",
       "Private, for-profit TUITIONFEE_OUT        1.000000  0.139473\n",
       "                    C100_4                0.139473  1.000000\n",
       "Private, nonprofit  TUITIONFEE_OUT        1.000000  0.770518\n",
       "                    C100_4                0.770518  1.000000\n",
       "Public              TUITIONFEE_OUT        1.000000  0.671018\n",
       "                    C100_4                0.671018  1.000000"
      ]
     },
     "execution_count": 170,
     "metadata": {},
     "output_type": "execute_result"
    }
   ],
   "source": [
    "(\n",
    "    df_institutions.set_index(\"OPEID6\")\n",
    "    .join(df_fields_of_study[[\"OPEID6\", \"CONTROL\"]].set_index(\"OPEID6\"))[\n",
    "        [\"TUITIONFEE_OUT\", \"C100_4\", \"CONTROL\"]\n",
    "    ]\n",
    "    .groupby(\"CONTROL\")\n",
    ").corr()\n",
    "# much stronger correlation between tuition fees and completion rates for public\n",
    "# and non-profit, but more weakly correlated for for-profit than admission rates"
   ]
  },
  {
   "cell_type": "code",
   "execution_count": 171,
   "metadata": {},
   "outputs": [
    {
     "data": {
      "text/html": [
       "<div>\n",
       "<style scoped>\n",
       "    .dataframe tbody tr th:only-of-type {\n",
       "        vertical-align: middle;\n",
       "    }\n",
       "\n",
       "    .dataframe tbody tr th {\n",
       "        vertical-align: top;\n",
       "    }\n",
       "\n",
       "    .dataframe thead th {\n",
       "        text-align: right;\n",
       "    }\n",
       "</style>\n",
       "<table border=\"1\" class=\"dataframe\">\n",
       "  <thead>\n",
       "    <tr style=\"text-align: right;\">\n",
       "      <th></th>\n",
       "      <th>MD_EARN_WNE_P10</th>\n",
       "    </tr>\n",
       "    <tr>\n",
       "      <th>CONTROL</th>\n",
       "      <th></th>\n",
       "    </tr>\n",
       "  </thead>\n",
       "  <tbody>\n",
       "    <tr>\n",
       "      <th>Private, for-profit</th>\n",
       "      <td>38164.132933</td>\n",
       "    </tr>\n",
       "    <tr>\n",
       "      <th>Private, nonprofit</th>\n",
       "      <td>52539.363062</td>\n",
       "    </tr>\n",
       "    <tr>\n",
       "      <th>Public</th>\n",
       "      <td>46682.056312</td>\n",
       "    </tr>\n",
       "  </tbody>\n",
       "</table>\n",
       "</div>"
      ],
      "text/plain": [
       "                     MD_EARN_WNE_P10\n",
       "CONTROL                             \n",
       "Private, for-profit     38164.132933\n",
       "Private, nonprofit      52539.363062\n",
       "Public                  46682.056312"
      ]
     },
     "execution_count": 171,
     "metadata": {},
     "output_type": "execute_result"
    }
   ],
   "source": [
    "# on average which earnings are expected after 10 years from different types of unis\n",
    "(\n",
    "    df_institutions.set_index(\"OPEID6\")\n",
    "    .join(df_fields_of_study[[\"OPEID6\", \"CONTROL\"]].set_index(\"OPEID6\"))[\n",
    "        [\"MD_EARN_WNE_P10\", \"CONTROL\"]\n",
    "    ]\n",
    "    .groupby(\"CONTROL\")\n",
    "    .mean()\n",
    ")\n",
    "# interesting, private non-profit units do better on average for long term earnings\n",
    "# and for-profit do the worst - I wonder what the earnings are based off"
   ]
  },
  {
   "cell_type": "code",
   "execution_count": 175,
   "metadata": {},
   "outputs": [
    {
     "data": {
      "text/plain": [
       "STABBR\n",
       "MA    53234.396226\n",
       "RI    50432.789474\n",
       "DC    49081.470588\n",
       "CT    48662.017857\n",
       "VT    48383.857143\n",
       "NY    47584.653199\n",
       "NH    46540.791667\n",
       "WA    44594.678161\n",
       "PA    44265.733083\n",
       "MN    43821.510204\n",
       "Name: MD_EARN_WNE_P10, dtype: float64"
      ]
     },
     "execution_count": 175,
     "metadata": {},
     "output_type": "execute_result"
    }
   ],
   "source": [
    "# average earnings for different states\n",
    "(\n",
    "    df_institutions.groupby(\"STABBR\")[\"MD_EARN_WNE_P10\"]\n",
    "    .mean()\n",
    "    .sort_values(ascending=False)\n",
    "    .head(10)\n",
    ")"
   ]
  },
  {
   "cell_type": "code",
   "execution_count": 181,
   "metadata": {},
   "outputs": [
    {
     "data": {
      "text/plain": [
       "<Axes: title={'center': 'Average 10 year earnings by state'}, xlabel='US State', ylabel='Average earnings after 10 years'>"
      ]
     },
     "execution_count": 181,
     "metadata": {},
     "output_type": "execute_result"
    },
    {
     "data": {
      "image/png": "[encoded data removed]",
      "text/plain": [
       "<Figure size 1200x1000 with 1 Axes>"
      ]
     },
     "metadata": {},
     "output_type": "display_data"
    }
   ],
   "source": [
    "(\n",
    "    df_institutions.groupby(\"STABBR\")[\"MD_EARN_WNE_P10\"]\n",
    "    .mean()\n",
    "    .sort_values(ascending=False)\n",
    "    .plot(\n",
    "        kind=\"bar\",\n",
    "        title=\"Average 10 year earnings by state\",\n",
    "        xlabel=\"US State\",\n",
    "        figsize=(12, 10),\n",
    "    )\n",
    ")"
   ]
  },
  {
   "cell_type": "code",
   "execution_count": 184,
   "metadata": {},
   "outputs": [
    {
     "data": {
      "text/plain": [
       "<Axes: >"
      ]
     },
     "execution_count": 184,
     "metadata": {},
     "output_type": "execute_result"
    },
    {
     "data": {
      "image/png": "[encoded data removed]",
      "text/plain": [
       "<Figure size 640x480 with 1 Axes>"
      ]
     },
     "metadata": {},
     "output_type": "display_data"
    }
   ],
   "source": [
    "(\n",
    "    df_institutions.groupby(\"STABBR\")[\"MD_EARN_WNE_P10\"]\n",
    "    .mean()\n",
    "    .plot(\n",
    "        kind=\"box\",\n",
    "    )\n",
    ")"
   ]
  },
  {
   "cell_type": "code",
   "execution_count": 176,
   "metadata": {},
   "outputs": [
    {
     "data": {
      "text/plain": [
       "91806.81818181818"
      ]
     },
     "execution_count": 176,
     "metadata": {},
     "output_type": "execute_result"
    }
   ],
   "source": [
    "# I honestly have no idea what universities are \"ivy league\", coming from Australia\n",
    "ivy_plus = [\n",
    "    \"Harvard University\",\n",
    "    \"Massachusetts Institute of Technology\",\n",
    "    \"Yale University\",\n",
    "    \"Columbia University in the City of New York\",\n",
    "    \"Brown University\",\n",
    "    \"Stanford University\",\n",
    "    \"University of Chicago\",\n",
    "    \"Dartmouth College\",\n",
    "    \"University of Pennsylvania\",\n",
    "    \"Cornell University\",\n",
    "    \"Princeton University\",\n",
    "]\n",
    "\n",
    "(\n",
    "    df_institutions.loc[\n",
    "        df_institutions[\"INSTNM\"].isin(ivy_plus), \"MD_EARN_WNE_P10\"\n",
    "    ].mean()\n",
    ")\n"
   ]
  }
 ],
 "metadata": {
  "kernelspec": {
   "display_name": ".venv",
   "language": "python",
   "name": "python3"
  },
  "language_info": {
   "codemirror_mode": {
    "name": "ipython",
    "version": 3
   },
   "file_extension": ".py",
   "mimetype": "text/x-python",
   "name": "python",
   "nbconvert_exporter": "python",
   "pygments_lexer": "ipython3",
   "version": "3.12.7"
  }
 },
 "nbformat": 4,
 "nbformat_minor": 2
}
