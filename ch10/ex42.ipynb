{
 "cells": [
  {
   "cell_type": "code",
   "execution_count": 126,
   "metadata": {},
   "outputs": [],
   "source": [
    "import pandas as pd\n",
    "import numpy as np\n",
    "\n",
    "pd.set_option(\"display.float_format\", \"{:.5f}\".format)"
   ]
  },
  {
   "cell_type": "code",
   "execution_count": 127,
   "metadata": {},
   "outputs": [
    {
     "data": {
      "text/html": [
       "<div>\n",
       "<style scoped>\n",
       "    .dataframe tbody tr th:only-of-type {\n",
       "        vertical-align: middle;\n",
       "    }\n",
       "\n",
       "    .dataframe tbody tr th {\n",
       "        vertical-align: top;\n",
       "    }\n",
       "\n",
       "    .dataframe thead th {\n",
       "        text-align: right;\n",
       "    }\n",
       "</style>\n",
       "<table border=\"1\" class=\"dataframe\">\n",
       "  <thead>\n",
       "    <tr style=\"text-align: right;\">\n",
       "      <th></th>\n",
       "      <th>tpep_pickup_datetime</th>\n",
       "      <th>passenger_count</th>\n",
       "      <th>trip_distance</th>\n",
       "      <th>fare_amount</th>\n",
       "      <th>extra</th>\n",
       "      <th>mta_tax</th>\n",
       "      <th>tip_amount</th>\n",
       "      <th>tolls_amount</th>\n",
       "      <th>improvement_surcharge</th>\n",
       "      <th>total_amount</th>\n",
       "      <th>congestion_surcharge</th>\n",
       "    </tr>\n",
       "  </thead>\n",
       "  <tbody>\n",
       "    <tr>\n",
       "      <th>0</th>\n",
       "      <td>2019-01-01 00:46:40</td>\n",
       "      <td>1.00000</td>\n",
       "      <td>1.50000</td>\n",
       "      <td>7.00000</td>\n",
       "      <td>0.50000</td>\n",
       "      <td>0.50000</td>\n",
       "      <td>1.65000</td>\n",
       "      <td>0.00000</td>\n",
       "      <td>0.30000</td>\n",
       "      <td>9.95000</td>\n",
       "      <td>NaN</td>\n",
       "    </tr>\n",
       "    <tr>\n",
       "      <th>1</th>\n",
       "      <td>2019-01-01 00:59:47</td>\n",
       "      <td>1.00000</td>\n",
       "      <td>2.60000</td>\n",
       "      <td>14.00000</td>\n",
       "      <td>0.50000</td>\n",
       "      <td>0.50000</td>\n",
       "      <td>1.00000</td>\n",
       "      <td>0.00000</td>\n",
       "      <td>0.30000</td>\n",
       "      <td>16.30000</td>\n",
       "      <td>NaN</td>\n",
       "    </tr>\n",
       "    <tr>\n",
       "      <th>2</th>\n",
       "      <td>2018-12-21 13:48:30</td>\n",
       "      <td>3.00000</td>\n",
       "      <td>0.00000</td>\n",
       "      <td>4.50000</td>\n",
       "      <td>0.50000</td>\n",
       "      <td>0.50000</td>\n",
       "      <td>0.00000</td>\n",
       "      <td>0.00000</td>\n",
       "      <td>0.30000</td>\n",
       "      <td>5.80000</td>\n",
       "      <td>NaN</td>\n",
       "    </tr>\n",
       "    <tr>\n",
       "      <th>3</th>\n",
       "      <td>2018-11-28 15:52:25</td>\n",
       "      <td>5.00000</td>\n",
       "      <td>0.00000</td>\n",
       "      <td>3.50000</td>\n",
       "      <td>0.50000</td>\n",
       "      <td>0.50000</td>\n",
       "      <td>0.00000</td>\n",
       "      <td>0.00000</td>\n",
       "      <td>0.30000</td>\n",
       "      <td>7.55000</td>\n",
       "      <td>NaN</td>\n",
       "    </tr>\n",
       "    <tr>\n",
       "      <th>4</th>\n",
       "      <td>2018-11-28 15:56:57</td>\n",
       "      <td>5.00000</td>\n",
       "      <td>0.00000</td>\n",
       "      <td>52.00000</td>\n",
       "      <td>0.00000</td>\n",
       "      <td>0.50000</td>\n",
       "      <td>0.00000</td>\n",
       "      <td>0.00000</td>\n",
       "      <td>0.30000</td>\n",
       "      <td>55.55000</td>\n",
       "      <td>NaN</td>\n",
       "    </tr>\n",
       "  </tbody>\n",
       "</table>\n",
       "</div>"
      ],
      "text/plain": [
       "  tpep_pickup_datetime  passenger_count  trip_distance  fare_amount   extra  \\\n",
       "0  2019-01-01 00:46:40          1.00000        1.50000      7.00000 0.50000   \n",
       "1  2019-01-01 00:59:47          1.00000        2.60000     14.00000 0.50000   \n",
       "2  2018-12-21 13:48:30          3.00000        0.00000      4.50000 0.50000   \n",
       "3  2018-11-28 15:52:25          5.00000        0.00000      3.50000 0.50000   \n",
       "4  2018-11-28 15:56:57          5.00000        0.00000     52.00000 0.00000   \n",
       "\n",
       "   mta_tax  tip_amount  tolls_amount  improvement_surcharge  total_amount  \\\n",
       "0  0.50000     1.65000       0.00000                0.30000       9.95000   \n",
       "1  0.50000     1.00000       0.00000                0.30000      16.30000   \n",
       "2  0.50000     0.00000       0.00000                0.30000       5.80000   \n",
       "3  0.50000     0.00000       0.00000                0.30000       7.55000   \n",
       "4  0.50000     0.00000       0.00000                0.30000      55.55000   \n",
       "\n",
       "   congestion_surcharge  \n",
       "0                   NaN  \n",
       "1                   NaN  \n",
       "2                   NaN  \n",
       "3                   NaN  \n",
       "4                   NaN  "
      ]
     },
     "execution_count": 127,
     "metadata": {},
     "output_type": "execute_result"
    }
   ],
   "source": [
    "files = [\"../data/nyc_taxi_2019-01.csv\", \"../data/nyc_taxi_2019-07.csv\"]\n",
    "df = pd.concat(\n",
    "    [\n",
    "        pd.read_csv(\n",
    "            fn,\n",
    "            usecols=[\n",
    "                \"tpep_pickup_datetime\",\n",
    "                \"passenger_count\",\n",
    "                \"trip_distance\",\n",
    "                \"fare_amount\",\n",
    "                \"extra\",\n",
    "                \"mta_tax\",\n",
    "                \"tip_amount\",\n",
    "                \"tolls_amount\",\n",
    "                \"improvement_surcharge\",\n",
    "                \"total_amount\",\n",
    "                \"congestion_surcharge\",\n",
    "            ],\n",
    "        )\n",
    "        for fn in files\n",
    "    ]\n",
    ")\n",
    "\n",
    "df[\"tpep_pickup_datetime\"] = pd.to_datetime(df[\"tpep_pickup_datetime\"])\n",
    "df.head()"
   ]
  },
  {
   "cell_type": "markdown",
   "metadata": {},
   "source": [
    "1. Create a new column `pre_tip_amount` with all the payment columns except `total_amount` and `tip_amount`. `total_amount` is the sum of each of the other payment columns.\n",
    "2. Create a new column `tip_percentage` showing the percentage of `pre_tip_amount` the tip was."
   ]
  },
  {
   "cell_type": "code",
   "execution_count": 128,
   "metadata": {},
   "outputs": [
    {
     "data": {
      "text/plain": [
       "tpep_pickup_datetime     datetime64[ns]\n",
       "passenger_count                 float64\n",
       "trip_distance                   float64\n",
       "fare_amount                     float64\n",
       "extra                           float64\n",
       "mta_tax                         float64\n",
       "tip_amount                      float64\n",
       "tolls_amount                    float64\n",
       "improvement_surcharge           float64\n",
       "total_amount                    float64\n",
       "congestion_surcharge            float64\n",
       "dtype: object"
      ]
     },
     "execution_count": 128,
     "metadata": {},
     "output_type": "execute_result"
    }
   ],
   "source": [
    "df.dtypes"
   ]
  },
  {
   "cell_type": "code",
   "execution_count": 129,
   "metadata": {},
   "outputs": [
    {
     "data": {
      "text/html": [
       "<div>\n",
       "<style scoped>\n",
       "    .dataframe tbody tr th:only-of-type {\n",
       "        vertical-align: middle;\n",
       "    }\n",
       "\n",
       "    .dataframe tbody tr th {\n",
       "        vertical-align: top;\n",
       "    }\n",
       "\n",
       "    .dataframe thead th {\n",
       "        text-align: right;\n",
       "    }\n",
       "</style>\n",
       "<table border=\"1\" class=\"dataframe\">\n",
       "  <thead>\n",
       "    <tr style=\"text-align: right;\">\n",
       "      <th></th>\n",
       "      <th>tpep_pickup_datetime</th>\n",
       "      <th>passenger_count</th>\n",
       "      <th>trip_distance</th>\n",
       "      <th>fare_amount</th>\n",
       "      <th>extra</th>\n",
       "      <th>mta_tax</th>\n",
       "      <th>tip_amount</th>\n",
       "      <th>tolls_amount</th>\n",
       "      <th>improvement_surcharge</th>\n",
       "      <th>total_amount</th>\n",
       "      <th>congestion_surcharge</th>\n",
       "    </tr>\n",
       "  </thead>\n",
       "  <tbody>\n",
       "    <tr>\n",
       "      <th>0</th>\n",
       "      <td>2019-01-01 00:46:40</td>\n",
       "      <td>1.00000</td>\n",
       "      <td>1.50000</td>\n",
       "      <td>7.00000</td>\n",
       "      <td>0.50000</td>\n",
       "      <td>0.50000</td>\n",
       "      <td>1.65000</td>\n",
       "      <td>0.00000</td>\n",
       "      <td>0.30000</td>\n",
       "      <td>9.95000</td>\n",
       "      <td>0.00000</td>\n",
       "    </tr>\n",
       "    <tr>\n",
       "      <th>1</th>\n",
       "      <td>2019-01-01 00:59:47</td>\n",
       "      <td>1.00000</td>\n",
       "      <td>2.60000</td>\n",
       "      <td>14.00000</td>\n",
       "      <td>0.50000</td>\n",
       "      <td>0.50000</td>\n",
       "      <td>1.00000</td>\n",
       "      <td>0.00000</td>\n",
       "      <td>0.30000</td>\n",
       "      <td>16.30000</td>\n",
       "      <td>0.00000</td>\n",
       "    </tr>\n",
       "    <tr>\n",
       "      <th>2</th>\n",
       "      <td>2018-12-21 13:48:30</td>\n",
       "      <td>3.00000</td>\n",
       "      <td>0.00000</td>\n",
       "      <td>4.50000</td>\n",
       "      <td>0.50000</td>\n",
       "      <td>0.50000</td>\n",
       "      <td>0.00000</td>\n",
       "      <td>0.00000</td>\n",
       "      <td>0.30000</td>\n",
       "      <td>5.80000</td>\n",
       "      <td>0.00000</td>\n",
       "    </tr>\n",
       "    <tr>\n",
       "      <th>3</th>\n",
       "      <td>2018-11-28 15:52:25</td>\n",
       "      <td>5.00000</td>\n",
       "      <td>0.00000</td>\n",
       "      <td>3.50000</td>\n",
       "      <td>0.50000</td>\n",
       "      <td>0.50000</td>\n",
       "      <td>0.00000</td>\n",
       "      <td>0.00000</td>\n",
       "      <td>0.30000</td>\n",
       "      <td>7.55000</td>\n",
       "      <td>0.00000</td>\n",
       "    </tr>\n",
       "    <tr>\n",
       "      <th>4</th>\n",
       "      <td>2018-11-28 15:56:57</td>\n",
       "      <td>5.00000</td>\n",
       "      <td>0.00000</td>\n",
       "      <td>52.00000</td>\n",
       "      <td>0.00000</td>\n",
       "      <td>0.50000</td>\n",
       "      <td>0.00000</td>\n",
       "      <td>0.00000</td>\n",
       "      <td>0.30000</td>\n",
       "      <td>55.55000</td>\n",
       "      <td>0.00000</td>\n",
       "    </tr>\n",
       "  </tbody>\n",
       "</table>\n",
       "</div>"
      ],
      "text/plain": [
       "  tpep_pickup_datetime  passenger_count  trip_distance  fare_amount   extra  \\\n",
       "0  2019-01-01 00:46:40          1.00000        1.50000      7.00000 0.50000   \n",
       "1  2019-01-01 00:59:47          1.00000        2.60000     14.00000 0.50000   \n",
       "2  2018-12-21 13:48:30          3.00000        0.00000      4.50000 0.50000   \n",
       "3  2018-11-28 15:52:25          5.00000        0.00000      3.50000 0.50000   \n",
       "4  2018-11-28 15:56:57          5.00000        0.00000     52.00000 0.00000   \n",
       "\n",
       "   mta_tax  tip_amount  tolls_amount  improvement_surcharge  total_amount  \\\n",
       "0  0.50000     1.65000       0.00000                0.30000       9.95000   \n",
       "1  0.50000     1.00000       0.00000                0.30000      16.30000   \n",
       "2  0.50000     0.00000       0.00000                0.30000       5.80000   \n",
       "3  0.50000     0.00000       0.00000                0.30000       7.55000   \n",
       "4  0.50000     0.00000       0.00000                0.30000      55.55000   \n",
       "\n",
       "   congestion_surcharge  \n",
       "0               0.00000  \n",
       "1               0.00000  \n",
       "2               0.00000  \n",
       "3               0.00000  \n",
       "4               0.00000  "
      ]
     },
     "execution_count": 129,
     "metadata": {},
     "output_type": "execute_result"
    }
   ],
   "source": [
    "# replace all the NaN values in the numeric columns with 0\n",
    "for c in [\n",
    "    \"fare_amount\",\n",
    "    \"extra\",\n",
    "    \"mta_tax\",\n",
    "    \"tolls_amount\",\n",
    "    \"improvement_surcharge\",\n",
    "    \"congestion_surcharge\",\n",
    "    \"tip_amount\",\n",
    "    \"total_amount\",\n",
    "]:\n",
    "    df.loc[df[c].isna(), c] = 0\n",
    "df.head()"
   ]
  },
  {
   "cell_type": "code",
   "execution_count": 130,
   "metadata": {},
   "outputs": [
    {
     "data": {
      "text/html": [
       "<div>\n",
       "<style scoped>\n",
       "    .dataframe tbody tr th:only-of-type {\n",
       "        vertical-align: middle;\n",
       "    }\n",
       "\n",
       "    .dataframe tbody tr th {\n",
       "        vertical-align: top;\n",
       "    }\n",
       "\n",
       "    .dataframe thead th {\n",
       "        text-align: right;\n",
       "    }\n",
       "</style>\n",
       "<table border=\"1\" class=\"dataframe\">\n",
       "  <thead>\n",
       "    <tr style=\"text-align: right;\">\n",
       "      <th></th>\n",
       "      <th>tpep_pickup_datetime</th>\n",
       "      <th>passenger_count</th>\n",
       "      <th>trip_distance</th>\n",
       "      <th>fare_amount</th>\n",
       "      <th>extra</th>\n",
       "      <th>mta_tax</th>\n",
       "      <th>tip_amount</th>\n",
       "      <th>tolls_amount</th>\n",
       "      <th>improvement_surcharge</th>\n",
       "      <th>total_amount</th>\n",
       "      <th>congestion_surcharge</th>\n",
       "      <th>pre_tip_amount</th>\n",
       "      <th>tip_percentage</th>\n",
       "    </tr>\n",
       "  </thead>\n",
       "  <tbody>\n",
       "    <tr>\n",
       "      <th>0</th>\n",
       "      <td>2019-01-01 00:46:40</td>\n",
       "      <td>1.00000</td>\n",
       "      <td>1.50000</td>\n",
       "      <td>7.00000</td>\n",
       "      <td>0.50000</td>\n",
       "      <td>0.50000</td>\n",
       "      <td>1.65000</td>\n",
       "      <td>0.00000</td>\n",
       "      <td>0.30000</td>\n",
       "      <td>9.95000</td>\n",
       "      <td>0.00000</td>\n",
       "      <td>8.30000</td>\n",
       "      <td>0.19880</td>\n",
       "    </tr>\n",
       "    <tr>\n",
       "      <th>1</th>\n",
       "      <td>2019-01-01 00:59:47</td>\n",
       "      <td>1.00000</td>\n",
       "      <td>2.60000</td>\n",
       "      <td>14.00000</td>\n",
       "      <td>0.50000</td>\n",
       "      <td>0.50000</td>\n",
       "      <td>1.00000</td>\n",
       "      <td>0.00000</td>\n",
       "      <td>0.30000</td>\n",
       "      <td>16.30000</td>\n",
       "      <td>0.00000</td>\n",
       "      <td>15.30000</td>\n",
       "      <td>0.06536</td>\n",
       "    </tr>\n",
       "    <tr>\n",
       "      <th>2</th>\n",
       "      <td>2018-12-21 13:48:30</td>\n",
       "      <td>3.00000</td>\n",
       "      <td>0.00000</td>\n",
       "      <td>4.50000</td>\n",
       "      <td>0.50000</td>\n",
       "      <td>0.50000</td>\n",
       "      <td>0.00000</td>\n",
       "      <td>0.00000</td>\n",
       "      <td>0.30000</td>\n",
       "      <td>5.80000</td>\n",
       "      <td>0.00000</td>\n",
       "      <td>5.80000</td>\n",
       "      <td>0.00000</td>\n",
       "    </tr>\n",
       "    <tr>\n",
       "      <th>3</th>\n",
       "      <td>2018-11-28 15:52:25</td>\n",
       "      <td>5.00000</td>\n",
       "      <td>0.00000</td>\n",
       "      <td>3.50000</td>\n",
       "      <td>0.50000</td>\n",
       "      <td>0.50000</td>\n",
       "      <td>0.00000</td>\n",
       "      <td>0.00000</td>\n",
       "      <td>0.30000</td>\n",
       "      <td>7.55000</td>\n",
       "      <td>0.00000</td>\n",
       "      <td>4.80000</td>\n",
       "      <td>0.00000</td>\n",
       "    </tr>\n",
       "    <tr>\n",
       "      <th>4</th>\n",
       "      <td>2018-11-28 15:56:57</td>\n",
       "      <td>5.00000</td>\n",
       "      <td>0.00000</td>\n",
       "      <td>52.00000</td>\n",
       "      <td>0.00000</td>\n",
       "      <td>0.50000</td>\n",
       "      <td>0.00000</td>\n",
       "      <td>0.00000</td>\n",
       "      <td>0.30000</td>\n",
       "      <td>55.55000</td>\n",
       "      <td>0.00000</td>\n",
       "      <td>52.80000</td>\n",
       "      <td>0.00000</td>\n",
       "    </tr>\n",
       "  </tbody>\n",
       "</table>\n",
       "</div>"
      ],
      "text/plain": [
       "  tpep_pickup_datetime  passenger_count  trip_distance  fare_amount   extra  \\\n",
       "0  2019-01-01 00:46:40          1.00000        1.50000      7.00000 0.50000   \n",
       "1  2019-01-01 00:59:47          1.00000        2.60000     14.00000 0.50000   \n",
       "2  2018-12-21 13:48:30          3.00000        0.00000      4.50000 0.50000   \n",
       "3  2018-11-28 15:52:25          5.00000        0.00000      3.50000 0.50000   \n",
       "4  2018-11-28 15:56:57          5.00000        0.00000     52.00000 0.00000   \n",
       "\n",
       "   mta_tax  tip_amount  tolls_amount  improvement_surcharge  total_amount  \\\n",
       "0  0.50000     1.65000       0.00000                0.30000       9.95000   \n",
       "1  0.50000     1.00000       0.00000                0.30000      16.30000   \n",
       "2  0.50000     0.00000       0.00000                0.30000       5.80000   \n",
       "3  0.50000     0.00000       0.00000                0.30000       7.55000   \n",
       "4  0.50000     0.00000       0.00000                0.30000      55.55000   \n",
       "\n",
       "   congestion_surcharge  pre_tip_amount  tip_percentage  \n",
       "0               0.00000         8.30000         0.19880  \n",
       "1               0.00000        15.30000         0.06536  \n",
       "2               0.00000         5.80000         0.00000  \n",
       "3               0.00000         4.80000         0.00000  \n",
       "4               0.00000        52.80000         0.00000  "
      ]
     },
     "execution_count": 130,
     "metadata": {},
     "output_type": "execute_result"
    }
   ],
   "source": [
    "df[\"pre_tip_amount\"] = df[\n",
    "    [\n",
    "        \"fare_amount\",\n",
    "        \"extra\",\n",
    "        \"mta_tax\",\n",
    "        \"tolls_amount\",\n",
    "        \"improvement_surcharge\",\n",
    "        \"congestion_surcharge\",\n",
    "    ]\n",
    "].sum(axis=\"columns\")\n",
    "df[\"tip_percentage\"] = df[\"tip_amount\"] / df[\"pre_tip_amount\"]\n",
    "df.head()"
   ]
  },
  {
   "cell_type": "markdown",
   "metadata": {},
   "source": [
    "1. What was the mean tip percentage across all trips in the data set?\n",
    "2. How many times did people tip more than the pre-tip amount?\n",
    "3. On which day of the week do people tip the greatest percentage of the fare, on average?\n",
    "4. At which hour do people tip the greatest percentage (Me: look at the std on this too)\n",
    "5. Do people typically tip more in January or July?\n",
    "6. What was the 1-day period in our data set when people tipped the greatest percentage?"
   ]
  },
  {
   "cell_type": "code",
   "execution_count": 131,
   "metadata": {},
   "outputs": [
    {
     "data": {
      "text/plain": [
       "0.13003974566357937"
      ]
     },
     "execution_count": 131,
     "metadata": {},
     "output_type": "execute_result"
    }
   ],
   "source": [
    "# 1. mean tip percentage across all trips\n",
    "df[\"tip_percentage\"].mean()"
   ]
  },
  {
   "cell_type": "code",
   "execution_count": 132,
   "metadata": {},
   "outputs": [
    {
     "name": "stdout",
     "output_type": "stream",
     "text": [
      "Non-tippers: 32.08%\n",
      "Tipped more than 100%: 0.06%\n"
     ]
    },
    {
     "data": {
      "text/plain": [
       "count   13975205.00000\n",
       "mean           0.13004\n",
       "std            0.59431\n",
       "min           -3.96552\n",
       "25%            0.00000\n",
       "50%            0.16129\n",
       "75%            0.20000\n",
       "max          733.33333\n",
       "Name: tip_percentage, dtype: float64"
      ]
     },
     "execution_count": 132,
     "metadata": {},
     "output_type": "execute_result"
    }
   ],
   "source": [
    "# what proportion tipped over the fare or 0?\n",
    "print(\n",
    "    f\"Non-tippers: {df[\"tip_percentage\"].value_counts(normalize=True).loc[0] * 100:.2f}%\"\n",
    ")\n",
    "print(\n",
    "    f\"Tipped more than 100%: {df.loc[df[\"tip_percentage\"] > 1][\"tip_percentage\"].count() / df[\"tip_percentage\"].count() * 100:.2f}%\"\n",
    ")\n",
    "df[\"tip_percentage\"].describe()"
   ]
  },
  {
   "cell_type": "code",
   "execution_count": 133,
   "metadata": {},
   "outputs": [
    {
     "data": {
      "text/plain": [
       "28232"
      ]
     },
     "execution_count": 133,
     "metadata": {},
     "output_type": "execute_result"
    }
   ],
   "source": [
    "# 2. trips where the tip amount was more than the pre-tip amount\n",
    "df.loc[df[\"tip_amount\"] > df[\"pre_tip_amount\"]][\"tip_amount\"].count()\n"
   ]
  },
  {
   "cell_type": "code",
   "execution_count": 134,
   "metadata": {},
   "outputs": [
    {
     "data": {
      "text/plain": [
       "count   7821.00000\n",
       "mean       9.28611\n",
       "std        9.56468\n",
       "min        0.30000\n",
       "25%        3.80000\n",
       "50%        6.30000\n",
       "75%       10.30000\n",
       "max      131.06000\n",
       "Name: pre_tip_amount, dtype: float64"
      ]
     },
     "execution_count": 134,
     "metadata": {},
     "output_type": "execute_result"
    }
   ],
   "source": [
    "# what was the fare like for the tips greater than 100%?\n",
    "df.loc[\n",
    "    (df[\"pre_tip_amount\"] > 0) & (df[\"tip_percentage\"] > 1), \"pre_tip_amount\"\n",
    "].describe()"
   ]
  },
  {
   "cell_type": "code",
   "execution_count": 135,
   "metadata": {},
   "outputs": [
    {
     "data": {
      "text/plain": [
       "tpep_pickup_datetime\n",
       "Thursday    0.13397\n",
       "Wednesday   0.13222\n",
       "Tuesday     0.13142\n",
       "Friday      0.12914\n",
       "Monday      0.12872\n",
       "Sunday      0.12663\n",
       "Saturday    0.12580\n",
       "Name: tip_percentage, dtype: float64"
      ]
     },
     "execution_count": 135,
     "metadata": {},
     "output_type": "execute_result"
    }
   ],
   "source": [
    "# 3. on which day of the week do people tip the greatest percentage of the fare on average?\n",
    "df.groupby(df[\"tpep_pickup_datetime\"].dt.day_name())[\n",
    "    \"tip_percentage\"\n",
    "].mean().sort_values(ascending=False)"
   ]
  },
  {
   "cell_type": "code",
   "execution_count": 136,
   "metadata": {},
   "outputs": [
    {
     "data": {
      "text/html": [
       "<div>\n",
       "<style scoped>\n",
       "    .dataframe tbody tr th:only-of-type {\n",
       "        vertical-align: middle;\n",
       "    }\n",
       "\n",
       "    .dataframe tbody tr th {\n",
       "        vertical-align: top;\n",
       "    }\n",
       "\n",
       "    .dataframe thead th {\n",
       "        text-align: right;\n",
       "    }\n",
       "</style>\n",
       "<table border=\"1\" class=\"dataframe\">\n",
       "  <thead>\n",
       "    <tr style=\"text-align: right;\">\n",
       "      <th></th>\n",
       "      <th>count</th>\n",
       "      <th>mean</th>\n",
       "      <th>std</th>\n",
       "      <th>min</th>\n",
       "      <th>25%</th>\n",
       "      <th>50%</th>\n",
       "      <th>75%</th>\n",
       "      <th>max</th>\n",
       "    </tr>\n",
       "    <tr>\n",
       "      <th>tpep_pickup_datetime</th>\n",
       "      <th></th>\n",
       "      <th></th>\n",
       "      <th></th>\n",
       "      <th></th>\n",
       "      <th></th>\n",
       "      <th></th>\n",
       "      <th></th>\n",
       "      <th></th>\n",
       "    </tr>\n",
       "  </thead>\n",
       "  <tbody>\n",
       "    <tr>\n",
       "      <th>22</th>\n",
       "      <td>692750.00000</td>\n",
       "      <td>0.13882</td>\n",
       "      <td>0.89857</td>\n",
       "      <td>-0.20000</td>\n",
       "      <td>0.00000</td>\n",
       "      <td>0.17341</td>\n",
       "      <td>0.20000</td>\n",
       "      <td>466.66667</td>\n",
       "    </tr>\n",
       "    <tr>\n",
       "      <th>20</th>\n",
       "      <td>779002.00000</td>\n",
       "      <td>0.13816</td>\n",
       "      <td>0.55686</td>\n",
       "      <td>-0.00000</td>\n",
       "      <td>0.00000</td>\n",
       "      <td>0.17213</td>\n",
       "      <td>0.20000</td>\n",
       "      <td>320.00000</td>\n",
       "    </tr>\n",
       "    <tr>\n",
       "      <th>21</th>\n",
       "      <td>764025.00000</td>\n",
       "      <td>0.13768</td>\n",
       "      <td>0.30895</td>\n",
       "      <td>-0.25000</td>\n",
       "      <td>0.00000</td>\n",
       "      <td>0.17409</td>\n",
       "      <td>0.20000</td>\n",
       "      <td>200.00000</td>\n",
       "    </tr>\n",
       "    <tr>\n",
       "      <th>8</th>\n",
       "      <td>658122.00000</td>\n",
       "      <td>0.13712</td>\n",
       "      <td>0.51878</td>\n",
       "      <td>-0.07519</td>\n",
       "      <td>0.00000</td>\n",
       "      <td>0.16667</td>\n",
       "      <td>0.20000</td>\n",
       "      <td>316.66667</td>\n",
       "    </tr>\n",
       "    <tr>\n",
       "      <th>19</th>\n",
       "      <td>868721.00000</td>\n",
       "      <td>0.13517</td>\n",
       "      <td>0.46691</td>\n",
       "      <td>-0.20000</td>\n",
       "      <td>0.00000</td>\n",
       "      <td>0.16772</td>\n",
       "      <td>0.20000</td>\n",
       "      <td>266.66667</td>\n",
       "    </tr>\n",
       "  </tbody>\n",
       "</table>\n",
       "</div>"
      ],
      "text/plain": [
       "                            count    mean     std      min     25%     50%  \\\n",
       "tpep_pickup_datetime                                                         \n",
       "22                   692750.00000 0.13882 0.89857 -0.20000 0.00000 0.17341   \n",
       "20                   779002.00000 0.13816 0.55686 -0.00000 0.00000 0.17213   \n",
       "21                   764025.00000 0.13768 0.30895 -0.25000 0.00000 0.17409   \n",
       "8                    658122.00000 0.13712 0.51878 -0.07519 0.00000 0.16667   \n",
       "19                   868721.00000 0.13517 0.46691 -0.20000 0.00000 0.16772   \n",
       "\n",
       "                         75%       max  \n",
       "tpep_pickup_datetime                    \n",
       "22                   0.20000 466.66667  \n",
       "20                   0.20000 320.00000  \n",
       "21                   0.20000 200.00000  \n",
       "8                    0.20000 316.66667  \n",
       "19                   0.20000 266.66667  "
      ]
     },
     "execution_count": 136,
     "metadata": {},
     "output_type": "execute_result"
    }
   ],
   "source": [
    "# 4. At which hour do people tip the greatest percentage?\n",
    "df.groupby(df[\"tpep_pickup_datetime\"].dt.hour)[\"tip_percentage\"].describe().sort_values(\n",
    "    by=\"mean\", ascending=False\n",
    ").head()"
   ]
  },
  {
   "cell_type": "code",
   "execution_count": 137,
   "metadata": {},
   "outputs": [
    {
     "data": {
      "text/plain": [
       "tpep_pickup_datetime\n",
       "January   0.13701\n",
       "July      0.12157\n",
       "Name: tip_percentage, dtype: float64"
      ]
     },
     "execution_count": 137,
     "metadata": {},
     "output_type": "execute_result"
    }
   ],
   "source": [
    "# 5. do people typically tip more in January or July?\n",
    "df.groupby(df[\"tpep_pickup_datetime\"].dt.month_name())[\"tip_percentage\"].mean().loc[\n",
    "    [\"January\", \"July\"]\n",
    "]"
   ]
  },
  {
   "cell_type": "code",
   "execution_count": 138,
   "metadata": {},
   "outputs": [
    {
     "data": {
      "text/plain": [
       "tpep_pickup_datetime\n",
       "2019-02-13   0.35813\n",
       "2019-02-25   0.25000\n",
       "2019-08-20   0.24187\n",
       "2019-11-27   0.20000\n",
       "2019-08-15   0.20000\n",
       "Name: tip_percentage, dtype: float64"
      ]
     },
     "execution_count": 138,
     "metadata": {},
     "output_type": "execute_result"
    }
   ],
   "source": [
    "# 6. What was the 1-day period in the data set when people tipped the greatest percentage?\n",
    "df.resample(\"1D\", on=\"tpep_pickup_datetime\")[\"tip_percentage\"].mean().sort_values(\n",
    "    ascending=False\n",
    ").iloc[:5]"
   ]
  },
  {
   "cell_type": "code",
   "execution_count": 139,
   "metadata": {},
   "outputs": [
    {
     "data": {
      "text/plain": [
       "tpep_pickup_datetime\n",
       "2019-01-31   0.14435\n",
       "2019-01-30   0.14353\n",
       "2019-01-24   0.14343\n",
       "2019-01-22   0.14277\n",
       "2019-01-15   0.14233\n",
       "               ...  \n",
       "2019-07-03   0.11462\n",
       "2019-07-20   0.11454\n",
       "2019-07-04   0.10699\n",
       "2019-07-06   0.10676\n",
       "2019-07-05   0.10572\n",
       "Name: tip_percentage, Length: 62, dtype: float64"
      ]
     },
     "execution_count": 139,
     "metadata": {},
     "output_type": "execute_result"
    }
   ],
   "source": [
    "# ignore data outside of January and July\n",
    "\n",
    "(\n",
    "    df.loc[\n",
    "        (df[\"tpep_pickup_datetime\"].dt.year == 2019)\n",
    "        & (df[\"tpep_pickup_datetime\"].dt.month.isin((1, 7)))\n",
    "    ]\n",
    "    .set_index(\"tpep_pickup_datetime\")\n",
    "    .resample(\"1D\")[\"tip_percentage\"]\n",
    "    .mean()\n",
    "    .dropna()  # resampling re-adds null values between Jan-July\n",
    "    .sort_values(ascending=False)\n",
    ")"
   ]
  },
  {
   "cell_type": "markdown",
   "metadata": {},
   "source": [
    "# Extension questions\n",
    "1. You saw that 32% of riders don't tip at all. Of those that do, what percentage do they tip, on average?\n",
    "2. How many of the rides in the data set, supposedly from January and July 2019 are from outside the specified data range?\n",
    "3. Looking only at dates in January and July, in what week did passengers tip the greatest percentage?"
   ]
  },
  {
   "cell_type": "code",
   "execution_count": 140,
   "metadata": {},
   "outputs": [
    {
     "name": "stdout",
     "output_type": "stream",
     "text": [
      "Tip on average $2.93\n",
      "This is 19.15%\n"
     ]
    }
   ],
   "source": [
    "# 1. of passengers who tip, how much do they tip on average?\n",
    "print(f\"Tip on average ${df.loc[df[\"tip_amount\"] > 0, \"tip_amount\"].mean():.2f}\")\n",
    "print(f\"This is {df.loc[df[\"tip_amount\"] > 0, \"tip_percentage\"].mean() * 100:.2f}%\")"
   ]
  },
  {
   "cell_type": "code",
   "execution_count": null,
   "metadata": {},
   "outputs": [
    {
     "name": "stdout",
     "output_type": "stream",
     "text": [
      "There are 816 values outside 2019 January or July, or 0.00584%\n"
     ]
    }
   ],
   "source": [
    "# 2. How man rides in the data set are from outside of the specified January and July 2019 range?\n",
    "outside_range = df.loc[\n",
    "    ~(\n",
    "        (df[\"tpep_pickup_datetime\"].dt.year == 2019)\n",
    "        & (df[\"tpep_pickup_datetime\"].dt.month.isin((1, 7)))\n",
    "    )\n",
    "].shape[0]\n",
    "print(\n",
    "    f\"There are {outside_range} values outside 2019 January or July, or {outside_range / df[\"tpep_pickup_datetime\"].count() * 100:.5f}%\"\n",
    ")"
   ]
  },
  {
   "cell_type": "code",
   "execution_count": 142,
   "metadata": {},
   "outputs": [
    {
     "data": {
      "text/plain": [
       "tpep_pickup_datetime\n",
       "2019-02-03   0.14198\n",
       "2019-01-27   0.13893\n",
       "2019-01-20   0.13854\n",
       "2019-01-13   0.13790\n",
       "2019-01-06   0.12698\n",
       "2019-08-04   0.12491\n",
       "2019-07-14   0.12346\n",
       "2019-07-21   0.12334\n",
       "2019-07-28   0.12304\n",
       "2019-07-07   0.11295\n",
       "Name: tip_percentage, dtype: float64"
      ]
     },
     "execution_count": 142,
     "metadata": {},
     "output_type": "execute_result"
    }
   ],
   "source": [
    "# 3. In the valid date range, which week did passnegers tip the greatest percentage?\n",
    "(\n",
    "    df.loc[\n",
    "        (df[\"tpep_pickup_datetime\"].dt.year == 2019)\n",
    "        & (df[\"tpep_pickup_datetime\"].dt.month.isin((1, 7)))\n",
    "    ]\n",
    "    .set_index(\"tpep_pickup_datetime\")\n",
    "    .resample(\"1W\")[\"tip_percentage\"]\n",
    "    .mean()\n",
    "    .dropna()\n",
    "    .sort_values(ascending=False)\n",
    ")\n",
    "# the last week of January was the highest tipping week"
   ]
  }
 ],
 "metadata": {
  "kernelspec": {
   "display_name": ".venv",
   "language": "python",
   "name": "python3"
  },
  "language_info": {
   "codemirror_mode": {
    "name": "ipython",
    "version": 3
   },
   "file_extension": ".py",
   "mimetype": "text/x-python",
   "name": "python",
   "nbconvert_exporter": "python",
   "pygments_lexer": "ipython3",
   "version": "3.12.7"
  }
 },
 "nbformat": 4,
 "nbformat_minor": 2
}
