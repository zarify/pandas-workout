{
 "cells": [
  {
   "cell_type": "code",
   "execution_count": 47,
   "metadata": {},
   "outputs": [],
   "source": [
    "import pandas as pd\n",
    "import numpy as np"
   ]
  },
  {
   "cell_type": "code",
   "execution_count": 48,
   "metadata": {},
   "outputs": [
    {
     "data": {
      "text/html": [
       "<div>\n",
       "<style scoped>\n",
       "    .dataframe tbody tr th:only-of-type {\n",
       "        vertical-align: middle;\n",
       "    }\n",
       "\n",
       "    .dataframe tbody tr th {\n",
       "        vertical-align: top;\n",
       "    }\n",
       "\n",
       "    .dataframe thead th {\n",
       "        text-align: right;\n",
       "    }\n",
       "</style>\n",
       "<table border=\"1\" class=\"dataframe\">\n",
       "  <thead>\n",
       "    <tr style=\"text-align: right;\">\n",
       "      <th></th>\n",
       "      <th>tpep_pickup_datetime</th>\n",
       "      <th>tpep_dropoff_datetime</th>\n",
       "      <th>passenger_count</th>\n",
       "      <th>trip_distance</th>\n",
       "      <th>total_amount</th>\n",
       "    </tr>\n",
       "  </thead>\n",
       "  <tbody>\n",
       "    <tr>\n",
       "      <th>0</th>\n",
       "      <td>2019-07-01 00:51:04</td>\n",
       "      <td>2019-07-01 00:51:33</td>\n",
       "      <td>1.0</td>\n",
       "      <td>0.00</td>\n",
       "      <td>4.94</td>\n",
       "    </tr>\n",
       "    <tr>\n",
       "      <th>1</th>\n",
       "      <td>2019-07-01 00:46:04</td>\n",
       "      <td>2019-07-01 01:05:46</td>\n",
       "      <td>1.0</td>\n",
       "      <td>4.16</td>\n",
       "      <td>20.30</td>\n",
       "    </tr>\n",
       "    <tr>\n",
       "      <th>2</th>\n",
       "      <td>2019-07-01 00:25:09</td>\n",
       "      <td>2019-07-01 01:00:56</td>\n",
       "      <td>1.0</td>\n",
       "      <td>18.80</td>\n",
       "      <td>70.67</td>\n",
       "    </tr>\n",
       "    <tr>\n",
       "      <th>3</th>\n",
       "      <td>2019-07-01 00:33:32</td>\n",
       "      <td>2019-07-01 01:15:27</td>\n",
       "      <td>1.0</td>\n",
       "      <td>18.46</td>\n",
       "      <td>66.36</td>\n",
       "    </tr>\n",
       "    <tr>\n",
       "      <th>4</th>\n",
       "      <td>2019-07-01 00:00:55</td>\n",
       "      <td>2019-07-01 00:13:05</td>\n",
       "      <td>0.0</td>\n",
       "      <td>1.70</td>\n",
       "      <td>15.30</td>\n",
       "    </tr>\n",
       "  </tbody>\n",
       "</table>\n",
       "</div>"
      ],
      "text/plain": [
       "  tpep_pickup_datetime tpep_dropoff_datetime  passenger_count  trip_distance  \\\n",
       "0  2019-07-01 00:51:04   2019-07-01 00:51:33              1.0           0.00   \n",
       "1  2019-07-01 00:46:04   2019-07-01 01:05:46              1.0           4.16   \n",
       "2  2019-07-01 00:25:09   2019-07-01 01:00:56              1.0          18.80   \n",
       "3  2019-07-01 00:33:32   2019-07-01 01:15:27              1.0          18.46   \n",
       "4  2019-07-01 00:00:55   2019-07-01 00:13:05              0.0           1.70   \n",
       "\n",
       "   total_amount  \n",
       "0          4.94  \n",
       "1         20.30  \n",
       "2         70.67  \n",
       "3         66.36  \n",
       "4         15.30  "
      ]
     },
     "execution_count": 48,
     "metadata": {},
     "output_type": "execute_result"
    }
   ],
   "source": [
    "df19 = pd.read_csv(\n",
    "    \"../data/nyc_taxi_2019-07.csv\",\n",
    "    usecols=[\n",
    "        \"tpep_pickup_datetime\",\n",
    "        \"tpep_dropoff_datetime\",\n",
    "        \"passenger_count\",\n",
    "        \"trip_distance\",\n",
    "        \"total_amount\",\n",
    "    ],\n",
    "    # parse_dates=[\"tpep_dropoff_datetime\", \"tpep_pickup_datetime\"]\n",
    ")\n",
    "df19[\"tpep_dropoff_datetime\"] = pd.to_datetime(df19[\"tpep_dropoff_datetime\"])\n",
    "df19[\"tpep_pickup_datetime\"] = pd.to_datetime(df19[\"tpep_pickup_datetime\"])\n",
    "df19.head()"
   ]
  },
  {
   "cell_type": "markdown",
   "metadata": {},
   "source": [
    "1. Create a new timedelta column called `trip_time` for the trip duration.\n",
    "2. Determine the number and percentage of rides that took less than 1 minute.\n",
    "3. Determine the average fare paid by people taking these short trips.\n",
    "4. Determine the number and percentage of rides that took more than 10 hours.\n",
    "5. Create a new column `trip_time_group` in which the values a short (<= 10 mins), medium (> 10 mins <= 1 hr) and long (> 1 hr)\n",
    "6. Determine the proportion of rides in each group.\n",
    "7. For each value in trip_time_group determine the average number of passengers."
   ]
  },
  {
   "cell_type": "code",
   "execution_count": 49,
   "metadata": {},
   "outputs": [
    {
     "data": {
      "text/plain": [
       "0   0 days 00:00:29\n",
       "1   0 days 00:19:42\n",
       "2   0 days 00:35:47\n",
       "3   0 days 00:41:55\n",
       "4   0 days 00:12:10\n",
       "Name: trip_time, dtype: timedelta64[ns]"
      ]
     },
     "execution_count": 49,
     "metadata": {},
     "output_type": "execute_result"
    }
   ],
   "source": [
    "df19[\"trip_time\"] = df19[\"tpep_dropoff_datetime\"] - df19[\"tpep_pickup_datetime\"]\n",
    "df19[\"trip_time\"].head()"
   ]
  },
  {
   "cell_type": "code",
   "execution_count": 50,
   "metadata": {},
   "outputs": [
    {
     "name": "stdout",
     "output_type": "stream",
     "text": [
      "There were 70212 rides of less than 1 minute.\n"
     ]
    },
    {
     "data": {
      "text/plain": [
       "trip_time\n",
       "False    98.887364\n",
       "True      1.112636\n",
       "Name: proportion, dtype: float64"
      ]
     },
     "execution_count": 50,
     "metadata": {},
     "output_type": "execute_result"
    }
   ],
   "source": [
    "# 2. number and percentage of rides that took less than 1 minute\n",
    "short_rides = df19.loc[df19[\"trip_time\"] < \"1 minute\", \"trip_time\"]\n",
    "print(f\"There were {short_rides.count()} rides of less than 1 minute.\")\n",
    "(df19[\"trip_time\"] < \"1 minute\").value_counts(normalize=True) * 100\n",
    "# almost 99% of rides were longer than 1 minute"
   ]
  },
  {
   "cell_type": "code",
   "execution_count": 51,
   "metadata": {},
   "outputs": [
    {
     "data": {
      "text/plain": [
       "count    70212.000000\n",
       "mean        30.397584\n",
       "std         41.240120\n",
       "min       -442.800000\n",
       "25%          4.300000\n",
       "50%          8.800000\n",
       "75%         57.300000\n",
       "max       1569.920000\n",
       "Name: total_amount, dtype: float64"
      ]
     },
     "execution_count": 51,
     "metadata": {},
     "output_type": "execute_result"
    }
   ],
   "source": [
    "# 3. determine the average fare paid by people taking the short rides\n",
    "df19.loc[df19[\"trip_time\"] < \"1 minute\", \"total_amount\"].describe()"
   ]
  },
  {
   "cell_type": "code",
   "execution_count": 52,
   "metadata": {},
   "outputs": [
    {
     "name": "stdout",
     "output_type": "stream",
     "text": [
      "There were 16698 trips over 10 hours.\n"
     ]
    },
    {
     "data": {
      "text/plain": [
       "count    16698.000000\n",
       "mean        23.773606\n",
       "std         23.748988\n",
       "min       -403.300000\n",
       "25%         12.430000\n",
       "50%         17.300000\n",
       "75%         26.300000\n",
       "max        690.300000\n",
       "Name: total_amount, dtype: float64"
      ]
     },
     "execution_count": 52,
     "metadata": {},
     "output_type": "execute_result"
    }
   ],
   "source": [
    "# 4. > 10 hour trips\n",
    "long_rides = df19.loc[df[\"trip_time\"] > \"10 hours\", \"trip_time\"]\n",
    "print(f\"There were {long_rides.count()} trips over 10 hours.\")\n",
    "df19.loc[df19[\"trip_time\"] > \"10 hours\", \"total_amount\"].describe()\n",
    "# most of these look like errors since the mean cost of a long trip is less than\n",
    "# the mean cost of a short trip"
   ]
  },
  {
   "cell_type": "code",
   "execution_count": 53,
   "metadata": {},
   "outputs": [
    {
     "data": {
      "text/html": [
       "<div>\n",
       "<style scoped>\n",
       "    .dataframe tbody tr th:only-of-type {\n",
       "        vertical-align: middle;\n",
       "    }\n",
       "\n",
       "    .dataframe tbody tr th {\n",
       "        vertical-align: top;\n",
       "    }\n",
       "\n",
       "    .dataframe thead th {\n",
       "        text-align: right;\n",
       "    }\n",
       "</style>\n",
       "<table border=\"1\" class=\"dataframe\">\n",
       "  <thead>\n",
       "    <tr style=\"text-align: right;\">\n",
       "      <th></th>\n",
       "      <th>tpep_pickup_datetime</th>\n",
       "      <th>tpep_dropoff_datetime</th>\n",
       "      <th>passenger_count</th>\n",
       "      <th>trip_distance</th>\n",
       "      <th>total_amount</th>\n",
       "      <th>trip_time</th>\n",
       "      <th>trip_time_group</th>\n",
       "    </tr>\n",
       "  </thead>\n",
       "  <tbody>\n",
       "    <tr>\n",
       "      <th>0</th>\n",
       "      <td>2019-07-01 00:51:04</td>\n",
       "      <td>2019-07-01 00:51:33</td>\n",
       "      <td>1.0</td>\n",
       "      <td>0.00</td>\n",
       "      <td>4.94</td>\n",
       "      <td>0 days 00:00:29</td>\n",
       "      <td>short</td>\n",
       "    </tr>\n",
       "    <tr>\n",
       "      <th>1</th>\n",
       "      <td>2019-07-01 00:46:04</td>\n",
       "      <td>2019-07-01 01:05:46</td>\n",
       "      <td>1.0</td>\n",
       "      <td>4.16</td>\n",
       "      <td>20.30</td>\n",
       "      <td>0 days 00:19:42</td>\n",
       "      <td>medium</td>\n",
       "    </tr>\n",
       "    <tr>\n",
       "      <th>2</th>\n",
       "      <td>2019-07-01 00:25:09</td>\n",
       "      <td>2019-07-01 01:00:56</td>\n",
       "      <td>1.0</td>\n",
       "      <td>18.80</td>\n",
       "      <td>70.67</td>\n",
       "      <td>0 days 00:35:47</td>\n",
       "      <td>medium</td>\n",
       "    </tr>\n",
       "    <tr>\n",
       "      <th>3</th>\n",
       "      <td>2019-07-01 00:33:32</td>\n",
       "      <td>2019-07-01 01:15:27</td>\n",
       "      <td>1.0</td>\n",
       "      <td>18.46</td>\n",
       "      <td>66.36</td>\n",
       "      <td>0 days 00:41:55</td>\n",
       "      <td>medium</td>\n",
       "    </tr>\n",
       "    <tr>\n",
       "      <th>4</th>\n",
       "      <td>2019-07-01 00:00:55</td>\n",
       "      <td>2019-07-01 00:13:05</td>\n",
       "      <td>0.0</td>\n",
       "      <td>1.70</td>\n",
       "      <td>15.30</td>\n",
       "      <td>0 days 00:12:10</td>\n",
       "      <td>medium</td>\n",
       "    </tr>\n",
       "  </tbody>\n",
       "</table>\n",
       "</div>"
      ],
      "text/plain": [
       "  tpep_pickup_datetime tpep_dropoff_datetime  passenger_count  trip_distance  \\\n",
       "0  2019-07-01 00:51:04   2019-07-01 00:51:33              1.0           0.00   \n",
       "1  2019-07-01 00:46:04   2019-07-01 01:05:46              1.0           4.16   \n",
       "2  2019-07-01 00:25:09   2019-07-01 01:00:56              1.0          18.80   \n",
       "3  2019-07-01 00:33:32   2019-07-01 01:15:27              1.0          18.46   \n",
       "4  2019-07-01 00:00:55   2019-07-01 00:13:05              0.0           1.70   \n",
       "\n",
       "   total_amount       trip_time trip_time_group  \n",
       "0          4.94 0 days 00:00:29           short  \n",
       "1         20.30 0 days 00:19:42          medium  \n",
       "2         70.67 0 days 00:35:47          medium  \n",
       "3         66.36 0 days 00:41:55          medium  \n",
       "4         15.30 0 days 00:12:10          medium  "
      ]
     },
     "execution_count": 53,
     "metadata": {},
     "output_type": "execute_result"
    }
   ],
   "source": [
    "# 5. bin trips into short (<= 10 min), medium (10 min - 1 hour), long (> 1 hour)\n",
    "trip_bins = [\n",
    "    pd.to_timedelta(x) for x in (\"0 seconds\", \"10 minutes\", \"1 hour\", \"100 hours\")\n",
    "]\n",
    "df19[\"trip_time_group\"] = pd.cut(\n",
    "    df19[\"trip_time\"],\n",
    "    trip_bins,\n",
    "    labels=[\"short\", \"medium\", \"long\"],\n",
    "    include_lowest=True,\n",
    ")\n",
    "df19.head()"
   ]
  },
  {
   "cell_type": "code",
   "execution_count": 54,
   "metadata": {},
   "outputs": [
    {
     "data": {
      "text/plain": [
       "trip_time_group\n",
       "medium    55.251886\n",
       "short     43.535023\n",
       "long       1.213091\n",
       "Name: proportion, dtype: float64"
      ]
     },
     "execution_count": 54,
     "metadata": {},
     "output_type": "execute_result"
    }
   ],
   "source": [
    "# 6. proportion of each ride group\n",
    "df19[\"trip_time_group\"].value_counts(normalize=True) * 100"
   ]
  },
  {
   "cell_type": "code",
   "execution_count": 55,
   "metadata": {},
   "outputs": [
    {
     "data": {
      "text/html": [
       "<div>\n",
       "<style scoped>\n",
       "    .dataframe tbody tr th:only-of-type {\n",
       "        vertical-align: middle;\n",
       "    }\n",
       "\n",
       "    .dataframe tbody tr th {\n",
       "        vertical-align: top;\n",
       "    }\n",
       "\n",
       "    .dataframe thead th {\n",
       "        text-align: right;\n",
       "    }\n",
       "</style>\n",
       "<table border=\"1\" class=\"dataframe\">\n",
       "  <thead>\n",
       "    <tr style=\"text-align: right;\">\n",
       "      <th></th>\n",
       "      <th>count</th>\n",
       "      <th>mean</th>\n",
       "      <th>std</th>\n",
       "      <th>min</th>\n",
       "      <th>25%</th>\n",
       "      <th>50%</th>\n",
       "      <th>75%</th>\n",
       "      <th>max</th>\n",
       "    </tr>\n",
       "    <tr>\n",
       "      <th>trip_time_group</th>\n",
       "      <th></th>\n",
       "      <th></th>\n",
       "      <th></th>\n",
       "      <th></th>\n",
       "      <th></th>\n",
       "      <th></th>\n",
       "      <th></th>\n",
       "      <th></th>\n",
       "    </tr>\n",
       "  </thead>\n",
       "  <tbody>\n",
       "    <tr>\n",
       "      <th>short</th>\n",
       "      <td>2746242.0</td>\n",
       "      <td>1.551241</td>\n",
       "      <td>1.205293</td>\n",
       "      <td>0.0</td>\n",
       "      <td>1.0</td>\n",
       "      <td>1.0</td>\n",
       "      <td>2.0</td>\n",
       "      <td>9.0</td>\n",
       "    </tr>\n",
       "    <tr>\n",
       "      <th>medium</th>\n",
       "      <td>3455863.0</td>\n",
       "      <td>1.585806</td>\n",
       "      <td>1.219090</td>\n",
       "      <td>0.0</td>\n",
       "      <td>1.0</td>\n",
       "      <td>1.0</td>\n",
       "      <td>2.0</td>\n",
       "      <td>9.0</td>\n",
       "    </tr>\n",
       "    <tr>\n",
       "      <th>long</th>\n",
       "      <td>74353.0</td>\n",
       "      <td>1.700859</td>\n",
       "      <td>1.303305</td>\n",
       "      <td>0.0</td>\n",
       "      <td>1.0</td>\n",
       "      <td>1.0</td>\n",
       "      <td>2.0</td>\n",
       "      <td>9.0</td>\n",
       "    </tr>\n",
       "  </tbody>\n",
       "</table>\n",
       "</div>"
      ],
      "text/plain": [
       "                     count      mean       std  min  25%  50%  75%  max\n",
       "trip_time_group                                                        \n",
       "short            2746242.0  1.551241  1.205293  0.0  1.0  1.0  2.0  9.0\n",
       "medium           3455863.0  1.585806  1.219090  0.0  1.0  1.0  2.0  9.0\n",
       "long               74353.0  1.700859  1.303305  0.0  1.0  1.0  2.0  9.0"
      ]
     },
     "execution_count": 55,
     "metadata": {},
     "output_type": "execute_result"
    }
   ],
   "source": [
    "# 7. average number of passengers in each `trip_time_group`\n",
    "df19.groupby(\"trip_time_group\", observed=False)[\"passenger_count\"].describe()"
   ]
  },
  {
   "cell_type": "markdown",
   "metadata": {},
   "source": [
    "# Extension questions\n",
    "1. How many trips are not from July 2019 and are in the wrong file?\n",
    "2. What was the mean trip time for each number of passengers?\n",
    "3. Load the taxi data from July 2019 and July 2020. For each year, and then for each number of passengers, what was the mean amount paid?"
   ]
  },
  {
   "cell_type": "code",
   "execution_count": 92,
   "metadata": {},
   "outputs": [
    {
     "data": {
      "text/html": [
       "<div>\n",
       "<style scoped>\n",
       "    .dataframe tbody tr th:only-of-type {\n",
       "        vertical-align: middle;\n",
       "    }\n",
       "\n",
       "    .dataframe tbody tr th {\n",
       "        vertical-align: top;\n",
       "    }\n",
       "\n",
       "    .dataframe thead th {\n",
       "        text-align: right;\n",
       "    }\n",
       "</style>\n",
       "<table border=\"1\" class=\"dataframe\">\n",
       "  <thead>\n",
       "    <tr style=\"text-align: right;\">\n",
       "      <th></th>\n",
       "      <th>tpep_pickup_datetime</th>\n",
       "      <th>tpep_dropoff_datetime</th>\n",
       "      <th>passenger_count</th>\n",
       "      <th>trip_distance</th>\n",
       "      <th>total_amount</th>\n",
       "      <th>trip_time</th>\n",
       "      <th>trip_time_group</th>\n",
       "    </tr>\n",
       "  </thead>\n",
       "  <tbody>\n",
       "    <tr>\n",
       "      <th>0</th>\n",
       "      <td>2020-07-01 00:25:32</td>\n",
       "      <td>2020-07-01 00:33:39</td>\n",
       "      <td>1.0</td>\n",
       "      <td>1.50</td>\n",
       "      <td>9.30</td>\n",
       "      <td>0 days 00:08:07</td>\n",
       "      <td>short</td>\n",
       "    </tr>\n",
       "    <tr>\n",
       "      <th>1</th>\n",
       "      <td>2020-07-01 00:03:19</td>\n",
       "      <td>2020-07-01 00:25:43</td>\n",
       "      <td>1.0</td>\n",
       "      <td>9.50</td>\n",
       "      <td>27.80</td>\n",
       "      <td>0 days 00:22:24</td>\n",
       "      <td>medium</td>\n",
       "    </tr>\n",
       "    <tr>\n",
       "      <th>2</th>\n",
       "      <td>2020-07-01 00:15:11</td>\n",
       "      <td>2020-07-01 00:29:24</td>\n",
       "      <td>1.0</td>\n",
       "      <td>5.85</td>\n",
       "      <td>22.30</td>\n",
       "      <td>0 days 00:14:13</td>\n",
       "      <td>medium</td>\n",
       "    </tr>\n",
       "    <tr>\n",
       "      <th>3</th>\n",
       "      <td>2020-07-01 00:30:49</td>\n",
       "      <td>2020-07-01 00:38:26</td>\n",
       "      <td>1.0</td>\n",
       "      <td>1.90</td>\n",
       "      <td>14.16</td>\n",
       "      <td>0 days 00:07:37</td>\n",
       "      <td>short</td>\n",
       "    </tr>\n",
       "    <tr>\n",
       "      <th>4</th>\n",
       "      <td>2020-07-01 00:31:26</td>\n",
       "      <td>2020-07-01 00:38:02</td>\n",
       "      <td>1.0</td>\n",
       "      <td>1.25</td>\n",
       "      <td>7.80</td>\n",
       "      <td>0 days 00:06:36</td>\n",
       "      <td>short</td>\n",
       "    </tr>\n",
       "  </tbody>\n",
       "</table>\n",
       "</div>"
      ],
      "text/plain": [
       "  tpep_pickup_datetime tpep_dropoff_datetime  passenger_count  trip_distance  \\\n",
       "0  2020-07-01 00:25:32   2020-07-01 00:33:39              1.0           1.50   \n",
       "1  2020-07-01 00:03:19   2020-07-01 00:25:43              1.0           9.50   \n",
       "2  2020-07-01 00:15:11   2020-07-01 00:29:24              1.0           5.85   \n",
       "3  2020-07-01 00:30:49   2020-07-01 00:38:26              1.0           1.90   \n",
       "4  2020-07-01 00:31:26   2020-07-01 00:38:02              1.0           1.25   \n",
       "\n",
       "   total_amount       trip_time trip_time_group  \n",
       "0          9.30 0 days 00:08:07           short  \n",
       "1         27.80 0 days 00:22:24          medium  \n",
       "2         22.30 0 days 00:14:13          medium  \n",
       "3         14.16 0 days 00:07:37           short  \n",
       "4          7.80 0 days 00:06:36           short  "
      ]
     },
     "execution_count": 92,
     "metadata": {},
     "output_type": "execute_result"
    }
   ],
   "source": [
    "# load the 2020 data\n",
    "df20 = pd.read_csv(\n",
    "    \"../data/nyc_taxi_2020-07.csv\",\n",
    "    usecols=[\n",
    "        \"tpep_pickup_datetime\",\n",
    "        \"tpep_dropoff_datetime\",\n",
    "        \"passenger_count\",\n",
    "        \"trip_distance\",\n",
    "        \"total_amount\",\n",
    "    ],\n",
    ")\n",
    "df20[\"tpep_dropoff_datetime\"] = pd.to_datetime(df20[\"tpep_dropoff_datetime\"])\n",
    "df20[\"tpep_pickup_datetime\"] = pd.to_datetime(df20[\"tpep_pickup_datetime\"])\n",
    "df20[\"trip_time\"] = df20[\"tpep_dropoff_datetime\"] - df20[\"tpep_pickup_datetime\"]\n",
    "trip_bins = [\n",
    "    pd.to_timedelta(x) for x in (\"0 seconds\", \"10 minutes\", \"1 hour\", \"100 hours\")\n",
    "]\n",
    "df20[\"trip_time_group\"] = pd.cut(\n",
    "    df20[\"trip_time\"],\n",
    "    trip_bins,\n",
    "    labels=[\"short\", \"medium\", \"long\"],\n",
    "    include_lowest=True,\n",
    ")\n",
    "df20.head()"
   ]
  },
  {
   "cell_type": "code",
   "execution_count": 133,
   "metadata": {},
   "outputs": [
    {
     "data": {
      "text/plain": [
       "184       2019-06-30 14:54:49\n",
       "185       2019-06-30 15:19:34\n",
       "206       2019-06-30 23:41:12\n",
       "274       2019-06-30 23:52:06\n",
       "421       2019-06-30 23:56:48\n",
       "                  ...        \n",
       "6275762   2019-08-01 00:00:11\n",
       "6275859   2019-08-01 00:00:23\n",
       "6275948   2019-08-01 00:00:19\n",
       "6276069   2019-08-01 00:04:50\n",
       "6276300   2019-08-01 00:00:34\n",
       "Name: tpep_pickup_datetime, Length: 285, dtype: datetime64[ns]"
      ]
     },
     "execution_count": 133,
     "metadata": {},
     "output_type": "execute_result"
    }
   ],
   "source": [
    "# 1. how many trips not from July 2019 are in the 2019 data file?\n",
    "# len(\n",
    "df19.loc[\n",
    "    (df19[\"tpep_pickup_datetime\"] < \"2019-07-01\")\n",
    "    | (df19[\"tpep_pickup_datetime\"] >= \"2019-08-01\"),\n",
    "    \"tpep_pickup_datetime\",\n",
    "]\n",
    "# )\n"
   ]
  },
  {
   "cell_type": "code",
   "execution_count": 138,
   "metadata": {},
   "outputs": [
    {
     "data": {
      "text/plain": [
       "184       2019-06-30 14:54:49\n",
       "185       2019-06-30 15:19:34\n",
       "206       2019-06-30 23:41:12\n",
       "274       2019-06-30 23:52:06\n",
       "421       2019-06-30 23:56:48\n",
       "                  ...        \n",
       "6275762   2019-08-01 00:00:11\n",
       "6275859   2019-08-01 00:00:23\n",
       "6275948   2019-08-01 00:00:19\n",
       "6276069   2019-08-01 00:04:50\n",
       "6276300   2019-08-01 00:00:34\n",
       "Name: tpep_pickup_datetime, Length: 285, dtype: datetime64[ns]"
      ]
     },
     "execution_count": 138,
     "metadata": {},
     "output_type": "execute_result"
    }
   ],
   "source": [
    "df19.loc[\n",
    "    ~(\n",
    "        (df19[\"tpep_pickup_datetime\"].dt.year == 2019)\n",
    "        & (df19[\"tpep_pickup_datetime\"].dt.month == 7)\n",
    "    ),\n",
    "    \"tpep_pickup_datetime\",\n",
    "]"
   ]
  },
  {
   "cell_type": "code",
   "execution_count": 139,
   "metadata": {},
   "outputs": [
    {
     "data": {
      "text/plain": [
       "184       2019-06-30 14:54:49\n",
       "185       2019-06-30 15:19:34\n",
       "206       2019-06-30 23:41:12\n",
       "274       2019-06-30 23:52:06\n",
       "421       2019-06-30 23:56:48\n",
       "                  ...        \n",
       "6275762   2019-08-01 00:00:11\n",
       "6275859   2019-08-01 00:00:23\n",
       "6275948   2019-08-01 00:00:19\n",
       "6276069   2019-08-01 00:04:50\n",
       "6276300   2019-08-01 00:00:34\n",
       "Name: tpep_pickup_datetime, Length: 285, dtype: datetime64[ns]"
      ]
     },
     "execution_count": 139,
     "metadata": {},
     "output_type": "execute_result"
    }
   ],
   "source": [
    "# book version\n",
    "# I think my version is correct - this still contains July dates in the results\n",
    "df19[\n",
    "    (df19[\"tpep_pickup_datetime\"] < \"2019-07-01\")\n",
    "    | (df19[\"tpep_pickup_datetime\"] > \"2019-07-31 23:59:59\")\n",
    "][\"tpep_pickup_datetime\"]"
   ]
  },
  {
   "cell_type": "code",
   "execution_count": 85,
   "metadata": {},
   "outputs": [
    {
     "data": {
      "text/plain": [
       "passenger_count\n",
       "0.0   0 days 00:14:18.929810752\n",
       "1.0   0 days 00:17:46.148103924\n",
       "2.0   0 days 00:18:34.024342704\n",
       "3.0   0 days 00:19:02.079604271\n",
       "4.0   0 days 00:20:10.057290100\n",
       "5.0   0 days 00:22:29.870464324\n",
       "6.0   0 days 00:20:54.109564300\n",
       "7.0   0 days 00:16:38.206896551\n",
       "8.0      0 days 00:11:00.500000\n",
       "9.0      0 days 00:49:16.125000\n",
       "Name: trip_time, dtype: timedelta64[ns]"
      ]
     },
     "execution_count": 85,
     "metadata": {},
     "output_type": "execute_result"
    }
   ],
   "source": [
    "# 2. mean trip time for each number of passengers\n",
    "df19.groupby(\"passenger_count\")[\"trip_time\"].mean()"
   ]
  },
  {
   "cell_type": "code",
   "execution_count": 111,
   "metadata": {},
   "outputs": [
    {
     "data": {
      "text/html": [
       "<div>\n",
       "<style scoped>\n",
       "    .dataframe tbody tr th:only-of-type {\n",
       "        vertical-align: middle;\n",
       "    }\n",
       "\n",
       "    .dataframe tbody tr th {\n",
       "        vertical-align: top;\n",
       "    }\n",
       "\n",
       "    .dataframe thead th {\n",
       "        text-align: right;\n",
       "    }\n",
       "</style>\n",
       "<table border=\"1\" class=\"dataframe\">\n",
       "  <thead>\n",
       "    <tr style=\"text-align: right;\">\n",
       "      <th></th>\n",
       "      <th>tpep_pickup_datetime</th>\n",
       "      <th>tpep_dropoff_datetime</th>\n",
       "      <th>passenger_count</th>\n",
       "      <th>trip_distance</th>\n",
       "      <th>total_amount</th>\n",
       "      <th>trip_time</th>\n",
       "      <th>trip_time_group</th>\n",
       "      <th>year</th>\n",
       "    </tr>\n",
       "  </thead>\n",
       "  <tbody>\n",
       "    <tr>\n",
       "      <th>0</th>\n",
       "      <td>2019-07-01 00:51:04</td>\n",
       "      <td>2019-07-01 00:51:33</td>\n",
       "      <td>1.0</td>\n",
       "      <td>0.00</td>\n",
       "      <td>4.94</td>\n",
       "      <td>0 days 00:00:29</td>\n",
       "      <td>short</td>\n",
       "      <td>2019</td>\n",
       "    </tr>\n",
       "    <tr>\n",
       "      <th>1</th>\n",
       "      <td>2019-07-01 00:46:04</td>\n",
       "      <td>2019-07-01 01:05:46</td>\n",
       "      <td>1.0</td>\n",
       "      <td>4.16</td>\n",
       "      <td>20.30</td>\n",
       "      <td>0 days 00:19:42</td>\n",
       "      <td>medium</td>\n",
       "      <td>2019</td>\n",
       "    </tr>\n",
       "    <tr>\n",
       "      <th>2</th>\n",
       "      <td>2019-07-01 00:25:09</td>\n",
       "      <td>2019-07-01 01:00:56</td>\n",
       "      <td>1.0</td>\n",
       "      <td>18.80</td>\n",
       "      <td>70.67</td>\n",
       "      <td>0 days 00:35:47</td>\n",
       "      <td>medium</td>\n",
       "      <td>2019</td>\n",
       "    </tr>\n",
       "    <tr>\n",
       "      <th>3</th>\n",
       "      <td>2019-07-01 00:33:32</td>\n",
       "      <td>2019-07-01 01:15:27</td>\n",
       "      <td>1.0</td>\n",
       "      <td>18.46</td>\n",
       "      <td>66.36</td>\n",
       "      <td>0 days 00:41:55</td>\n",
       "      <td>medium</td>\n",
       "      <td>2019</td>\n",
       "    </tr>\n",
       "    <tr>\n",
       "      <th>4</th>\n",
       "      <td>2019-07-01 00:00:55</td>\n",
       "      <td>2019-07-01 00:13:05</td>\n",
       "      <td>0.0</td>\n",
       "      <td>1.70</td>\n",
       "      <td>15.30</td>\n",
       "      <td>0 days 00:12:10</td>\n",
       "      <td>medium</td>\n",
       "      <td>2019</td>\n",
       "    </tr>\n",
       "  </tbody>\n",
       "</table>\n",
       "</div>"
      ],
      "text/plain": [
       "  tpep_pickup_datetime tpep_dropoff_datetime  passenger_count  trip_distance  \\\n",
       "0  2019-07-01 00:51:04   2019-07-01 00:51:33              1.0           0.00   \n",
       "1  2019-07-01 00:46:04   2019-07-01 01:05:46              1.0           4.16   \n",
       "2  2019-07-01 00:25:09   2019-07-01 01:00:56              1.0          18.80   \n",
       "3  2019-07-01 00:33:32   2019-07-01 01:15:27              1.0          18.46   \n",
       "4  2019-07-01 00:00:55   2019-07-01 00:13:05              0.0           1.70   \n",
       "\n",
       "   total_amount       trip_time trip_time_group  year  \n",
       "0          4.94 0 days 00:00:29           short  2019  \n",
       "1         20.30 0 days 00:19:42          medium  2019  \n",
       "2         70.67 0 days 00:35:47          medium  2019  \n",
       "3         66.36 0 days 00:41:55          medium  2019  \n",
       "4         15.30 0 days 00:12:10          medium  2019  "
      ]
     },
     "execution_count": 111,
     "metadata": {},
     "output_type": "execute_result"
    }
   ],
   "source": [
    "# 3. Compare mean fare and mean per-passenger-count fare for 2019 and 2020\n",
    "df_19_20 = pd.concat([df19, df20])\n",
    "df_19_20[\"year\"] = df_19_20[\"tpep_pickup_datetime\"].dt.year\n",
    "# drop all rows that are pre-2019\n",
    "df_19_20 = df_19_20.loc[~(df_19_20[\"year\"] < 2019)]\n",
    "df_19_20.head()"
   ]
  },
  {
   "cell_type": "code",
   "execution_count": 112,
   "metadata": {},
   "outputs": [
    {
     "data": {
      "text/plain": [
       "year\n",
       "2019    19.612254\n",
       "2020    18.631500\n",
       "Name: total_amount, dtype: float64"
      ]
     },
     "execution_count": 112,
     "metadata": {},
     "output_type": "execute_result"
    }
   ],
   "source": [
    "df_19_20.groupby(\"year\")[\"total_amount\"].mean()"
   ]
  },
  {
   "cell_type": "code",
   "execution_count": 117,
   "metadata": {},
   "outputs": [
    {
     "data": {
      "text/html": [
       "<div>\n",
       "<style scoped>\n",
       "    .dataframe tbody tr th:only-of-type {\n",
       "        vertical-align: middle;\n",
       "    }\n",
       "\n",
       "    .dataframe tbody tr th {\n",
       "        vertical-align: top;\n",
       "    }\n",
       "\n",
       "    .dataframe thead th {\n",
       "        text-align: right;\n",
       "    }\n",
       "</style>\n",
       "<table border=\"1\" class=\"dataframe\">\n",
       "  <thead>\n",
       "    <tr style=\"text-align: right;\">\n",
       "      <th></th>\n",
       "      <th></th>\n",
       "      <th>total_amount</th>\n",
       "      <th>trip_time</th>\n",
       "    </tr>\n",
       "    <tr>\n",
       "      <th>year</th>\n",
       "      <th>passenger_count</th>\n",
       "      <th></th>\n",
       "      <th></th>\n",
       "    </tr>\n",
       "  </thead>\n",
       "  <tbody>\n",
       "    <tr>\n",
       "      <th rowspan=\"10\" valign=\"top\">2019</th>\n",
       "      <th>0.0</th>\n",
       "      <td>18.981793</td>\n",
       "      <td>0 days 00:14:18.929810752</td>\n",
       "    </tr>\n",
       "    <tr>\n",
       "      <th>1.0</th>\n",
       "      <td>19.284646</td>\n",
       "      <td>0 days 00:17:46.094980284</td>\n",
       "    </tr>\n",
       "    <tr>\n",
       "      <th>2.0</th>\n",
       "      <td>20.097442</td>\n",
       "      <td>0 days 00:18:33.760405013</td>\n",
       "    </tr>\n",
       "    <tr>\n",
       "      <th>3.0</th>\n",
       "      <td>20.208111</td>\n",
       "      <td>0 days 00:19:02.079604271</td>\n",
       "    </tr>\n",
       "    <tr>\n",
       "      <th>4.0</th>\n",
       "      <td>21.063172</td>\n",
       "      <td>0 days 00:20:10.057290100</td>\n",
       "    </tr>\n",
       "    <tr>\n",
       "      <th>5.0</th>\n",
       "      <td>19.419311</td>\n",
       "      <td>0 days 00:22:29.877636583</td>\n",
       "    </tr>\n",
       "    <tr>\n",
       "      <th>6.0</th>\n",
       "      <td>19.386516</td>\n",
       "      <td>0 days 00:20:54.109564300</td>\n",
       "    </tr>\n",
       "    <tr>\n",
       "      <th>7.0</th>\n",
       "      <td>70.08069</td>\n",
       "      <td>0 days 00:16:38.206896551</td>\n",
       "    </tr>\n",
       "    <tr>\n",
       "      <th>8.0</th>\n",
       "      <td>74.760455</td>\n",
       "      <td>0 days 00:11:00.500000</td>\n",
       "    </tr>\n",
       "    <tr>\n",
       "      <th>9.0</th>\n",
       "      <td>93.509375</td>\n",
       "      <td>0 days 00:49:16.125000</td>\n",
       "    </tr>\n",
       "    <tr>\n",
       "      <th rowspan=\"10\" valign=\"top\">2020</th>\n",
       "      <th>0.0</th>\n",
       "      <td>16.538912</td>\n",
       "      <td>0 days 00:10:59.262483338</td>\n",
       "    </tr>\n",
       "    <tr>\n",
       "      <th>1.0</th>\n",
       "      <td>16.856554</td>\n",
       "      <td>0 days 00:12:49.899227750</td>\n",
       "    </tr>\n",
       "    <tr>\n",
       "      <th>2.0</th>\n",
       "      <td>17.188322</td>\n",
       "      <td>0 days 00:14:44.674323432</td>\n",
       "    </tr>\n",
       "    <tr>\n",
       "      <th>3.0</th>\n",
       "      <td>17.103106</td>\n",
       "      <td>0 days 00:14:04.588483790</td>\n",
       "    </tr>\n",
       "    <tr>\n",
       "      <th>4.0</th>\n",
       "      <td>17.964939</td>\n",
       "      <td>0 days 00:14:59.944430217</td>\n",
       "    </tr>\n",
       "    <tr>\n",
       "      <th>5.0</th>\n",
       "      <td>16.725836</td>\n",
       "      <td>0 days 00:17:41.931840766</td>\n",
       "    </tr>\n",
       "    <tr>\n",
       "      <th>6.0</th>\n",
       "      <td>16.812911</td>\n",
       "      <td>0 days 00:14:49.255347130</td>\n",
       "    </tr>\n",
       "    <tr>\n",
       "      <th>7.0</th>\n",
       "      <td>22.456</td>\n",
       "      <td>0 days 00:06:48</td>\n",
       "    </tr>\n",
       "    <tr>\n",
       "      <th>8.0</th>\n",
       "      <td>10.3</td>\n",
       "      <td>0 days 00:00:04</td>\n",
       "    </tr>\n",
       "    <tr>\n",
       "      <th>9.0</th>\n",
       "      <td>11.76</td>\n",
       "      <td>0 days 00:00:00</td>\n",
       "    </tr>\n",
       "  </tbody>\n",
       "</table>\n",
       "</div>"
      ],
      "text/plain": [
       "                     total_amount                  trip_time\n",
       "year passenger_count                                        \n",
       "2019 0.0                18.981793  0 days 00:14:18.929810752\n",
       "     1.0                19.284646  0 days 00:17:46.094980284\n",
       "     2.0                20.097442  0 days 00:18:33.760405013\n",
       "     3.0                20.208111  0 days 00:19:02.079604271\n",
       "     4.0                21.063172  0 days 00:20:10.057290100\n",
       "     5.0                19.419311  0 days 00:22:29.877636583\n",
       "     6.0                19.386516  0 days 00:20:54.109564300\n",
       "     7.0                 70.08069  0 days 00:16:38.206896551\n",
       "     8.0                74.760455     0 days 00:11:00.500000\n",
       "     9.0                93.509375     0 days 00:49:16.125000\n",
       "2020 0.0                16.538912  0 days 00:10:59.262483338\n",
       "     1.0                16.856554  0 days 00:12:49.899227750\n",
       "     2.0                17.188322  0 days 00:14:44.674323432\n",
       "     3.0                17.103106  0 days 00:14:04.588483790\n",
       "     4.0                17.964939  0 days 00:14:59.944430217\n",
       "     5.0                16.725836  0 days 00:17:41.931840766\n",
       "     6.0                16.812911  0 days 00:14:49.255347130\n",
       "     7.0                   22.456            0 days 00:06:48\n",
       "     8.0                     10.3            0 days 00:00:04\n",
       "     9.0                    11.76            0 days 00:00:00"
      ]
     },
     "execution_count": 117,
     "metadata": {},
     "output_type": "execute_result"
    }
   ],
   "source": [
    "df_19_20.pivot_table(\n",
    "    columns=[\"year\", \"passenger_count\"], values=[\"total_amount\", \"trip_time\"]\n",
    ").T"
   ]
  }
 ],
 "metadata": {
  "kernelspec": {
   "display_name": ".venv",
   "language": "python",
   "name": "python3"
  },
  "language_info": {
   "codemirror_mode": {
    "name": "ipython",
    "version": 3
   },
   "file_extension": ".py",
   "mimetype": "text/x-python",
   "name": "python",
   "nbconvert_exporter": "python",
   "pygments_lexer": "ipython3",
   "version": "3.12.7"
  }
 },
 "nbformat": 4,
 "nbformat_minor": 2
}
