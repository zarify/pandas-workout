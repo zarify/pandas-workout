{
 "cells": [
  {
   "cell_type": "code",
   "execution_count": 110,
   "metadata": {},
   "outputs": [],
   "source": [
    "import pandas as pd\n",
    "import numpy as np\n",
    "from scipy import stats"
   ]
  },
  {
   "cell_type": "code",
   "execution_count": 19,
   "metadata": {},
   "outputs": [],
   "source": [
    "py_df = pd.read_csv(\"../data/2020_sharing_data_outside.csv\", low_memory=False)"
   ]
  },
  {
   "cell_type": "code",
   "execution_count": null,
   "metadata": {},
   "outputs": [],
   "source": [
    "oecd_df = pd.read_csv(\n",
    "    \"../data/oecd_locations.csv\", header=None, names=[\"abbrev\", \"country\"]\n",
    ")"
   ]
  },
  {
   "cell_type": "code",
   "execution_count": 20,
   "metadata": {},
   "outputs": [],
   "source": [
    "# columns categories are separated by '.' with 1, 2 or 3 field names\n",
    "# general column names\n",
    "generals = [\n",
    "    \"age\",\n",
    "    \"are.you.datascientist\",\n",
    "    \"is.python.main\",\n",
    "    \"company.size\",\n",
    "    \"country.live\",\n",
    "    \"employment.status\",\n",
    "    \"first.learn.about.main.ide\",\n",
    "    \"how.often.use.main.ide\",\n",
    "    \"is.python.main\",\n",
    "    \"main.purposes\",\n",
    "    \"missing.features.main.ide\",\n",
    "    \"nps.main.ide\",\n",
    "    \"python.version.most\",\n",
    "    \"python.years\",\n",
    "    \"python2.version.most\",\n",
    "    \"python3.version.most\",\n",
    "    \"several.projects\",\n",
    "    \"team.size\",\n",
    "    \"use.python.most\",\n",
    "    \"years.of.coding\",\n",
    "]\n",
    "\n",
    "\n",
    "def format_field(s):\n",
    "    if s in generals:\n",
    "        return (\"general\", s)\n",
    "    else:\n",
    "        return s.rsplit(\".\", 1)\n",
    "\n",
    "\n",
    "py_df.columns = pd.MultiIndex.from_tuples(\n",
    "    # [(x.rsplit(\".\", 1) if x.count(\".\") >= 2 else x.split(\".\")) for x in py_df.columns],\n",
    "    [format_field(x) for x in py_df.columns]\n",
    ")\n",
    "py_df = py_df[sorted(py_df.columns)]"
   ]
  },
  {
   "cell_type": "markdown",
   "metadata": {},
   "source": [
    "# Questions\n",
    "1. What are the most popular 10 Python IDEs?\n",
    "2. Which 10 other programming languages (`other.lang`) are most commonly used by Python devs?\n",
    "3. What are the 10 most common countries respondents come from?\n",
    "4. According to the Python survey, what proportion of devs have each level of experience? (`python.years`)\n",
    "5. Which country has the greatest number of devs with 11+ years of experience?\n",
    "6. Which country has the greatest proportion of devs with 11+ years of experience?"
   ]
  },
  {
   "cell_type": "code",
   "execution_count": 24,
   "metadata": {},
   "outputs": [
    {
     "data": {
      "text/plain": [
       "(ide, main)\n",
       "VS Code                         8010\n",
       "PyCharm Professional Edition    5144\n",
       "PyCharm Community Edition       3815\n",
       "Vim                             2176\n",
       "Sublime Text                    1201\n",
       "Jupyter Notebook                1167\n",
       "Atom                             784\n",
       "Other                            711\n",
       "Emacs                            636\n",
       "Spyder                           580\n",
       "Name: count, dtype: int64"
      ]
     },
     "execution_count": 24,
     "metadata": {},
     "output_type": "execute_result"
    }
   ],
   "source": [
    "# 10 most common Python IDEs\n",
    "py_df[(\"ide\", \"main\")].value_counts().iloc[:10]"
   ]
  },
  {
   "cell_type": "code",
   "execution_count": null,
   "metadata": {},
   "outputs": [
    {
     "data": {
      "text/plain": [
       "JavaScript      16662\n",
       "HTML/CSS        15469\n",
       "Bash / Shell    13793\n",
       "SQL             13391\n",
       "C/C++           11623\n",
       "Java             8109\n",
       "C#               4460\n",
       "PHP              4060\n",
       "TypeScript       3717\n",
       "Other            3592\n",
       "dtype: int64"
      ]
     },
     "execution_count": 37,
     "metadata": {},
     "output_type": "execute_result"
    }
   ],
   "source": [
    "# 10 other programming languages are most commonly used\n",
    "# each of the columns either has NaN or its programming language name, so just a count\n",
    "# will figure out how many respondents answered with that language, given it skips NaN values\n",
    "py_df[\"other.lang\"].count().sort_values(ascending=False).iloc[:10]"
   ]
  },
  {
   "cell_type": "code",
   "execution_count": 41,
   "metadata": {},
   "outputs": [
    {
     "data": {
      "text/plain": [
       "(general, country.live)\n",
       "United States         3975\n",
       "India                 2800\n",
       "Germany               1807\n",
       "China                 1155\n",
       "United Kingdom        1110\n",
       "France                1078\n",
       "Russian Federation     935\n",
       "Other country          880\n",
       "Brazil                 812\n",
       "Canada                 644\n",
       "Name: count, dtype: int64"
      ]
     },
     "execution_count": 41,
     "metadata": {},
     "output_type": "execute_result"
    }
   ],
   "source": [
    "# 10 most common countries respondents come from\n",
    "py_df[(\"general\", \"country.live\")].value_counts(ascending=False).iloc[:10]"
   ]
  },
  {
   "cell_type": "code",
   "execution_count": 198,
   "metadata": {},
   "outputs": [
    {
     "data": {
      "text/plain": [
       "(general, python.years)\n",
       "3–5 years          0.28\n",
       "Less than 1 year   0.24\n",
       "1–2 years          0.22\n",
       "6–10 years         0.15\n",
       "11+ years          0.10\n",
       "Name: proportion, dtype: float64"
      ]
     },
     "execution_count": 198,
     "metadata": {},
     "output_type": "execute_result"
    }
   ],
   "source": [
    "# what proportion of devs have each level of experience?\n",
    "py_df[(\"general\", \"python.years\")].value_counts() / py_df[\n",
    "    (\"general\", \"python.years\")\n",
    "].count() * 100\n",
    "# The book reminds me that I can just use the normalize parameter to value_counts:\n",
    "py_df[(\"general\", \"python.years\")].value_counts(normalize=True)"
   ]
  },
  {
   "cell_type": "code",
   "execution_count": null,
   "metadata": {},
   "outputs": [
    {
     "data": {
      "text/plain": [
       "(general, years.of.coding)\n",
       "Less than 1 year   33.74\n",
       "1–2 years          19.41\n",
       "3–5 years          19.01\n",
       "11+ years          15.76\n",
       "6–10 years         12.08\n",
       "Name: count, dtype: float64"
      ]
     },
     "execution_count": 196,
     "metadata": {},
     "output_type": "execute_result"
    }
   ],
   "source": [
    "py_df[(\"general\", \"years.of.coding\")].value_counts() / py_df[\n",
    "    (\"general\", \"years.of.coding\")\n",
    "].count() * 100"
   ]
  },
  {
   "cell_type": "code",
   "execution_count": 78,
   "metadata": {},
   "outputs": [
    {
     "data": {
      "text/plain": [
       "(general, country.live)\n",
       "United States     691\n",
       "Germany           308\n",
       "United Kingdom    207\n",
       "France            166\n",
       "Australia          94\n",
       "                 ... \n",
       "Tunisia             1\n",
       "Egypt               1\n",
       "Nigeria             1\n",
       "Pakistan            1\n",
       "Viet Nam            1\n",
       "Name: (general, python.years), Length: 70, dtype: int64"
      ]
     },
     "execution_count": 78,
     "metadata": {},
     "output_type": "execute_result"
    }
   ],
   "source": [
    "# which country has the greatest number of devs with 11+ years of experience?\n",
    "devs11_by_country = (\n",
    "    py_df.loc[py_df[(\"general\", \"python.years\")] == \"11+ years\"]\n",
    "    .groupby((\"general\", \"country.live\"))\n",
    "    .count()[(\"general\", \"python.years\")]\n",
    "    .sort_values(ascending=False)\n",
    ")\n",
    "devs11_by_country"
   ]
  },
  {
   "cell_type": "code",
   "execution_count": null,
   "metadata": {},
   "outputs": [
    {
     "data": {
      "text/plain": [
       "(general, country.live)\n",
       "Norway        0.265432\n",
       "Ireland       0.225490\n",
       "Australia     0.225420\n",
       "Belgium       0.225108\n",
       "Slovenia      0.224490\n",
       "                ...   \n",
       "India         0.015714\n",
       "Viet Nam      0.013158\n",
       "Bangladesh    0.009174\n",
       "Pakistan      0.006849\n",
       "Nigeria       0.006173\n",
       "Length: 70, dtype: float64"
      ]
     },
     "execution_count": 84,
     "metadata": {},
     "output_type": "execute_result"
    }
   ],
   "source": [
    "# country with the greatest proportion of devs with 11+ years of experience\n",
    "devs_by_country = py_df.groupby((\"general\", \"country.live\"))[\n",
    "    [(\"general\", \"country.live\")]\n",
    "].count()\n",
    "\n",
    "# devs11_by_country / devs_by_country\n",
    "country_years = devs11_by_country.to_frame().join(devs_by_country)\n",
    "(\n",
    "    country_years[(\"general\", \"python.years\")]\n",
    "    / country_years[(\"general\", \"country.live\")]\n",
    ").sort_values(ascending=False)\n",
    "# so Norway has the highest proportion of 11+ year Python devs with 26.5%"
   ]
  },
  {
   "cell_type": "code",
   "execution_count": null,
   "metadata": {},
   "outputs": [
    {
     "data": {
      "text/plain": [
       "(general, main.purposes)                     (general, years.of.coding)\n",
       "Both for work and personal                   3–5 years                    23.01\n",
       "                                             Less than 1 year             21.35\n",
       "                                             1–2 years                    20.96\n",
       "                                             11+ years                    19.50\n",
       "                                             6–10 years                   15.18\n",
       "For personal, educational  or side projects  Less than 1 year             66.93\n",
       "                                             1–2 years                    16.64\n",
       "                                             3–5 years                     8.08\n",
       "                                             11+ years                     5.14\n",
       "                                             6–10 years                    3.21\n",
       "For work                                     Less than 1 year             22.91\n",
       "                                             3–5 years                    22.85\n",
       "                                             11+ years                    19.79\n",
       "                                             1–2 years                    18.86\n",
       "                                             6–10 years                   15.59\n",
       "Name: proportion, dtype: float64"
      ]
     },
     "execution_count": 210,
     "metadata": {},
     "output_type": "execute_result"
    }
   ],
   "source": [
    "# let's look at the years of coding and the main purpose for the respondents\n",
    "py_df.groupby([(\"general\", \"main.purposes\")])[\n",
    "    [(\"general\", \"years.of.coding\")]\n",
    "].value_counts(normalize=True) * 100"
   ]
  },
  {
   "cell_type": "markdown",
   "metadata": {},
   "source": [
    "# Stack Overflow survey data\n",
    "1. Show the average salary for different types of employment (contractors, freelancers, full time)\n",
    "2. Make a pivot table indexed by country, columns are education levels, and cells contain average salary for each education level per country\n",
    "3. Create this pivot table again for only countries in the OECD subset. In which country does someone with only an Associate Degree earn the most? In which of them does someone with a doctorate earn the most?\n",
    "4. Remove rows from `so_df` where `LanguageHaveWorkedWith` is `NaN`\n",
    "5. Remove rows from `so_df` where Python is not a commonly used language (`LanguageHaveWorkedWith`)\n",
    "6. Remove rows from `so_df` where `YearsCode` is `NaN`. How many rows remain?\n",
    "7. Replace the string `Less than 1 year` in `YearsCode` with `0`. Replace the string `More than 50 years` with `51`\n",
    "8. Turn `YearsCode` into an integer column.\n",
    "9. Create a new column called `experience` to categorise the values in `YearsCode` to:\n",
    "  - Less than 1 year\n",
    "  - 1-2 years\n",
    "  - 3-5 years\n",
    "  - 6-10 years\n",
    "  - 11+ years\n",
    "10. According to the Stack Overflow survey what proportion of Python developers have each level of experience?"
   ]
  },
  {
   "cell_type": "code",
   "execution_count": 171,
   "metadata": {},
   "outputs": [
    {
     "data": {
      "text/plain": [
       "83439"
      ]
     },
     "execution_count": 171,
     "metadata": {},
     "output_type": "execute_result"
    }
   ],
   "source": [
    "# load the SO survey data\n",
    "so_df = pd.read_csv(\"../data/so_2021_survey_results.csv\")\n",
    "so_df.shape[0]"
   ]
  },
  {
   "cell_type": "code",
   "execution_count": 172,
   "metadata": {},
   "outputs": [],
   "source": [
    "pd.options.display.float_format = \"{:,.2f}\".format\n"
   ]
  },
  {
   "cell_type": "code",
   "execution_count": 173,
   "metadata": {},
   "outputs": [],
   "source": [
    "# the EdLevel values are really long, let's just keep the bit not in brackets\n",
    "so_df[\"EdLevel\"] = so_df[\"EdLevel\"].str.split(r\" \\(\").str[0]"
   ]
  },
  {
   "cell_type": "code",
   "execution_count": null,
   "metadata": {},
   "outputs": [
    {
     "data": {
      "text/plain": [
       "Employment\n",
       "I prefer not to say                                     $1,455,643.25\n",
       "Employed full-time                                        $121,369.67\n",
       "Independent contractor, freelancer, or self-employed      $107,433.97\n",
       "Retired                                                    $69,533.25\n",
       "Employed part-time                                         $41,136.12\n",
       "Name: ConvertedCompYearly, dtype: object"
      ]
     },
     "execution_count": 202,
     "metadata": {},
     "output_type": "execute_result"
    }
   ],
   "source": [
    "# show the average salary for different types of employment\n",
    "(\n",
    "    so_df.groupby(\"Employment\")[\"ConvertedCompYearly\"]\n",
    "    .mean()\n",
    "    .dropna()\n",
    "    .sort_values(ascending=False)\n",
    "    .apply(\"${:,.2f}\".format)\n",
    ")"
   ]
  },
  {
   "cell_type": "code",
   "execution_count": 175,
   "metadata": {},
   "outputs": [
    {
     "data": {
      "text/html": [
       "<div>\n",
       "<style scoped>\n",
       "    .dataframe tbody tr th:only-of-type {\n",
       "        vertical-align: middle;\n",
       "    }\n",
       "\n",
       "    .dataframe tbody tr th {\n",
       "        vertical-align: top;\n",
       "    }\n",
       "\n",
       "    .dataframe thead th {\n",
       "        text-align: right;\n",
       "    }\n",
       "</style>\n",
       "<table border=\"1\" class=\"dataframe\">\n",
       "  <thead>\n",
       "    <tr style=\"text-align: right;\">\n",
       "      <th></th>\n",
       "      <th>count</th>\n",
       "      <th>mean</th>\n",
       "      <th>std</th>\n",
       "      <th>min</th>\n",
       "      <th>25%</th>\n",
       "      <th>50%</th>\n",
       "      <th>75%</th>\n",
       "      <th>max</th>\n",
       "    </tr>\n",
       "    <tr>\n",
       "      <th>Employment</th>\n",
       "      <th></th>\n",
       "      <th></th>\n",
       "      <th></th>\n",
       "      <th></th>\n",
       "      <th></th>\n",
       "      <th></th>\n",
       "      <th></th>\n",
       "      <th></th>\n",
       "    </tr>\n",
       "  </thead>\n",
       "  <tbody>\n",
       "    <tr>\n",
       "      <th>Employed full-time</th>\n",
       "      <td>40,323.00</td>\n",
       "      <td>88,346.70</td>\n",
       "      <td>138,424.34</td>\n",
       "      <td>1.00</td>\n",
       "      <td>28,308.00</td>\n",
       "      <td>57,072.00</td>\n",
       "      <td>98,321.00</td>\n",
       "      <td>1,608,000.00</td>\n",
       "    </tr>\n",
       "    <tr>\n",
       "      <th>Employed part-time</th>\n",
       "      <td>1,390.00</td>\n",
       "      <td>32,237.51</td>\n",
       "      <td>33,368.53</td>\n",
       "      <td>12.00</td>\n",
       "      <td>9,129.00</td>\n",
       "      <td>22,056.00</td>\n",
       "      <td>46,424.00</td>\n",
       "      <td>320,688.00</td>\n",
       "    </tr>\n",
       "    <tr>\n",
       "      <th>I prefer not to say</th>\n",
       "      <td>31.00</td>\n",
       "      <td>43,202.32</td>\n",
       "      <td>40,039.49</td>\n",
       "      <td>68.00</td>\n",
       "      <td>8,472.00</td>\n",
       "      <td>33,972.00</td>\n",
       "      <td>66,929.50</td>\n",
       "      <td>160,932.00</td>\n",
       "    </tr>\n",
       "    <tr>\n",
       "      <th>Independent contractor, freelancer, or self-employed</th>\n",
       "      <td>4,724.00</td>\n",
       "      <td>84,080.85</td>\n",
       "      <td>112,732.12</td>\n",
       "      <td>1.00</td>\n",
       "      <td>24,522.00</td>\n",
       "      <td>56,875.00</td>\n",
       "      <td>108,098.00</td>\n",
       "      <td>1,395,996.00</td>\n",
       "    </tr>\n",
       "    <tr>\n",
       "      <th>Retired</th>\n",
       "      <td>16.00</td>\n",
       "      <td>69,533.25</td>\n",
       "      <td>73,898.83</td>\n",
       "      <td>100.00</td>\n",
       "      <td>9,796.50</td>\n",
       "      <td>32,910.00</td>\n",
       "      <td>120,252.50</td>\n",
       "      <td>220,000.00</td>\n",
       "    </tr>\n",
       "  </tbody>\n",
       "</table>\n",
       "</div>"
      ],
      "text/plain": [
       "                                                       count      mean  \\\n",
       "Employment                                                               \n",
       "Employed full-time                                 40,323.00 88,346.70   \n",
       "Employed part-time                                  1,390.00 32,237.51   \n",
       "I prefer not to say                                    31.00 43,202.32   \n",
       "Independent contractor, freelancer, or self-emp...  4,724.00 84,080.85   \n",
       "Retired                                                16.00 69,533.25   \n",
       "\n",
       "                                                          std    min  \\\n",
       "Employment                                                             \n",
       "Employed full-time                                 138,424.34   1.00   \n",
       "Employed part-time                                  33,368.53  12.00   \n",
       "I prefer not to say                                 40,039.49  68.00   \n",
       "Independent contractor, freelancer, or self-emp... 112,732.12   1.00   \n",
       "Retired                                             73,898.83 100.00   \n",
       "\n",
       "                                                         25%       50%  \\\n",
       "Employment                                                               \n",
       "Employed full-time                                 28,308.00 57,072.00   \n",
       "Employed part-time                                  9,129.00 22,056.00   \n",
       "I prefer not to say                                 8,472.00 33,972.00   \n",
       "Independent contractor, freelancer, or self-emp... 24,522.00 56,875.00   \n",
       "Retired                                             9,796.50 32,910.00   \n",
       "\n",
       "                                                          75%          max  \n",
       "Employment                                                                  \n",
       "Employed full-time                                  98,321.00 1,608,000.00  \n",
       "Employed part-time                                  46,424.00   320,688.00  \n",
       "I prefer not to say                                 66,929.50   160,932.00  \n",
       "Independent contractor, freelancer, or self-emp... 108,098.00 1,395,996.00  \n",
       "Retired                                            120,252.50   220,000.00  "
      ]
     },
     "execution_count": 175,
     "metadata": {},
     "output_type": "execute_result"
    }
   ],
   "source": [
    "so_df[\"CompZScore\"] = so_df.groupby(\"Employment\")[\"ConvertedCompYearly\"].transform(\n",
    "    lambda x: stats.zscore(x, nan_policy=\"omit\")\n",
    ")\n",
    "(\n",
    "    so_df[(so_df[\"CompZScore\"] < 3) & (so_df[\"CompZScore\"] > -3)]\n",
    "    .groupby(\"Employment\")[\"ConvertedCompYearly\"]\n",
    "    .describe()\n",
    ")\n",
    "# adjusting to remove values more than 3 standard deviations from the mean for each group, full timers still get\n",
    "# more than other groups"
   ]
  },
  {
   "cell_type": "code",
   "execution_count": 176,
   "metadata": {},
   "outputs": [
    {
     "data": {
      "text/html": [
       "<div>\n",
       "<style scoped>\n",
       "    .dataframe tbody tr th:only-of-type {\n",
       "        vertical-align: middle;\n",
       "    }\n",
       "\n",
       "    .dataframe tbody tr th {\n",
       "        vertical-align: top;\n",
       "    }\n",
       "\n",
       "    .dataframe thead th {\n",
       "        text-align: right;\n",
       "    }\n",
       "</style>\n",
       "<table border=\"1\" class=\"dataframe\">\n",
       "  <thead>\n",
       "    <tr style=\"text-align: right;\">\n",
       "      <th>EdLevel</th>\n",
       "      <th>Associate degree</th>\n",
       "      <th>Bachelor’s degree</th>\n",
       "      <th>Master’s degree</th>\n",
       "      <th>Other doctoral degree</th>\n",
       "      <th>Primary/elementary school</th>\n",
       "      <th>Professional degree</th>\n",
       "      <th>Secondary school</th>\n",
       "      <th>Some college/university study without earning a degree</th>\n",
       "      <th>Something else</th>\n",
       "    </tr>\n",
       "    <tr>\n",
       "      <th>Country</th>\n",
       "      <th></th>\n",
       "      <th></th>\n",
       "      <th></th>\n",
       "      <th></th>\n",
       "      <th></th>\n",
       "      <th></th>\n",
       "      <th></th>\n",
       "      <th></th>\n",
       "      <th></th>\n",
       "    </tr>\n",
       "  </thead>\n",
       "  <tbody>\n",
       "    <tr>\n",
       "      <th>Afghanistan</th>\n",
       "      <td>NaN</td>\n",
       "      <td>30,288.00</td>\n",
       "      <td>10,176,704.00</td>\n",
       "      <td>NaN</td>\n",
       "      <td>NaN</td>\n",
       "      <td>NaN</td>\n",
       "      <td>100.00</td>\n",
       "      <td>NaN</td>\n",
       "      <td>NaN</td>\n",
       "    </tr>\n",
       "    <tr>\n",
       "      <th>Albania</th>\n",
       "      <td>NaN</td>\n",
       "      <td>19,152.86</td>\n",
       "      <td>80,127.62</td>\n",
       "      <td>NaN</td>\n",
       "      <td>NaN</td>\n",
       "      <td>5,298.00</td>\n",
       "      <td>19,890.00</td>\n",
       "      <td>22,884.00</td>\n",
       "      <td>128,522.00</td>\n",
       "    </tr>\n",
       "    <tr>\n",
       "      <th>Algeria</th>\n",
       "      <td>NaN</td>\n",
       "      <td>21,770.67</td>\n",
       "      <td>15,052.57</td>\n",
       "      <td>NaN</td>\n",
       "      <td>NaN</td>\n",
       "      <td>12,912.00</td>\n",
       "      <td>NaN</td>\n",
       "      <td>6,288.00</td>\n",
       "      <td>NaN</td>\n",
       "    </tr>\n",
       "    <tr>\n",
       "      <th>Andorra</th>\n",
       "      <td>NaN</td>\n",
       "      <td>94,045.50</td>\n",
       "      <td>22,056.00</td>\n",
       "      <td>146,981.00</td>\n",
       "      <td>NaN</td>\n",
       "      <td>NaN</td>\n",
       "      <td>NaN</td>\n",
       "      <td>NaN</td>\n",
       "      <td>NaN</td>\n",
       "    </tr>\n",
       "    <tr>\n",
       "      <th>Angola</th>\n",
       "      <td>NaN</td>\n",
       "      <td>31,500.00</td>\n",
       "      <td>NaN</td>\n",
       "      <td>NaN</td>\n",
       "      <td>NaN</td>\n",
       "      <td>NaN</td>\n",
       "      <td>18,678.00</td>\n",
       "      <td>6,904.00</td>\n",
       "      <td>NaN</td>\n",
       "    </tr>\n",
       "    <tr>\n",
       "      <th>...</th>\n",
       "      <td>...</td>\n",
       "      <td>...</td>\n",
       "      <td>...</td>\n",
       "      <td>...</td>\n",
       "      <td>...</td>\n",
       "      <td>...</td>\n",
       "      <td>...</td>\n",
       "      <td>...</td>\n",
       "      <td>...</td>\n",
       "    </tr>\n",
       "    <tr>\n",
       "      <th>Venezuela, Bolivarian Republic of...</th>\n",
       "      <td>NaN</td>\n",
       "      <td>30,108.77</td>\n",
       "      <td>28,680.00</td>\n",
       "      <td>NaN</td>\n",
       "      <td>7,200.00</td>\n",
       "      <td>14,833.29</td>\n",
       "      <td>10,200.00</td>\n",
       "      <td>17,720.57</td>\n",
       "      <td>NaN</td>\n",
       "    </tr>\n",
       "    <tr>\n",
       "      <th>Viet Nam</th>\n",
       "      <td>7,827.00</td>\n",
       "      <td>18,463.11</td>\n",
       "      <td>50,599.80</td>\n",
       "      <td>2,592.00</td>\n",
       "      <td>10,479.00</td>\n",
       "      <td>30,000.00</td>\n",
       "      <td>NaN</td>\n",
       "      <td>18,866.19</td>\n",
       "      <td>NaN</td>\n",
       "    </tr>\n",
       "    <tr>\n",
       "      <th>Yemen</th>\n",
       "      <td>NaN</td>\n",
       "      <td>5,628.67</td>\n",
       "      <td>NaN</td>\n",
       "      <td>NaN</td>\n",
       "      <td>NaN</td>\n",
       "      <td>NaN</td>\n",
       "      <td>NaN</td>\n",
       "      <td>NaN</td>\n",
       "      <td>NaN</td>\n",
       "    </tr>\n",
       "    <tr>\n",
       "      <th>Zambia</th>\n",
       "      <td>NaN</td>\n",
       "      <td>40,173.00</td>\n",
       "      <td>4,908.00</td>\n",
       "      <td>NaN</td>\n",
       "      <td>NaN</td>\n",
       "      <td>NaN</td>\n",
       "      <td>4,482.00</td>\n",
       "      <td>12,105.33</td>\n",
       "      <td>8,184.00</td>\n",
       "    </tr>\n",
       "    <tr>\n",
       "      <th>Zimbabwe</th>\n",
       "      <td>36,000.00</td>\n",
       "      <td>8,399.27</td>\n",
       "      <td>NaN</td>\n",
       "      <td>NaN</td>\n",
       "      <td>NaN</td>\n",
       "      <td>NaN</td>\n",
       "      <td>NaN</td>\n",
       "      <td>20,000.00</td>\n",
       "      <td>NaN</td>\n",
       "    </tr>\n",
       "  </tbody>\n",
       "</table>\n",
       "<p>171 rows × 9 columns</p>\n",
       "</div>"
      ],
      "text/plain": [
       "EdLevel                               Associate degree  Bachelor’s degree  \\\n",
       "Country                                                                     \n",
       "Afghanistan                                        NaN          30,288.00   \n",
       "Albania                                            NaN          19,152.86   \n",
       "Algeria                                            NaN          21,770.67   \n",
       "Andorra                                            NaN          94,045.50   \n",
       "Angola                                             NaN          31,500.00   \n",
       "...                                                ...                ...   \n",
       "Venezuela, Bolivarian Republic of...               NaN          30,108.77   \n",
       "Viet Nam                                      7,827.00          18,463.11   \n",
       "Yemen                                              NaN           5,628.67   \n",
       "Zambia                                             NaN          40,173.00   \n",
       "Zimbabwe                                     36,000.00           8,399.27   \n",
       "\n",
       "EdLevel                               Master’s degree  Other doctoral degree  \\\n",
       "Country                                                                        \n",
       "Afghanistan                             10,176,704.00                    NaN   \n",
       "Albania                                     80,127.62                    NaN   \n",
       "Algeria                                     15,052.57                    NaN   \n",
       "Andorra                                     22,056.00             146,981.00   \n",
       "Angola                                            NaN                    NaN   \n",
       "...                                               ...                    ...   \n",
       "Venezuela, Bolivarian Republic of...        28,680.00                    NaN   \n",
       "Viet Nam                                    50,599.80               2,592.00   \n",
       "Yemen                                             NaN                    NaN   \n",
       "Zambia                                       4,908.00                    NaN   \n",
       "Zimbabwe                                          NaN                    NaN   \n",
       "\n",
       "EdLevel                               Primary/elementary school  \\\n",
       "Country                                                           \n",
       "Afghanistan                                                 NaN   \n",
       "Albania                                                     NaN   \n",
       "Algeria                                                     NaN   \n",
       "Andorra                                                     NaN   \n",
       "Angola                                                      NaN   \n",
       "...                                                         ...   \n",
       "Venezuela, Bolivarian Republic of...                   7,200.00   \n",
       "Viet Nam                                              10,479.00   \n",
       "Yemen                                                       NaN   \n",
       "Zambia                                                      NaN   \n",
       "Zimbabwe                                                    NaN   \n",
       "\n",
       "EdLevel                               Professional degree  Secondary school  \\\n",
       "Country                                                                       \n",
       "Afghanistan                                           NaN            100.00   \n",
       "Albania                                          5,298.00         19,890.00   \n",
       "Algeria                                         12,912.00               NaN   \n",
       "Andorra                                               NaN               NaN   \n",
       "Angola                                                NaN         18,678.00   \n",
       "...                                                   ...               ...   \n",
       "Venezuela, Bolivarian Republic of...            14,833.29         10,200.00   \n",
       "Viet Nam                                        30,000.00               NaN   \n",
       "Yemen                                                 NaN               NaN   \n",
       "Zambia                                                NaN          4,482.00   \n",
       "Zimbabwe                                              NaN               NaN   \n",
       "\n",
       "EdLevel                               Some college/university study without earning a degree  \\\n",
       "Country                                                                                        \n",
       "Afghanistan                                                                         NaN        \n",
       "Albania                                                                       22,884.00        \n",
       "Algeria                                                                        6,288.00        \n",
       "Andorra                                                                             NaN        \n",
       "Angola                                                                         6,904.00        \n",
       "...                                                                                 ...        \n",
       "Venezuela, Bolivarian Republic of...                                          17,720.57        \n",
       "Viet Nam                                                                      18,866.19        \n",
       "Yemen                                                                               NaN        \n",
       "Zambia                                                                        12,105.33        \n",
       "Zimbabwe                                                                      20,000.00        \n",
       "\n",
       "EdLevel                               Something else  \n",
       "Country                                               \n",
       "Afghanistan                                      NaN  \n",
       "Albania                                   128,522.00  \n",
       "Algeria                                          NaN  \n",
       "Andorra                                          NaN  \n",
       "Angola                                           NaN  \n",
       "...                                              ...  \n",
       "Venezuela, Bolivarian Republic of...             NaN  \n",
       "Viet Nam                                         NaN  \n",
       "Yemen                                            NaN  \n",
       "Zambia                                      8,184.00  \n",
       "Zimbabwe                                         NaN  \n",
       "\n",
       "[171 rows x 9 columns]"
      ]
     },
     "execution_count": 176,
     "metadata": {},
     "output_type": "execute_result"
    }
   ],
   "source": [
    "# Make a pivot table indexed by country, columns are education levels, and cells contain average salary for each education level per country\n",
    "so_df.pivot_table(index=\"Country\", columns=\"EdLevel\", values=\"ConvertedCompYearly\")"
   ]
  },
  {
   "cell_type": "code",
   "execution_count": null,
   "metadata": {},
   "outputs": [
    {
     "data": {
      "text/html": [
       "<div>\n",
       "<style scoped>\n",
       "    .dataframe tbody tr th:only-of-type {\n",
       "        vertical-align: middle;\n",
       "    }\n",
       "\n",
       "    .dataframe tbody tr th {\n",
       "        vertical-align: top;\n",
       "    }\n",
       "\n",
       "    .dataframe thead th {\n",
       "        text-align: right;\n",
       "    }\n",
       "</style>\n",
       "<table border=\"1\" class=\"dataframe\">\n",
       "  <thead>\n",
       "    <tr style=\"text-align: right;\">\n",
       "      <th>Country</th>\n",
       "      <th>Australia</th>\n",
       "      <th>Austria</th>\n",
       "      <th>Belgium</th>\n",
       "      <th>Brazil</th>\n",
       "      <th>Canada</th>\n",
       "      <th>Denmark</th>\n",
       "      <th>Finland</th>\n",
       "      <th>France</th>\n",
       "      <th>Germany</th>\n",
       "      <th>Hungary</th>\n",
       "      <th>Israel</th>\n",
       "      <th>Italy</th>\n",
       "      <th>Japan</th>\n",
       "    </tr>\n",
       "    <tr>\n",
       "      <th>EdLevel</th>\n",
       "      <th></th>\n",
       "      <th></th>\n",
       "      <th></th>\n",
       "      <th></th>\n",
       "      <th></th>\n",
       "      <th></th>\n",
       "      <th></th>\n",
       "      <th></th>\n",
       "      <th></th>\n",
       "      <th></th>\n",
       "      <th></th>\n",
       "      <th></th>\n",
       "      <th></th>\n",
       "    </tr>\n",
       "  </thead>\n",
       "  <tbody>\n",
       "    <tr>\n",
       "      <th>Associate degree</th>\n",
       "      <td>117,049.64</td>\n",
       "      <td>43,623.38</td>\n",
       "      <td>35,664.00</td>\n",
       "      <td>25,347.42</td>\n",
       "      <td>87,930.35</td>\n",
       "      <td>80,217.33</td>\n",
       "      <td>282,353.67</td>\n",
       "      <td>54,394.89</td>\n",
       "      <td>98,530.52</td>\n",
       "      <td>51,041.00</td>\n",
       "      <td>146,420.90</td>\n",
       "      <td>36,427.94</td>\n",
       "      <td>143,196.83</td>\n",
       "    </tr>\n",
       "    <tr>\n",
       "      <th>Bachelor’s degree</th>\n",
       "      <td>180,794.16</td>\n",
       "      <td>66,096.13</td>\n",
       "      <td>68,474.70</td>\n",
       "      <td>47,681.23</td>\n",
       "      <td>140,668.24</td>\n",
       "      <td>80,430.94</td>\n",
       "      <td>69,381.34</td>\n",
       "      <td>65,062.38</td>\n",
       "      <td>102,751.23</td>\n",
       "      <td>48,756.45</td>\n",
       "      <td>124,973.40</td>\n",
       "      <td>73,697.22</td>\n",
       "      <td>85,821.47</td>\n",
       "    </tr>\n",
       "    <tr>\n",
       "      <th>Master’s degree</th>\n",
       "      <td>106,794.32</td>\n",
       "      <td>77,645.66</td>\n",
       "      <td>88,580.41</td>\n",
       "      <td>42,056.01</td>\n",
       "      <td>144,733.35</td>\n",
       "      <td>115,751.85</td>\n",
       "      <td>74,360.98</td>\n",
       "      <td>94,585.73</td>\n",
       "      <td>110,611.98</td>\n",
       "      <td>46,771.71</td>\n",
       "      <td>128,492.71</td>\n",
       "      <td>79,132.19</td>\n",
       "      <td>130,143.19</td>\n",
       "    </tr>\n",
       "    <tr>\n",
       "      <th>Other doctoral degree</th>\n",
       "      <td>150,234.96</td>\n",
       "      <td>74,783.17</td>\n",
       "      <td>80,832.44</td>\n",
       "      <td>43,123.21</td>\n",
       "      <td>102,989.35</td>\n",
       "      <td>102,785.19</td>\n",
       "      <td>61,508.25</td>\n",
       "      <td>140,402.86</td>\n",
       "      <td>108,718.46</td>\n",
       "      <td>52,833.60</td>\n",
       "      <td>131,812.62</td>\n",
       "      <td>93,490.78</td>\n",
       "      <td>157,239.40</td>\n",
       "    </tr>\n",
       "    <tr>\n",
       "      <th>Primary/elementary school</th>\n",
       "      <td>153,327.50</td>\n",
       "      <td>86,877.00</td>\n",
       "      <td>11,342,349.25</td>\n",
       "      <td>7,880.00</td>\n",
       "      <td>73,787.83</td>\n",
       "      <td>91,056.57</td>\n",
       "      <td>77,832.00</td>\n",
       "      <td>34,181.00</td>\n",
       "      <td>74,943.67</td>\n",
       "      <td>48,100.00</td>\n",
       "      <td>100,514.57</td>\n",
       "      <td>525,992.17</td>\n",
       "      <td>44,965.00</td>\n",
       "    </tr>\n",
       "    <tr>\n",
       "      <th>Professional degree</th>\n",
       "      <td>108,725.00</td>\n",
       "      <td>38,915.33</td>\n",
       "      <td>71,000.20</td>\n",
       "      <td>25,449.67</td>\n",
       "      <td>82,953.40</td>\n",
       "      <td>114,144.89</td>\n",
       "      <td>83,016.00</td>\n",
       "      <td>78,342.27</td>\n",
       "      <td>97,330.14</td>\n",
       "      <td>9,852.00</td>\n",
       "      <td>132,336.00</td>\n",
       "      <td>117,121.37</td>\n",
       "      <td>NaN</td>\n",
       "    </tr>\n",
       "    <tr>\n",
       "      <th>Secondary school</th>\n",
       "      <td>158,931.28</td>\n",
       "      <td>47,438.83</td>\n",
       "      <td>43,224.13</td>\n",
       "      <td>15,072.89</td>\n",
       "      <td>180,584.81</td>\n",
       "      <td>90,411.74</td>\n",
       "      <td>59,424.32</td>\n",
       "      <td>53,981.81</td>\n",
       "      <td>82,865.84</td>\n",
       "      <td>33,440.80</td>\n",
       "      <td>97,938.78</td>\n",
       "      <td>75,114.40</td>\n",
       "      <td>57,916.40</td>\n",
       "    </tr>\n",
       "    <tr>\n",
       "      <th>Some college/university study without earning a degree</th>\n",
       "      <td>127,063.53</td>\n",
       "      <td>53,906.05</td>\n",
       "      <td>88,006.29</td>\n",
       "      <td>39,978.02</td>\n",
       "      <td>155,090.08</td>\n",
       "      <td>85,131.35</td>\n",
       "      <td>89,255.56</td>\n",
       "      <td>55,119.45</td>\n",
       "      <td>95,737.77</td>\n",
       "      <td>37,102.89</td>\n",
       "      <td>130,049.04</td>\n",
       "      <td>81,531.72</td>\n",
       "      <td>91,163.04</td>\n",
       "    </tr>\n",
       "    <tr>\n",
       "      <th>Something else</th>\n",
       "      <td>231,987.17</td>\n",
       "      <td>45,772.53</td>\n",
       "      <td>27,035.50</td>\n",
       "      <td>20,288.71</td>\n",
       "      <td>60,795.17</td>\n",
       "      <td>95,479.86</td>\n",
       "      <td>35,024.00</td>\n",
       "      <td>42,884.04</td>\n",
       "      <td>109,333.99</td>\n",
       "      <td>28,911.00</td>\n",
       "      <td>96,142.50</td>\n",
       "      <td>32,690.22</td>\n",
       "      <td>194,514.00</td>\n",
       "    </tr>\n",
       "  </tbody>\n",
       "</table>\n",
       "</div>"
      ],
      "text/plain": [
       "Country                                             Australia   Austria  \\\n",
       "EdLevel                                                                   \n",
       "Associate degree                                   117,049.64 43,623.38   \n",
       "Bachelor’s degree                                  180,794.16 66,096.13   \n",
       "Master’s degree                                    106,794.32 77,645.66   \n",
       "Other doctoral degree                              150,234.96 74,783.17   \n",
       "Primary/elementary school                          153,327.50 86,877.00   \n",
       "Professional degree                                108,725.00 38,915.33   \n",
       "Secondary school                                   158,931.28 47,438.83   \n",
       "Some college/university study without earning a... 127,063.53 53,906.05   \n",
       "Something else                                     231,987.17 45,772.53   \n",
       "\n",
       "Country                                                  Belgium    Brazil  \\\n",
       "EdLevel                                                                      \n",
       "Associate degree                                       35,664.00 25,347.42   \n",
       "Bachelor’s degree                                      68,474.70 47,681.23   \n",
       "Master’s degree                                        88,580.41 42,056.01   \n",
       "Other doctoral degree                                  80,832.44 43,123.21   \n",
       "Primary/elementary school                          11,342,349.25  7,880.00   \n",
       "Professional degree                                    71,000.20 25,449.67   \n",
       "Secondary school                                       43,224.13 15,072.89   \n",
       "Some college/university study without earning a...     88,006.29 39,978.02   \n",
       "Something else                                         27,035.50 20,288.71   \n",
       "\n",
       "Country                                                Canada    Denmark  \\\n",
       "EdLevel                                                                    \n",
       "Associate degree                                    87,930.35  80,217.33   \n",
       "Bachelor’s degree                                  140,668.24  80,430.94   \n",
       "Master’s degree                                    144,733.35 115,751.85   \n",
       "Other doctoral degree                              102,989.35 102,785.19   \n",
       "Primary/elementary school                           73,787.83  91,056.57   \n",
       "Professional degree                                 82,953.40 114,144.89   \n",
       "Secondary school                                   180,584.81  90,411.74   \n",
       "Some college/university study without earning a... 155,090.08  85,131.35   \n",
       "Something else                                      60,795.17  95,479.86   \n",
       "\n",
       "Country                                               Finland     France  \\\n",
       "EdLevel                                                                    \n",
       "Associate degree                                   282,353.67  54,394.89   \n",
       "Bachelor’s degree                                   69,381.34  65,062.38   \n",
       "Master’s degree                                     74,360.98  94,585.73   \n",
       "Other doctoral degree                               61,508.25 140,402.86   \n",
       "Primary/elementary school                           77,832.00  34,181.00   \n",
       "Professional degree                                 83,016.00  78,342.27   \n",
       "Secondary school                                    59,424.32  53,981.81   \n",
       "Some college/university study without earning a...  89,255.56  55,119.45   \n",
       "Something else                                      35,024.00  42,884.04   \n",
       "\n",
       "Country                                               Germany   Hungary  \\\n",
       "EdLevel                                                                   \n",
       "Associate degree                                    98,530.52 51,041.00   \n",
       "Bachelor’s degree                                  102,751.23 48,756.45   \n",
       "Master’s degree                                    110,611.98 46,771.71   \n",
       "Other doctoral degree                              108,718.46 52,833.60   \n",
       "Primary/elementary school                           74,943.67 48,100.00   \n",
       "Professional degree                                 97,330.14  9,852.00   \n",
       "Secondary school                                    82,865.84 33,440.80   \n",
       "Some college/university study without earning a...  95,737.77 37,102.89   \n",
       "Something else                                     109,333.99 28,911.00   \n",
       "\n",
       "Country                                                Israel      Italy  \\\n",
       "EdLevel                                                                    \n",
       "Associate degree                                   146,420.90  36,427.94   \n",
       "Bachelor’s degree                                  124,973.40  73,697.22   \n",
       "Master’s degree                                    128,492.71  79,132.19   \n",
       "Other doctoral degree                              131,812.62  93,490.78   \n",
       "Primary/elementary school                          100,514.57 525,992.17   \n",
       "Professional degree                                132,336.00 117,121.37   \n",
       "Secondary school                                    97,938.78  75,114.40   \n",
       "Some college/university study without earning a... 130,049.04  81,531.72   \n",
       "Something else                                      96,142.50  32,690.22   \n",
       "\n",
       "Country                                                 Japan  \n",
       "EdLevel                                                        \n",
       "Associate degree                                   143,196.83  \n",
       "Bachelor’s degree                                   85,821.47  \n",
       "Master’s degree                                    130,143.19  \n",
       "Other doctoral degree                              157,239.40  \n",
       "Primary/elementary school                           44,965.00  \n",
       "Professional degree                                       NaN  \n",
       "Secondary school                                    57,916.40  \n",
       "Some college/university study without earning a...  91,163.04  \n",
       "Something else                                     194,514.00  "
      ]
     },
     "execution_count": 177,
     "metadata": {},
     "output_type": "execute_result"
    }
   ],
   "source": [
    "# same pivot table but only include countries from the OECD data set\n",
    "(\n",
    "    so_df[so_df[\"Country\"].isin(oecd_df[\"country\"])]\n",
    "    .pivot_table(index=\"Country\", columns=\"EdLevel\", values=\"ConvertedCompYearly\")\n",
    "    .T\n",
    ")\n",
    "# Finland and Israel  have their highest earners with Associate degrees\n",
    "# Australia (ignoring the primary school), France, and Japan have their highest earners with doctoral degrees"
   ]
  },
  {
   "cell_type": "code",
   "execution_count": null,
   "metadata": {},
   "outputs": [
    {
     "data": {
      "text/plain": [
       "Country\n",
       "Finland   282,353.67\n",
       "Name: Associate degree, dtype: float64"
      ]
     },
     "execution_count": 207,
     "metadata": {},
     "output_type": "execute_result"
    }
   ],
   "source": [
    "# looking at the book solution, the question was actually where can you earn the most with an Associate degree or\n",
    "# a doctoral degree - not in which countries were those the highest paid of the education levels\n",
    "(\n",
    "    so_df[so_df[\"Country\"].isin(oecd_df[\"country\"])]\n",
    "    .pivot_table(index=\"Country\", columns=\"EdLevel\", values=\"ConvertedCompYearly\")[\n",
    "        \"Associate degree\"\n",
    "    ]\n",
    "    .sort_values(ascending=False)\n",
    "    .iloc[:1]\n",
    ")"
   ]
  },
  {
   "cell_type": "code",
   "execution_count": null,
   "metadata": {},
   "outputs": [
    {
     "data": {
      "text/plain": [
       "Country\n",
       "Japan   157,239.40\n",
       "Name: Other doctoral degree, dtype: float64"
      ]
     },
     "execution_count": 206,
     "metadata": {},
     "output_type": "execute_result"
    }
   ],
   "source": [
    "(\n",
    "    so_df[so_df[\"Country\"].isin(oecd_df[\"country\"])]\n",
    "    .pivot_table(index=\"Country\", columns=\"EdLevel\", values=\"ConvertedCompYearly\")[\n",
    "        \"Other doctoral degree\"\n",
    "    ]\n",
    "    .sort_values(ascending=False)\n",
    "    .iloc[:1]\n",
    ")\n"
   ]
  },
  {
   "cell_type": "code",
   "execution_count": 178,
   "metadata": {},
   "outputs": [
    {
     "data": {
      "text/plain": [
       "82357"
      ]
     },
     "execution_count": 178,
     "metadata": {},
     "output_type": "execute_result"
    }
   ],
   "source": [
    "# remove rows LangageWorkedWith is NaN\n",
    "so_python_df = so_df.dropna(subset=[\"LanguageHaveWorkedWith\"])\n",
    "so_python_df.shape[0]"
   ]
  },
  {
   "cell_type": "code",
   "execution_count": null,
   "metadata": {},
   "outputs": [
    {
     "data": {
      "text/plain": [
       "39792"
      ]
     },
     "execution_count": 179,
     "metadata": {},
     "output_type": "execute_result"
    }
   ],
   "source": [
    "# remove rows in which Python is not in the LanguageHaveWorkedWith\n",
    "so_python_df = so_python_df.loc[\n",
    "    so_python_df[\"LanguageHaveWorkedWith\"].str.contains(\"Python\")\n",
    "]\n",
    "so_python_df.shape[0]"
   ]
  },
  {
   "cell_type": "code",
   "execution_count": 184,
   "metadata": {},
   "outputs": [
    {
     "data": {
      "text/plain": [
       "38997"
      ]
     },
     "execution_count": 184,
     "metadata": {},
     "output_type": "execute_result"
    }
   ],
   "source": [
    "# remove all rows in which YearsCode is NaN\n",
    "so_python_df = so_python_df.dropna(subset=[\"YearsCode\"])\n",
    "so_python_df.shape[0]"
   ]
  },
  {
   "cell_type": "code",
   "execution_count": null,
   "metadata": {},
   "outputs": [
    {
     "data": {
      "text/plain": [
       "38997"
      ]
     },
     "execution_count": 187,
     "metadata": {},
     "output_type": "execute_result"
    }
   ],
   "source": [
    "# turn the YearsCode column into an integer type\n",
    "def yearsCodeTransformer(s):\n",
    "    if s == \"Less than 1 year\":\n",
    "        return \"0\"\n",
    "    elif s == \"More than 50 years\":\n",
    "        return \"51\"\n",
    "    else:\n",
    "        return s\n",
    "\n",
    "\n",
    "so_python_df[\"YearsCode\"] = (\n",
    "    so_python_df[\"YearsCode\"].transform(yearsCodeTransformer).astype(np.int32)\n",
    ")\n",
    "so_python_df.shape[0]"
   ]
  },
  {
   "cell_type": "code",
   "execution_count": null,
   "metadata": {},
   "outputs": [
    {
     "data": {
      "text/plain": [
       "experience\n",
       "11+ years           14561\n",
       "6-10 years          12424\n",
       "3-5 years            8678\n",
       "1-2 years            1850\n",
       "Less than 1 year     1484\n",
       "Name: count, dtype: int64"
      ]
     },
     "execution_count": 190,
     "metadata": {},
     "output_type": "execute_result"
    }
   ],
   "source": [
    "so_python_df[\"experience\"] = pd.cut(\n",
    "    so_python_df[\"YearsCode\"],\n",
    "    bins=[0, 1, 2, 5, 10, float(\"inf\")],\n",
    "    labels=[\"Less than 1 year\", \"1-2 years\", \"3-5 years\", \"6-10 years\", \"11+ years\"],\n",
    "    include_lowest=True,\n",
    ")\n",
    "so_python_df[\"experience\"].value_counts()"
   ]
  },
  {
   "cell_type": "code",
   "execution_count": null,
   "metadata": {},
   "outputs": [
    {
     "data": {
      "text/plain": [
       "experience\n",
       "11+ years          37.34\n",
       "6-10 years         31.86\n",
       "3-5 years          22.25\n",
       "1-2 years           4.74\n",
       "Less than 1 year    3.81\n",
       "Name: count, dtype: float64"
      ]
     },
     "execution_count": 193,
     "metadata": {},
     "output_type": "execute_result"
    }
   ],
   "source": [
    "# proportion of SO users are in each experience bin\n",
    "(so_python_df[\"experience\"].value_counts() / so_python_df.shape[0]) * 100"
   ]
  }
 ],
 "metadata": {
  "kernelspec": {
   "display_name": ".venv",
   "language": "python",
   "name": "python3"
  },
  "language_info": {
   "codemirror_mode": {
    "name": "ipython",
    "version": 3
   },
   "file_extension": ".py",
   "mimetype": "text/x-python",
   "name": "python",
   "nbconvert_exporter": "python",
   "pygments_lexer": "ipython3",
   "version": "3.12.7"
  }
 },
 "nbformat": 4,
 "nbformat_minor": 2
}
