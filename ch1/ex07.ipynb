{
 "cells": [
  {
   "cell_type": "code",
   "execution_count": 1,
   "metadata": {},
   "outputs": [],
   "source": [
    "import pandas as pd\n",
    "from pandas import Series\n",
    "import numpy as np\n",
    "import math"
   ]
  },
  {
   "cell_type": "code",
   "execution_count": null,
   "metadata": {},
   "outputs": [
    {
     "data": {
      "text/plain": [
       "count    9999.000000\n",
       "mean        3.158511\n",
       "std         4.037516\n",
       "min         0.000000\n",
       "25%         1.000000\n",
       "50%         1.700000\n",
       "75%         3.300000\n",
       "max        64.600000\n",
       "Name: Taxi Trip Distance, dtype: float64"
      ]
     },
     "execution_count": 3,
     "metadata": {},
     "output_type": "execute_result"
    }
   ],
   "source": [
    "s = (\n",
    "    pd.read_csv(\"../data/taxi-distance.csv\", header=None)\n",
    "    .squeeze()\n",
    "    .rename(\"Taxi Trip Distance\")\n",
    ")\n",
    "s.describe()"
   ]
  },
  {
   "cell_type": "code",
   "execution_count": 16,
   "metadata": {},
   "outputs": [
    {
     "name": "stdout",
     "output_type": "stream",
     "text": [
      "Short trips: 5890\n",
      "Medium trips: 3402\n",
      "Long trips: 707\n"
     ]
    },
    {
     "data": {
      "text/plain": [
       "Short     5890\n",
       "Medium    3402\n",
       "Long       707\n",
       "dtype: int64"
      ]
     },
     "execution_count": 16,
     "metadata": {},
     "output_type": "execute_result"
    }
   ],
   "source": [
    "# Categorise trips into Short (<= 2mi), Medium (<= 10mi), Long (> 10mi)\n",
    "# This is my naive way without referring to the book, creating a new 3-item series with the\n",
    "# counts of the original series with an index using the trip length\n",
    "s2 = Series(\n",
    "    [s[s <= 2.0].count(), s[(s > 2.0) & (s <= 10.0)].count(), s[s > 10.0].count()],\n",
    "    index=[\"Short\", \"Medium\", \"Long\"],\n",
    ")\n",
    "print(f\"Short trips: {s2['Short']}\")\n",
    "print(f\"Medium trips: {s2['Medium']}\")\n",
    "print(f\"Long trips: {s2['Long']}\")\n",
    "s2"
   ]
  },
  {
   "cell_type": "code",
   "execution_count": null,
   "metadata": {},
   "outputs": [
    {
     "data": {
      "text/plain": [
       "0        Short\n",
       "1        Short\n",
       "2        Short\n",
       "3       Medium\n",
       "4        Short\n",
       "         ...  \n",
       "9994    Medium\n",
       "9995    Medium\n",
       "9996    Medium\n",
       "9997     Short\n",
       "9998    Medium\n",
       "Name: Taxi Trip Distance, Length: 9999, dtype: category\n",
       "Categories (3, object): ['Short' < 'Medium' < 'Long']"
      ]
     },
     "execution_count": 17,
     "metadata": {},
     "output_type": "execute_result"
    }
   ],
   "source": [
    "# The recommended method is to use `pd.cut` to cut the series into a series of bins\n",
    "# that can have category labels applied to it, and seems much more sensible\n",
    "s3 = pd.cut(\n",
    "    s, bins=[0, 2, 10, s.max()], include_lowest=True, labels=[\"Short\", \"Medium\", \"Long\"]\n",
    ")\n",
    "s3.value_counts()\n",
    "s3  # note the output that shows the hierarchy of bins when they are printed out"
   ]
  },
  {
   "cell_type": "code",
   "execution_count": 19,
   "metadata": {},
   "outputs": [
    {
     "name": "stdout",
     "output_type": "stream",
     "text": [
      "Median: 1.7\n"
     ]
    },
    {
     "data": {
      "text/plain": [
       "count    9999.000000\n",
       "mean        3.158511\n",
       "std         4.037516\n",
       "min         0.000000\n",
       "25%         1.000000\n",
       "50%         1.700000\n",
       "75%         3.300000\n",
       "max        64.600000\n",
       "Name: Taxi Trip Distance, dtype: float64"
      ]
     },
     "execution_count": 19,
     "metadata": {},
     "output_type": "execute_result"
    }
   ],
   "source": [
    "# Extension questions\n",
    "# 1. Compare mean and median trip distances. What does this tell you about the distribution of data?\n",
    "print(f\"Median: {s.median()}\")\n",
    "s.describe()"
   ]
  },
  {
   "cell_type": "markdown",
   "metadata": {},
   "source": [
    "The median is 1.7mi, and the mean is 3.15mi with a 4mi std dev.\n",
    "\n",
    "The max is 64.6mi, so the distribution is very much on the low end, and skewed low with\n",
    "the mean being brough up by a few long distance trips."
   ]
  },
  {
   "cell_type": "code",
   "execution_count": null,
   "metadata": {},
   "outputs": [
    {
     "data": {
      "text/plain": [
       "Taxi Trip Distance\n",
       "Short     4333\n",
       "Medium    2387\n",
       "Long       487\n",
       "Name: count, dtype: int64"
      ]
     },
     "execution_count": 21,
     "metadata": {},
     "output_type": "execute_result"
    }
   ],
   "source": [
    "# 2. How many short, medium, and long trips were for trips that only had one\n",
    "#    passenger?\n",
    "passengers = (\n",
    "    pd.read_csv(\"../data/taxi-passenger-count.csv\", header=None)\n",
    "    .squeeze()\n",
    "    .rename(\"Taxi Passengers\")\n",
    ")\n",
    "# Use a mask of passengers == 1 with the trip distance category data\n",
    "# since we have been told the values are corresponding.\n",
    "# I guess this is where we think things should be in a dataframe or just\n",
    "# combine them into a dataframe\n",
    "s3[passengers == 1].value_counts()"
   ]
  },
  {
   "cell_type": "code",
   "execution_count": 23,
   "metadata": {},
   "outputs": [
    {
     "name": "stdout",
     "output_type": "stream",
     "text": [
      "A third of the max value is: 21.53333333333333\n"
     ]
    },
    {
     "data": {
      "text/plain": [
       "0       (-0.0646, 21.533]\n",
       "1       (-0.0646, 21.533]\n",
       "2       (-0.0646, 21.533]\n",
       "3       (-0.0646, 21.533]\n",
       "4       (-0.0646, 21.533]\n",
       "              ...        \n",
       "9994    (-0.0646, 21.533]\n",
       "9995    (-0.0646, 21.533]\n",
       "9996    (-0.0646, 21.533]\n",
       "9997    (-0.0646, 21.533]\n",
       "9998    (-0.0646, 21.533]\n",
       "Name: Taxi Trip Distance, Length: 9999, dtype: category\n",
       "Categories (3, interval[float64, right]): [(-0.0646, 21.533] < (21.533, 43.067] < (43.067, 64.6]]"
      ]
     },
     "execution_count": 23,
     "metadata": {},
     "output_type": "execute_result"
    }
   ],
   "source": [
    "# 3. What happens if we don't provide interval cutoffs to cut and just ask for 3 bins?\n",
    "print(f\"A third of the max value is: {s.max() / 3}\")\n",
    "pd.cut(s, bins=3)"
   ]
  },
  {
   "cell_type": "markdown",
   "metadata": {},
   "source": [
    "This looks like it has just split it into equally sized ranges based of the minimum and maximum\n",
    "values in the data series."
   ]
  }
 ],
 "metadata": {
  "kernelspec": {
   "display_name": ".venv",
   "language": "python",
   "name": "python3"
  },
  "language_info": {
   "codemirror_mode": {
    "name": "ipython",
    "version": 3
   },
   "file_extension": ".py",
   "mimetype": "text/x-python",
   "name": "python",
   "nbconvert_exporter": "python",
   "pygments_lexer": "ipython3",
   "version": "3.12.7"
  }
 },
 "nbformat": 4,
 "nbformat_minor": 2
}
