{
 "cells": [
  {
   "cell_type": "code",
   "execution_count": 3,
   "metadata": {},
   "outputs": [],
   "source": [
    "import pandas as pd\n",
    "from pandas import Series\n",
    "import numpy as np\n",
    "import math\n"
   ]
  },
  {
   "cell_type": "code",
   "execution_count": null,
   "metadata": {},
   "outputs": [
    {
     "data": {
      "text/plain": [
       "count    9999.000000\n",
       "mean        1.659466\n",
       "std         1.333306\n",
       "min         0.000000\n",
       "25%         1.000000\n",
       "50%         1.000000\n",
       "75%         2.000000\n",
       "max         6.000000\n",
       "Name: Taxi Passengers, dtype: float64"
      ]
     },
     "execution_count": 13,
     "metadata": {},
     "output_type": "execute_result"
    }
   ],
   "source": [
    "# the `.squeeze()` method turns the single column dataframe into a Series\n",
    "# passing None as the header parameter prevents the first row being taken\n",
    "# as a header\n",
    "s = (\n",
    "    pd.read_csv(\"../data/taxi-passenger-count.csv\", header=None)\n",
    "    .squeeze()\n",
    "    .rename(\"Taxi Passengers\")\n",
    ")\n",
    "s.describe()"
   ]
  },
  {
   "cell_type": "code",
   "execution_count": 14,
   "metadata": {},
   "outputs": [
    {
     "data": {
      "text/plain": [
       "Taxi Passengers\n",
       "1    72.08\n",
       "2    13.13\n",
       "5     5.20\n",
       "3     4.06\n",
       "6     3.69\n",
       "4     1.82\n",
       "0     0.02\n",
       "Name: count, dtype: float64"
      ]
     },
     "execution_count": 14,
     "metadata": {},
     "output_type": "execute_result"
    }
   ],
   "source": [
    "# How often does each value appear?\n",
    "s.value_counts()\n",
    "# What about as a percentage?\n",
    "(s.value_counts() / s.count() * 100).round(2)"
   ]
  },
  {
   "cell_type": "code",
   "execution_count": null,
   "metadata": {},
   "outputs": [
    {
     "data": {
      "text/plain": [
       "Taxi Passengers\n",
       "1    72.077208\n",
       "6     3.690369\n",
       "Name: proportion, dtype: float64"
      ]
     },
     "execution_count": 19,
     "metadata": {},
     "output_type": "execute_result"
    }
   ],
   "source": [
    "# Let's find the proportion of trips with either 1 or 6 passenders\n",
    "(s[s.isin([1, 6])].count() / s.count() * 100).round(2)\n",
    "\n",
    "# this also also possible with the `normalize` parameter to `.value_counts`\n",
    "s.value_counts(normalize=True)[[1, 6]] * 100"
   ]
  },
  {
   "cell_type": "code",
   "execution_count": null,
   "metadata": {},
   "outputs": [
    {
     "name": "stdout",
     "output_type": "stream",
     "text": [
      "25%: 1.0\n",
      "50%: 1.0\n",
      "75%: 2.0\n"
     ]
    }
   ],
   "source": [
    "# Extension questions\n",
    "# 1. What are the 25%, 50%, and 75% quantiles for the taxi trips?\n",
    "print(f\"25%: {s.quantile(0.25)}\")\n",
    "print(f\"50%: {s.quantile(0.5)}\")\n",
    "print(f\"75%: {s.quantile(0.75)}\")\n",
    "# I guess there's just a LOT of cab rides with a single person.\n",
    "# which I should know by looking at the PREVIOUS DAMNED RESULT\n",
    "# because 72% of all rides were one person."
   ]
  },
  {
   "cell_type": "code",
   "execution_count": null,
   "metadata": {},
   "outputs": [
    {
     "name": "stdout",
     "output_type": "stream",
     "text": [
      "Taxi Passengers\n",
      "3    4.060406\n",
      "4    1.820182\n",
      "5    5.200520\n",
      "6    3.690369\n",
      "Name: proportion, dtype: float64\n",
      "Larger trips are only 14.77% of rides\n"
     ]
    }
   ],
   "source": [
    "# 2. What proportion of rides are for 3, 4, 5 or 6 passengers?\n",
    "larger = s.value_counts(normalize=True)[[3, 4, 5, 6]]\n",
    "print(larger * 100)\n",
    "print(f\"Larger trips are only {larger.sum() * 100:.2f}% of rides\")"
   ]
  },
  {
   "cell_type": "markdown",
   "metadata": {},
   "source": [
    "Extension 3: If you're in charge of cab licensing in NYC would people benefit from smaller taxis that can only take one or two passengers or larger taxis that can take five or six passengers?\n",
    "\n",
    "Based on the previous data, just over 85% of trips are one or two passengers, so it would be beneficial to prioritise smaller taxis."
   ]
  }
 ],
 "metadata": {
  "kernelspec": {
   "display_name": ".venv",
   "language": "python",
   "name": "python3"
  },
  "language_info": {
   "codemirror_mode": {
    "name": "ipython",
    "version": 3
   },
   "file_extension": ".py",
   "mimetype": "text/x-python",
   "name": "python",
   "nbconvert_exporter": "python",
   "pygments_lexer": "ipython3",
   "version": "3.12.7"
  }
 },
 "nbformat": 4,
 "nbformat_minor": 2
}
