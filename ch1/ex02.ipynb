{
 "cells": [
  {
   "cell_type": "code",
   "execution_count": 1,
   "metadata": {},
   "outputs": [],
   "source": [
    "from pandas import Series\n",
    "import numpy as np\n",
    "import math\n"
   ]
  },
  {
   "cell_type": "markdown",
   "metadata": {},
   "source": [
    "# Standard deviation... deviations\n",
    "\n",
    "Pandas defaults to the sample standard deviation (using n-1).\n",
    "Rather than using the classic standard deviation calculation of `math.sqrt(((s - s.mean() ** 2).sum() / s.count())`\n",
    "Numpy does not use the sample standard deviation.\n",
    "You can use the regular standard deviation by passing `ddof=0` as an argument to `std`: `s.std(ddof=0)`\n",
    "The `ddof` (delta degrees of freedom) is the number to subtract from `count` prior to division, so the default is `1`.\n",
    "\n",
    "## Reminder about what stddev is...\n",
    "\n",
    "In a normal distribution we expect:\n",
    "\n",
    "- 68% of data to be within 1 stddev of the mean\n",
    "- 95% of data to be within 2 stddev of the mean\n",
    "- 99.7% of data to be within 3 stddev of the mean\n"
   ]
  },
  {
   "cell_type": "markdown",
   "metadata": {},
   "source": [
    "# Aggregate methods in pandas\n",
    "\n",
    "- `s.std()` - standard deviation\n",
    "- `s.mean()` - mean, average\n",
    "- `s.sum()`\n",
    "- `s.count()`\n"
   ]
  },
  {
   "cell_type": "code",
   "execution_count": 2,
   "metadata": {},
   "outputs": [
    {
     "name": "stdout",
     "output_type": "stream",
     "text": [
      "0    1234\n",
      "1    5678\n",
      "2    9012\n",
      "dtype: object\n",
      "The sum of this series is: 123456789012\n"
     ]
    }
   ],
   "source": [
    "# Weird aggregate data from data type issues:\n",
    "s = Series(\"1234 5678 9012\".split())\n",
    "print(s)\n",
    "print(f\"The sum of this series is: {s.sum()}\")\n",
    "\n",
    "# The following is no longer true it seems. It instead raises a type error which is what\n",
    "# would expect to do sensibly.\n",
    "# print(f\"The mean of this is {s.mean()}\")\n",
    "# print(\n",
    "#     \"Except it isn't because it concatenates the strings, then converts it to an int and divides by 3.\"\n",
    "# )\n"
   ]
  },
  {
   "cell_type": "code",
   "execution_count": 3,
   "metadata": {},
   "outputs": [
    {
     "name": "stdout",
     "output_type": "stream",
     "text": [
      "0    125\n",
      "1    126\n",
      "2   -128\n",
      "dtype: int8\n"
     ]
    }
   ],
   "source": [
    "# we can have overruns on data types as they are not Python data types\n",
    "s = Series([124, 125, 127], dtype=np.int8)\n",
    "print(s + 1)\n"
   ]
  },
  {
   "cell_type": "code",
   "execution_count": 4,
   "metadata": {},
   "outputs": [
    {
     "name": "stdout",
     "output_type": "stream",
     "text": [
      "0    10\n",
      "1    20\n",
      "2    30\n",
      "dtype: object\n",
      "0    10\n",
      "1    20\n",
      "2    30\n",
      "dtype: int64\n"
     ]
    }
   ],
   "source": [
    "# changing the dtype needs to create a new series\n",
    "s = Series(\"10 20 30\".split())\n",
    "print(s)\n",
    "s = s.astype(np.int64)\n",
    "print(s)\n"
   ]
  },
  {
   "cell_type": "code",
   "execution_count": 5,
   "metadata": {},
   "outputs": [
    {
     "name": "stdout",
     "output_type": "stream",
     "text": [
      "Series mean is 47.2 for\n",
      "Sep    57\n",
      "Oct    53\n",
      "Nov    50\n",
      "Dec    45\n",
      "Jan    46\n",
      "Feb    40\n",
      "Mar    41\n",
      "Apr    40\n",
      "May    43\n",
      "Jun    57\n",
      "dtype: int64\n",
      "Adjusted scores for mean of 80 are:\n",
      "Sep    89.8\n",
      "Oct    85.8\n",
      "Nov    82.8\n",
      "Dec    77.8\n",
      "Jan    78.8\n",
      "Feb    72.8\n",
      "Mar    73.8\n",
      "Apr    72.8\n",
      "May    75.8\n",
      "Jun    89.8\n",
      "dtype: float64\n"
     ]
    }
   ],
   "source": [
    "# Exercise 2 - generate 10 test scores between 40 and 60, using an index from Sep to Jun\n",
    "# Find the mean, and add the difference between the mean and 80\n",
    "\n",
    "g = np.random.default_rng(0)\n",
    "months = \"Sep Oct Nov Dec Jan Feb Mar Apr May Jun\"\n",
    "s = Series(g.integers(40, 61, 10), index=months.split())\n",
    "real_mean = s.mean()\n",
    "print(f\"Series mean is {real_mean} for\\n{s}\")\n",
    "print(f\"Adjusted scores for mean of 80 are:\\n{s+(80-real_mean)}\")\n"
   ]
  },
  {
   "cell_type": "code",
   "execution_count": null,
   "metadata": {},
   "outputs": [
    {
     "name": "stdout",
     "output_type": "stream",
     "text": [
      "Mean: 47.2, SD: 6.66\n",
      "A scores:\n",
      "Sep    57\n",
      "Jun    57\n",
      "dtype: int64\n",
      "B scores:\n",
      "Oct    53\n",
      "Nov    50\n",
      "dtype: int64\n",
      "C scores:\n",
      "Dec    45\n",
      "Jan    46\n",
      "Mar    41\n",
      "May    43\n",
      "dtype: int64\n",
      "D scores:\n",
      "Feb    40\n",
      "Apr    40\n",
      "dtype: int64\n",
      "Months outside 2 standard deviations.\n",
      "Series([], dtype: int64)\n",
      "Series mean: 47.2 vs Series Median: 45.5\n"
     ]
    }
   ],
   "source": [
    "# Extension 1. Grading against the curve.\n",
    "# Break down the marks into grades, where 1 sd below is a C, 1 sd above is a B, above 1 sd is an A, below 1 sd is a D\n",
    "g = np.random.default_rng(0)\n",
    "months = \"Sep Oct Nov Dec Jan Feb Mar Apr May Jun\"\n",
    "s = Series(g.integers(40, 61, 10), index=months.split())\n",
    "real_mean = s.mean()\n",
    "std_dev = s.std()\n",
    "\n",
    "print(f\"Mean: {real_mean}, SD: {std_dev:.2f}\")\n",
    "print(f\"A scores:\\n{s[s > real_mean + std_dev]}\")\n",
    "print(f\"B scores:\\n{s[(s <= real_mean + std_dev) & (s > real_mean)]}\")\n",
    "print(f\"C scores:\\n{s[(s <= real_mean) & (s > real_mean - std_dev)]}\")\n",
    "print(f\"D scores:\\n{s[s <= real_mean - std_dev]}\")\n",
    "\n",
    "# Extension 2. What months were the scores outside 2 SD?\n",
    "print(\"Months outside 2 standard deviations.\")\n",
    "print(s[(s > real_mean + std_dev * 2) | (s < real_mean - std_dev * 2)])\n",
    "\n",
    "# Extension 3. How close were the mean and median?\n",
    "median = s.median()\n",
    "print(f\"Series mean: {real_mean} vs Series Median: {median}\")\n",
    "# Quite close 47.2 vs 45.5 so not much difference.\n",
    "# If they were far apart then the standard deviation would differ quite\n",
    "# a bit.\n"
   ]
  }
 ],
 "metadata": {
  "kernelspec": {
   "display_name": ".venv",
   "language": "python",
   "name": "python3"
  },
  "language_info": {
   "codemirror_mode": {
    "name": "ipython",
    "version": 3
   },
   "file_extension": ".py",
   "mimetype": "text/x-python",
   "name": "python",
   "nbconvert_exporter": "python",
   "pygments_lexer": "ipython3",
   "version": "3.12.7"
  }
 },
 "nbformat": 4,
 "nbformat_minor": 2
}
