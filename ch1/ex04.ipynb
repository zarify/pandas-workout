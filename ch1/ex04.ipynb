{
 "cells": [
  {
   "cell_type": "code",
   "execution_count": 1,
   "metadata": {},
   "outputs": [],
   "source": [
    "from pandas import Series\n",
    "import numpy as np\n",
    "import math\n"
   ]
  },
  {
   "cell_type": "code",
   "execution_count": null,
   "metadata": {},
   "outputs": [
    {
     "name": "stdout",
     "output_type": "stream",
     "text": [
      "Mean: -0.09082507731206121\n",
      "Median: -0.4146992783863419\n",
      "Std dev: 100.01335047331702\n",
      "Delta: 0.32387420107428067\n",
      "count    100000.000000\n",
      "mean         -0.090825\n",
      "std         100.013350\n",
      "min        -449.411704\n",
      "25%         -67.292120\n",
      "50%          -0.414699\n",
      "75%          67.636542\n",
      "max         473.195769\n",
      "dtype: float64\n",
      "New mean: -0.06267117182870444\n",
      "New median: -0.4092886611480314\n",
      "New std dev: 100.28277012615403\n",
      "New delta: 0.346617489319327\n",
      "count    100000.000000\n",
      "mean         -0.062671\n",
      "std         100.282770\n",
      "min        -402.315865\n",
      "25%         -67.288054\n",
      "50%          -0.409289\n",
      "75%          67.640758\n",
      "max        2365.978844\n",
      "dtype: float64\n"
     ]
    }
   ],
   "source": [
    "g = np.random.default_rng(0)\n",
    "# normal's args are (mean, std dev, number of values)\n",
    "s = Series(g.normal(0, 100, 100_000))\n",
    "\n",
    "# descriptive stats\n",
    "print(f\"Mean: {s.mean()}\")\n",
    "print(f\"Median: {s.median()}\")\n",
    "print(f\"Std dev: {s.std()}\")\n",
    "print(f\"Delta: {abs(s.mean() - s.median())}\")\n",
    "\n",
    "# apparently we can just do this :laugh:\n",
    "print(s.describe())\n",
    "# the s.quantile(n) method works for the 25%, 50%, or 75% percentile\n",
    "# too, like s.quantile(0.25)\n",
    "\n",
    "# replace the minimum value with 5 times the maximum\n",
    "s.loc[s == s.min()] = s.max() * 5\n",
    "\n",
    "print(f\"New mean: {s.mean()}\")\n",
    "print(f\"New median: {s.median()}\")\n",
    "print(f\"New std dev: {s.std()}\")\n",
    "print(f\"New delta: {abs(s.mean() - s.median())}\")\n",
    "\n",
    "print(s.describe())\n"
   ]
  },
  {
   "cell_type": "code",
   "execution_count": 22,
   "metadata": {},
   "outputs": [
    {
     "name": "stdout",
     "output_type": "stream",
     "text": [
      "Within 1 std dev: 68.40\n",
      "Within 2 std dev: 95.46\n",
      "Within 3 std dev: 99.71\n"
     ]
    }
   ],
   "source": [
    "# Extension questions.\n",
    "# 1. Demonstrate that 68%, 95%, and 99.7% of the values are within 1, 2, 3 std dev of the mean\n",
    "\n",
    "g = np.random.default_rng(0)\n",
    "# normal's args are (mean, std dev, number of values)\n",
    "s = Series(g.normal(0, 100, 100_000))\n",
    "\n",
    "dev_one = s.loc[(s <= s.mean() + s.std()) & (s >= s.mean() - s.std())]\n",
    "dev_two = s.loc[(s <= s.mean() + s.std() * 2) & (s >= s.mean() - s.std() * 2)]\n",
    "dev_three = s.loc[(s <= s.mean() + s.std() * 3) & (s >= s.mean() - s.std() * 3)]\n",
    "\n",
    "print(f\"Within 1 std dev: {len(dev_one) / len(s) * 100:.2f}\")\n",
    "print(f\"Within 2 std dev: {len(dev_two) / len(s) * 100:.2f}\")\n",
    "print(f\"Within 3 std dev: {len(dev_three) / len(s) * 100:.2f}\")"
   ]
  },
  {
   "cell_type": "code",
   "execution_count": 26,
   "metadata": {},
   "outputs": [
    {
     "name": "stdout",
     "output_type": "stream",
     "text": [
      "Upper: 79.92646167808225\n",
      "Lower: -79.66763213378562\n",
      "Mean of means: 0.12941477214831565\n",
      "Original mean: -0.09082507731206121\n"
     ]
    }
   ],
   "source": [
    "# 2. Calculate the mean of the numbers below the overall mean\n",
    "#    Calcualte the mean of the numbers above the overall mean\n",
    "#    Is the mean of the two numbers the same as the overall mean?\n",
    "\n",
    "lower_half = s.loc[s < s.mean()].mean()\n",
    "upper_half = s.loc[s > s.mean()].mean()\n",
    "print(f\"Upper: {upper_half}\")\n",
    "print(f\"Lower: {lower_half}\")\n",
    "print(f\"Mean of means: {(upper_half + lower_half) / 2}\")\n",
    "print(f\"Original mean: {s.mean()}\")"
   ]
  },
  {
   "cell_type": "code",
   "execution_count": null,
   "metadata": {},
   "outputs": [
    {
     "name": "stdout",
     "output_type": "stream",
     "text": [
      "Mean out outer values: -11.606040282602287\n"
     ]
    }
   ],
   "source": [
    "# 3. What is the mean of the numbers beyond 3 std dev?\n",
    "# These are generally considered outliers, and so calculating\n",
    "# the mean of these can give a sensor for how the data might\n",
    "# be skewed.\n",
    "\n",
    "outers = s.loc[(s < s.mean() - s.std() * 3) | (s > s.mean() + s.std() * 3)]\n",
    "print(f\"Mean out outer values: {outers.mean()}\")"
   ]
  }
 ],
 "metadata": {
  "kernelspec": {
   "display_name": ".venv",
   "language": "python",
   "name": "python3"
  },
  "language_info": {
   "codemirror_mode": {
    "name": "ipython",
    "version": 3
   },
   "file_extension": ".py",
   "mimetype": "text/x-python",
   "name": "python",
   "nbconvert_exporter": "python",
   "pygments_lexer": "ipython3",
   "version": "3.12.7"
  }
 },
 "nbformat": 4,
 "nbformat_minor": 2
}
