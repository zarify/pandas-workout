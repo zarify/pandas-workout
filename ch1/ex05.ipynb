{
 "cells": [
  {
   "cell_type": "code",
   "execution_count": 1,
   "metadata": {},
   "outputs": [],
   "source": [
    "from pandas import Series\n",
    "import numpy as np\n",
    "import math\n"
   ]
  },
  {
   "cell_type": "code",
   "execution_count": 14,
   "metadata": {},
   "outputs": [
    {
     "data": {
      "text/plain": [
       "count    28.000000\n",
       "mean     19.357143\n",
       "std       4.373441\n",
       "min       8.000000\n",
       "25%      16.750000\n",
       "50%      19.000000\n",
       "75%      22.000000\n",
       "max      27.000000\n",
       "dtype: float64"
      ]
     },
     "execution_count": 14,
     "metadata": {},
     "output_type": "execute_result"
    }
   ],
   "source": [
    "g = np.random.default_rng(0)\n",
    "# Generating a data series of temperatures with a mean of 20, and std dev of 5\n",
    "# with a repeating index from Sun - Sat\n",
    "days = \"Sun Mon Tue Wed Thu Fri Sat\".split()\n",
    "# create the series, and make it rounded to the nearest integer\n",
    "# if I had used `astype(np.int8)` instead it would have truncated\n",
    "s = Series(g.normal(20, 5, 28), index=days * 4).round(0).astype(np.int8)\n",
    "s.describe()"
   ]
  },
  {
   "cell_type": "code",
   "execution_count": 22,
   "metadata": {},
   "outputs": [
    {
     "data": {
      "text/plain": [
       "Sun    21\n",
       "Mon    19\n",
       "Tue    23\n",
       "Wed    21\n",
       "Thu    17\n",
       "Fri    22\n",
       "Sat    27\n",
       "Sun    25\n",
       "Mon    16\n",
       "Tue    14\n",
       "Wed    17\n",
       "Thu    20\n",
       "Fri     8\n",
       "Sat    19\n",
       "Sun    14\n",
       "Mon    16\n",
       "Tue    17\n",
       "Wed    18\n",
       "Thu    22\n",
       "Fri    25\n",
       "Sat    19\n",
       "Sun    27\n",
       "Mon    17\n",
       "Tue    22\n",
       "Wed    25\n",
       "Thu    20\n",
       "Fri    16\n",
       "Sat    15\n",
       "dtype: int8"
      ]
     },
     "execution_count": 22,
     "metadata": {},
     "output_type": "execute_result"
    }
   ],
   "source": [
    "# print out the entire series for later checking\n",
    "s"
   ]
  },
  {
   "cell_type": "code",
   "execution_count": null,
   "metadata": {},
   "outputs": [
    {
     "data": {
      "text/plain": [
       "np.float64(17.0)"
      ]
     },
     "execution_count": 18,
     "metadata": {},
     "output_type": "execute_result"
    }
   ],
   "source": [
    "# Now let's find the mean of all Mondays in the series\n",
    "# We can use the index masking method, providing a list to the mask\n",
    "# of all indices we want (in this case just \"Mon\")\n",
    "# could be s.loc[[\"Mon\"]] or the single value as below\n",
    "s.loc[\"Mon\"].mean()"
   ]
  },
  {
   "cell_type": "code",
   "execution_count": 19,
   "metadata": {},
   "outputs": [
    {
     "data": {
      "text/plain": [
       "np.float64(20.875)"
      ]
     },
     "execution_count": 19,
     "metadata": {},
     "output_type": "execute_result"
    }
   ],
   "source": [
    "# Extension questions\n",
    "# 1. What was the average weekend temperature?\n",
    "s.loc[[\"Sat\", \"Sun\"]].mean()"
   ]
  },
  {
   "cell_type": "code",
   "execution_count": null,
   "metadata": {},
   "outputs": [
    {
     "data": {
      "text/plain": [
       "Tue    23\n",
       "Fri    22\n",
       "Sat    27\n",
       "Wed    17\n",
       "Thu    20\n",
       "Sat    19\n",
       "Thu    22\n",
       "Fri    25\n",
       "Sun    27\n",
       "Tue    22\n",
       "Wed    25\n",
       "dtype: int8"
      ]
     },
     "execution_count": 21,
     "metadata": {},
     "output_type": "execute_result"
    }
   ],
   "source": [
    "# 2. How many times is the change in temperature from the previous day greater than 2 degrees?\n",
    "# Create a series that is shifted two elements to the left (previous days)\n",
    "sprev = s.shift(1)\n",
    "# mask where the adjacent value difference is more than 2\n",
    "mask = (s - sprev) > 2\n",
    "# shifting will result in some NaN values, so drop those\n",
    "mask = mask.dropna()\n",
    "s.loc[mask]"
   ]
  },
  {
   "cell_type": "code",
   "execution_count": null,
   "metadata": {},
   "outputs": [
    {
     "data": {
      "text/plain": [
       "25    3\n",
       "27    2\n",
       "Name: count, dtype: int64"
      ]
     },
     "execution_count": 36,
     "metadata": {},
     "output_type": "execute_result"
    }
   ],
   "source": [
    "# 3. What are the two most common temperatures in the data set and how often does each appear?\n",
    "# Apparently this is the convoluted way to do this and there's a better way (follows)\n",
    "# top2 = s.sort_values(ascending=False).drop_duplicates().head(2)\n",
    "top2 = s.drop_duplicates().nlargest(2)\n",
    "# apparently we can't just use `[s == top2]` because they don't share a (presumably complete)\n",
    "# index, so using `.isin` checks if the value is in the top2 series\n",
    "s.loc[s.isin(top2)].value_counts()"
   ]
  }
 ],
 "metadata": {
  "kernelspec": {
   "display_name": ".venv",
   "language": "python",
   "name": "python3"
  },
  "language_info": {
   "codemirror_mode": {
    "name": "ipython",
    "version": 3
   },
   "file_extension": ".py",
   "mimetype": "text/x-python",
   "name": "python",
   "nbconvert_exporter": "python",
   "pygments_lexer": "ipython3",
   "version": "3.12.7"
  }
 },
 "nbformat": 4,
 "nbformat_minor": 2
}
