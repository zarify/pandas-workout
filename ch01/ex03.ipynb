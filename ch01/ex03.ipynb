{
 "cells": [
  {
   "cell_type": "code",
   "execution_count": 1,
   "metadata": {},
   "outputs": [],
   "source": [
    "from pandas import Series\n",
    "import numpy as np\n",
    "import math"
   ]
  },
  {
   "cell_type": "code",
   "execution_count": null,
   "metadata": {},
   "outputs": [
    {
     "name": "stdout",
     "output_type": "stream",
     "text": [
      "0    85\n",
      "1    64\n",
      "2    51\n",
      "3    27\n",
      "4    31\n",
      "5     4\n",
      "6     7\n",
      "7     1\n",
      "8    17\n",
      "9    82\n",
      "dtype: int8\n",
      "0    8\n",
      "1    6\n",
      "2    5\n",
      "3    2\n",
      "4    3\n",
      "5    0\n",
      "6    0\n",
      "7    0\n",
      "8    1\n",
      "9    8\n",
      "dtype: int8\n",
      "Comparing the two:\n",
      "[(np.int8(8), np.int8(8)), (np.int8(6), np.int8(6)), (np.int8(5), np.int8(5)), (np.int8(2), np.int8(2)), (np.int8(3), np.int8(3)), (np.int8(0), np.int8(0)), (np.int8(0), np.int8(0)), (np.int8(0), np.int8(0)), (np.int8(1), np.int8(1)), (np.int8(8), np.int8(8))]\n"
     ]
    }
   ],
   "source": [
    "# Create 10 random integers from 0 - 100\n",
    "g = np.random.default_rng(0)\n",
    "s = Series(g.integers(0, 101, 10), dtype=np.int8)\n",
    "print(s)\n",
    "print(s // 10)\n",
    "\n",
    "# could also generate it as strings and use the -2 index\n",
    "# but I don't know why we would want to do it that way -\n",
    "# feels like far too many type conversions\n",
    "# However - the book shows the .fillna(value) method\n",
    "# which lets you fill out any values that are NaN with\n",
    "# a default\n",
    "s2 = s.astype(str).str.get(-2).fillna(\"0\").astype(np.int8)\n",
    "\n",
    "# checks out\n",
    "print(f\"Comparing the two:\\n{[x for x in zip(s2.values, (s // 10).values)]}\")"
   ]
  },
  {
   "cell_type": "code",
   "execution_count": 10,
   "metadata": {},
   "outputs": [
    {
     "name": "stdout",
     "output_type": "stream",
     "text": [
      "8507 vs 0\n",
      "6370 vs 7\n",
      "5111 vs 1\n",
      "2698 vs 9\n",
      "3078 vs 7\n",
      "409 vs 0\n",
      "752 vs 5\n",
      "165 vs 6\n",
      "1752 vs 5\n",
      "8133 vs 3\n"
     ]
    }
   ],
   "source": [
    "# Beyond the exercise\n",
    "# 1. Get the 10s digit of numbers ranging from 0-10000\n",
    "# Integer division by 10 would still work and get the least significant digit, and\n",
    "# then get the modulus of 10 to get the last digit.\n",
    "r = np.random.default_rng(0)\n",
    "s3 = r.integers(0, 10001, 10)\n",
    "c = [(int(x[0]), int(x[1])) for x in zip(s3, (s3 // 10) % 10)]\n",
    "for x, y in c:\n",
    "    print(f\"{x} vs {y}\")"
   ]
  },
  {
   "cell_type": "code",
   "execution_count": null,
   "metadata": {},
   "outputs": [],
   "source": [
    "# 2. Smallest dtype for 0-10000 should be np.int16 since that ranges to 65535 for unsigned"
   ]
  },
  {
   "cell_type": "markdown",
   "metadata": {},
   "source": [
    "# Mask indexes\n",
    "In the following extension problem, what is actually happening is that a mask is getting created\n",
    "by passing in the comparison operator to the series via square brackets (e.g. `s[s < 30]`), which\n",
    "gives a series of `True` and `False` values, which in turn is passed on as a mask index to the\n",
    "original series and indicates whether we want the value of each position."
   ]
  },
  {
   "cell_type": "code",
   "execution_count": null,
   "metadata": {},
   "outputs": [
    {
     "name": "stdout",
     "output_type": "stream",
     "text": [
      "Evens:\n",
      "[636.96168732  40.97352394  16.52763553 912.75557728 606.63577577]\n",
      "Odds:\n",
      "[269.78671376 813.2702392  729.49656098 543.62499147 935.07242379]\n"
     ]
    }
   ],
   "source": [
    "# 3. Create a series of 10 floating point numbers ranging from 0-1000\n",
    "#    Find the numbers where the integer component is event\n",
    "r = np.random.default_rng(0)\n",
    "s = r.uniform(0.0, 1000.0, 10)\n",
    "# Even integer component:\n",
    "print(\"Evens:\")\n",
    "print(s[s.astype(int) % 2 == 0])\n",
    "# Odd integer component\n",
    "print(\"Odds:\")\n",
    "print(s[s.astype(int) % 2 == 1])\n"
   ]
  }
 ],
 "metadata": {
  "kernelspec": {
   "display_name": ".venv",
   "language": "python",
   "name": "python3"
  },
  "language_info": {
   "codemirror_mode": {
    "name": "ipython",
    "version": 3
   },
   "file_extension": ".py",
   "mimetype": "text/x-python",
   "name": "python",
   "nbconvert_exporter": "python",
   "pygments_lexer": "ipython3",
   "version": "3.12.7"
  }
 },
 "nbformat": 4,
 "nbformat_minor": 2
}
