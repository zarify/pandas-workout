{
 "cells": [
  {
   "cell_type": "code",
   "execution_count": 28,
   "metadata": {},
   "outputs": [],
   "source": [
    "from pandas import Series\n",
    "import numpy as np\n"
   ]
  },
  {
   "cell_type": "code",
   "execution_count": 29,
   "metadata": {},
   "outputs": [
    {
     "name": "stdout",
     "output_type": "stream",
     "text": [
      "Average: 85.4\n",
      "Average (iloc): 85.4\n",
      "Average (loc): 85.4\n",
      ".loc slice from Sep to Jan: Sep    96\n",
      "Oct    89\n",
      "Nov    85\n",
      "Dec    78\n",
      "Jan    79\n",
      "dtype: int64\n"
     ]
    }
   ],
   "source": [
    "g = np.random.default_rng(0)\n",
    "\n",
    "months = \"Sep Oct Nov Dec Jan Feb Mar Apr May Jun\".split()\n",
    "s = Series(g.integers(70, 101, 10), index=months)\n",
    "\n",
    "# Can slice the series prior to getting a mean etc\n",
    "print(f\"Average: {s[:5].mean()}\")\n",
    "\n",
    "# can also use .loc (based off index) and .iloc (numeric position location)\n",
    "print(f\"Average (iloc): {s.iloc[:5].mean()}\")\n",
    "# .loc uses 'up to and including' indexing\n",
    "# so 'Jan' is index location 4, here\n",
    "print(f\"Average (loc): {s.loc['Sep':'Jan'].mean()}\")\n",
    "print(f\".loc slice from Sep to Jan: {s.loc['Sep':'Jan']}\")\n"
   ]
  },
  {
   "cell_type": "code",
   "execution_count": 30,
   "metadata": {},
   "outputs": [
    {
     "name": "stdout",
     "output_type": "stream",
     "text": [
      "First 5: Sep    96\n",
      "Oct    89\n",
      "Nov    85\n",
      "Dec    78\n",
      "Jan    79\n",
      "dtype: int64\n",
      "Last 5: Feb    71\n",
      "Mar    72\n",
      "Apr    70\n",
      "May    75\n",
      "Jun    95\n",
      "dtype: int64\n"
     ]
    }
   ],
   "source": [
    "# Can use the '.head()' method to get the first 5 (default) or more items from the series\n",
    "print(f\"First 5: {s.head(5)}\")\n",
    "# Can use the '.tail()' method to get the last 5 (default) or more items from the series\n",
    "print(f\"Last 5: {s.tail(5)}\")\n"
   ]
  },
  {
   "cell_type": "code",
   "execution_count": 31,
   "metadata": {},
   "outputs": [
    {
     "name": "stdout",
     "output_type": "stream",
     "text": [
      "First half: 85.4\n",
      "Second half: 76.6\n",
      "Improvement: -8.80\n"
     ]
    }
   ],
   "source": [
    "# now let's calculate the difference in mean between each half of the data\n",
    "m1 = s.iloc[:5].mean()\n",
    "m2 = s.iloc[5:].mean()\n",
    "print(f\"First half: {m1}\")\n",
    "print(f\"Second half: {m2}\")\n",
    "print(f\"Improvement: {m2 - m1:.2f}\")\n"
   ]
  },
  {
   "cell_type": "code",
   "execution_count": 32,
   "metadata": {},
   "outputs": [
    {
     "name": "stdout",
     "output_type": "stream",
     "text": [
      "The month with the highest score was Sep and that score was 96\n",
      "The month with the max (96) score was Sep\n"
     ]
    }
   ],
   "source": [
    "# Additional exercises\n",
    "# 1. Which month did the student get the highest score (3 ways)\n",
    "# using the index, which since it's a string sounds like the best method\n",
    "print(f\"The month with the highest score was {s.idxmax()} and that score was {s.max()}\")\n",
    "# this one uses a boolean mask to find the index of the .max()\n",
    "# the mask is generated with the series == value, and since it returns a single\n",
    "# value back, show the index of the first index\n",
    "print(f\"The month with the max ({s.max()}) score was {s[s==s.max()].index[0]}\")\n"
   ]
  },
  {
   "cell_type": "code",
   "execution_count": 41,
   "metadata": {},
   "outputs": [
    {
     "name": "stdout",
     "output_type": "stream",
     "text": [
      "The five highest scores were:\n",
      "[96 95 89 85 79]\n"
     ]
    }
   ],
   "source": [
    "# What were the student's five highest scores?\n",
    "print(f\"The five highest scores were:\\n{s.sort_values(ascending=False).head(5).values}\")\n"
   ]
  },
  {
   "cell_type": "code",
   "execution_count": 43,
   "metadata": {},
   "outputs": [
    {
     "name": "stdout",
     "output_type": "stream",
     "text": [
      "Scores before rounding:\n",
      "[96 89 85 78 79 71 72 70 75 95]\n",
      "Scores rounded down to the nearest 10:\n",
      "[100  90  80  80  80  70  70  70  80 100]\n"
     ]
    }
   ],
   "source": [
    "# Round the student's scores to the nearest 10\n",
    "# Pandas uses the \"banker's round\" or \"round half to even\" so when using\n",
    "# -1 as the decimals, it will round 75 to 80 but will also round 85 to 80\n",
    "print(f\"Scores before rounding:\\n{s.values}\")\n",
    "print(f\"Scores rounded down to the nearest 10:\\n{s.round(-1).values}\")\n"
   ]
  }
 ],
 "metadata": {
  "kernelspec": {
   "display_name": ".venv",
   "language": "python",
   "name": "python3"
  },
  "language_info": {
   "codemirror_mode": {
    "name": "ipython",
    "version": 3
   },
   "file_extension": ".py",
   "mimetype": "text/x-python",
   "name": "python",
   "nbconvert_exporter": "python",
   "pygments_lexer": "ipython3",
   "version": "3.12.2"
  }
 },
 "nbformat": 4,
 "nbformat_minor": 2
}
